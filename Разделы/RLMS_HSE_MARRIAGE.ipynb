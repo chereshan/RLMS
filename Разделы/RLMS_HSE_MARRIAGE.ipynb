{
 "cells": [
  {
   "cell_type": "markdown",
   "id": "004bc36b",
   "metadata": {},
   "source": [
    "# Модель брачного выбора на RLMS-HSE"
   ]
  },
  {
   "cell_type": "markdown",
   "id": "6e8b7fff",
   "metadata": {},
   "source": [
    "## Подключение библиотеки\n",
    "\n",
    "Здесь позже будет чисто подключение библиотеки, а не называание функций "
   ]
  },
  {
   "cell_type": "code",
   "execution_count": 9,
   "id": "6f0b42b2",
   "metadata": {},
   "outputs": [],
   "source": [
    "#Задействованные модули\n",
    "import pandas as pd\n",
    "import os\n",
    "import numpy as np\n",
    "# import matplotlib.pyplot as plt\n",
    "# import statsmodels.formula.api as smf"
   ]
  },
  {
   "cell_type": "code",
   "execution_count": 10,
   "id": "da99ccd7",
   "metadata": {},
   "outputs": [],
   "source": [
    "#================================================================================================================\n",
    "waves_dict={1994:[5,'A'],\n",
    "           1995:[6,'B'],\n",
    "           1996:[7,'C'],\n",
    "           1998:[8,'D'],\n",
    "           2000:[9,'E'],\n",
    "           2001:[10,'F'],\n",
    "           2002:[11,'G'],\n",
    "           2003:[12,'H'],\n",
    "           2004:[13,'I'],\n",
    "           2005:[14,'J'],\n",
    "           2006:[15,'K'],\n",
    "           2007:[16,'L'],\n",
    "           2008:[17,'M'],\n",
    "           2009:[18,'N'],\n",
    "           2010:[19,'O'],\n",
    "           2011:[20,'P'],\n",
    "           2012:[21,'Q'],\n",
    "           2013:[22,'R'],\n",
    "           2014:[23,'S'],\n",
    "           2015:[24,'T'],\n",
    "           2016:[25,'U'],\n",
    "           2017:[26,'V'],\n",
    "           2018:[27,'W'],\n",
    "           2019:[28,'X'],\n",
    "           2020:[29,'Y'],\n",
    "           2021:[30,'Z'] \n",
    "           }\n",
    "#=========================================================================================="
   ]
  },
  {
   "cell_type": "code",
   "execution_count": 11,
   "id": "7aa3fc50",
   "metadata": {},
   "outputs": [],
   "source": [
    "def download_wave_ind(year,path=r'C:\\Users\\user\\Desktop\\Saved\\Репрезентативная выборка 06.09.2022'):\n",
    "    if (year<1994) or (year==1997) or (year==1999):\n",
    "        print('Волны {0} года не существует.'.format(year))\n",
    "    else:\n",
    "        filename=os.listdir(r'{0}\\{1}-я волна\\ИНДИВИДЫ'.format(path,waves_dict[year][0]))[0]\n",
    "        return pd.read_spss(r'{0}\\{1}-я волна\\ИНДИВИДЫ\\{2}'.format(path,waves_dict[year][0],filename))"
   ]
  },
  {
   "cell_type": "code",
   "execution_count": 12,
   "id": "3fe9aa48",
   "metadata": {},
   "outputs": [],
   "source": [
    "#==========================================================================================\n",
    " # Загрузка в словарь нескольких волн исследования\n",
    "def download_period_ind(period,path):\n",
    "    dict_ind_period={}\n",
    "    for i in period:\n",
    "        if (i<1994) or (i==1997) or (i==1999):\n",
    "            print('Волны {0} года не существует.'.format(i))\n",
    "            continue\n",
    "        dict_ind_period[i]=download_wave_ind(i,path)\n",
    "        print('Загружен ',i)\n",
    "    return dict_ind_period"
   ]
  },
  {
   "cell_type": "code",
   "execution_count": 13,
   "id": "cc1a6da0",
   "metadata": {},
   "outputs": [],
   "source": [
    "#==========================================================================================\n",
    "# Загрузка данных для работы FAST-функций\n",
    "def FAST_variable_ind(path):\n",
    "    global FAST_INDS_DFS\n",
    "    FAST_INDS_DFS=download_period_ind(list(range(1993,2022)),path=path)"
   ]
  },
  {
   "cell_type": "code",
   "execution_count": 14,
   "id": "da5bb029",
   "metadata": {},
   "outputs": [],
   "source": [
    "#==========================================================================================\n",
    "#======здесь должно быть тоже самое для ДХ======================\n",
    "#==========================================================================================\n",
    "#==========================================================================================\n",
    "#==========================================================================================\n",
    "#=========================================================================================="
   ]
  },
  {
   "cell_type": "code",
   "execution_count": 15,
   "id": "0a2931db",
   "metadata": {},
   "outputs": [],
   "source": [
    "# Загрузка фрейма данных волны выбранного года из папки\n",
    "def download_wave_hh(year,path=r'C:\\Users\\user\\Desktop\\Saved\\Репрезентативная выборка 06.09.2022'):\n",
    "    if (year<1994) or (year==1997) or (year==1999):\n",
    "        print('Волны {0} года не существует.'.format(year))\n",
    "    else:\n",
    "        filename=os.listdir(r'{0}\\{1}-я волна\\ДОМОХОЗЯЙСТВА'.format(path,waves_dict[year][0]))[0]\n",
    "        return pd.read_spss(r'{0}\\{1}-я волна\\ДОМОХОЗЯЙСТВА\\{2}'.format(path,waves_dict[year][0],filename))"
   ]
  },
  {
   "cell_type": "code",
   "execution_count": 16,
   "id": "b7161c53",
   "metadata": {},
   "outputs": [],
   "source": [
    "#==========================================================================================\n",
    "# Загрузка в словарь нескольких волн исследования\n",
    "def download_period_hh(period,path):\n",
    "    dict_hh_period={}\n",
    "    for i in period:\n",
    "        if (i<1994) or (i==1997) or (i==1999):\n",
    "            print('Волны {0} года не существует.'.format(i))\n",
    "            continue\n",
    "        dict_hh_period[i]=download_wave_hh(i,path)\n",
    "        print('Загружен ',i)\n",
    "    return dict_hh_period"
   ]
  },
  {
   "cell_type": "code",
   "execution_count": 17,
   "id": "b5da8a81",
   "metadata": {},
   "outputs": [],
   "source": [
    "def FAST_variable_hh(path):\n",
    "    global FAST_HH_DFS\n",
    "    FAST_HH_DFS=download_period_hh(list(range(1993,2022)),path=path)"
   ]
  },
  {
   "cell_type": "markdown",
   "id": "ad85ee7b",
   "metadata": {},
   "source": [
    "## **Загружаем датафрейм с индивидами и ДХ**"
   ]
  },
  {
   "cell_type": "code",
   "execution_count": 18,
   "id": "74119cef",
   "metadata": {},
   "outputs": [
    {
     "name": "stdout",
     "output_type": "stream",
     "text": [
      "Волны 1993 года не существует.\n",
      "Загружен  1994\n",
      "Загружен  1995\n",
      "Загружен  1996\n",
      "Волны 1997 года не существует.\n",
      "Загружен  1998\n",
      "Волны 1999 года не существует.\n",
      "Загружен  2000\n",
      "Загружен  2001\n",
      "Загружен  2002\n",
      "Загружен  2003\n",
      "Загружен  2004\n",
      "Загружен  2005\n",
      "Загружен  2006\n",
      "Загружен  2007\n",
      "Загружен  2008\n",
      "Загружен  2009\n",
      "Загружен  2010\n",
      "Загружен  2011\n",
      "Загружен  2012\n",
      "Загружен  2013\n",
      "Загружен  2014\n",
      "Загружен  2015\n",
      "Загружен  2016\n",
      "Загружен  2017\n",
      "Загружен  2018\n",
      "Загружен  2019\n",
      "Загружен  2020\n",
      "Загружен  2021\n"
     ]
    }
   ],
   "source": [
    "FAST_variable_ind(r'C:\\Users\\79618\\Desktop\\Saved\\Репрезентативная выборка 06.09.2022')"
   ]
  },
  {
   "cell_type": "code",
   "execution_count": 19,
   "id": "c25458a9",
   "metadata": {
    "scrolled": false
   },
   "outputs": [
    {
     "name": "stdout",
     "output_type": "stream",
     "text": [
      "Волны 1993 года не существует.\n",
      "Загружен  1994\n",
      "Загружен  1995\n",
      "Загружен  1996\n",
      "Волны 1997 года не существует.\n",
      "Загружен  1998\n",
      "Волны 1999 года не существует.\n",
      "Загружен  2000\n",
      "Загружен  2001\n",
      "Загружен  2002\n",
      "Загружен  2003\n",
      "Загружен  2004\n",
      "Загружен  2005\n",
      "Загружен  2006\n",
      "Загружен  2007\n",
      "Загружен  2008\n",
      "Загружен  2009\n",
      "Загружен  2010\n",
      "Загружен  2011\n",
      "Загружен  2012\n",
      "Загружен  2013\n",
      "Загружен  2014\n",
      "Загружен  2015\n",
      "Загружен  2016\n",
      "Загружен  2017\n",
      "Загружен  2018\n",
      "Загружен  2019\n",
      "Загружен  2020\n",
      "Загружен  2021\n"
     ]
    }
   ],
   "source": [
    "FAST_variable_hh(r'C:\\Users\\79618\\Desktop\\Saved\\Репрезентативная выборка 06.09.2022')"
   ]
  },
  {
   "cell_type": "markdown",
   "id": "a2f00320",
   "metadata": {},
   "source": [
    "## Дополнительно разработано\n",
    "(В ходе работы над проектом)"
   ]
  },
  {
   "cell_type": "markdown",
   "id": "de6ba7b9",
   "metadata": {},
   "source": [
    "**Переименование атрибутов**"
   ]
  },
  {
   "cell_type": "code",
   "execution_count": 27,
   "id": "f1b3c01d",
   "metadata": {},
   "outputs": [],
   "source": [
    "def good_namer(year):\n",
    "    save=FAST_INDS_DFS[year].copy(deep=1)\n",
    "    for i in save.columns:\n",
    "        bad=waves_dict[year][1].lower()\n",
    "        if 'id' in i:\n",
    "            pass\n",
    "        elif str(bad+'_') in i:\n",
    "            save=save.rename(columns={i: i[2:]})\n",
    "        elif bad==i[0]:\n",
    "            save=save.rename(columns={i: i[1:]})\n",
    "    return save"
   ]
  },
  {
   "cell_type": "code",
   "execution_count": 28,
   "id": "293b6145",
   "metadata": {},
   "outputs": [],
   "source": [
    "def good_namer_period(period):\n",
    "    dict_ind_period={}\n",
    "    for i in period:\n",
    "        if (i<1994) or (i==1997) or (i==1999):\n",
    "            print('Волны {0} года не существует.'.format(i))\n",
    "            continue\n",
    "        dict_ind_period[i]=good_namer(i)\n",
    "        print('Исправлен ',i)\n",
    "    return dict_ind_period"
   ]
  },
  {
   "cell_type": "code",
   "execution_count": 29,
   "id": "a4484650",
   "metadata": {},
   "outputs": [],
   "source": [
    "def corrector(year):\n",
    "    save=good_namer(year)\n",
    "    save.loc[:,'marst']=save.loc[:,'marst'].cat.rename_categories({'Bдовец (вдова)':'Вдовец (вдова)'})\n",
    "    return save"
   ]
  },
  {
   "cell_type": "code",
   "execution_count": 30,
   "id": "f6a91f59",
   "metadata": {},
   "outputs": [],
   "source": [
    "def corrector_period(period):\n",
    "    dict_ind_period={}\n",
    "    for i in period:\n",
    "        if (i<1994) or (i==1997) or (i==1999):\n",
    "            print('Волны {0} года не существует.'.format(i))\n",
    "            continue\n",
    "        dict_ind_period[i]=corrector(i)\n",
    "        print('Исправлен ',i)\n",
    "    return dict_ind_period"
   ]
  },
  {
   "cell_type": "code",
   "execution_count": 31,
   "id": "7e0e3ac2",
   "metadata": {},
   "outputs": [],
   "source": [
    "def FAST_corrector_ind():\n",
    "    global FAST_CORRECTED_INDS_DFS\n",
    "    FAST_CORRECTED_INDS_DFS=corrector_period(waves_dict.keys())"
   ]
  },
  {
   "cell_type": "code",
   "execution_count": 32,
   "id": "3adea7d6",
   "metadata": {},
   "outputs": [],
   "source": [
    "def wave_scanner(codes,reverse=False):\n",
    "    year_book={}\n",
    "    nnn=FAST_CORRECTED_INDS_DFS\n",
    "    if reverse:\n",
    "        pass\n",
    "    else:\n",
    "        for j in list(waves_dict.keys()):\n",
    "            year_book[j]=list()\n",
    "            \n",
    "            for i in nnn[j].columns:\n",
    "                for s in codes:\n",
    "                    if s in i.lower():\n",
    "                        year_book[j].append(s)\n",
    "    new_dict = {a:list(set(b)) for a, b in year_book.items()}\n",
    "    return new_dict"
   ]
  },
  {
   "cell_type": "code",
   "execution_count": 33,
   "id": "e53dc3d4",
   "metadata": {},
   "outputs": [
    {
     "name": "stderr",
     "output_type": "stream",
     "text": [
      "C:\\Users\\79618\\AppData\\Local\\Temp\\ipykernel_128\\3075282184.py:3: FutureWarning: In a future version, `df.iloc[:, i] = newvals` will attempt to set the values inplace instead of always setting a new array. To retain the old behavior, use either `df[df.columns[i]] = newvals` or, if columns are non-unique, `df.isetitem(i, newvals)`\n",
      "  save.loc[:,'marst']=save.loc[:,'marst'].cat.rename_categories({'Bдовец (вдова)':'Вдовец (вдова)'})\n"
     ]
    },
    {
     "name": "stdout",
     "output_type": "stream",
     "text": [
      "Исправлен  1994\n"
     ]
    },
    {
     "name": "stderr",
     "output_type": "stream",
     "text": [
      "C:\\Users\\79618\\AppData\\Local\\Temp\\ipykernel_128\\3075282184.py:3: FutureWarning: In a future version, `df.iloc[:, i] = newvals` will attempt to set the values inplace instead of always setting a new array. To retain the old behavior, use either `df[df.columns[i]] = newvals` or, if columns are non-unique, `df.isetitem(i, newvals)`\n",
      "  save.loc[:,'marst']=save.loc[:,'marst'].cat.rename_categories({'Bдовец (вдова)':'Вдовец (вдова)'})\n"
     ]
    },
    {
     "name": "stdout",
     "output_type": "stream",
     "text": [
      "Исправлен  1995\n"
     ]
    },
    {
     "name": "stderr",
     "output_type": "stream",
     "text": [
      "C:\\Users\\79618\\AppData\\Local\\Temp\\ipykernel_128\\3075282184.py:3: FutureWarning: In a future version, `df.iloc[:, i] = newvals` will attempt to set the values inplace instead of always setting a new array. To retain the old behavior, use either `df[df.columns[i]] = newvals` or, if columns are non-unique, `df.isetitem(i, newvals)`\n",
      "  save.loc[:,'marst']=save.loc[:,'marst'].cat.rename_categories({'Bдовец (вдова)':'Вдовец (вдова)'})\n"
     ]
    },
    {
     "name": "stdout",
     "output_type": "stream",
     "text": [
      "Исправлен  1996\n"
     ]
    },
    {
     "name": "stderr",
     "output_type": "stream",
     "text": [
      "C:\\Users\\79618\\AppData\\Local\\Temp\\ipykernel_128\\3075282184.py:3: FutureWarning: In a future version, `df.iloc[:, i] = newvals` will attempt to set the values inplace instead of always setting a new array. To retain the old behavior, use either `df[df.columns[i]] = newvals` or, if columns are non-unique, `df.isetitem(i, newvals)`\n",
      "  save.loc[:,'marst']=save.loc[:,'marst'].cat.rename_categories({'Bдовец (вдова)':'Вдовец (вдова)'})\n"
     ]
    },
    {
     "name": "stdout",
     "output_type": "stream",
     "text": [
      "Исправлен  1998\n"
     ]
    },
    {
     "name": "stderr",
     "output_type": "stream",
     "text": [
      "C:\\Users\\79618\\AppData\\Local\\Temp\\ipykernel_128\\3075282184.py:3: FutureWarning: In a future version, `df.iloc[:, i] = newvals` will attempt to set the values inplace instead of always setting a new array. To retain the old behavior, use either `df[df.columns[i]] = newvals` or, if columns are non-unique, `df.isetitem(i, newvals)`\n",
      "  save.loc[:,'marst']=save.loc[:,'marst'].cat.rename_categories({'Bдовец (вдова)':'Вдовец (вдова)'})\n"
     ]
    },
    {
     "name": "stdout",
     "output_type": "stream",
     "text": [
      "Исправлен  2000\n"
     ]
    },
    {
     "name": "stderr",
     "output_type": "stream",
     "text": [
      "C:\\Users\\79618\\AppData\\Local\\Temp\\ipykernel_128\\3075282184.py:3: FutureWarning: In a future version, `df.iloc[:, i] = newvals` will attempt to set the values inplace instead of always setting a new array. To retain the old behavior, use either `df[df.columns[i]] = newvals` or, if columns are non-unique, `df.isetitem(i, newvals)`\n",
      "  save.loc[:,'marst']=save.loc[:,'marst'].cat.rename_categories({'Bдовец (вдова)':'Вдовец (вдова)'})\n"
     ]
    },
    {
     "name": "stdout",
     "output_type": "stream",
     "text": [
      "Исправлен  2001\n"
     ]
    },
    {
     "name": "stderr",
     "output_type": "stream",
     "text": [
      "C:\\Users\\79618\\AppData\\Local\\Temp\\ipykernel_128\\3075282184.py:3: FutureWarning: In a future version, `df.iloc[:, i] = newvals` will attempt to set the values inplace instead of always setting a new array. To retain the old behavior, use either `df[df.columns[i]] = newvals` or, if columns are non-unique, `df.isetitem(i, newvals)`\n",
      "  save.loc[:,'marst']=save.loc[:,'marst'].cat.rename_categories({'Bдовец (вдова)':'Вдовец (вдова)'})\n"
     ]
    },
    {
     "name": "stdout",
     "output_type": "stream",
     "text": [
      "Исправлен  2002\n"
     ]
    },
    {
     "name": "stderr",
     "output_type": "stream",
     "text": [
      "C:\\Users\\79618\\AppData\\Local\\Temp\\ipykernel_128\\3075282184.py:3: FutureWarning: In a future version, `df.iloc[:, i] = newvals` will attempt to set the values inplace instead of always setting a new array. To retain the old behavior, use either `df[df.columns[i]] = newvals` or, if columns are non-unique, `df.isetitem(i, newvals)`\n",
      "  save.loc[:,'marst']=save.loc[:,'marst'].cat.rename_categories({'Bдовец (вдова)':'Вдовец (вдова)'})\n"
     ]
    },
    {
     "name": "stdout",
     "output_type": "stream",
     "text": [
      "Исправлен  2003\n"
     ]
    },
    {
     "name": "stderr",
     "output_type": "stream",
     "text": [
      "C:\\Users\\79618\\AppData\\Local\\Temp\\ipykernel_128\\3075282184.py:3: FutureWarning: In a future version, `df.iloc[:, i] = newvals` will attempt to set the values inplace instead of always setting a new array. To retain the old behavior, use either `df[df.columns[i]] = newvals` or, if columns are non-unique, `df.isetitem(i, newvals)`\n",
      "  save.loc[:,'marst']=save.loc[:,'marst'].cat.rename_categories({'Bдовец (вдова)':'Вдовец (вдова)'})\n"
     ]
    },
    {
     "name": "stdout",
     "output_type": "stream",
     "text": [
      "Исправлен  2004\n"
     ]
    },
    {
     "name": "stderr",
     "output_type": "stream",
     "text": [
      "C:\\Users\\79618\\AppData\\Local\\Temp\\ipykernel_128\\3075282184.py:3: FutureWarning: In a future version, `df.iloc[:, i] = newvals` will attempt to set the values inplace instead of always setting a new array. To retain the old behavior, use either `df[df.columns[i]] = newvals` or, if columns are non-unique, `df.isetitem(i, newvals)`\n",
      "  save.loc[:,'marst']=save.loc[:,'marst'].cat.rename_categories({'Bдовец (вдова)':'Вдовец (вдова)'})\n"
     ]
    },
    {
     "name": "stdout",
     "output_type": "stream",
     "text": [
      "Исправлен  2005\n"
     ]
    },
    {
     "name": "stderr",
     "output_type": "stream",
     "text": [
      "C:\\Users\\79618\\AppData\\Local\\Temp\\ipykernel_128\\3075282184.py:3: FutureWarning: In a future version, `df.iloc[:, i] = newvals` will attempt to set the values inplace instead of always setting a new array. To retain the old behavior, use either `df[df.columns[i]] = newvals` or, if columns are non-unique, `df.isetitem(i, newvals)`\n",
      "  save.loc[:,'marst']=save.loc[:,'marst'].cat.rename_categories({'Bдовец (вдова)':'Вдовец (вдова)'})\n"
     ]
    },
    {
     "name": "stdout",
     "output_type": "stream",
     "text": [
      "Исправлен  2006\n"
     ]
    },
    {
     "name": "stderr",
     "output_type": "stream",
     "text": [
      "C:\\Users\\79618\\AppData\\Local\\Temp\\ipykernel_128\\3075282184.py:3: FutureWarning: In a future version, `df.iloc[:, i] = newvals` will attempt to set the values inplace instead of always setting a new array. To retain the old behavior, use either `df[df.columns[i]] = newvals` or, if columns are non-unique, `df.isetitem(i, newvals)`\n",
      "  save.loc[:,'marst']=save.loc[:,'marst'].cat.rename_categories({'Bдовец (вдова)':'Вдовец (вдова)'})\n"
     ]
    },
    {
     "name": "stdout",
     "output_type": "stream",
     "text": [
      "Исправлен  2007\n"
     ]
    },
    {
     "name": "stderr",
     "output_type": "stream",
     "text": [
      "C:\\Users\\79618\\AppData\\Local\\Temp\\ipykernel_128\\3075282184.py:3: FutureWarning: In a future version, `df.iloc[:, i] = newvals` will attempt to set the values inplace instead of always setting a new array. To retain the old behavior, use either `df[df.columns[i]] = newvals` or, if columns are non-unique, `df.isetitem(i, newvals)`\n",
      "  save.loc[:,'marst']=save.loc[:,'marst'].cat.rename_categories({'Bдовец (вдова)':'Вдовец (вдова)'})\n"
     ]
    },
    {
     "name": "stdout",
     "output_type": "stream",
     "text": [
      "Исправлен  2008\n"
     ]
    },
    {
     "name": "stderr",
     "output_type": "stream",
     "text": [
      "C:\\Users\\79618\\AppData\\Local\\Temp\\ipykernel_128\\3075282184.py:3: FutureWarning: In a future version, `df.iloc[:, i] = newvals` will attempt to set the values inplace instead of always setting a new array. To retain the old behavior, use either `df[df.columns[i]] = newvals` or, if columns are non-unique, `df.isetitem(i, newvals)`\n",
      "  save.loc[:,'marst']=save.loc[:,'marst'].cat.rename_categories({'Bдовец (вдова)':'Вдовец (вдова)'})\n"
     ]
    },
    {
     "name": "stdout",
     "output_type": "stream",
     "text": [
      "Исправлен  2009\n"
     ]
    },
    {
     "name": "stderr",
     "output_type": "stream",
     "text": [
      "C:\\Users\\79618\\AppData\\Local\\Temp\\ipykernel_128\\3075282184.py:3: FutureWarning: In a future version, `df.iloc[:, i] = newvals` will attempt to set the values inplace instead of always setting a new array. To retain the old behavior, use either `df[df.columns[i]] = newvals` or, if columns are non-unique, `df.isetitem(i, newvals)`\n",
      "  save.loc[:,'marst']=save.loc[:,'marst'].cat.rename_categories({'Bдовец (вдова)':'Вдовец (вдова)'})\n"
     ]
    },
    {
     "name": "stdout",
     "output_type": "stream",
     "text": [
      "Исправлен  2010\n"
     ]
    },
    {
     "name": "stderr",
     "output_type": "stream",
     "text": [
      "C:\\Users\\79618\\AppData\\Local\\Temp\\ipykernel_128\\3075282184.py:3: FutureWarning: In a future version, `df.iloc[:, i] = newvals` will attempt to set the values inplace instead of always setting a new array. To retain the old behavior, use either `df[df.columns[i]] = newvals` or, if columns are non-unique, `df.isetitem(i, newvals)`\n",
      "  save.loc[:,'marst']=save.loc[:,'marst'].cat.rename_categories({'Bдовец (вдова)':'Вдовец (вдова)'})\n"
     ]
    },
    {
     "name": "stdout",
     "output_type": "stream",
     "text": [
      "Исправлен  2011\n"
     ]
    },
    {
     "name": "stderr",
     "output_type": "stream",
     "text": [
      "C:\\Users\\79618\\AppData\\Local\\Temp\\ipykernel_128\\3075282184.py:3: FutureWarning: In a future version, `df.iloc[:, i] = newvals` will attempt to set the values inplace instead of always setting a new array. To retain the old behavior, use either `df[df.columns[i]] = newvals` or, if columns are non-unique, `df.isetitem(i, newvals)`\n",
      "  save.loc[:,'marst']=save.loc[:,'marst'].cat.rename_categories({'Bдовец (вдова)':'Вдовец (вдова)'})\n"
     ]
    },
    {
     "name": "stdout",
     "output_type": "stream",
     "text": [
      "Исправлен  2012\n"
     ]
    },
    {
     "name": "stderr",
     "output_type": "stream",
     "text": [
      "C:\\Users\\79618\\AppData\\Local\\Temp\\ipykernel_128\\3075282184.py:3: FutureWarning: In a future version, `df.iloc[:, i] = newvals` will attempt to set the values inplace instead of always setting a new array. To retain the old behavior, use either `df[df.columns[i]] = newvals` or, if columns are non-unique, `df.isetitem(i, newvals)`\n",
      "  save.loc[:,'marst']=save.loc[:,'marst'].cat.rename_categories({'Bдовец (вдова)':'Вдовец (вдова)'})\n"
     ]
    },
    {
     "name": "stdout",
     "output_type": "stream",
     "text": [
      "Исправлен  2013\n"
     ]
    },
    {
     "name": "stderr",
     "output_type": "stream",
     "text": [
      "C:\\Users\\79618\\AppData\\Local\\Temp\\ipykernel_128\\3075282184.py:3: FutureWarning: In a future version, `df.iloc[:, i] = newvals` will attempt to set the values inplace instead of always setting a new array. To retain the old behavior, use either `df[df.columns[i]] = newvals` or, if columns are non-unique, `df.isetitem(i, newvals)`\n",
      "  save.loc[:,'marst']=save.loc[:,'marst'].cat.rename_categories({'Bдовец (вдова)':'Вдовец (вдова)'})\n"
     ]
    },
    {
     "name": "stdout",
     "output_type": "stream",
     "text": [
      "Исправлен  2014\n"
     ]
    },
    {
     "name": "stderr",
     "output_type": "stream",
     "text": [
      "C:\\Users\\79618\\AppData\\Local\\Temp\\ipykernel_128\\3075282184.py:3: FutureWarning: In a future version, `df.iloc[:, i] = newvals` will attempt to set the values inplace instead of always setting a new array. To retain the old behavior, use either `df[df.columns[i]] = newvals` or, if columns are non-unique, `df.isetitem(i, newvals)`\n",
      "  save.loc[:,'marst']=save.loc[:,'marst'].cat.rename_categories({'Bдовец (вдова)':'Вдовец (вдова)'})\n"
     ]
    },
    {
     "name": "stdout",
     "output_type": "stream",
     "text": [
      "Исправлен  2015\n"
     ]
    },
    {
     "name": "stderr",
     "output_type": "stream",
     "text": [
      "C:\\Users\\79618\\AppData\\Local\\Temp\\ipykernel_128\\3075282184.py:3: FutureWarning: In a future version, `df.iloc[:, i] = newvals` will attempt to set the values inplace instead of always setting a new array. To retain the old behavior, use either `df[df.columns[i]] = newvals` or, if columns are non-unique, `df.isetitem(i, newvals)`\n",
      "  save.loc[:,'marst']=save.loc[:,'marst'].cat.rename_categories({'Bдовец (вдова)':'Вдовец (вдова)'})\n"
     ]
    },
    {
     "name": "stdout",
     "output_type": "stream",
     "text": [
      "Исправлен  2016\n"
     ]
    },
    {
     "name": "stderr",
     "output_type": "stream",
     "text": [
      "C:\\Users\\79618\\AppData\\Local\\Temp\\ipykernel_128\\3075282184.py:3: FutureWarning: In a future version, `df.iloc[:, i] = newvals` will attempt to set the values inplace instead of always setting a new array. To retain the old behavior, use either `df[df.columns[i]] = newvals` or, if columns are non-unique, `df.isetitem(i, newvals)`\n",
      "  save.loc[:,'marst']=save.loc[:,'marst'].cat.rename_categories({'Bдовец (вдова)':'Вдовец (вдова)'})\n"
     ]
    },
    {
     "name": "stdout",
     "output_type": "stream",
     "text": [
      "Исправлен  2017\n"
     ]
    },
    {
     "name": "stderr",
     "output_type": "stream",
     "text": [
      "C:\\Users\\79618\\AppData\\Local\\Temp\\ipykernel_128\\3075282184.py:3: FutureWarning: In a future version, `df.iloc[:, i] = newvals` will attempt to set the values inplace instead of always setting a new array. To retain the old behavior, use either `df[df.columns[i]] = newvals` or, if columns are non-unique, `df.isetitem(i, newvals)`\n",
      "  save.loc[:,'marst']=save.loc[:,'marst'].cat.rename_categories({'Bдовец (вдова)':'Вдовец (вдова)'})\n"
     ]
    },
    {
     "name": "stdout",
     "output_type": "stream",
     "text": [
      "Исправлен  2018\n"
     ]
    },
    {
     "name": "stderr",
     "output_type": "stream",
     "text": [
      "C:\\Users\\79618\\AppData\\Local\\Temp\\ipykernel_128\\3075282184.py:3: FutureWarning: In a future version, `df.iloc[:, i] = newvals` will attempt to set the values inplace instead of always setting a new array. To retain the old behavior, use either `df[df.columns[i]] = newvals` or, if columns are non-unique, `df.isetitem(i, newvals)`\n",
      "  save.loc[:,'marst']=save.loc[:,'marst'].cat.rename_categories({'Bдовец (вдова)':'Вдовец (вдова)'})\n"
     ]
    },
    {
     "name": "stdout",
     "output_type": "stream",
     "text": [
      "Исправлен  2019\n"
     ]
    },
    {
     "name": "stderr",
     "output_type": "stream",
     "text": [
      "C:\\Users\\79618\\AppData\\Local\\Temp\\ipykernel_128\\3075282184.py:3: FutureWarning: In a future version, `df.iloc[:, i] = newvals` will attempt to set the values inplace instead of always setting a new array. To retain the old behavior, use either `df[df.columns[i]] = newvals` or, if columns are non-unique, `df.isetitem(i, newvals)`\n",
      "  save.loc[:,'marst']=save.loc[:,'marst'].cat.rename_categories({'Bдовец (вдова)':'Вдовец (вдова)'})\n"
     ]
    },
    {
     "name": "stdout",
     "output_type": "stream",
     "text": [
      "Исправлен  2020\n",
      "Исправлен  2021\n"
     ]
    },
    {
     "name": "stderr",
     "output_type": "stream",
     "text": [
      "C:\\Users\\79618\\AppData\\Local\\Temp\\ipykernel_128\\3075282184.py:3: FutureWarning: In a future version, `df.iloc[:, i] = newvals` will attempt to set the values inplace instead of always setting a new array. To retain the old behavior, use either `df[df.columns[i]] = newvals` or, if columns are non-unique, `df.isetitem(i, newvals)`\n",
      "  save.loc[:,'marst']=save.loc[:,'marst'].cat.rename_categories({'Bдовец (вдова)':'Вдовец (вдова)'})\n"
     ]
    }
   ],
   "source": [
    "FAST_corrector_ind()"
   ]
  },
  {
   "cell_type": "code",
   "execution_count": 26,
   "id": "1aac74df",
   "metadata": {},
   "outputs": [
    {
     "ename": "NameError",
     "evalue": "name 'FAST_CORRECTED_INDS_DFS' is not defined",
     "output_type": "error",
     "traceback": [
      "\u001b[1;31m---------------------------------------------------------------------------\u001b[0m",
      "\u001b[1;31mNameError\u001b[0m                                 Traceback (most recent call last)",
      "Cell \u001b[1;32mIn [26], line 1\u001b[0m\n\u001b[1;32m----> 1\u001b[0m \u001b[43mwave_scanner\u001b[49m\u001b[43m(\u001b[49m\u001b[43m[\u001b[49m\u001b[38;5;124;43m'\u001b[39;49m\u001b[38;5;124;43mj121.5\u001b[39;49m\u001b[38;5;124;43m'\u001b[39;49m\u001b[43m]\u001b[49m\u001b[43m)\u001b[49m\n",
      "Cell \u001b[1;32mIn [25], line 3\u001b[0m, in \u001b[0;36mwave_scanner\u001b[1;34m(codes, reverse)\u001b[0m\n\u001b[0;32m      1\u001b[0m \u001b[38;5;28;01mdef\u001b[39;00m \u001b[38;5;21mwave_scanner\u001b[39m(codes,reverse\u001b[38;5;241m=\u001b[39m\u001b[38;5;28;01mFalse\u001b[39;00m):\n\u001b[0;32m      2\u001b[0m     year_book\u001b[38;5;241m=\u001b[39m{}\n\u001b[1;32m----> 3\u001b[0m     nnn\u001b[38;5;241m=\u001b[39m\u001b[43mFAST_CORRECTED_INDS_DFS\u001b[49m\n\u001b[0;32m      4\u001b[0m     \u001b[38;5;28;01mif\u001b[39;00m reverse:\n\u001b[0;32m      5\u001b[0m         \u001b[38;5;28;01mpass\u001b[39;00m\n",
      "\u001b[1;31mNameError\u001b[0m: name 'FAST_CORRECTED_INDS_DFS' is not defined"
     ]
    }
   ],
   "source": [
    "wave_scanner(['j121.5'])"
   ]
  },
  {
   "cell_type": "markdown",
   "id": "922e8db7",
   "metadata": {},
   "source": [
    "### Найденные в БД ошибки"
   ]
  },
  {
   "cell_type": "code",
   "execution_count": null,
   "id": "140c2e47",
   "metadata": {},
   "outputs": [],
   "source": [
    "{'marst':{'Bдовец (вдова)':'Вдовец (вдова)'}\n",
    "}"
   ]
  },
  {
   "cell_type": "markdown",
   "id": "f3ba6133",
   "metadata": {},
   "source": [
    "# Работа с моделью брачности"
   ]
  },
  {
   "cell_type": "markdown",
   "id": "0ffd4f3f",
   "metadata": {},
   "source": [
    "**Что надо сделать?**\n",
    "- [x] Закончить со скачивающими функциями для индивидов и ДХ\n",
    "- [x] Функции стандартизации названий столбцов\n",
    "- [ ] По мере нахождения ошибок проводить их сбор для дальнейшей чистки\n",
    "- [ ] Описательыне статистики долей женатых/не женатых\n",
    "- [ ] Пробит или логит-модель брачного выбора."
   ]
  },
  {
   "cell_type": "markdown",
   "id": "e701dd29",
   "metadata": {},
   "source": [
    "**Источники:**\n",
    "\n",
    "- [ ] [statsmodels: Discrete Choice Models](https://www.statsmodels.org/dev/examples/notebooks/generated/discrete_choice_example.html)\n",
    "- [ ] [Logistic Regression in Python](https://realpython.com/logistic-regression-python/)\n"
   ]
  },
  {
   "cell_type": "markdown",
   "id": "79c6607e",
   "metadata": {},
   "source": [
    "Эмпирическая модель вероятности вступления в брак\n",
    "Сформулируем эмпирическую модель вероятности вступления в брак. Это оценка регрессии: $D_i=b_i X+e$, где $D_i=1$, если человек вступает в брак через $n$ лет (например, через год), и $D_i =0$, если индивид остается холостым (не замужем); $X$ - вектор характеристик индивида (детерминант), $b_i$ - коэффициенты модели. \n",
    "Влияющие переменные (детерминанты) модели - это пол, возраст, образование, доходы и заработная плата, национальность, здоровье, внешние данные, оптимизм, ценности (например, значение детей) и т.д.\n",
    "\n",
    "Эту модель можно оценить на основе данных RLMS-HSE. Поскольку это панельное исследование, известен брачный статус человека в момент времени $T$ и в момент времени $T+1$. Чтобы оценить вероятность вступления человека в брак сначала нужно отобрать совокупность для которой будет оцениваться модель. Необходимо для себя решить вопрос, брачный рынок - это совокупность только холостых и неженатых или вообще всех? В идеале нужно было бы брать всех людей, потому что если человек имеет возможность развестись, то, в принципе, он тоже является потенциальным партнером на брачном рынке. Но тогда следует учитывать, сменился ли партнер. Но обычно принято брать тех людей, которые в момент времени $T$ не состоят в браке. Итак, нужно отобрать не состоящих в браке (зарегистрированном или незарегистрированном) людей, и на этой совокупности можно будет оценить модель вероятности вступления в брак. Для этого используется переменная D, которая принимает значение $0$, если человек остается одиноким в момент $T+1$, и значение $1$, если он(а) вступает в брак. $D$ - дихотомическая переменная, она является линейной функцией от ряда параметров, которые характеризуют состояние человека в момент $T$.\n",
    "\n",
    "Какие переменные здесь можно в качестве влияющих на вероятность того, что человек вступит в брак в следующем году? Достаточно стандартный набор - это *пол*, *возраст*, *образование*, *заработная плата*, *другие доходы*, *занятость*. В данных RLMS-HSE есть переменная *“национальность”*, для некоторых раундов - *“вероисповедание”*, есть параметры, характеризующие *здоровье*. Переменных, описывающих внешние данные, нет, но в RLMS-HSE есть *рост и вес*, можно рассчитать индекс массы тела и включить его в число регрессоров. Правильно было бы оценить такие модели отдельно для мужчин и для женщин, потому что достаточно разные характеристики могут влиять на вероятность вступления в брак. Если есть какие-то переменные, которые касаются ценностей или оптимизма, их тоже можно включить.\n"
   ]
  },
  {
   "cell_type": "markdown",
   "id": "425b839e",
   "metadata": {},
   "source": [
    "**Объясняемые переменная в RLMS-HSE**\n",
    "* семейное положение - ``MARST``\n",
    "\n",
    "**Объясняющие переменные в RLMS-HSE:**\n",
    "* пол - ``h5``\n",
    "* возраст - ``age``\n",
    "* образование - ``diplom``\n",
    "* заработная плата - ``J10``\n",
    "* другие доходы - \n",
    "* занятость - \n",
    "* национальность - ``I4``,``I5``\n",
    "* вероисповедание - ``J72.19``\n",
    "* здоровье - ````\n",
    "* рост и вес - ``m2``, ``m1``\n",
    "\n",
    "**Дополнительные переменные:**\n",
    "* наличие опыта работы \n",
    "* самооценка здоровья\n",
    "* употребление алкогольных напитков\n",
    "* курение\n",
    "* статус вдовца"
   ]
  },
  {
   "cell_type": "markdown",
   "id": "273578c1",
   "metadata": {},
   "source": [
    "**Что делаю (своими словами):**\n",
    "\n",
    "Мы берем всех индивидов, не состоящих в браке в первом периоде и все возможые их характеристики. Присоединяем их брачный статус в следующем периоде. На оснвое этого строим статистическую логит-модель, позволяющую определеить эффекты различных едемографических переменных на брачность"
   ]
  },
  {
   "cell_type": "markdown",
   "id": "fc5e5f1a",
   "metadata": {},
   "source": [
    "**Какую вообще можно собрать инфу?**\n",
    "* Доли женатых/не женатых/разведенных в гр. браках\n",
    "* "
   ]
  },
  {
   "cell_type": "markdown",
   "id": "9f625752",
   "metadata": {},
   "source": [
    "может быть сделать попарный джоин. \n",
    "тогда мы смотрим какой процент их тех кто был женат в прошлом году развелся."
   ]
  },
  {
   "cell_type": "code",
   "execution_count": 28,
   "id": "2b81461f",
   "metadata": {
    "scrolled": true
   },
   "outputs": [
    {
     "name": "stderr",
     "output_type": "stream",
     "text": [
      "C:\\Users\\79618\\AppData\\Local\\Temp\\ipykernel_12340\\3075282184.py:3: FutureWarning: In a future version, `df.iloc[:, i] = newvals` will attempt to set the values inplace instead of always setting a new array. To retain the old behavior, use either `df[df.columns[i]] = newvals` or, if columns are non-unique, `df.isetitem(i, newvals)`\n",
      "  save.loc[:,'marst']=save.loc[:,'marst'].cat.rename_categories({'Bдовец (вдова)':'Вдовец (вдова)'})\n"
     ]
    },
    {
     "name": "stdout",
     "output_type": "stream",
     "text": [
      "Исправлен  1994\n"
     ]
    },
    {
     "name": "stderr",
     "output_type": "stream",
     "text": [
      "C:\\Users\\79618\\AppData\\Local\\Temp\\ipykernel_12340\\3075282184.py:3: FutureWarning: In a future version, `df.iloc[:, i] = newvals` will attempt to set the values inplace instead of always setting a new array. To retain the old behavior, use either `df[df.columns[i]] = newvals` or, if columns are non-unique, `df.isetitem(i, newvals)`\n",
      "  save.loc[:,'marst']=save.loc[:,'marst'].cat.rename_categories({'Bдовец (вдова)':'Вдовец (вдова)'})\n"
     ]
    },
    {
     "name": "stdout",
     "output_type": "stream",
     "text": [
      "Исправлен  1995\n"
     ]
    },
    {
     "name": "stderr",
     "output_type": "stream",
     "text": [
      "C:\\Users\\79618\\AppData\\Local\\Temp\\ipykernel_12340\\3075282184.py:3: FutureWarning: In a future version, `df.iloc[:, i] = newvals` will attempt to set the values inplace instead of always setting a new array. To retain the old behavior, use either `df[df.columns[i]] = newvals` or, if columns are non-unique, `df.isetitem(i, newvals)`\n",
      "  save.loc[:,'marst']=save.loc[:,'marst'].cat.rename_categories({'Bдовец (вдова)':'Вдовец (вдова)'})\n"
     ]
    },
    {
     "name": "stdout",
     "output_type": "stream",
     "text": [
      "Исправлен  1996\n"
     ]
    },
    {
     "name": "stderr",
     "output_type": "stream",
     "text": [
      "C:\\Users\\79618\\AppData\\Local\\Temp\\ipykernel_12340\\3075282184.py:3: FutureWarning: In a future version, `df.iloc[:, i] = newvals` will attempt to set the values inplace instead of always setting a new array. To retain the old behavior, use either `df[df.columns[i]] = newvals` or, if columns are non-unique, `df.isetitem(i, newvals)`\n",
      "  save.loc[:,'marst']=save.loc[:,'marst'].cat.rename_categories({'Bдовец (вдова)':'Вдовец (вдова)'})\n"
     ]
    },
    {
     "name": "stdout",
     "output_type": "stream",
     "text": [
      "Исправлен  1998\n"
     ]
    },
    {
     "name": "stderr",
     "output_type": "stream",
     "text": [
      "C:\\Users\\79618\\AppData\\Local\\Temp\\ipykernel_12340\\3075282184.py:3: FutureWarning: In a future version, `df.iloc[:, i] = newvals` will attempt to set the values inplace instead of always setting a new array. To retain the old behavior, use either `df[df.columns[i]] = newvals` or, if columns are non-unique, `df.isetitem(i, newvals)`\n",
      "  save.loc[:,'marst']=save.loc[:,'marst'].cat.rename_categories({'Bдовец (вдова)':'Вдовец (вдова)'})\n"
     ]
    },
    {
     "name": "stdout",
     "output_type": "stream",
     "text": [
      "Исправлен  2000\n"
     ]
    },
    {
     "name": "stderr",
     "output_type": "stream",
     "text": [
      "C:\\Users\\79618\\AppData\\Local\\Temp\\ipykernel_12340\\3075282184.py:3: FutureWarning: In a future version, `df.iloc[:, i] = newvals` will attempt to set the values inplace instead of always setting a new array. To retain the old behavior, use either `df[df.columns[i]] = newvals` or, if columns are non-unique, `df.isetitem(i, newvals)`\n",
      "  save.loc[:,'marst']=save.loc[:,'marst'].cat.rename_categories({'Bдовец (вдова)':'Вдовец (вдова)'})\n"
     ]
    },
    {
     "name": "stdout",
     "output_type": "stream",
     "text": [
      "Исправлен  2001\n"
     ]
    },
    {
     "name": "stderr",
     "output_type": "stream",
     "text": [
      "C:\\Users\\79618\\AppData\\Local\\Temp\\ipykernel_12340\\3075282184.py:3: FutureWarning: In a future version, `df.iloc[:, i] = newvals` will attempt to set the values inplace instead of always setting a new array. To retain the old behavior, use either `df[df.columns[i]] = newvals` or, if columns are non-unique, `df.isetitem(i, newvals)`\n",
      "  save.loc[:,'marst']=save.loc[:,'marst'].cat.rename_categories({'Bдовец (вдова)':'Вдовец (вдова)'})\n"
     ]
    },
    {
     "name": "stdout",
     "output_type": "stream",
     "text": [
      "Исправлен  2002\n"
     ]
    },
    {
     "name": "stderr",
     "output_type": "stream",
     "text": [
      "C:\\Users\\79618\\AppData\\Local\\Temp\\ipykernel_12340\\3075282184.py:3: FutureWarning: In a future version, `df.iloc[:, i] = newvals` will attempt to set the values inplace instead of always setting a new array. To retain the old behavior, use either `df[df.columns[i]] = newvals` or, if columns are non-unique, `df.isetitem(i, newvals)`\n",
      "  save.loc[:,'marst']=save.loc[:,'marst'].cat.rename_categories({'Bдовец (вдова)':'Вдовец (вдова)'})\n"
     ]
    },
    {
     "name": "stdout",
     "output_type": "stream",
     "text": [
      "Исправлен  2003\n"
     ]
    },
    {
     "name": "stderr",
     "output_type": "stream",
     "text": [
      "C:\\Users\\79618\\AppData\\Local\\Temp\\ipykernel_12340\\3075282184.py:3: FutureWarning: In a future version, `df.iloc[:, i] = newvals` will attempt to set the values inplace instead of always setting a new array. To retain the old behavior, use either `df[df.columns[i]] = newvals` or, if columns are non-unique, `df.isetitem(i, newvals)`\n",
      "  save.loc[:,'marst']=save.loc[:,'marst'].cat.rename_categories({'Bдовец (вдова)':'Вдовец (вдова)'})\n"
     ]
    },
    {
     "name": "stdout",
     "output_type": "stream",
     "text": [
      "Исправлен  2004\n"
     ]
    },
    {
     "name": "stderr",
     "output_type": "stream",
     "text": [
      "C:\\Users\\79618\\AppData\\Local\\Temp\\ipykernel_12340\\3075282184.py:3: FutureWarning: In a future version, `df.iloc[:, i] = newvals` will attempt to set the values inplace instead of always setting a new array. To retain the old behavior, use either `df[df.columns[i]] = newvals` or, if columns are non-unique, `df.isetitem(i, newvals)`\n",
      "  save.loc[:,'marst']=save.loc[:,'marst'].cat.rename_categories({'Bдовец (вдова)':'Вдовец (вдова)'})\n"
     ]
    },
    {
     "name": "stdout",
     "output_type": "stream",
     "text": [
      "Исправлен  2005\n"
     ]
    },
    {
     "name": "stderr",
     "output_type": "stream",
     "text": [
      "C:\\Users\\79618\\AppData\\Local\\Temp\\ipykernel_12340\\3075282184.py:3: FutureWarning: In a future version, `df.iloc[:, i] = newvals` will attempt to set the values inplace instead of always setting a new array. To retain the old behavior, use either `df[df.columns[i]] = newvals` or, if columns are non-unique, `df.isetitem(i, newvals)`\n",
      "  save.loc[:,'marst']=save.loc[:,'marst'].cat.rename_categories({'Bдовец (вдова)':'Вдовец (вдова)'})\n"
     ]
    },
    {
     "name": "stdout",
     "output_type": "stream",
     "text": [
      "Исправлен  2006\n"
     ]
    },
    {
     "name": "stderr",
     "output_type": "stream",
     "text": [
      "C:\\Users\\79618\\AppData\\Local\\Temp\\ipykernel_12340\\3075282184.py:3: FutureWarning: In a future version, `df.iloc[:, i] = newvals` will attempt to set the values inplace instead of always setting a new array. To retain the old behavior, use either `df[df.columns[i]] = newvals` or, if columns are non-unique, `df.isetitem(i, newvals)`\n",
      "  save.loc[:,'marst']=save.loc[:,'marst'].cat.rename_categories({'Bдовец (вдова)':'Вдовец (вдова)'})\n"
     ]
    },
    {
     "name": "stdout",
     "output_type": "stream",
     "text": [
      "Исправлен  2007\n"
     ]
    },
    {
     "name": "stderr",
     "output_type": "stream",
     "text": [
      "C:\\Users\\79618\\AppData\\Local\\Temp\\ipykernel_12340\\3075282184.py:3: FutureWarning: In a future version, `df.iloc[:, i] = newvals` will attempt to set the values inplace instead of always setting a new array. To retain the old behavior, use either `df[df.columns[i]] = newvals` or, if columns are non-unique, `df.isetitem(i, newvals)`\n",
      "  save.loc[:,'marst']=save.loc[:,'marst'].cat.rename_categories({'Bдовец (вдова)':'Вдовец (вдова)'})\n"
     ]
    },
    {
     "name": "stdout",
     "output_type": "stream",
     "text": [
      "Исправлен  2008\n"
     ]
    },
    {
     "name": "stderr",
     "output_type": "stream",
     "text": [
      "C:\\Users\\79618\\AppData\\Local\\Temp\\ipykernel_12340\\3075282184.py:3: FutureWarning: In a future version, `df.iloc[:, i] = newvals` will attempt to set the values inplace instead of always setting a new array. To retain the old behavior, use either `df[df.columns[i]] = newvals` or, if columns are non-unique, `df.isetitem(i, newvals)`\n",
      "  save.loc[:,'marst']=save.loc[:,'marst'].cat.rename_categories({'Bдовец (вдова)':'Вдовец (вдова)'})\n"
     ]
    },
    {
     "name": "stdout",
     "output_type": "stream",
     "text": [
      "Исправлен  2009\n"
     ]
    },
    {
     "name": "stderr",
     "output_type": "stream",
     "text": [
      "C:\\Users\\79618\\AppData\\Local\\Temp\\ipykernel_12340\\3075282184.py:3: FutureWarning: In a future version, `df.iloc[:, i] = newvals` will attempt to set the values inplace instead of always setting a new array. To retain the old behavior, use either `df[df.columns[i]] = newvals` or, if columns are non-unique, `df.isetitem(i, newvals)`\n",
      "  save.loc[:,'marst']=save.loc[:,'marst'].cat.rename_categories({'Bдовец (вдова)':'Вдовец (вдова)'})\n"
     ]
    },
    {
     "name": "stdout",
     "output_type": "stream",
     "text": [
      "Исправлен  2010\n"
     ]
    },
    {
     "name": "stderr",
     "output_type": "stream",
     "text": [
      "C:\\Users\\79618\\AppData\\Local\\Temp\\ipykernel_12340\\3075282184.py:3: FutureWarning: In a future version, `df.iloc[:, i] = newvals` will attempt to set the values inplace instead of always setting a new array. To retain the old behavior, use either `df[df.columns[i]] = newvals` or, if columns are non-unique, `df.isetitem(i, newvals)`\n",
      "  save.loc[:,'marst']=save.loc[:,'marst'].cat.rename_categories({'Bдовец (вдова)':'Вдовец (вдова)'})\n"
     ]
    },
    {
     "name": "stdout",
     "output_type": "stream",
     "text": [
      "Исправлен  2011\n"
     ]
    },
    {
     "name": "stderr",
     "output_type": "stream",
     "text": [
      "C:\\Users\\79618\\AppData\\Local\\Temp\\ipykernel_12340\\3075282184.py:3: FutureWarning: In a future version, `df.iloc[:, i] = newvals` will attempt to set the values inplace instead of always setting a new array. To retain the old behavior, use either `df[df.columns[i]] = newvals` or, if columns are non-unique, `df.isetitem(i, newvals)`\n",
      "  save.loc[:,'marst']=save.loc[:,'marst'].cat.rename_categories({'Bдовец (вдова)':'Вдовец (вдова)'})\n"
     ]
    },
    {
     "name": "stdout",
     "output_type": "stream",
     "text": [
      "Исправлен  2012\n"
     ]
    },
    {
     "name": "stderr",
     "output_type": "stream",
     "text": [
      "C:\\Users\\79618\\AppData\\Local\\Temp\\ipykernel_12340\\3075282184.py:3: FutureWarning: In a future version, `df.iloc[:, i] = newvals` will attempt to set the values inplace instead of always setting a new array. To retain the old behavior, use either `df[df.columns[i]] = newvals` or, if columns are non-unique, `df.isetitem(i, newvals)`\n",
      "  save.loc[:,'marst']=save.loc[:,'marst'].cat.rename_categories({'Bдовец (вдова)':'Вдовец (вдова)'})\n"
     ]
    },
    {
     "name": "stdout",
     "output_type": "stream",
     "text": [
      "Исправлен  2013\n"
     ]
    },
    {
     "name": "stderr",
     "output_type": "stream",
     "text": [
      "C:\\Users\\79618\\AppData\\Local\\Temp\\ipykernel_12340\\3075282184.py:3: FutureWarning: In a future version, `df.iloc[:, i] = newvals` will attempt to set the values inplace instead of always setting a new array. To retain the old behavior, use either `df[df.columns[i]] = newvals` or, if columns are non-unique, `df.isetitem(i, newvals)`\n",
      "  save.loc[:,'marst']=save.loc[:,'marst'].cat.rename_categories({'Bдовец (вдова)':'Вдовец (вдова)'})\n"
     ]
    },
    {
     "name": "stdout",
     "output_type": "stream",
     "text": [
      "Исправлен  2014\n"
     ]
    },
    {
     "name": "stderr",
     "output_type": "stream",
     "text": [
      "C:\\Users\\79618\\AppData\\Local\\Temp\\ipykernel_12340\\3075282184.py:3: FutureWarning: In a future version, `df.iloc[:, i] = newvals` will attempt to set the values inplace instead of always setting a new array. To retain the old behavior, use either `df[df.columns[i]] = newvals` or, if columns are non-unique, `df.isetitem(i, newvals)`\n",
      "  save.loc[:,'marst']=save.loc[:,'marst'].cat.rename_categories({'Bдовец (вдова)':'Вдовец (вдова)'})\n"
     ]
    },
    {
     "name": "stdout",
     "output_type": "stream",
     "text": [
      "Исправлен  2015\n"
     ]
    },
    {
     "name": "stderr",
     "output_type": "stream",
     "text": [
      "C:\\Users\\79618\\AppData\\Local\\Temp\\ipykernel_12340\\3075282184.py:3: FutureWarning: In a future version, `df.iloc[:, i] = newvals` will attempt to set the values inplace instead of always setting a new array. To retain the old behavior, use either `df[df.columns[i]] = newvals` or, if columns are non-unique, `df.isetitem(i, newvals)`\n",
      "  save.loc[:,'marst']=save.loc[:,'marst'].cat.rename_categories({'Bдовец (вдова)':'Вдовец (вдова)'})\n"
     ]
    },
    {
     "name": "stdout",
     "output_type": "stream",
     "text": [
      "Исправлен  2016\n"
     ]
    },
    {
     "name": "stderr",
     "output_type": "stream",
     "text": [
      "C:\\Users\\79618\\AppData\\Local\\Temp\\ipykernel_12340\\3075282184.py:3: FutureWarning: In a future version, `df.iloc[:, i] = newvals` will attempt to set the values inplace instead of always setting a new array. To retain the old behavior, use either `df[df.columns[i]] = newvals` or, if columns are non-unique, `df.isetitem(i, newvals)`\n",
      "  save.loc[:,'marst']=save.loc[:,'marst'].cat.rename_categories({'Bдовец (вдова)':'Вдовец (вдова)'})\n"
     ]
    },
    {
     "name": "stdout",
     "output_type": "stream",
     "text": [
      "Исправлен  2017\n"
     ]
    },
    {
     "name": "stderr",
     "output_type": "stream",
     "text": [
      "C:\\Users\\79618\\AppData\\Local\\Temp\\ipykernel_12340\\3075282184.py:3: FutureWarning: In a future version, `df.iloc[:, i] = newvals` will attempt to set the values inplace instead of always setting a new array. To retain the old behavior, use either `df[df.columns[i]] = newvals` or, if columns are non-unique, `df.isetitem(i, newvals)`\n",
      "  save.loc[:,'marst']=save.loc[:,'marst'].cat.rename_categories({'Bдовец (вдова)':'Вдовец (вдова)'})\n"
     ]
    },
    {
     "name": "stdout",
     "output_type": "stream",
     "text": [
      "Исправлен  2018\n"
     ]
    },
    {
     "name": "stderr",
     "output_type": "stream",
     "text": [
      "C:\\Users\\79618\\AppData\\Local\\Temp\\ipykernel_12340\\3075282184.py:3: FutureWarning: In a future version, `df.iloc[:, i] = newvals` will attempt to set the values inplace instead of always setting a new array. To retain the old behavior, use either `df[df.columns[i]] = newvals` or, if columns are non-unique, `df.isetitem(i, newvals)`\n",
      "  save.loc[:,'marst']=save.loc[:,'marst'].cat.rename_categories({'Bдовец (вдова)':'Вдовец (вдова)'})\n"
     ]
    },
    {
     "name": "stdout",
     "output_type": "stream",
     "text": [
      "Исправлен  2019\n"
     ]
    },
    {
     "name": "stderr",
     "output_type": "stream",
     "text": [
      "C:\\Users\\79618\\AppData\\Local\\Temp\\ipykernel_12340\\3075282184.py:3: FutureWarning: In a future version, `df.iloc[:, i] = newvals` will attempt to set the values inplace instead of always setting a new array. To retain the old behavior, use either `df[df.columns[i]] = newvals` or, if columns are non-unique, `df.isetitem(i, newvals)`\n",
      "  save.loc[:,'marst']=save.loc[:,'marst'].cat.rename_categories({'Bдовец (вдова)':'Вдовец (вдова)'})\n"
     ]
    },
    {
     "name": "stdout",
     "output_type": "stream",
     "text": [
      "Исправлен  2020\n",
      "Исправлен  2021\n"
     ]
    },
    {
     "name": "stderr",
     "output_type": "stream",
     "text": [
      "C:\\Users\\79618\\AppData\\Local\\Temp\\ipykernel_12340\\3075282184.py:3: FutureWarning: In a future version, `df.iloc[:, i] = newvals` will attempt to set the values inplace instead of always setting a new array. To retain the old behavior, use either `df[df.columns[i]] = newvals` or, if columns are non-unique, `df.isetitem(i, newvals)`\n",
      "  save.loc[:,'marst']=save.loc[:,'marst'].cat.rename_categories({'Bдовец (вдова)':'Вдовец (вдова)'})\n"
     ]
    }
   ],
   "source": [
    "corrected_df=corrector_period(list(waves_dict.keys()))"
   ]
  },
  {
   "cell_type": "markdown",
   "id": "eef720bf",
   "metadata": {},
   "source": [
    "## Подготовка переменных"
   ]
  },
  {
   "cell_type": "markdown",
   "id": "2775f81f",
   "metadata": {},
   "source": [
    "``marriage_df`` должен содержать инфу за год t  и t+1\n",
    "* ``MARST`` трансформированная в формат (0,1) за год t+1\n",
    "* ``age`` - возраст\n",
    "* ``h5`` - пол\n",
    "* ``diplom`` - трансфорированный в численный формат дет обучения\n",
    "* ``J10`` - зарплата\n",
    "* ``m2`` - рост\n",
    "* ``m1`` - вес\n",
    "* индекс массы тела\n",
    "\n",
    "\n",
    "* другие доходы - \n",
    "* занятость - \n",
    "* национальность - ``I4``,``I5``\n",
    "* вероисповедание - ``J72.19``"
   ]
  },
  {
   "cell_type": "markdown",
   "id": "d654331d",
   "metadata": {},
   "source": [
    "### ``marst`` - женатость"
   ]
  },
  {
   "cell_type": "markdown",
   "id": "458c4280",
   "metadata": {},
   "source": [
    "**Не учитываем:**\n",
    "1. ЗАТРУДНЯЮСЬ ОТВЕТИТЬ\n",
    "2. НЕТ ОТВЕТА\n",
    "3. ОТКАЗ ОТ ОТВЕТА\n",
    "\n",
    "**Неженатые ($D_i=0$):**\n",
    "1. Вдовец (вдова)\n",
    "2. Живете вместе, но не зарегистрированы\n",
    "3. Никогда в браке не состояли\t\n",
    "4. Разведены и в браке не состоите\n",
    "\n",
    "**Женатые ($D_i=1$):**\n",
    "1. ОФИЦИАЛЬНО ЗАРЕГИСТРИРОВАНЫ, НО ВМЕСТЕ НЕ ПРОЖИВАЮТ\n",
    "2. Состоите в зарегистрированном браке."
   ]
  },
  {
   "cell_type": "code",
   "execution_count": 133,
   "id": "e8b40cdf",
   "metadata": {},
   "outputs": [],
   "source": [
    "marst_cats={\n",
    "'Вдовец (вдова)':0,\n",
    "'Живете вместе, но не зарегистрированы':0,\n",
    "'Никогда в браке не состояли':0,\n",
    "'Разведены и в браке не состоите':0,\n",
    "'ОФИЦИАЛЬНО ЗАРЕГИСТРИРОВАНЫ, НО ВМЕСТЕ НЕ ПРОЖИВАЮТ':1,\n",
    "'Состоите в зарегистрированном браке':1,\n",
    "'ЗАТРУДНЯЮСЬ ОТВЕТИТЬ':np.nan,\n",
    "'НЕТ ОТВЕТА':np.nan,\n",
    "'ОТКАЗ ОТ ОТВЕТА':np.nan,\n",
    "'Состоите в браке':1\n",
    "}"
   ]
  },
  {
   "cell_type": "code",
   "execution_count": 147,
   "id": "640c40e3",
   "metadata": {},
   "outputs": [
    {
     "data": {
      "text/plain": [
       "0       1.0\n",
       "1       0.0\n",
       "2       1.0\n",
       "3       1.0\n",
       "4       1.0\n",
       "       ... \n",
       "9870    0.0\n",
       "9871    1.0\n",
       "9872    1.0\n",
       "9873    0.0\n",
       "9874    0.0\n",
       "Name: marst, Length: 9875, dtype: float64"
      ]
     },
     "execution_count": 147,
     "metadata": {},
     "output_type": "execute_result"
    }
   ],
   "source": [
    "corrected_df[2008]['marst'].replace(marst_cats).astype(float)"
   ]
  },
  {
   "cell_type": "markdown",
   "id": "1b3df7fa",
   "metadata": {},
   "source": [
    "### ``diplom`` - уровень образования"
   ]
  },
  {
   "cell_type": "markdown",
   "id": "21ec7bb7",
   "metadata": {},
   "source": [
    "**Лет образования:**\n",
    "* 'Законченное высшее образование и выше' = 11+4+1 = ``16``\n",
    "* 'Законченное среднее образование' = ``11``\n",
    "* 'Законченное среднее специальное образование' = 9+1 = ``10``\n",
    "* 'НЕТ ОТВЕТА',\n",
    "* 'Незаконченное среднее образование (7 - 8 классов)' = ``7.5``\n",
    "* 'Незаконченное среднее образование (7 - 8 классов) + что-то еще' = ``9``\n",
    "* 'ОТКАЗ ОТ ОТВЕТА' = ``np.nan`` \n",
    "* 'Окончил 0 - 6 классов' = ``6``"
   ]
  },
  {
   "cell_type": "code",
   "execution_count": 95,
   "id": "9726141c",
   "metadata": {},
   "outputs": [],
   "source": [
    "diplom_cats={\n",
    "'Законченное высшее образование и выше':11+4+1,\n",
    "'Законченное среднее образование':11,\n",
    "'Законченное среднее специальное образование':10,\n",
    "'НЕТ ОТВЕТА':np.nan,\n",
    "'Незаконченное среднее образование (7 - 8 классов)':7.5,\n",
    "'Незаконченное среднее образование (7 - 8 классов) + что-то еще':8.5,\n",
    "'ОТКАЗ ОТ ОТВЕТА':np.nan,\n",
    "'Окончил 0 - 6 классов':3,\n",
    "'законченное высшее образование и выше':11+4+1,\n",
    "'законченное среднее образование':11,\n",
    "'законченное среднее специальное образование':10,\n",
    "'незаконченное среднее образование (7 - 8 кл)':7.5,\n",
    "'незаконченное среднее образование (7 - 8 кл) + что-то еще':8.5,\n",
    "'окончил 0 - 6 классов':3,\n",
    "'ЗАТРУДНЯЮСЬ ОТВЕТИТЬ':np.nan\n",
    "}"
   ]
  },
  {
   "cell_type": "code",
   "execution_count": 127,
   "id": "fbfb5d50",
   "metadata": {
    "scrolled": true
   },
   "outputs": [
    {
     "data": {
      "text/plain": [
       "0        11.0\n",
       "1         8.5\n",
       "2        10.0\n",
       "3         7.5\n",
       "4        11.0\n",
       "         ... \n",
       "12064    11.0\n",
       "12065    10.0\n",
       "12066    10.0\n",
       "12067    10.0\n",
       "12068    11.0\n",
       "Name: diplom, Length: 12069, dtype: float64"
      ]
     },
     "execution_count": 127,
     "metadata": {},
     "output_type": "execute_result"
    }
   ],
   "source": [
    "corrected_df[2021]['diplom'].replace(diplom_cats).astype(float)"
   ]
  },
  {
   "cell_type": "markdown",
   "id": "416f653e",
   "metadata": {},
   "source": [
    "### рост, вес, ИМТ"
   ]
  },
  {
   "cell_type": "markdown",
   "id": "b9bfebd2",
   "metadata": {},
   "source": [
    "* ``m2`` - рост\n",
    "* ``m1`` - вес"
   ]
  },
  {
   "cell_type": "code",
   "execution_count": 42,
   "id": "92380ad1",
   "metadata": {},
   "outputs": [],
   "source": [
    "no_ans={'ЗАТРУДНЯЮСЬ ОТВЕТИТЬ':np.nan,\n",
    "'НЕТ ОТВЕТА':np.nan,\n",
    "'ОТКАЗ ОТ ОТВЕТА':np.nan}"
   ]
  },
  {
   "cell_type": "code",
   "execution_count": 151,
   "id": "c31993f9",
   "metadata": {},
   "outputs": [
    {
     "data": {
      "text/plain": [
       "{1994: 0        164.0\n",
       " 1        185.0\n",
       " 2        166.0\n",
       " 3        170.0\n",
       " 4        143.0\n",
       "          ...  \n",
       " 11284    162.0\n",
       " 11285    170.0\n",
       " 11286    155.0\n",
       " 11287    158.0\n",
       " 11288    164.0\n",
       " Name: m2, Length: 11289, dtype: float64,\n",
       " 1995: 0        164.0\n",
       " 1        186.0\n",
       " 2        164.0\n",
       " 3        168.0\n",
       " 4        145.0\n",
       "          ...  \n",
       " 10600    180.0\n",
       " 10601    171.0\n",
       " 10602    165.0\n",
       " 10603      NaN\n",
       " 10604    162.0\n",
       " Name: m2, Length: 10605, dtype: float64,\n",
       " 1996: 0        164.0\n",
       " 1        186.0\n",
       " 2        165.0\n",
       " 3        187.0\n",
       " 4          NaN\n",
       "          ...  \n",
       " 10012    100.0\n",
       " 10013    165.0\n",
       " 10014    155.0\n",
       " 10015    155.0\n",
       " 10016    169.0\n",
       " Name: m2, Length: 10017, dtype: float64,\n",
       " 1998: 0       164.0\n",
       " 1       186.0\n",
       " 2         NaN\n",
       " 3       168.0\n",
       " 4         NaN\n",
       "         ...  \n",
       " 9599    170.0\n",
       " 9600    168.0\n",
       " 9601     85.0\n",
       " 9602     61.0\n",
       " 9603    164.0\n",
       " Name: m2, Length: 9604, dtype: float64,\n",
       " 2000: 0       164.0\n",
       " 1       184.0\n",
       " 2       164.0\n",
       " 3       168.0\n",
       " 4       150.0\n",
       "         ...  \n",
       " 9004    160.0\n",
       " 9005    128.0\n",
       " 9006    178.0\n",
       " 9007    158.0\n",
       " 9008    164.0\n",
       " Name: m2, Length: 9009, dtype: float64,\n",
       " 2001: 0       164.0\n",
       " 1       184.0\n",
       " 2       163.0\n",
       " 3       169.0\n",
       " 4       160.0\n",
       "         ...  \n",
       " 9300    165.0\n",
       " 9301    172.0\n",
       " 9302    162.0\n",
       " 9303    176.0\n",
       " 9304    169.0\n",
       " Name: m2, Length: 9305, dtype: float64,\n",
       " 2002: 0       163.5\n",
       " 1       184.0\n",
       " 2       167.0\n",
       " 3       169.0\n",
       " 4       180.0\n",
       "         ...  \n",
       " 9204    172.0\n",
       " 9205    190.0\n",
       " 9206    155.0\n",
       " 9207      NaN\n",
       " 9208    176.0\n",
       " Name: m2, Length: 9209, dtype: float64,\n",
       " 2003: 0       164.0\n",
       " 1       184.0\n",
       " 2         NaN\n",
       " 3         NaN\n",
       " 4       162.0\n",
       "         ...  \n",
       " 9057    180.0\n",
       " 9058    175.0\n",
       " 9059      NaN\n",
       " 9060    160.0\n",
       " 9061    175.0\n",
       " Name: m2, Length: 9062, dtype: float64,\n",
       " 2004: 0       184.0\n",
       " 1       171.0\n",
       " 2       162.0\n",
       " 3       157.0\n",
       " 4       154.0\n",
       "         ...  \n",
       " 8928    175.0\n",
       " 8929    120.0\n",
       " 8930    190.0\n",
       " 8931    179.0\n",
       " 8932    168.0\n",
       " Name: m2, Length: 8933, dtype: float64,\n",
       " 2005: 0       163.0\n",
       " 1       184.0\n",
       " 2       162.0\n",
       " 3       158.0\n",
       " 4       154.0\n",
       "         ...  \n",
       " 8335    182.0\n",
       " 8336    171.0\n",
       " 8337    170.0\n",
       " 8338    157.0\n",
       " 8339    153.0\n",
       " Name: m2, Length: 8340, dtype: float64,\n",
       " 2006: 0        164.0\n",
       " 1        184.0\n",
       " 2        161.0\n",
       " 3        158.0\n",
       " 4        156.0\n",
       "          ...  \n",
       " 10706    171.0\n",
       " 10707    133.0\n",
       " 10708    186.0\n",
       " 10709    171.0\n",
       " 10710    180.0\n",
       " Name: m2, Length: 10711, dtype: float64,\n",
       " 2007: 0        164.0\n",
       " 1        184.0\n",
       " 2        170.0\n",
       " 3        161.0\n",
       " 4        158.0\n",
       "          ...  \n",
       " 10332    160.0\n",
       " 10333    120.0\n",
       " 10334    155.0\n",
       " 10335    156.0\n",
       " 10336    168.0\n",
       " Name: m2, Length: 10337, dtype: float64,\n",
       " 2008: 0       171.0\n",
       " 1       162.0\n",
       " 2       158.0\n",
       " 3       165.0\n",
       " 4       160.0\n",
       "         ...  \n",
       " 9870    180.0\n",
       " 9871    154.0\n",
       " 9872    170.0\n",
       " 9873    156.0\n",
       " 9874    168.0\n",
       " Name: m2, Length: 9875, dtype: float64,\n",
       " 2009: 0       164.0\n",
       " 1       169.0\n",
       " 2       162.0\n",
       " 3       158.0\n",
       " 4       164.0\n",
       "         ...  \n",
       " 9573    180.0\n",
       " 9574    172.0\n",
       " 9575    165.0\n",
       " 9576    156.0\n",
       " 9577    168.0\n",
       " Name: m2, Length: 9578, dtype: float64,\n",
       " 2010: 0        164.0\n",
       " 1        170.0\n",
       " 2        162.0\n",
       " 3        156.0\n",
       " 4        165.0\n",
       "          ...  \n",
       " 16862    170.0\n",
       " 16863    160.0\n",
       " 16864    168.0\n",
       " 16865    170.0\n",
       " 16866    160.0\n",
       " Name: m2, Length: 16867, dtype: float64,\n",
       " 2011: 0        164.0\n",
       " 1        168.0\n",
       " 2          NaN\n",
       " 3        158.0\n",
       " 4        165.0\n",
       "          ...  \n",
       " 17017    167.0\n",
       " 17018    173.0\n",
       " 17019    180.0\n",
       " 17020    164.0\n",
       " 17021    168.0\n",
       " Name: m2, Length: 17022, dtype: float64,\n",
       " 2012: 0        164.0\n",
       " 1        161.0\n",
       " 2        156.5\n",
       " 3        162.0\n",
       " 4        165.0\n",
       "          ...  \n",
       " 17085    178.0\n",
       " 17086    158.0\n",
       " 17087    157.0\n",
       " 17088    168.0\n",
       " 17089    180.0\n",
       " Name: m2, Length: 17090, dtype: float64,\n",
       " 2013: 0        162.0\n",
       " 1        156.0\n",
       " 2        165.0\n",
       " 3        162.0\n",
       " 4        168.0\n",
       "          ...  \n",
       " 16082     87.0\n",
       " 16083     62.0\n",
       " 16084    180.0\n",
       " 16085     73.0\n",
       " 16086    168.0\n",
       " Name: m2, Length: 16087, dtype: float64,\n",
       " 2014: 0        164.0\n",
       " 1        162.0\n",
       " 2        156.5\n",
       " 3        165.0\n",
       " 4        165.0\n",
       "          ...  \n",
       " 12903    156.0\n",
       " 12904    168.0\n",
       " 12905    125.0\n",
       " 12906      NaN\n",
       " 12907    168.0\n",
       " Name: m2, Length: 12908, dtype: float64,\n",
       " 2015: 0        164.0\n",
       " 1        164.0\n",
       " 2        156.0\n",
       " 3        165.0\n",
       " 4        160.0\n",
       "          ...  \n",
       " 12662    110.0\n",
       " 12663    100.0\n",
       " 12664    153.0\n",
       " 12665    168.0\n",
       " 12666    150.0\n",
       " Name: m2, Length: 12667, dtype: float64,\n",
       " 2016: 0        164.0\n",
       " 1        162.0\n",
       " 2        154.0\n",
       " 3        165.0\n",
       " 4        165.0\n",
       "          ...  \n",
       " 12549    140.0\n",
       " 12550     85.0\n",
       " 12551     69.0\n",
       " 12552    183.0\n",
       " 12553    157.0\n",
       " Name: m2, Length: 12554, dtype: float64,\n",
       " 2017: 0        164.0\n",
       " 1        160.0\n",
       " 2        154.0\n",
       " 3        165.0\n",
       " 4        168.0\n",
       "          ...  \n",
       " 12436    187.0\n",
       " 12437     65.0\n",
       " 12438     84.0\n",
       " 12439     96.0\n",
       " 12440    165.0\n",
       " Name: m2, Length: 12441, dtype: float64,\n",
       " 2018: 0        164.0\n",
       " 1        162.0\n",
       " 2        165.0\n",
       " 3        164.0\n",
       " 4        164.0\n",
       "          ...  \n",
       " 12156    183.0\n",
       " 12157     53.0\n",
       " 12158     57.0\n",
       " 12159     68.0\n",
       " 12160    167.0\n",
       " Name: m2, Length: 12161, dtype: float64,\n",
       " 2019: 0        164.0\n",
       " 1        162.0\n",
       " 2        154.0\n",
       " 3        165.0\n",
       " 4        164.0\n",
       "          ...  \n",
       " 12219    162.0\n",
       " 12220    165.0\n",
       " 12221    170.0\n",
       " 12222    156.0\n",
       " 12223    161.0\n",
       " Name: m2, Length: 12224, dtype: float64,\n",
       " 2020: 0        164.0\n",
       " 1        162.0\n",
       " 2        154.0\n",
       " 3        165.0\n",
       " 4        168.0\n",
       "          ...  \n",
       " 12115    171.0\n",
       " 12116    152.0\n",
       " 12117    170.0\n",
       " 12118    150.0\n",
       " 12119    175.0\n",
       " Name: m2, Length: 12120, dtype: float64,\n",
       " 2021: 0        164.0\n",
       " 1          NaN\n",
       " 2        154.0\n",
       " 3        165.0\n",
       " 4        164.0\n",
       "          ...  \n",
       " 12064    166.0\n",
       " 12065    165.0\n",
       " 12066    182.0\n",
       " 12067    162.0\n",
       " 12068    177.0\n",
       " Name: m2, Length: 12069, dtype: float64}"
      ]
     },
     "execution_count": 151,
     "metadata": {},
     "output_type": "execute_result"
    }
   ],
   "source": [
    "{i:corrected_df[i]['m2'].replace(no_ans).astype(float) for i in list(waves_dict.keys())}"
   ]
  },
  {
   "cell_type": "code",
   "execution_count": 160,
   "id": "6ca5e058",
   "metadata": {
    "scrolled": true
   },
   "outputs": [
    {
     "data": {
      "text/plain": [
       "0       50.0\n",
       "1       70.0\n",
       "2       68.0\n",
       "3       57.0\n",
       "4       65.0\n",
       "        ... \n",
       "9004    58.0\n",
       "9005    21.0\n",
       "9006    68.0\n",
       "9007    52.0\n",
       "9008    79.0\n",
       "Name: m1, Length: 9009, dtype: float64"
      ]
     },
     "execution_count": 160,
     "metadata": {},
     "output_type": "execute_result"
    }
   ],
   "source": [
    "corrected_df[2000]['m1']corrected_df[2000]['m1']"
   ]
  },
  {
   "cell_type": "code",
   "execution_count": 44,
   "id": "3a352aba",
   "metadata": {
    "scrolled": true
   },
   "outputs": [
    {
     "data": {
      "text/plain": [
       "0       164.0\n",
       "1       184.0\n",
       "2       164.0\n",
       "3       168.0\n",
       "4       150.0\n",
       "        ...  \n",
       "9004    160.0\n",
       "9005    128.0\n",
       "9006    178.0\n",
       "9007    158.0\n",
       "9008    164.0\n",
       "Name: m2, Length: 9009, dtype: float64"
      ]
     },
     "execution_count": 44,
     "metadata": {},
     "output_type": "execute_result"
    }
   ],
   "source": [
    "corrected_df[2000]['m2'].replace(no_ans).astype(float)"
   ]
  },
  {
   "cell_type": "code",
   "execution_count": 200,
   "id": "b0c4afd7",
   "metadata": {},
   "outputs": [
    {
     "name": "stderr",
     "output_type": "stream",
     "text": [
      "C:\\Users\\79618\\AppData\\Local\\Programs\\Python\\Python310\\lib\\site-packages\\pandas\\plotting\\_matplotlib\\core.py:1254: UserWarning: No data for colormapping provided via 'c'. Parameters 'cmap' will be ignored\n",
      "  scatter = ax.scatter(\n"
     ]
    },
    {
     "data": {
      "text/plain": [
       "<AxesSubplot: title={'center': '2015'}, xlabel='m1', ylabel='m2'>"
      ]
     },
     "execution_count": 200,
     "metadata": {},
     "output_type": "execute_result"
    },
    {
     "data": {
      "image/png": "[encoded data removed]",
      "text/plain": [
       "<Figure size 640x480 with 1 Axes>"
      ]
     },
     "metadata": {},
     "output_type": "display_data"
    },
    {
     "data": {
      "image/png": "[encoded data removed]",
      "text/plain": [
       "<Figure size 640x480 with 1 Axes>"
      ]
     },
     "metadata": {},
     "output_type": "display_data"
    }
   ],
   "source": [
    "year=2015\n",
    "\n",
    "corrected_df[year][['m1','m2']][corrected_df[year]['h5']=='МУЖСКОЙ'].replace(no_ans).dropna().astype(float).plot(x='m1',y='m2',kind=\"scatter\",title=str(year),c='b',s=2)\n",
    "corrected_df[year][['m1','m2']][corrected_df[year]['h5']=='ЖЕНСКИЙ'].replace(no_ans).dropna().astype(float).plot(x='m1',y='m2',kind=\"scatter\",title=str(year),c='r',s=2)"
   ]
  },
  {
   "cell_type": "code",
   "execution_count": 190,
   "id": "180679d8",
   "metadata": {},
   "outputs": [
    {
     "data": {
      "text/html": [
       "<div>\n",
       "<style scoped>\n",
       "    .dataframe tbody tr th:only-of-type {\n",
       "        vertical-align: middle;\n",
       "    }\n",
       "\n",
       "    .dataframe tbody tr th {\n",
       "        vertical-align: top;\n",
       "    }\n",
       "\n",
       "    .dataframe thead th {\n",
       "        text-align: right;\n",
       "    }\n",
       "</style>\n",
       "<table border=\"1\" class=\"dataframe\">\n",
       "  <thead>\n",
       "    <tr style=\"text-align: right;\">\n",
       "      <th></th>\n",
       "      <th>m1</th>\n",
       "      <th>m2</th>\n",
       "    </tr>\n",
       "  </thead>\n",
       "  <tbody>\n",
       "    <tr>\n",
       "      <th>5</th>\n",
       "      <td>60.0</td>\n",
       "      <td>165.0</td>\n",
       "    </tr>\n",
       "    <tr>\n",
       "      <th>9</th>\n",
       "      <td>80.0</td>\n",
       "      <td>165.0</td>\n",
       "    </tr>\n",
       "    <tr>\n",
       "      <th>10</th>\n",
       "      <td>75.0</td>\n",
       "      <td>170.0</td>\n",
       "    </tr>\n",
       "    <tr>\n",
       "      <th>12</th>\n",
       "      <td>82.0</td>\n",
       "      <td>174.0</td>\n",
       "    </tr>\n",
       "    <tr>\n",
       "      <th>16</th>\n",
       "      <td>63.0</td>\n",
       "      <td>164.0</td>\n",
       "    </tr>\n",
       "    <tr>\n",
       "      <th>...</th>\n",
       "      <td>...</td>\n",
       "      <td>...</td>\n",
       "    </tr>\n",
       "    <tr>\n",
       "      <th>16854</th>\n",
       "      <td>23.0</td>\n",
       "      <td>120.0</td>\n",
       "    </tr>\n",
       "    <tr>\n",
       "      <th>16856</th>\n",
       "      <td>120.0</td>\n",
       "      <td>182.0</td>\n",
       "    </tr>\n",
       "    <tr>\n",
       "      <th>16857</th>\n",
       "      <td>74.0</td>\n",
       "      <td>175.0</td>\n",
       "    </tr>\n",
       "    <tr>\n",
       "      <th>16858</th>\n",
       "      <td>75.0</td>\n",
       "      <td>182.0</td>\n",
       "    </tr>\n",
       "    <tr>\n",
       "      <th>16859</th>\n",
       "      <td>77.0</td>\n",
       "      <td>172.0</td>\n",
       "    </tr>\n",
       "  </tbody>\n",
       "</table>\n",
       "<p>7299 rows × 2 columns</p>\n",
       "</div>"
      ],
      "text/plain": [
       "          m1     m2\n",
       "5       60.0  165.0\n",
       "9       80.0  165.0\n",
       "10      75.0  170.0\n",
       "12      82.0  174.0\n",
       "16      63.0  164.0\n",
       "...      ...    ...\n",
       "16854   23.0  120.0\n",
       "16856  120.0  182.0\n",
       "16857   74.0  175.0\n",
       "16858   75.0  182.0\n",
       "16859   77.0  172.0\n",
       "\n",
       "[7299 rows x 2 columns]"
      ]
     },
     "execution_count": 190,
     "metadata": {},
     "output_type": "execute_result"
    }
   ],
   "source": [
    "corrected_df[year][['m1','m2']][corrected_df[year]['h5']=='МУЖСКОЙ']"
   ]
  },
  {
   "attachments": {
    "image.png": {
     "image/png": "[encoded data removed]"
    }
   },
   "cell_type": "markdown",
   "id": "6d41bcef",
   "metadata": {},
   "source": [
    "![imaFGDSASFBFSDGge.png](attachment:image.png)"
   ]
  },
  {
   "cell_type": "code",
   "execution_count": 48,
   "id": "75ff9fc0",
   "metadata": {
    "scrolled": true
   },
   "outputs": [
    {
     "data": {
      "text/plain": [
       "0       18.590125\n",
       "1       20.675803\n",
       "2       25.282570\n",
       "3       20.195578\n",
       "4       28.888889\n",
       "          ...    \n",
       "9004    22.656250\n",
       "9005    12.817383\n",
       "9006    21.461937\n",
       "9007    20.829995\n",
       "9008    29.372397\n",
       "Name: IMT, Length: 9009, dtype: float64"
      ]
     },
     "execution_count": 48,
     "metadata": {},
     "output_type": "execute_result"
    }
   ],
   "source": [
    "corrected_df[2000]['IMT']=corrected_df[2000]['m1'].replace(no_ans).astype(float)/(corrected_df[2000]['m2'].replace(no_ans).astype(float)/100)**2\n",
    "corrected_df[2000]['IMT']"
   ]
  },
  {
   "cell_type": "markdown",
   "id": "ca78dbbf",
   "metadata": {},
   "source": [
    "### ``m3``- самооценка здоровья"
   ]
  },
  {
   "cell_type": "code",
   "execution_count": 314,
   "id": "05cd362f",
   "metadata": {},
   "outputs": [],
   "source": [
    "zd_cats={'ЗАТРУДНЯЮСЬ ОТВЕТИТЬ':np.nan,\n",
    "    'НЕТ ОТВЕТА':np.nan,\n",
    "    'ОТКАЗ ОТ ОТВЕТА':np.nan,\n",
    "    'Очень хорошее':2,\n",
    "    'Плохое':-1,\n",
    "    'Совсем плохое':-2,\n",
    "    'Среднее, не хорошее, но и не плохое':0,\n",
    "    'Хорошее':1,\n",
    "    'Среднее, не хорошее и не плохое':0,\n",
    "    'Cовcем плохое':-2,\n",
    "    'Cреднее, не хорошее, но и не плохое':0,\n",
    "    'ЗAТРУДНЯЮCЬ ОТВЕТИТЬ':np.nan,\n",
    "    'НЕТ ОТВЕТA':np.nan,\n",
    "    'ОТКAЗ ОТ ОТВЕТA':np.nan\n",
    "   }"
   ]
  },
  {
   "cell_type": "code",
   "execution_count": 332,
   "id": "8266c328",
   "metadata": {},
   "outputs": [
    {
     "data": {
      "text/plain": [
       "0        1\n",
       "1        0\n",
       "2        0\n",
       "3        0\n",
       "4        0\n",
       "        ..\n",
       "16862    0\n",
       "16863    0\n",
       "16864    2\n",
       "16865   -1\n",
       "16866   -1\n",
       "Name: m3, Length: 16867, dtype: category\n",
       "Categories (5, int64): [2, -1, -2, 0, 1]"
      ]
     },
     "execution_count": 332,
     "metadata": {},
     "output_type": "execute_result"
    }
   ],
   "source": [
    "year=2010\n",
    "\n",
    "corrected_df[year]['m3'].replace(zd_cats)"
   ]
  },
  {
   "cell_type": "markdown",
   "id": "538fce82",
   "metadata": {},
   "source": [
    "### ``age`` - возраст"
   ]
  },
  {
   "cell_type": "code",
   "execution_count": 352,
   "id": "090427e5",
   "metadata": {},
   "outputs": [
    {
     "data": {
      "text/plain": [
       "0       29.0\n",
       "1       31.0\n",
       "2       47.0\n",
       "3       18.0\n",
       "4       16.0\n",
       "        ... \n",
       "9204    50.0\n",
       "9205    19.0\n",
       "9206    61.0\n",
       "9207     2.0\n",
       "9208    41.0\n",
       "Name: age, Length: 9209, dtype: category\n",
       "Categories (97, object): [0.0, 1.0, 2.0, 3.0, ..., 94.0, 97.0, 98.0, 'ЗАТРУДНЯЮСЬ ОТВЕТИТЬ']"
      ]
     },
     "execution_count": 352,
     "metadata": {},
     "output_type": "execute_result"
    }
   ],
   "source": [
    "corrected_df[2002]['age']"
   ]
  },
  {
   "cell_type": "markdown",
   "id": "67c47877",
   "metadata": {},
   "source": [
    "### ``h5`` - пол"
   ]
  },
  {
   "cell_type": "markdown",
   "id": "c056fc2f",
   "metadata": {},
   "source": [
    "Даны разные имена для разных лет"
   ]
  },
  {
   "cell_type": "code",
   "execution_count": 375,
   "id": "29b238c9",
   "metadata": {},
   "outputs": [],
   "source": [
    "sex_cats={\n",
    "    'ЖЕНСКИЙ':'Женский',\n",
    "    'МУЖСКОЙ':'Мужской'\n",
    "}"
   ]
  },
  {
   "cell_type": "code",
   "execution_count": 374,
   "id": "7bc2d078",
   "metadata": {},
   "outputs": [
    {
     "data": {
      "text/plain": [
       "0       Женский\n",
       "1       Мужской\n",
       "2       Женский\n",
       "3       Женский\n",
       "4       Мужской\n",
       "         ...   \n",
       "9004    Женский\n",
       "9005    Женский\n",
       "9006    Мужской\n",
       "9007    Женский\n",
       "9008    Женский\n",
       "Name: h5, Length: 9009, dtype: category\n",
       "Categories (2, object): ['Женский', 'Мужской']"
      ]
     },
     "execution_count": 374,
     "metadata": {},
     "output_type": "execute_result"
    }
   ],
   "source": [
    "corrected_df[2000]['h5']"
   ]
  },
  {
   "cell_type": "markdown",
   "id": "cfec6086",
   "metadata": {},
   "source": [
    "## Работа с парами лет (спаривание)"
   ]
  },
  {
   "cell_type": "code",
   "execution_count": 49,
   "id": "aeb5aff5",
   "metadata": {},
   "outputs": [
    {
     "data": {
      "text/plain": [
       "[(1994, 1995),\n",
       " (1995, 1996),\n",
       " (2000, 2001),\n",
       " (2001, 2002),\n",
       " (2002, 2003),\n",
       " (2003, 2004),\n",
       " (2004, 2005),\n",
       " (2005, 2006),\n",
       " (2006, 2007),\n",
       " (2007, 2008),\n",
       " (2008, 2009),\n",
       " (2009, 2010),\n",
       " (2010, 2011),\n",
       " (2011, 2012),\n",
       " (2012, 2013),\n",
       " (2013, 2014),\n",
       " (2014, 2015),\n",
       " (2015, 2016),\n",
       " (2016, 2017),\n",
       " (2017, 2018),\n",
       " (2018, 2019),\n",
       " (2019, 2020),\n",
       " (2020, 2021)]"
      ]
     },
     "execution_count": 49,
     "metadata": {},
     "output_type": "execute_result"
    }
   ],
   "source": [
    "pairs_of_years=[(i,i+1) for i in list(xxxx.keys()) if i+1 in list(xxxx.keys())]\n",
    "pairs_of_years"
   ]
  },
  {
   "cell_type": "markdown",
   "id": "c62d60c9",
   "metadata": {},
   "source": [
    "## Описательные статистики выборки RLMS_HSE"
   ]
  },
  {
   "cell_type": "code",
   "execution_count": 75,
   "id": "1314595f",
   "metadata": {},
   "outputs": [
    {
     "data": {
      "text/plain": [
       "<AxesSubplot: title={'center': 'Cut types'}, ylabel='marst'>"
      ]
     },
     "execution_count": 75,
     "metadata": {},
     "output_type": "execute_result"
    },
    {
     "data": {
      "image/png": "[encoded data removed]",
      "text/plain": [
       "<Figure size 640x480 with 1 Axes>"
      ]
     },
     "metadata": {},
     "output_type": "display_data"
    }
   ],
   "source": [
    "corrected_df[2005]['marst'].replace(marst_cats).dropna().value_counts().plot(kind=\"pie\",title=\"Cut types\")"
   ]
  },
  {
   "cell_type": "code",
   "execution_count": 78,
   "id": "f17ee2ca",
   "metadata": {},
   "outputs": [
    {
     "data": {
      "text/html": [
       "<div>\n",
       "<style scoped>\n",
       "    .dataframe tbody tr th:only-of-type {\n",
       "        vertical-align: middle;\n",
       "    }\n",
       "\n",
       "    .dataframe tbody tr th {\n",
       "        vertical-align: top;\n",
       "    }\n",
       "\n",
       "    .dataframe thead th {\n",
       "        text-align: right;\n",
       "    }\n",
       "</style>\n",
       "<table border=\"1\" class=\"dataframe\">\n",
       "  <thead>\n",
       "    <tr style=\"text-align: right;\">\n",
       "      <th></th>\n",
       "      <th>marst</th>\n",
       "    </tr>\n",
       "  </thead>\n",
       "  <tbody>\n",
       "    <tr>\n",
       "      <th>0</th>\n",
       "      <td>3756</td>\n",
       "    </tr>\n",
       "    <tr>\n",
       "      <th>1</th>\n",
       "      <td>3490</td>\n",
       "    </tr>\n",
       "  </tbody>\n",
       "</table>\n",
       "</div>"
      ],
      "text/plain": [
       "   marst\n",
       "0   3756\n",
       "1   3490"
      ]
     },
     "execution_count": 78,
     "metadata": {},
     "output_type": "execute_result"
    }
   ],
   "source": [
    "pd.DataFrame(corrected_df[2005]['marst'].replace(marst_cats).dropna().value_counts())"
   ]
  },
  {
   "cell_type": "markdown",
   "id": "492ad1bd",
   "metadata": {},
   "source": [
    "## Получение рабочей матрицы"
   ]
  },
  {
   "cell_type": "code",
   "execution_count": 544,
   "id": "252e9d75",
   "metadata": {},
   "outputs": [],
   "source": [
    "import matplotlib.pyplot as plt\n",
    "import numpy as np\n",
    "import pandas as pd\n",
    "import statsmodels.api as sm\n",
    "from scipy import stats\n",
    "from statsmodels.formula.api import logit, probit"
   ]
  },
  {
   "cell_type": "code",
   "execution_count": 237,
   "id": "1bf72e1e",
   "metadata": {},
   "outputs": [
    {
     "data": {
      "text/plain": [
       "0       27.0\n",
       "1       29.0\n",
       "2       45.0\n",
       "3       16.0\n",
       "4       14.0\n",
       "        ... \n",
       "9004    25.0\n",
       "9005     7.0\n",
       "9006    44.0\n",
       "9007    22.0\n",
       "9008    38.0\n",
       "Name: age, Length: 9009, dtype: category\n",
       "Categories (100, float64): [0.0, 1.0, 2.0, 3.0, ..., 96.0, 97.0, 98.0, 100.0]"
      ]
     },
     "execution_count": 237,
     "metadata": {},
     "output_type": "execute_result"
    }
   ],
   "source": [
    "corrected_df[year]['age']"
   ]
  },
  {
   "cell_type": "code",
   "execution_count": 466,
   "id": "d6e959be",
   "metadata": {},
   "outputs": [
    {
     "data": {
      "text/plain": [
       "(1994, 1995)"
      ]
     },
     "execution_count": 466,
     "metadata": {},
     "output_type": "execute_result"
    }
   ],
   "source": [
    "pairs_of_years[0]"
   ]
  },
  {
   "cell_type": "code",
   "execution_count": 474,
   "id": "2bf74aca",
   "metadata": {},
   "outputs": [
    {
     "name": "stderr",
     "output_type": "stream",
     "text": [
      "C:\\Users\\79618\\AppData\\Local\\Temp\\ipykernel_12340\\965708770.py:7: PerformanceWarning: DataFrame is highly fragmented.  This is usually the result of calling `frame.insert` many times, which has poor performance.  Consider joining all columns at once using pd.concat(axis=1) instead. To get a de-fragmented frame, use `newframe = frame.copy()`\n",
      "  marriage_df['IMT']=marriage_df['m1'].replace(no_ans).astype(float)/(marriage_df['m2'].replace(no_ans).astype(float)/100)**2\n",
      "C:\\Users\\79618\\AppData\\Local\\Temp\\ipykernel_12340\\965708770.py:11: PerformanceWarning: DataFrame is highly fragmented.  This is usually the result of calling `frame.insert` many times, which has poor performance.  Consider joining all columns at once using pd.concat(axis=1) instead. To get a de-fragmented frame, use `newframe = frame.copy()`\n",
      "  marriage_df['salary']=marriage_df['j10'].replace(no_ans).astype(float)+1\n",
      "C:\\Users\\79618\\AppData\\Local\\Temp\\ipykernel_12340\\965708770.py:12: PerformanceWarning: DataFrame is highly fragmented.  This is usually the result of calling `frame.insert` many times, which has poor performance.  Consider joining all columns at once using pd.concat(axis=1) instead. To get a de-fragmented frame, use `newframe = frame.copy()`\n",
      "  marriage_df['health']=marriage_df['m3'].replace(zd_cats).astype(float)\n",
      "C:\\Users\\79618\\AppData\\Local\\Temp\\ipykernel_12340\\965708770.py:13: PerformanceWarning: DataFrame is highly fragmented.  This is usually the result of calling `frame.insert` many times, which has poor performance.  Consider joining all columns at once using pd.concat(axis=1) instead. To get a de-fragmented frame, use `newframe = frame.copy()`\n",
      "  marriage_df['sex']=marriage_df['h5'].replace(sex_cats)\n",
      "C:\\Users\\79618\\AppData\\Local\\Temp\\ipykernel_12340\\965708770.py:11: PerformanceWarning: DataFrame is highly fragmented.  This is usually the result of calling `frame.insert` many times, which has poor performance.  Consider joining all columns at once using pd.concat(axis=1) instead. To get a de-fragmented frame, use `newframe = frame.copy()`\n",
      "  marriage_df['salary']=marriage_df['j10'].replace(no_ans).astype(float)+1\n",
      "C:\\Users\\79618\\AppData\\Local\\Temp\\ipykernel_12340\\965708770.py:12: PerformanceWarning: DataFrame is highly fragmented.  This is usually the result of calling `frame.insert` many times, which has poor performance.  Consider joining all columns at once using pd.concat(axis=1) instead. To get a de-fragmented frame, use `newframe = frame.copy()`\n",
      "  marriage_df['health']=marriage_df['m3'].replace(zd_cats).astype(float)\n",
      "C:\\Users\\79618\\AppData\\Local\\Temp\\ipykernel_12340\\965708770.py:13: PerformanceWarning: DataFrame is highly fragmented.  This is usually the result of calling `frame.insert` many times, which has poor performance.  Consider joining all columns at once using pd.concat(axis=1) instead. To get a de-fragmented frame, use `newframe = frame.copy()`\n",
      "  marriage_df['sex']=marriage_df['h5'].replace(sex_cats)\n",
      "C:\\Users\\79618\\AppData\\Local\\Temp\\ipykernel_12340\\965708770.py:7: PerformanceWarning: DataFrame is highly fragmented.  This is usually the result of calling `frame.insert` many times, which has poor performance.  Consider joining all columns at once using pd.concat(axis=1) instead. To get a de-fragmented frame, use `newframe = frame.copy()`\n",
      "  marriage_df['IMT']=marriage_df['m1'].replace(no_ans).astype(float)/(marriage_df['m2'].replace(no_ans).astype(float)/100)**2\n",
      "C:\\Users\\79618\\AppData\\Local\\Temp\\ipykernel_12340\\965708770.py:11: PerformanceWarning: DataFrame is highly fragmented.  This is usually the result of calling `frame.insert` many times, which has poor performance.  Consider joining all columns at once using pd.concat(axis=1) instead. To get a de-fragmented frame, use `newframe = frame.copy()`\n",
      "  marriage_df['salary']=marriage_df['j10'].replace(no_ans).astype(float)+1\n",
      "C:\\Users\\79618\\AppData\\Local\\Temp\\ipykernel_12340\\965708770.py:12: PerformanceWarning: DataFrame is highly fragmented.  This is usually the result of calling `frame.insert` many times, which has poor performance.  Consider joining all columns at once using pd.concat(axis=1) instead. To get a de-fragmented frame, use `newframe = frame.copy()`\n",
      "  marriage_df['health']=marriage_df['m3'].replace(zd_cats).astype(float)\n",
      "C:\\Users\\79618\\AppData\\Local\\Temp\\ipykernel_12340\\965708770.py:13: PerformanceWarning: DataFrame is highly fragmented.  This is usually the result of calling `frame.insert` many times, which has poor performance.  Consider joining all columns at once using pd.concat(axis=1) instead. To get a de-fragmented frame, use `newframe = frame.copy()`\n",
      "  marriage_df['sex']=marriage_df['h5'].replace(sex_cats)\n",
      "C:\\Users\\79618\\AppData\\Local\\Temp\\ipykernel_12340\\965708770.py:7: PerformanceWarning: DataFrame is highly fragmented.  This is usually the result of calling `frame.insert` many times, which has poor performance.  Consider joining all columns at once using pd.concat(axis=1) instead. To get a de-fragmented frame, use `newframe = frame.copy()`\n",
      "  marriage_df['IMT']=marriage_df['m1'].replace(no_ans).astype(float)/(marriage_df['m2'].replace(no_ans).astype(float)/100)**2\n",
      "C:\\Users\\79618\\AppData\\Local\\Temp\\ipykernel_12340\\965708770.py:11: PerformanceWarning: DataFrame is highly fragmented.  This is usually the result of calling `frame.insert` many times, which has poor performance.  Consider joining all columns at once using pd.concat(axis=1) instead. To get a de-fragmented frame, use `newframe = frame.copy()`\n",
      "  marriage_df['salary']=marriage_df['j10'].replace(no_ans).astype(float)+1\n",
      "C:\\Users\\79618\\AppData\\Local\\Temp\\ipykernel_12340\\965708770.py:12: PerformanceWarning: DataFrame is highly fragmented.  This is usually the result of calling `frame.insert` many times, which has poor performance.  Consider joining all columns at once using pd.concat(axis=1) instead. To get a de-fragmented frame, use `newframe = frame.copy()`\n",
      "  marriage_df['health']=marriage_df['m3'].replace(zd_cats).astype(float)\n",
      "C:\\Users\\79618\\AppData\\Local\\Temp\\ipykernel_12340\\965708770.py:13: PerformanceWarning: DataFrame is highly fragmented.  This is usually the result of calling `frame.insert` many times, which has poor performance.  Consider joining all columns at once using pd.concat(axis=1) instead. To get a de-fragmented frame, use `newframe = frame.copy()`\n",
      "  marriage_df['sex']=marriage_df['h5'].replace(sex_cats)\n",
      "C:\\Users\\79618\\AppData\\Local\\Temp\\ipykernel_12340\\965708770.py:7: PerformanceWarning: DataFrame is highly fragmented.  This is usually the result of calling `frame.insert` many times, which has poor performance.  Consider joining all columns at once using pd.concat(axis=1) instead. To get a de-fragmented frame, use `newframe = frame.copy()`\n",
      "  marriage_df['IMT']=marriage_df['m1'].replace(no_ans).astype(float)/(marriage_df['m2'].replace(no_ans).astype(float)/100)**2\n",
      "C:\\Users\\79618\\AppData\\Local\\Temp\\ipykernel_12340\\965708770.py:11: PerformanceWarning: DataFrame is highly fragmented.  This is usually the result of calling `frame.insert` many times, which has poor performance.  Consider joining all columns at once using pd.concat(axis=1) instead. To get a de-fragmented frame, use `newframe = frame.copy()`\n",
      "  marriage_df['salary']=marriage_df['j10'].replace(no_ans).astype(float)+1\n",
      "C:\\Users\\79618\\AppData\\Local\\Temp\\ipykernel_12340\\965708770.py:12: PerformanceWarning: DataFrame is highly fragmented.  This is usually the result of calling `frame.insert` many times, which has poor performance.  Consider joining all columns at once using pd.concat(axis=1) instead. To get a de-fragmented frame, use `newframe = frame.copy()`\n",
      "  marriage_df['health']=marriage_df['m3'].replace(zd_cats).astype(float)\n",
      "C:\\Users\\79618\\AppData\\Local\\Temp\\ipykernel_12340\\965708770.py:13: PerformanceWarning: DataFrame is highly fragmented.  This is usually the result of calling `frame.insert` many times, which has poor performance.  Consider joining all columns at once using pd.concat(axis=1) instead. To get a de-fragmented frame, use `newframe = frame.copy()`\n",
      "  marriage_df['sex']=marriage_df['h5'].replace(sex_cats)\n",
      "C:\\Users\\79618\\AppData\\Local\\Temp\\ipykernel_12340\\965708770.py:7: PerformanceWarning: DataFrame is highly fragmented.  This is usually the result of calling `frame.insert` many times, which has poor performance.  Consider joining all columns at once using pd.concat(axis=1) instead. To get a de-fragmented frame, use `newframe = frame.copy()`\n",
      "  marriage_df['IMT']=marriage_df['m1'].replace(no_ans).astype(float)/(marriage_df['m2'].replace(no_ans).astype(float)/100)**2\n",
      "C:\\Users\\79618\\AppData\\Local\\Temp\\ipykernel_12340\\965708770.py:11: PerformanceWarning: DataFrame is highly fragmented.  This is usually the result of calling `frame.insert` many times, which has poor performance.  Consider joining all columns at once using pd.concat(axis=1) instead. To get a de-fragmented frame, use `newframe = frame.copy()`\n",
      "  marriage_df['salary']=marriage_df['j10'].replace(no_ans).astype(float)+1\n",
      "C:\\Users\\79618\\AppData\\Local\\Temp\\ipykernel_12340\\965708770.py:12: PerformanceWarning: DataFrame is highly fragmented.  This is usually the result of calling `frame.insert` many times, which has poor performance.  Consider joining all columns at once using pd.concat(axis=1) instead. To get a de-fragmented frame, use `newframe = frame.copy()`\n",
      "  marriage_df['health']=marriage_df['m3'].replace(zd_cats).astype(float)\n",
      "C:\\Users\\79618\\AppData\\Local\\Temp\\ipykernel_12340\\965708770.py:13: PerformanceWarning: DataFrame is highly fragmented.  This is usually the result of calling `frame.insert` many times, which has poor performance.  Consider joining all columns at once using pd.concat(axis=1) instead. To get a de-fragmented frame, use `newframe = frame.copy()`\n",
      "  marriage_df['sex']=marriage_df['h5'].replace(sex_cats)\n"
     ]
    },
    {
     "name": "stderr",
     "output_type": "stream",
     "text": [
      "C:\\Users\\79618\\AppData\\Local\\Temp\\ipykernel_12340\\965708770.py:7: PerformanceWarning: DataFrame is highly fragmented.  This is usually the result of calling `frame.insert` many times, which has poor performance.  Consider joining all columns at once using pd.concat(axis=1) instead. To get a de-fragmented frame, use `newframe = frame.copy()`\n",
      "  marriage_df['IMT']=marriage_df['m1'].replace(no_ans).astype(float)/(marriage_df['m2'].replace(no_ans).astype(float)/100)**2\n",
      "C:\\Users\\79618\\AppData\\Local\\Temp\\ipykernel_12340\\965708770.py:11: PerformanceWarning: DataFrame is highly fragmented.  This is usually the result of calling `frame.insert` many times, which has poor performance.  Consider joining all columns at once using pd.concat(axis=1) instead. To get a de-fragmented frame, use `newframe = frame.copy()`\n",
      "  marriage_df['salary']=marriage_df['j10'].replace(no_ans).astype(float)+1\n",
      "C:\\Users\\79618\\AppData\\Local\\Temp\\ipykernel_12340\\965708770.py:12: PerformanceWarning: DataFrame is highly fragmented.  This is usually the result of calling `frame.insert` many times, which has poor performance.  Consider joining all columns at once using pd.concat(axis=1) instead. To get a de-fragmented frame, use `newframe = frame.copy()`\n",
      "  marriage_df['health']=marriage_df['m3'].replace(zd_cats).astype(float)\n",
      "C:\\Users\\79618\\AppData\\Local\\Temp\\ipykernel_12340\\965708770.py:13: PerformanceWarning: DataFrame is highly fragmented.  This is usually the result of calling `frame.insert` many times, which has poor performance.  Consider joining all columns at once using pd.concat(axis=1) instead. To get a de-fragmented frame, use `newframe = frame.copy()`\n",
      "  marriage_df['sex']=marriage_df['h5'].replace(sex_cats)\n",
      "C:\\Users\\79618\\AppData\\Local\\Temp\\ipykernel_12340\\965708770.py:7: PerformanceWarning: DataFrame is highly fragmented.  This is usually the result of calling `frame.insert` many times, which has poor performance.  Consider joining all columns at once using pd.concat(axis=1) instead. To get a de-fragmented frame, use `newframe = frame.copy()`\n",
      "  marriage_df['IMT']=marriage_df['m1'].replace(no_ans).astype(float)/(marriage_df['m2'].replace(no_ans).astype(float)/100)**2\n",
      "C:\\Users\\79618\\AppData\\Local\\Temp\\ipykernel_12340\\965708770.py:11: PerformanceWarning: DataFrame is highly fragmented.  This is usually the result of calling `frame.insert` many times, which has poor performance.  Consider joining all columns at once using pd.concat(axis=1) instead. To get a de-fragmented frame, use `newframe = frame.copy()`\n",
      "  marriage_df['salary']=marriage_df['j10'].replace(no_ans).astype(float)+1\n",
      "C:\\Users\\79618\\AppData\\Local\\Temp\\ipykernel_12340\\965708770.py:12: PerformanceWarning: DataFrame is highly fragmented.  This is usually the result of calling `frame.insert` many times, which has poor performance.  Consider joining all columns at once using pd.concat(axis=1) instead. To get a de-fragmented frame, use `newframe = frame.copy()`\n",
      "  marriage_df['health']=marriage_df['m3'].replace(zd_cats).astype(float)\n",
      "C:\\Users\\79618\\AppData\\Local\\Temp\\ipykernel_12340\\965708770.py:13: PerformanceWarning: DataFrame is highly fragmented.  This is usually the result of calling `frame.insert` many times, which has poor performance.  Consider joining all columns at once using pd.concat(axis=1) instead. To get a de-fragmented frame, use `newframe = frame.copy()`\n",
      "  marriage_df['sex']=marriage_df['h5'].replace(sex_cats)\n",
      "C:\\Users\\79618\\AppData\\Local\\Temp\\ipykernel_12340\\965708770.py:7: PerformanceWarning: DataFrame is highly fragmented.  This is usually the result of calling `frame.insert` many times, which has poor performance.  Consider joining all columns at once using pd.concat(axis=1) instead. To get a de-fragmented frame, use `newframe = frame.copy()`\n",
      "  marriage_df['IMT']=marriage_df['m1'].replace(no_ans).astype(float)/(marriage_df['m2'].replace(no_ans).astype(float)/100)**2\n",
      "C:\\Users\\79618\\AppData\\Local\\Temp\\ipykernel_12340\\965708770.py:11: PerformanceWarning: DataFrame is highly fragmented.  This is usually the result of calling `frame.insert` many times, which has poor performance.  Consider joining all columns at once using pd.concat(axis=1) instead. To get a de-fragmented frame, use `newframe = frame.copy()`\n",
      "  marriage_df['salary']=marriage_df['j10'].replace(no_ans).astype(float)+1\n",
      "C:\\Users\\79618\\AppData\\Local\\Temp\\ipykernel_12340\\965708770.py:12: PerformanceWarning: DataFrame is highly fragmented.  This is usually the result of calling `frame.insert` many times, which has poor performance.  Consider joining all columns at once using pd.concat(axis=1) instead. To get a de-fragmented frame, use `newframe = frame.copy()`\n",
      "  marriage_df['health']=marriage_df['m3'].replace(zd_cats).astype(float)\n",
      "C:\\Users\\79618\\AppData\\Local\\Temp\\ipykernel_12340\\965708770.py:13: PerformanceWarning: DataFrame is highly fragmented.  This is usually the result of calling `frame.insert` many times, which has poor performance.  Consider joining all columns at once using pd.concat(axis=1) instead. To get a de-fragmented frame, use `newframe = frame.copy()`\n",
      "  marriage_df['sex']=marriage_df['h5'].replace(sex_cats)\n",
      "C:\\Users\\79618\\AppData\\Local\\Temp\\ipykernel_12340\\965708770.py:7: PerformanceWarning: DataFrame is highly fragmented.  This is usually the result of calling `frame.insert` many times, which has poor performance.  Consider joining all columns at once using pd.concat(axis=1) instead. To get a de-fragmented frame, use `newframe = frame.copy()`\n",
      "  marriage_df['IMT']=marriage_df['m1'].replace(no_ans).astype(float)/(marriage_df['m2'].replace(no_ans).astype(float)/100)**2\n",
      "C:\\Users\\79618\\AppData\\Local\\Temp\\ipykernel_12340\\965708770.py:11: PerformanceWarning: DataFrame is highly fragmented.  This is usually the result of calling `frame.insert` many times, which has poor performance.  Consider joining all columns at once using pd.concat(axis=1) instead. To get a de-fragmented frame, use `newframe = frame.copy()`\n",
      "  marriage_df['salary']=marriage_df['j10'].replace(no_ans).astype(float)+1\n",
      "C:\\Users\\79618\\AppData\\Local\\Temp\\ipykernel_12340\\965708770.py:12: PerformanceWarning: DataFrame is highly fragmented.  This is usually the result of calling `frame.insert` many times, which has poor performance.  Consider joining all columns at once using pd.concat(axis=1) instead. To get a de-fragmented frame, use `newframe = frame.copy()`\n",
      "  marriage_df['health']=marriage_df['m3'].replace(zd_cats).astype(float)\n",
      "C:\\Users\\79618\\AppData\\Local\\Temp\\ipykernel_12340\\965708770.py:13: PerformanceWarning: DataFrame is highly fragmented.  This is usually the result of calling `frame.insert` many times, which has poor performance.  Consider joining all columns at once using pd.concat(axis=1) instead. To get a de-fragmented frame, use `newframe = frame.copy()`\n",
      "  marriage_df['sex']=marriage_df['h5'].replace(sex_cats)\n",
      "C:\\Users\\79618\\AppData\\Local\\Temp\\ipykernel_12340\\965708770.py:7: PerformanceWarning: DataFrame is highly fragmented.  This is usually the result of calling `frame.insert` many times, which has poor performance.  Consider joining all columns at once using pd.concat(axis=1) instead. To get a de-fragmented frame, use `newframe = frame.copy()`\n",
      "  marriage_df['IMT']=marriage_df['m1'].replace(no_ans).astype(float)/(marriage_df['m2'].replace(no_ans).astype(float)/100)**2\n",
      "C:\\Users\\79618\\AppData\\Local\\Temp\\ipykernel_12340\\965708770.py:11: PerformanceWarning: DataFrame is highly fragmented.  This is usually the result of calling `frame.insert` many times, which has poor performance.  Consider joining all columns at once using pd.concat(axis=1) instead. To get a de-fragmented frame, use `newframe = frame.copy()`\n",
      "  marriage_df['salary']=marriage_df['j10'].replace(no_ans).astype(float)+1\n",
      "C:\\Users\\79618\\AppData\\Local\\Temp\\ipykernel_12340\\965708770.py:12: PerformanceWarning: DataFrame is highly fragmented.  This is usually the result of calling `frame.insert` many times, which has poor performance.  Consider joining all columns at once using pd.concat(axis=1) instead. To get a de-fragmented frame, use `newframe = frame.copy()`\n",
      "  marriage_df['health']=marriage_df['m3'].replace(zd_cats).astype(float)\n",
      "C:\\Users\\79618\\AppData\\Local\\Temp\\ipykernel_12340\\965708770.py:13: PerformanceWarning: DataFrame is highly fragmented.  This is usually the result of calling `frame.insert` many times, which has poor performance.  Consider joining all columns at once using pd.concat(axis=1) instead. To get a de-fragmented frame, use `newframe = frame.copy()`\n",
      "  marriage_df['sex']=marriage_df['h5'].replace(sex_cats)\n"
     ]
    },
    {
     "name": "stderr",
     "output_type": "stream",
     "text": [
      "C:\\Users\\79618\\AppData\\Local\\Temp\\ipykernel_12340\\965708770.py:7: PerformanceWarning: DataFrame is highly fragmented.  This is usually the result of calling `frame.insert` many times, which has poor performance.  Consider joining all columns at once using pd.concat(axis=1) instead. To get a de-fragmented frame, use `newframe = frame.copy()`\n",
      "  marriage_df['IMT']=marriage_df['m1'].replace(no_ans).astype(float)/(marriage_df['m2'].replace(no_ans).astype(float)/100)**2\n",
      "C:\\Users\\79618\\AppData\\Local\\Temp\\ipykernel_12340\\965708770.py:11: PerformanceWarning: DataFrame is highly fragmented.  This is usually the result of calling `frame.insert` many times, which has poor performance.  Consider joining all columns at once using pd.concat(axis=1) instead. To get a de-fragmented frame, use `newframe = frame.copy()`\n",
      "  marriage_df['salary']=marriage_df['j10'].replace(no_ans).astype(float)+1\n",
      "C:\\Users\\79618\\AppData\\Local\\Temp\\ipykernel_12340\\965708770.py:12: PerformanceWarning: DataFrame is highly fragmented.  This is usually the result of calling `frame.insert` many times, which has poor performance.  Consider joining all columns at once using pd.concat(axis=1) instead. To get a de-fragmented frame, use `newframe = frame.copy()`\n",
      "  marriage_df['health']=marriage_df['m3'].replace(zd_cats).astype(float)\n",
      "C:\\Users\\79618\\AppData\\Local\\Temp\\ipykernel_12340\\965708770.py:13: PerformanceWarning: DataFrame is highly fragmented.  This is usually the result of calling `frame.insert` many times, which has poor performance.  Consider joining all columns at once using pd.concat(axis=1) instead. To get a de-fragmented frame, use `newframe = frame.copy()`\n",
      "  marriage_df['sex']=marriage_df['h5'].replace(sex_cats)\n",
      "C:\\Users\\79618\\AppData\\Local\\Temp\\ipykernel_12340\\965708770.py:7: PerformanceWarning: DataFrame is highly fragmented.  This is usually the result of calling `frame.insert` many times, which has poor performance.  Consider joining all columns at once using pd.concat(axis=1) instead. To get a de-fragmented frame, use `newframe = frame.copy()`\n",
      "  marriage_df['IMT']=marriage_df['m1'].replace(no_ans).astype(float)/(marriage_df['m2'].replace(no_ans).astype(float)/100)**2\n",
      "C:\\Users\\79618\\AppData\\Local\\Temp\\ipykernel_12340\\965708770.py:11: PerformanceWarning: DataFrame is highly fragmented.  This is usually the result of calling `frame.insert` many times, which has poor performance.  Consider joining all columns at once using pd.concat(axis=1) instead. To get a de-fragmented frame, use `newframe = frame.copy()`\n",
      "  marriage_df['salary']=marriage_df['j10'].replace(no_ans).astype(float)+1\n",
      "C:\\Users\\79618\\AppData\\Local\\Temp\\ipykernel_12340\\965708770.py:12: PerformanceWarning: DataFrame is highly fragmented.  This is usually the result of calling `frame.insert` many times, which has poor performance.  Consider joining all columns at once using pd.concat(axis=1) instead. To get a de-fragmented frame, use `newframe = frame.copy()`\n",
      "  marriage_df['health']=marriage_df['m3'].replace(zd_cats).astype(float)\n",
      "C:\\Users\\79618\\AppData\\Local\\Temp\\ipykernel_12340\\965708770.py:13: PerformanceWarning: DataFrame is highly fragmented.  This is usually the result of calling `frame.insert` many times, which has poor performance.  Consider joining all columns at once using pd.concat(axis=1) instead. To get a de-fragmented frame, use `newframe = frame.copy()`\n",
      "  marriage_df['sex']=marriage_df['h5'].replace(sex_cats)\n",
      "C:\\Users\\79618\\AppData\\Local\\Temp\\ipykernel_12340\\965708770.py:7: PerformanceWarning: DataFrame is highly fragmented.  This is usually the result of calling `frame.insert` many times, which has poor performance.  Consider joining all columns at once using pd.concat(axis=1) instead. To get a de-fragmented frame, use `newframe = frame.copy()`\n",
      "  marriage_df['IMT']=marriage_df['m1'].replace(no_ans).astype(float)/(marriage_df['m2'].replace(no_ans).astype(float)/100)**2\n",
      "C:\\Users\\79618\\AppData\\Local\\Temp\\ipykernel_12340\\965708770.py:11: PerformanceWarning: DataFrame is highly fragmented.  This is usually the result of calling `frame.insert` many times, which has poor performance.  Consider joining all columns at once using pd.concat(axis=1) instead. To get a de-fragmented frame, use `newframe = frame.copy()`\n",
      "  marriage_df['salary']=marriage_df['j10'].replace(no_ans).astype(float)+1\n",
      "C:\\Users\\79618\\AppData\\Local\\Temp\\ipykernel_12340\\965708770.py:12: PerformanceWarning: DataFrame is highly fragmented.  This is usually the result of calling `frame.insert` many times, which has poor performance.  Consider joining all columns at once using pd.concat(axis=1) instead. To get a de-fragmented frame, use `newframe = frame.copy()`\n",
      "  marriage_df['health']=marriage_df['m3'].replace(zd_cats).astype(float)\n",
      "C:\\Users\\79618\\AppData\\Local\\Temp\\ipykernel_12340\\965708770.py:13: PerformanceWarning: DataFrame is highly fragmented.  This is usually the result of calling `frame.insert` many times, which has poor performance.  Consider joining all columns at once using pd.concat(axis=1) instead. To get a de-fragmented frame, use `newframe = frame.copy()`\n",
      "  marriage_df['sex']=marriage_df['h5'].replace(sex_cats)\n",
      "C:\\Users\\79618\\AppData\\Local\\Temp\\ipykernel_12340\\965708770.py:7: PerformanceWarning: DataFrame is highly fragmented.  This is usually the result of calling `frame.insert` many times, which has poor performance.  Consider joining all columns at once using pd.concat(axis=1) instead. To get a de-fragmented frame, use `newframe = frame.copy()`\n",
      "  marriage_df['IMT']=marriage_df['m1'].replace(no_ans).astype(float)/(marriage_df['m2'].replace(no_ans).astype(float)/100)**2\n",
      "C:\\Users\\79618\\AppData\\Local\\Temp\\ipykernel_12340\\965708770.py:11: PerformanceWarning: DataFrame is highly fragmented.  This is usually the result of calling `frame.insert` many times, which has poor performance.  Consider joining all columns at once using pd.concat(axis=1) instead. To get a de-fragmented frame, use `newframe = frame.copy()`\n",
      "  marriage_df['salary']=marriage_df['j10'].replace(no_ans).astype(float)+1\n",
      "C:\\Users\\79618\\AppData\\Local\\Temp\\ipykernel_12340\\965708770.py:12: PerformanceWarning: DataFrame is highly fragmented.  This is usually the result of calling `frame.insert` many times, which has poor performance.  Consider joining all columns at once using pd.concat(axis=1) instead. To get a de-fragmented frame, use `newframe = frame.copy()`\n",
      "  marriage_df['health']=marriage_df['m3'].replace(zd_cats).astype(float)\n",
      "C:\\Users\\79618\\AppData\\Local\\Temp\\ipykernel_12340\\965708770.py:13: PerformanceWarning: DataFrame is highly fragmented.  This is usually the result of calling `frame.insert` many times, which has poor performance.  Consider joining all columns at once using pd.concat(axis=1) instead. To get a de-fragmented frame, use `newframe = frame.copy()`\n",
      "  marriage_df['sex']=marriage_df['h5'].replace(sex_cats)\n"
     ]
    }
   ],
   "source": [
    "MARRIAGE_DF={}\n",
    "for year in list(pairs_of_years):\n",
    "    marriage_df=corrected_df[year[0]].join(corrected_df[year[1]],on='idind',lsuffix='_after')\n",
    "\n",
    "    marriage_df['marst']=marriage_df['marst'].replace(marst_cats).astype(float)\n",
    "    marriage_df['marst_after']=marriage_df['marst_after'].replace(marst_cats).astype(float)\n",
    "    marriage_df['IMT']=marriage_df['m1'].replace(no_ans).astype(float)/(marriage_df['m2'].replace(no_ans).astype(float)/100)**2\n",
    "    marriage_df['diplom']=marriage_df['diplom'].replace(diplom_cats).astype(float)\n",
    "    marriage_df['age']=marriage_df['age'].replace(no_ans).astype(float)\n",
    "    marriage_df['popul']=marriage_df['popul'].astype(float)\n",
    "    marriage_df['salary']=marriage_df['j10'].replace(no_ans).astype(float)+1\n",
    "    marriage_df['health']=marriage_df['m3'].replace(zd_cats).astype(float)\n",
    "    marriage_df['sex']=marriage_df['h5'].replace(sex_cats)\n",
    "\n",
    "    marriage_df=marriage_df[['marst','marst_after','IMT','diplom','sex','age','popul','salary','health']][marriage_df['marst']==0].dropna()\n",
    "    MARRIAGE_DF[year[0]]=marriage_df"
   ]
  },
  {
   "cell_type": "code",
   "execution_count": 486,
   "id": "693f0dda",
   "metadata": {},
   "outputs": [
    {
     "name": "stderr",
     "output_type": "stream",
     "text": [
      "C:\\Users\\79618\\AppData\\Local\\Temp\\ipykernel_12340\\3652774599.py:3: UserWarning: Boolean Series key will be reindexed to match DataFrame index.\n",
      "  MARRIAGE_LOGIT[year]={'м':logit(\"marst_after ~ np.log(IMT)+np.log(diplom)+np.log(age)+np.log(popul)+np.log(salary)+health\", MARRIAGE_DF[year][MARRIAGE_DF[year]['sex']=='Мужской'][MARRIAGE_DF[year]['age']<50]).fit(),\n",
      "C:\\Users\\79618\\AppData\\Local\\Temp\\ipykernel_12340\\3652774599.py:4: UserWarning: Boolean Series key will be reindexed to match DataFrame index.\n",
      "  'ж':logit(\"marst_after ~ np.log(IMT)+np.log(diplom)+np.log(age)+np.log(popul)+np.log(salary)+health\",MARRIAGE_DF[year][MARRIAGE_DF[year]['sex']=='Женский'][MARRIAGE_DF[year]['age']<50]).fit(),\n",
      "C:\\Users\\79618\\AppData\\Local\\Temp\\ipykernel_12340\\3652774599.py:3: UserWarning: Boolean Series key will be reindexed to match DataFrame index.\n",
      "  MARRIAGE_LOGIT[year]={'м':logit(\"marst_after ~ np.log(IMT)+np.log(diplom)+np.log(age)+np.log(popul)+np.log(salary)+health\", MARRIAGE_DF[year][MARRIAGE_DF[year]['sex']=='Мужской'][MARRIAGE_DF[year]['age']<50]).fit(),\n",
      "C:\\Users\\79618\\AppData\\Local\\Temp\\ipykernel_12340\\3652774599.py:4: UserWarning: Boolean Series key will be reindexed to match DataFrame index.\n",
      "  'ж':logit(\"marst_after ~ np.log(IMT)+np.log(diplom)+np.log(age)+np.log(popul)+np.log(salary)+health\",MARRIAGE_DF[year][MARRIAGE_DF[year]['sex']=='Женский'][MARRIAGE_DF[year]['age']<50]).fit(),\n"
     ]
    },
    {
     "name": "stdout",
     "output_type": "stream",
     "text": [
      "Optimization terminated successfully.\n",
      "         Current function value: 0.588503\n",
      "         Iterations 6\n",
      "Optimization terminated successfully.\n",
      "         Current function value: 0.601716\n",
      "         Iterations 5\n",
      "Optimization terminated successfully.\n",
      "         Current function value: 0.611301\n",
      "         Iterations 5\n",
      "Optimization terminated successfully.\n",
      "         Current function value: 0.641832\n",
      "         Iterations 5\n",
      "Optimization terminated successfully.\n",
      "         Current function value: 0.672553\n",
      "         Iterations 4\n",
      "Optimization terminated successfully.\n",
      "         Current function value: 0.671613\n",
      "         Iterations 4\n"
     ]
    },
    {
     "name": "stderr",
     "output_type": "stream",
     "text": [
      "C:\\Users\\79618\\AppData\\Local\\Temp\\ipykernel_12340\\3652774599.py:3: UserWarning: Boolean Series key will be reindexed to match DataFrame index.\n",
      "  MARRIAGE_LOGIT[year]={'м':logit(\"marst_after ~ np.log(IMT)+np.log(diplom)+np.log(age)+np.log(popul)+np.log(salary)+health\", MARRIAGE_DF[year][MARRIAGE_DF[year]['sex']=='Мужской'][MARRIAGE_DF[year]['age']<50]).fit(),\n",
      "C:\\Users\\79618\\AppData\\Local\\Temp\\ipykernel_12340\\3652774599.py:4: UserWarning: Boolean Series key will be reindexed to match DataFrame index.\n",
      "  'ж':logit(\"marst_after ~ np.log(IMT)+np.log(diplom)+np.log(age)+np.log(popul)+np.log(salary)+health\",MARRIAGE_DF[year][MARRIAGE_DF[year]['sex']=='Женский'][MARRIAGE_DF[year]['age']<50]).fit(),\n",
      "C:\\Users\\79618\\AppData\\Local\\Temp\\ipykernel_12340\\3652774599.py:3: UserWarning: Boolean Series key will be reindexed to match DataFrame index.\n",
      "  MARRIAGE_LOGIT[year]={'м':logit(\"marst_after ~ np.log(IMT)+np.log(diplom)+np.log(age)+np.log(popul)+np.log(salary)+health\", MARRIAGE_DF[year][MARRIAGE_DF[year]['sex']=='Мужской'][MARRIAGE_DF[year]['age']<50]).fit(),\n",
      "C:\\Users\\79618\\AppData\\Local\\Temp\\ipykernel_12340\\3652774599.py:4: UserWarning: Boolean Series key will be reindexed to match DataFrame index.\n",
      "  'ж':logit(\"marst_after ~ np.log(IMT)+np.log(diplom)+np.log(age)+np.log(popul)+np.log(salary)+health\",MARRIAGE_DF[year][MARRIAGE_DF[year]['sex']=='Женский'][MARRIAGE_DF[year]['age']<50]).fit(),\n",
      "C:\\Users\\79618\\AppData\\Local\\Temp\\ipykernel_12340\\3652774599.py:3: UserWarning: Boolean Series key will be reindexed to match DataFrame index.\n",
      "  MARRIAGE_LOGIT[year]={'м':logit(\"marst_after ~ np.log(IMT)+np.log(diplom)+np.log(age)+np.log(popul)+np.log(salary)+health\", MARRIAGE_DF[year][MARRIAGE_DF[year]['sex']=='Мужской'][MARRIAGE_DF[year]['age']<50]).fit(),\n",
      "C:\\Users\\79618\\AppData\\Local\\Temp\\ipykernel_12340\\3652774599.py:4: UserWarning: Boolean Series key will be reindexed to match DataFrame index.\n",
      "  'ж':logit(\"marst_after ~ np.log(IMT)+np.log(diplom)+np.log(age)+np.log(popul)+np.log(salary)+health\",MARRIAGE_DF[year][MARRIAGE_DF[year]['sex']=='Женский'][MARRIAGE_DF[year]['age']<50]).fit(),\n"
     ]
    },
    {
     "name": "stdout",
     "output_type": "stream",
     "text": [
      "Optimization terminated successfully.\n",
      "         Current function value: 0.650577\n",
      "         Iterations 5\n",
      "Optimization terminated successfully.\n",
      "         Current function value: 0.668239\n",
      "         Iterations 5\n",
      "Optimization terminated successfully.\n",
      "         Current function value: 0.680034\n",
      "         Iterations 4\n",
      "Optimization terminated successfully.\n",
      "         Current function value: 0.660031\n",
      "         Iterations 5\n",
      "Optimization terminated successfully.\n",
      "         Current function value: 0.674225\n",
      "         Iterations 4\n",
      "Optimization terminated successfully.\n",
      "         Current function value: 0.686592\n",
      "         Iterations 4\n",
      "Optimization terminated successfully.\n",
      "         Current function value: 0.662003\n",
      "         Iterations 5\n",
      "Optimization terminated successfully.\n",
      "         Current function value: 0.686770\n",
      "         Iterations 4\n",
      "Optimization terminated successfully.\n",
      "         Current function value: 0.682392\n",
      "         Iterations 4\n",
      "Optimization terminated successfully.\n",
      "         Current function value: 0.677680\n",
      "         Iterations 4\n"
     ]
    },
    {
     "name": "stderr",
     "output_type": "stream",
     "text": [
      "C:\\Users\\79618\\AppData\\Local\\Temp\\ipykernel_12340\\3652774599.py:3: UserWarning: Boolean Series key will be reindexed to match DataFrame index.\n",
      "  MARRIAGE_LOGIT[year]={'м':logit(\"marst_after ~ np.log(IMT)+np.log(diplom)+np.log(age)+np.log(popul)+np.log(salary)+health\", MARRIAGE_DF[year][MARRIAGE_DF[year]['sex']=='Мужской'][MARRIAGE_DF[year]['age']<50]).fit(),\n",
      "C:\\Users\\79618\\AppData\\Local\\Temp\\ipykernel_12340\\3652774599.py:4: UserWarning: Boolean Series key will be reindexed to match DataFrame index.\n",
      "  'ж':logit(\"marst_after ~ np.log(IMT)+np.log(diplom)+np.log(age)+np.log(popul)+np.log(salary)+health\",MARRIAGE_DF[year][MARRIAGE_DF[year]['sex']=='Женский'][MARRIAGE_DF[year]['age']<50]).fit(),\n",
      "C:\\Users\\79618\\AppData\\Local\\Temp\\ipykernel_12340\\3652774599.py:3: UserWarning: Boolean Series key will be reindexed to match DataFrame index.\n",
      "  MARRIAGE_LOGIT[year]={'м':logit(\"marst_after ~ np.log(IMT)+np.log(diplom)+np.log(age)+np.log(popul)+np.log(salary)+health\", MARRIAGE_DF[year][MARRIAGE_DF[year]['sex']=='Мужской'][MARRIAGE_DF[year]['age']<50]).fit(),\n",
      "C:\\Users\\79618\\AppData\\Local\\Temp\\ipykernel_12340\\3652774599.py:4: UserWarning: Boolean Series key will be reindexed to match DataFrame index.\n",
      "  'ж':logit(\"marst_after ~ np.log(IMT)+np.log(diplom)+np.log(age)+np.log(popul)+np.log(salary)+health\",MARRIAGE_DF[year][MARRIAGE_DF[year]['sex']=='Женский'][MARRIAGE_DF[year]['age']<50]).fit(),\n",
      "C:\\Users\\79618\\AppData\\Local\\Temp\\ipykernel_12340\\3652774599.py:3: UserWarning: Boolean Series key will be reindexed to match DataFrame index.\n",
      "  MARRIAGE_LOGIT[year]={'м':logit(\"marst_after ~ np.log(IMT)+np.log(diplom)+np.log(age)+np.log(popul)+np.log(salary)+health\", MARRIAGE_DF[year][MARRIAGE_DF[year]['sex']=='Мужской'][MARRIAGE_DF[year]['age']<50]).fit(),\n",
      "C:\\Users\\79618\\AppData\\Local\\Temp\\ipykernel_12340\\3652774599.py:4: UserWarning: Boolean Series key will be reindexed to match DataFrame index.\n",
      "  'ж':logit(\"marst_after ~ np.log(IMT)+np.log(diplom)+np.log(age)+np.log(popul)+np.log(salary)+health\",MARRIAGE_DF[year][MARRIAGE_DF[year]['sex']=='Женский'][MARRIAGE_DF[year]['age']<50]).fit(),\n",
      "C:\\Users\\79618\\AppData\\Local\\Temp\\ipykernel_12340\\3652774599.py:3: UserWarning: Boolean Series key will be reindexed to match DataFrame index.\n",
      "  MARRIAGE_LOGIT[year]={'м':logit(\"marst_after ~ np.log(IMT)+np.log(diplom)+np.log(age)+np.log(popul)+np.log(salary)+health\", MARRIAGE_DF[year][MARRIAGE_DF[year]['sex']=='Мужской'][MARRIAGE_DF[year]['age']<50]).fit(),\n",
      "C:\\Users\\79618\\AppData\\Local\\Temp\\ipykernel_12340\\3652774599.py:4: UserWarning: Boolean Series key will be reindexed to match DataFrame index.\n",
      "  'ж':logit(\"marst_after ~ np.log(IMT)+np.log(diplom)+np.log(age)+np.log(popul)+np.log(salary)+health\",MARRIAGE_DF[year][MARRIAGE_DF[year]['sex']=='Женский'][MARRIAGE_DF[year]['age']<50]).fit(),\n"
     ]
    },
    {
     "name": "stdout",
     "output_type": "stream",
     "text": [
      "Optimization terminated successfully.\n",
      "         Current function value: 0.671868\n",
      "         Iterations 4\n",
      "Optimization terminated successfully.\n",
      "         Current function value: 0.682481\n",
      "         Iterations 4\n",
      "Optimization terminated successfully.\n",
      "         Current function value: 0.680065\n",
      "         Iterations 4\n",
      "Optimization terminated successfully.\n",
      "         Current function value: 0.667741\n",
      "         Iterations 5\n",
      "Optimization terminated successfully.\n",
      "         Current function value: 0.685894\n",
      "         Iterations 4\n",
      "Optimization terminated successfully.\n",
      "         Current function value: 0.664257\n",
      "         Iterations 5\n",
      "Optimization terminated successfully.\n",
      "         Current function value: 0.682180\n",
      "         Iterations 4\n",
      "Optimization terminated successfully.\n",
      "         Current function value: 0.683536\n",
      "         Iterations 4\n",
      "Optimization terminated successfully.\n",
      "         Current function value: 0.677797\n",
      "         Iterations 5\n",
      "Optimization terminated successfully.\n",
      "         Current function value: 0.685705\n",
      "         Iterations 4\n",
      "Optimization terminated successfully.\n",
      "         Current function value: 0.683491\n",
      "         Iterations 4\n"
     ]
    },
    {
     "name": "stderr",
     "output_type": "stream",
     "text": [
      "C:\\Users\\79618\\AppData\\Local\\Temp\\ipykernel_12340\\3652774599.py:3: UserWarning: Boolean Series key will be reindexed to match DataFrame index.\n",
      "  MARRIAGE_LOGIT[year]={'м':logit(\"marst_after ~ np.log(IMT)+np.log(diplom)+np.log(age)+np.log(popul)+np.log(salary)+health\", MARRIAGE_DF[year][MARRIAGE_DF[year]['sex']=='Мужской'][MARRIAGE_DF[year]['age']<50]).fit(),\n",
      "C:\\Users\\79618\\AppData\\Local\\Temp\\ipykernel_12340\\3652774599.py:4: UserWarning: Boolean Series key will be reindexed to match DataFrame index.\n",
      "  'ж':logit(\"marst_after ~ np.log(IMT)+np.log(diplom)+np.log(age)+np.log(popul)+np.log(salary)+health\",MARRIAGE_DF[year][MARRIAGE_DF[year]['sex']=='Женский'][MARRIAGE_DF[year]['age']<50]).fit(),\n",
      "C:\\Users\\79618\\AppData\\Local\\Temp\\ipykernel_12340\\3652774599.py:3: UserWarning: Boolean Series key will be reindexed to match DataFrame index.\n",
      "  MARRIAGE_LOGIT[year]={'м':logit(\"marst_after ~ np.log(IMT)+np.log(diplom)+np.log(age)+np.log(popul)+np.log(salary)+health\", MARRIAGE_DF[year][MARRIAGE_DF[year]['sex']=='Мужской'][MARRIAGE_DF[year]['age']<50]).fit(),\n",
      "C:\\Users\\79618\\AppData\\Local\\Temp\\ipykernel_12340\\3652774599.py:4: UserWarning: Boolean Series key will be reindexed to match DataFrame index.\n",
      "  'ж':logit(\"marst_after ~ np.log(IMT)+np.log(diplom)+np.log(age)+np.log(popul)+np.log(salary)+health\",MARRIAGE_DF[year][MARRIAGE_DF[year]['sex']=='Женский'][MARRIAGE_DF[year]['age']<50]).fit(),\n",
      "C:\\Users\\79618\\AppData\\Local\\Temp\\ipykernel_12340\\3652774599.py:3: UserWarning: Boolean Series key will be reindexed to match DataFrame index.\n",
      "  MARRIAGE_LOGIT[year]={'м':logit(\"marst_after ~ np.log(IMT)+np.log(diplom)+np.log(age)+np.log(popul)+np.log(salary)+health\", MARRIAGE_DF[year][MARRIAGE_DF[year]['sex']=='Мужской'][MARRIAGE_DF[year]['age']<50]).fit(),\n",
      "C:\\Users\\79618\\AppData\\Local\\Temp\\ipykernel_12340\\3652774599.py:4: UserWarning: Boolean Series key will be reindexed to match DataFrame index.\n",
      "  'ж':logit(\"marst_after ~ np.log(IMT)+np.log(diplom)+np.log(age)+np.log(popul)+np.log(salary)+health\",MARRIAGE_DF[year][MARRIAGE_DF[year]['sex']=='Женский'][MARRIAGE_DF[year]['age']<50]).fit(),\n",
      "C:\\Users\\79618\\AppData\\Local\\Temp\\ipykernel_12340\\3652774599.py:3: UserWarning: Boolean Series key will be reindexed to match DataFrame index.\n",
      "  MARRIAGE_LOGIT[year]={'м':logit(\"marst_after ~ np.log(IMT)+np.log(diplom)+np.log(age)+np.log(popul)+np.log(salary)+health\", MARRIAGE_DF[year][MARRIAGE_DF[year]['sex']=='Мужской'][MARRIAGE_DF[year]['age']<50]).fit(),\n",
      "C:\\Users\\79618\\AppData\\Local\\Temp\\ipykernel_12340\\3652774599.py:4: UserWarning: Boolean Series key will be reindexed to match DataFrame index.\n",
      "  'ж':logit(\"marst_after ~ np.log(IMT)+np.log(diplom)+np.log(age)+np.log(popul)+np.log(salary)+health\",MARRIAGE_DF[year][MARRIAGE_DF[year]['sex']=='Женский'][MARRIAGE_DF[year]['age']<50]).fit(),\n"
     ]
    },
    {
     "name": "stdout",
     "output_type": "stream",
     "text": [
      "Optimization terminated successfully.\n",
      "         Current function value: 0.689734\n",
      "         Iterations 4\n",
      "Optimization terminated successfully.\n",
      "         Current function value: 0.675730\n",
      "         Iterations 4\n",
      "Optimization terminated successfully.\n",
      "         Current function value: 0.689215\n",
      "         Iterations 4\n",
      "Optimization terminated successfully.\n",
      "         Current function value: 0.631153\n",
      "         Iterations 5\n",
      "Optimization terminated successfully.\n",
      "         Current function value: 0.687324\n",
      "         Iterations 4\n",
      "Optimization terminated successfully.\n",
      "         Current function value: 0.677634\n",
      "         Iterations 4\n",
      "Optimization terminated successfully.\n",
      "         Current function value: 0.685293\n",
      "         Iterations 4\n",
      "Optimization terminated successfully.\n",
      "         Current function value: 0.680715\n",
      "         Iterations 4\n",
      "Optimization terminated successfully.\n",
      "         Current function value: 0.688521\n",
      "         Iterations 4\n",
      "Optimization terminated successfully.\n",
      "         Current function value: 0.649946\n",
      "         Iterations 5\n",
      "Optimization terminated successfully.\n",
      "         Current function value: 0.673571\n",
      "         Iterations 5\n",
      "Optimization terminated successfully.\n",
      "         Current function value: 0.685808\n",
      "         Iterations 4\n",
      "Optimization terminated successfully.\n",
      "         Current function value: 0.680751\n",
      "         Iterations 4\n",
      "Optimization terminated successfully.\n",
      "         Current function value: 0.685472\n",
      "         Iterations 4\n",
      "Optimization terminated successfully.\n",
      "         Current function value: 0.687834\n",
      "         Iterations 4\n",
      "Optimization terminated successfully.\n",
      "         Current function value: 0.684076\n",
      "         Iterations 4\n",
      "Optimization terminated successfully.\n",
      "         Current function value: 0.677309\n",
      "         Iterations 4\n",
      "Optimization terminated successfully.\n",
      "         Current function value: 0.683839\n",
      "         Iterations 4\n",
      "Optimization terminated successfully.\n",
      "         Current function value: 0.643783\n",
      "         Iterations 5\n"
     ]
    },
    {
     "name": "stderr",
     "output_type": "stream",
     "text": [
      "C:\\Users\\79618\\AppData\\Local\\Temp\\ipykernel_12340\\3652774599.py:3: UserWarning: Boolean Series key will be reindexed to match DataFrame index.\n",
      "  MARRIAGE_LOGIT[year]={'м':logit(\"marst_after ~ np.log(IMT)+np.log(diplom)+np.log(age)+np.log(popul)+np.log(salary)+health\", MARRIAGE_DF[year][MARRIAGE_DF[year]['sex']=='Мужской'][MARRIAGE_DF[year]['age']<50]).fit(),\n",
      "C:\\Users\\79618\\AppData\\Local\\Temp\\ipykernel_12340\\3652774599.py:4: UserWarning: Boolean Series key will be reindexed to match DataFrame index.\n",
      "  'ж':logit(\"marst_after ~ np.log(IMT)+np.log(diplom)+np.log(age)+np.log(popul)+np.log(salary)+health\",MARRIAGE_DF[year][MARRIAGE_DF[year]['sex']=='Женский'][MARRIAGE_DF[year]['age']<50]).fit(),\n",
      "C:\\Users\\79618\\AppData\\Local\\Temp\\ipykernel_12340\\3652774599.py:3: UserWarning: Boolean Series key will be reindexed to match DataFrame index.\n",
      "  MARRIAGE_LOGIT[year]={'м':logit(\"marst_after ~ np.log(IMT)+np.log(diplom)+np.log(age)+np.log(popul)+np.log(salary)+health\", MARRIAGE_DF[year][MARRIAGE_DF[year]['sex']=='Мужской'][MARRIAGE_DF[year]['age']<50]).fit(),\n",
      "C:\\Users\\79618\\AppData\\Local\\Temp\\ipykernel_12340\\3652774599.py:4: UserWarning: Boolean Series key will be reindexed to match DataFrame index.\n",
      "  'ж':logit(\"marst_after ~ np.log(IMT)+np.log(diplom)+np.log(age)+np.log(popul)+np.log(salary)+health\",MARRIAGE_DF[year][MARRIAGE_DF[year]['sex']=='Женский'][MARRIAGE_DF[year]['age']<50]).fit(),\n",
      "C:\\Users\\79618\\AppData\\Local\\Temp\\ipykernel_12340\\3652774599.py:3: UserWarning: Boolean Series key will be reindexed to match DataFrame index.\n",
      "  MARRIAGE_LOGIT[year]={'м':logit(\"marst_after ~ np.log(IMT)+np.log(diplom)+np.log(age)+np.log(popul)+np.log(salary)+health\", MARRIAGE_DF[year][MARRIAGE_DF[year]['sex']=='Мужской'][MARRIAGE_DF[year]['age']<50]).fit(),\n",
      "C:\\Users\\79618\\AppData\\Local\\Temp\\ipykernel_12340\\3652774599.py:4: UserWarning: Boolean Series key will be reindexed to match DataFrame index.\n",
      "  'ж':logit(\"marst_after ~ np.log(IMT)+np.log(diplom)+np.log(age)+np.log(popul)+np.log(salary)+health\",MARRIAGE_DF[year][MARRIAGE_DF[year]['sex']=='Женский'][MARRIAGE_DF[year]['age']<50]).fit(),\n"
     ]
    },
    {
     "name": "stdout",
     "output_type": "stream",
     "text": [
      "Optimization terminated successfully.\n",
      "         Current function value: 0.677188\n",
      "         Iterations 4\n",
      "Optimization terminated successfully.\n",
      "         Current function value: 0.680057\n",
      "         Iterations 4\n",
      "Optimization terminated successfully.\n",
      "         Current function value: 0.678434\n",
      "         Iterations 4\n",
      "Optimization terminated successfully.\n",
      "         Current function value: 0.644423\n",
      "         Iterations 5\n",
      "Optimization terminated successfully.\n",
      "         Current function value: 0.673676\n",
      "         Iterations 4\n",
      "Optimization terminated successfully.\n",
      "         Current function value: 0.658644\n",
      "         Iterations 5\n",
      "Optimization terminated successfully.\n",
      "         Current function value: 0.652281\n",
      "         Iterations 5\n",
      "Optimization terminated successfully.\n",
      "         Current function value: 0.677784\n",
      "         Iterations 4\n"
     ]
    },
    {
     "name": "stderr",
     "output_type": "stream",
     "text": [
      "C:\\Users\\79618\\AppData\\Local\\Temp\\ipykernel_12340\\3652774599.py:3: UserWarning: Boolean Series key will be reindexed to match DataFrame index.\n",
      "  MARRIAGE_LOGIT[year]={'м':logit(\"marst_after ~ np.log(IMT)+np.log(diplom)+np.log(age)+np.log(popul)+np.log(salary)+health\", MARRIAGE_DF[year][MARRIAGE_DF[year]['sex']=='Мужской'][MARRIAGE_DF[year]['age']<50]).fit(),\n",
      "C:\\Users\\79618\\AppData\\Local\\Temp\\ipykernel_12340\\3652774599.py:4: UserWarning: Boolean Series key will be reindexed to match DataFrame index.\n",
      "  'ж':logit(\"marst_after ~ np.log(IMT)+np.log(diplom)+np.log(age)+np.log(popul)+np.log(salary)+health\",MARRIAGE_DF[year][MARRIAGE_DF[year]['sex']=='Женский'][MARRIAGE_DF[year]['age']<50]).fit(),\n",
      "C:\\Users\\79618\\AppData\\Local\\Temp\\ipykernel_12340\\3652774599.py:3: UserWarning: Boolean Series key will be reindexed to match DataFrame index.\n",
      "  MARRIAGE_LOGIT[year]={'м':logit(\"marst_after ~ np.log(IMT)+np.log(diplom)+np.log(age)+np.log(popul)+np.log(salary)+health\", MARRIAGE_DF[year][MARRIAGE_DF[year]['sex']=='Мужской'][MARRIAGE_DF[year]['age']<50]).fit(),\n",
      "C:\\Users\\79618\\AppData\\Local\\Temp\\ipykernel_12340\\3652774599.py:4: UserWarning: Boolean Series key will be reindexed to match DataFrame index.\n",
      "  'ж':logit(\"marst_after ~ np.log(IMT)+np.log(diplom)+np.log(age)+np.log(popul)+np.log(salary)+health\",MARRIAGE_DF[year][MARRIAGE_DF[year]['sex']=='Женский'][MARRIAGE_DF[year]['age']<50]).fit(),\n",
      "C:\\Users\\79618\\AppData\\Local\\Temp\\ipykernel_12340\\3652774599.py:3: UserWarning: Boolean Series key will be reindexed to match DataFrame index.\n",
      "  MARRIAGE_LOGIT[year]={'м':logit(\"marst_after ~ np.log(IMT)+np.log(diplom)+np.log(age)+np.log(popul)+np.log(salary)+health\", MARRIAGE_DF[year][MARRIAGE_DF[year]['sex']=='Мужской'][MARRIAGE_DF[year]['age']<50]).fit(),\n"
     ]
    },
    {
     "name": "stdout",
     "output_type": "stream",
     "text": [
      "Optimization terminated successfully.\n",
      "         Current function value: 0.666791\n",
      "         Iterations 5\n",
      "Optimization terminated successfully.\n",
      "         Current function value: 0.637326\n",
      "         Iterations 5\n",
      "Optimization terminated successfully.\n",
      "         Current function value: 0.659203\n",
      "         Iterations 5\n",
      "Optimization terminated successfully.\n",
      "         Current function value: 0.616247\n",
      "         Iterations 5\n",
      "Optimization terminated successfully.\n",
      "         Current function value: 0.647554\n",
      "         Iterations 5\n",
      "Optimization terminated successfully.\n",
      "         Current function value: 0.654505\n",
      "         Iterations 5\n",
      "Optimization terminated successfully.\n",
      "         Current function value: 0.643115\n",
      "         Iterations 5\n"
     ]
    },
    {
     "name": "stderr",
     "output_type": "stream",
     "text": [
      "C:\\Users\\79618\\AppData\\Local\\Temp\\ipykernel_12340\\3652774599.py:4: UserWarning: Boolean Series key will be reindexed to match DataFrame index.\n",
      "  'ж':logit(\"marst_after ~ np.log(IMT)+np.log(diplom)+np.log(age)+np.log(popul)+np.log(salary)+health\",MARRIAGE_DF[year][MARRIAGE_DF[year]['sex']=='Женский'][MARRIAGE_DF[year]['age']<50]).fit(),\n",
      "C:\\Users\\79618\\AppData\\Local\\Temp\\ipykernel_12340\\3652774599.py:3: UserWarning: Boolean Series key will be reindexed to match DataFrame index.\n",
      "  MARRIAGE_LOGIT[year]={'м':logit(\"marst_after ~ np.log(IMT)+np.log(diplom)+np.log(age)+np.log(popul)+np.log(salary)+health\", MARRIAGE_DF[year][MARRIAGE_DF[year]['sex']=='Мужской'][MARRIAGE_DF[year]['age']<50]).fit(),\n",
      "C:\\Users\\79618\\AppData\\Local\\Temp\\ipykernel_12340\\3652774599.py:4: UserWarning: Boolean Series key will be reindexed to match DataFrame index.\n",
      "  'ж':logit(\"marst_after ~ np.log(IMT)+np.log(diplom)+np.log(age)+np.log(popul)+np.log(salary)+health\",MARRIAGE_DF[year][MARRIAGE_DF[year]['sex']=='Женский'][MARRIAGE_DF[year]['age']<50]).fit(),\n",
      "C:\\Users\\79618\\AppData\\Local\\Temp\\ipykernel_12340\\3652774599.py:3: UserWarning: Boolean Series key will be reindexed to match DataFrame index.\n",
      "  MARRIAGE_LOGIT[year]={'м':logit(\"marst_after ~ np.log(IMT)+np.log(diplom)+np.log(age)+np.log(popul)+np.log(salary)+health\", MARRIAGE_DF[year][MARRIAGE_DF[year]['sex']=='Мужской'][MARRIAGE_DF[year]['age']<50]).fit(),\n",
      "C:\\Users\\79618\\AppData\\Local\\Temp\\ipykernel_12340\\3652774599.py:4: UserWarning: Boolean Series key will be reindexed to match DataFrame index.\n",
      "  'ж':logit(\"marst_after ~ np.log(IMT)+np.log(diplom)+np.log(age)+np.log(popul)+np.log(salary)+health\",MARRIAGE_DF[year][MARRIAGE_DF[year]['sex']=='Женский'][MARRIAGE_DF[year]['age']<50]).fit(),\n"
     ]
    },
    {
     "name": "stdout",
     "output_type": "stream",
     "text": [
      "Optimization terminated successfully.\n",
      "         Current function value: 0.644467\n",
      "         Iterations 5\n",
      "Optimization terminated successfully.\n",
      "         Current function value: 0.656570\n",
      "         Iterations 5\n",
      "Optimization terminated successfully.\n",
      "         Current function value: 0.644958\n",
      "         Iterations 5\n",
      "Optimization terminated successfully.\n",
      "         Current function value: 0.671559\n",
      "         Iterations 5\n",
      "Optimization terminated successfully.\n",
      "         Current function value: 0.686262\n",
      "         Iterations 4\n",
      "Optimization terminated successfully.\n",
      "         Current function value: 0.658392\n",
      "         Iterations 5\n",
      "Optimization terminated successfully.\n",
      "         Current function value: 0.622448\n",
      "         Iterations 6\n",
      "Optimization terminated successfully.\n",
      "         Current function value: 0.677932\n",
      "         Iterations 4\n"
     ]
    },
    {
     "name": "stderr",
     "output_type": "stream",
     "text": [
      "C:\\Users\\79618\\AppData\\Local\\Temp\\ipykernel_12340\\3652774599.py:3: UserWarning: Boolean Series key will be reindexed to match DataFrame index.\n",
      "  MARRIAGE_LOGIT[year]={'м':logit(\"marst_after ~ np.log(IMT)+np.log(diplom)+np.log(age)+np.log(popul)+np.log(salary)+health\", MARRIAGE_DF[year][MARRIAGE_DF[year]['sex']=='Мужской'][MARRIAGE_DF[year]['age']<50]).fit(),\n",
      "C:\\Users\\79618\\AppData\\Local\\Temp\\ipykernel_12340\\3652774599.py:4: UserWarning: Boolean Series key will be reindexed to match DataFrame index.\n",
      "  'ж':logit(\"marst_after ~ np.log(IMT)+np.log(diplom)+np.log(age)+np.log(popul)+np.log(salary)+health\",MARRIAGE_DF[year][MARRIAGE_DF[year]['sex']=='Женский'][MARRIAGE_DF[year]['age']<50]).fit(),\n",
      "C:\\Users\\79618\\AppData\\Local\\Temp\\ipykernel_12340\\3652774599.py:3: UserWarning: Boolean Series key will be reindexed to match DataFrame index.\n",
      "  MARRIAGE_LOGIT[year]={'м':logit(\"marst_after ~ np.log(IMT)+np.log(diplom)+np.log(age)+np.log(popul)+np.log(salary)+health\", MARRIAGE_DF[year][MARRIAGE_DF[year]['sex']=='Мужской'][MARRIAGE_DF[year]['age']<50]).fit(),\n",
      "C:\\Users\\79618\\AppData\\Local\\Temp\\ipykernel_12340\\3652774599.py:4: UserWarning: Boolean Series key will be reindexed to match DataFrame index.\n",
      "  'ж':logit(\"marst_after ~ np.log(IMT)+np.log(diplom)+np.log(age)+np.log(popul)+np.log(salary)+health\",MARRIAGE_DF[year][MARRIAGE_DF[year]['sex']=='Женский'][MARRIAGE_DF[year]['age']<50]).fit(),\n"
     ]
    }
   ],
   "source": [
    "MARRIAGE_LOGIT={}\n",
    "for year in MARRIAGE_DF.keys():\n",
    "    MARRIAGE_LOGIT[year]={'м':logit(\"marst_after ~ np.log(IMT)+np.log(diplom)+np.log(age)+np.log(popul)+np.log(salary)+health\", MARRIAGE_DF[year][MARRIAGE_DF[year]['sex']=='Мужской'][MARRIAGE_DF[year]['age']<50]).fit(),\n",
    "                         'ж':logit(\"marst_after ~ np.log(IMT)+np.log(diplom)+np.log(age)+np.log(popul)+np.log(salary)+health\",MARRIAGE_DF[year][MARRIAGE_DF[year]['sex']=='Женский'][MARRIAGE_DF[year]['age']<50]).fit(),\n",
    "                         'м+ж': logit(\"marst_after ~ np.log(IMT)+np.log(diplom)+np.log(age)+np.log(popul)+np.log(salary)+health\",MARRIAGE_DF[year][MARRIAGE_DF[year]['age']<50]).fit()}"
   ]
  },
  {
   "cell_type": "code",
   "execution_count": 561,
   "id": "df335f43",
   "metadata": {},
   "outputs": [
    {
     "name": "stdout",
     "output_type": "stream",
     "text": [
      "Optimization terminated successfully.\n",
      "         Current function value: 0.658644\n",
      "         Iterations 5\n",
      "                           Logit Regression Results                           \n",
      "==============================================================================\n",
      "Dep. Variable:            marst_after   No. Observations:                   99\n",
      "Model:                          Logit   Df Residuals:                       92\n",
      "Method:                           MLE   Df Model:                            6\n",
      "Date:                Thu, 08 Dec 2022   Pseudo R-squ.:                 0.04407\n",
      "Time:                        07:51:26   Log-Likelihood:                -65.206\n",
      "converged:                       True   LL-Null:                       -68.212\n",
      "Covariance Type:            nonrobust   LLR p-value:                    0.4218\n",
      "==================================================================================\n",
      "                     coef    std err          z      P>|z|      [0.025      0.975]\n",
      "----------------------------------------------------------------------------------\n",
      "Intercept          2.4800      6.006      0.413      0.680      -9.292      14.252\n",
      "np.log(IMT)       -0.7494      1.593     -0.471      0.638      -3.871       2.372\n",
      "np.log(diplom)     0.0560      1.024      0.055      0.956      -1.951       2.063\n",
      "np.log(age)        0.8148      0.933      0.873      0.383      -1.014       2.644\n",
      "np.log(popul)     -0.1476      0.078     -1.898      0.058      -0.300       0.005\n",
      "np.log(salary)    -0.1642      0.417     -0.394      0.694      -0.982       0.653\n",
      "health             0.1228      0.383      0.321      0.748      -0.627       0.873\n",
      "==================================================================================\n",
      "Optimization terminated successfully.\n",
      "         Current function value: 0.652281\n",
      "         Iterations 5\n",
      "                           Logit Regression Results                           \n",
      "==============================================================================\n",
      "Dep. Variable:            marst_after   No. Observations:                  101\n",
      "Model:                          Logit   Df Residuals:                       94\n",
      "Method:                           MLE   Df Model:                            6\n",
      "Date:                Thu, 08 Dec 2022   Pseudo R-squ.:                 0.05729\n",
      "Time:                        07:51:26   Log-Likelihood:                -65.880\n",
      "converged:                       True   LL-Null:                       -69.884\n",
      "Covariance Type:            nonrobust   LLR p-value:                    0.2376\n",
      "==================================================================================\n",
      "                     coef    std err          z      P>|z|      [0.025      0.975]\n",
      "----------------------------------------------------------------------------------\n",
      "Intercept         10.6352      5.307      2.004      0.045       0.234      21.037\n",
      "np.log(IMT)        0.0913      1.187      0.077      0.939      -2.235       2.418\n",
      "np.log(diplom)    -1.1271      0.991     -1.137      0.255      -3.069       0.815\n",
      "np.log(age)       -1.0534      0.938     -1.124      0.261      -2.891       0.784\n",
      "np.log(popul)      0.0536      0.084      0.641      0.522      -0.110       0.218\n",
      "np.log(salary)    -0.4665      0.339     -1.375      0.169      -1.131       0.198\n",
      "health            -0.6464      0.387     -1.672      0.095      -1.404       0.111\n",
      "==================================================================================\n"
     ]
    },
    {
     "name": "stderr",
     "output_type": "stream",
     "text": [
      "C:\\Users\\79618\\AppData\\Local\\Temp\\ipykernel_12340\\2339898482.py:2: UserWarning: Boolean Series key will be reindexed to match DataFrame index.\n",
      "  xxxx=logit(\"marst_after ~ np.log(IMT)+np.log(diplom)+np.log(age)+np.log(popul)+np.log(salary)+health\", MARRIAGE_DF[year][MARRIAGE_DF[year]['sex']=='Мужской'][MARRIAGE_DF[year]['age']<50]).fit()\n",
      "C:\\Users\\79618\\AppData\\Local\\Temp\\ipykernel_12340\\2339898482.py:5: UserWarning: Boolean Series key will be reindexed to match DataFrame index.\n",
      "  xxxx=logit(\"marst_after ~ np.log(IMT)+np.log(diplom)+np.log(age)+np.log(popul)+np.log(salary)+health\",MARRIAGE_DF[year][MARRIAGE_DF[year]['sex']=='Женский'][MARRIAGE_DF[year]['age']<50]).fit()\n"
     ]
    }
   ],
   "source": [
    "marriage_df=corrected_df[year[0]].join(corrected_df[year[1]],on='idind',lsuffix='_after')\n",
    "\n",
    "    marriage_df['marst']=marriage_df['marst'].replace(marst_cats).astype(float)\n",
    "    marriage_df['marst_after']=marriage_df['marst_after'].replace(marst_cats).astype(float)\n",
    "    marriage_df['IMT']=marriage_df['m1'].replace(no_ans).astype(float)/(marriage_df['m2'].replace(no_ans).astype(float)/100)**2\n",
    "    marriage_df['diplom']=marriage_df['diplom'].replace(diplom_cats).astype(float)\n",
    "    marriage_df['age']=marriage_df['age'].replace(no_ans).astype(float)\n",
    "    marriage_df['popul']=marriage_df['popul'].astype(float)\n",
    "    marriage_df['salary']=marriage_df['j10'].replace(no_ans).astype(float)+1\n",
    "    marriage_df['health']=marriage_df['m3'].replace(zd_cats).astype(float)\n",
    "    marriage_df['sex']=marriage_df['h5'].replace(sex_cats)\n",
    "\n",
    "    marriage_df=marriage_df[['marst','marst_after','IMT','diplom','sex','age','popul','salary','health']][marriage_df['marst']==0].dropna()\n",
    "    MARRIAGE_DF[year[0]]=marriage_df\n",
    "\n",
    "year=2015\n",
    "xxxx=logit(\"marst_after ~ np.log(IMT)+np.log(diplom)+np.log(age)+np.log(popul)+np.log(salary)+health\", MARRIAGE_DF[year][MARRIAGE_DF[year]['sex']=='Мужской'][MARRIAGE_DF[year]['age']<50]).fit()\n",
    "print(xxxx.summary())\n",
    "\n",
    "xxxx=logit(\"marst_after ~ np.log(IMT)+np.log(diplom)+np.log(age)+np.log(popul)+np.log(salary)+health\",MARRIAGE_DF[year][MARRIAGE_DF[year]['sex']=='Женский'][MARRIAGE_DF[year]['age']<50]).fit()\n",
    "print(xxxx.summary())"
   ]
  },
  {
   "cell_type": "code",
   "execution_count": null,
   "id": "22b3ec60",
   "metadata": {},
   "outputs": [],
   "source": [
    "MARRIAGE_LOGIT={}\n",
    "for year in MARRIAGE_DF.keys():\n",
    "    MARRIAGE_LOGIT[year]={'м':logit(\"marst_after ~ np.log(IMT)+np.log(diplom)+np.log(age)+np.log(popul)+np.log(salary)+health\", MARRIAGE_DF[year][MARRIAGE_DF[year]['sex']=='Мужской'][MARRIAGE_DF[year]['age']<50]).fit(),\n",
    "                         'ж':logit(\"marst_after ~ np.log(IMT)+np.log(diplom)+np.log(age)+np.log(popul)+np.log(salary)+health\",MARRIAGE_DF[year][MARRIAGE_DF[year]['sex']=='Женский'][MARRIAGE_DF[year]['age']<50]).fit(),\n",
    "                         'м+ж': logit(\"marst_after ~ np.log(IMT)+np.log(diplom)+np.log(age)+np.log(popul)+np.log(salary)+health\",MARRIAGE_DF[year][MARRIAGE_DF[year]['age']<50]).fit()}"
   ]
  },
  {
   "cell_type": "code",
   "execution_count": 546,
   "id": "002ee6d1",
   "metadata": {},
   "outputs": [
    {
     "name": "stderr",
     "output_type": "stream",
     "text": [
      "C:\\Users\\79618\\AppData\\Local\\Temp\\ipykernel_12340\\3020569051.py:3: UserWarning: Boolean Series key will be reindexed to match DataFrame index.\n",
      "  MARRIAGE_PROBIT[year]={'м':probit(\"marst_after ~ np.log(IMT)+np.log(diplom)+np.log(age)+np.log(popul)+np.log(salary)+health\", MARRIAGE_DF[year][MARRIAGE_DF[year]['sex']=='Мужской'][MARRIAGE_DF[year]['age']<50]).fit(),\n"
     ]
    },
    {
     "name": "stdout",
     "output_type": "stream",
     "text": [
      "Optimization terminated successfully.\n",
      "         Current function value: 0.589612\n",
      "         Iterations 5\n"
     ]
    },
    {
     "name": "stderr",
     "output_type": "stream",
     "text": [
      "C:\\Users\\79618\\AppData\\Local\\Temp\\ipykernel_12340\\3020569051.py:4: UserWarning: Boolean Series key will be reindexed to match DataFrame index.\n",
      "  'ж':probit(\"marst_after ~ np.log(IMT)+np.log(diplom)+np.log(age)+np.log(popul)+np.log(salary)+health\",MARRIAGE_DF[year][MARRIAGE_DF[year]['sex']=='Женский'][MARRIAGE_DF[year]['age']<50]).fit(),\n",
      "C:\\Users\\79618\\AppData\\Local\\Temp\\ipykernel_12340\\3020569051.py:3: UserWarning: Boolean Series key will be reindexed to match DataFrame index.\n",
      "  MARRIAGE_PROBIT[year]={'м':probit(\"marst_after ~ np.log(IMT)+np.log(diplom)+np.log(age)+np.log(popul)+np.log(salary)+health\", MARRIAGE_DF[year][MARRIAGE_DF[year]['sex']=='Мужской'][MARRIAGE_DF[year]['age']<50]).fit(),\n",
      "C:\\Users\\79618\\AppData\\Local\\Temp\\ipykernel_12340\\3020569051.py:4: UserWarning: Boolean Series key will be reindexed to match DataFrame index.\n",
      "  'ж':probit(\"marst_after ~ np.log(IMT)+np.log(diplom)+np.log(age)+np.log(popul)+np.log(salary)+health\",MARRIAGE_DF[year][MARRIAGE_DF[year]['sex']=='Женский'][MARRIAGE_DF[year]['age']<50]).fit(),\n",
      "C:\\Users\\79618\\AppData\\Local\\Temp\\ipykernel_12340\\3020569051.py:3: UserWarning: Boolean Series key will be reindexed to match DataFrame index.\n",
      "  MARRIAGE_PROBIT[year]={'м':probit(\"marst_after ~ np.log(IMT)+np.log(diplom)+np.log(age)+np.log(popul)+np.log(salary)+health\", MARRIAGE_DF[year][MARRIAGE_DF[year]['sex']=='Мужской'][MARRIAGE_DF[year]['age']<50]).fit(),\n",
      "C:\\Users\\79618\\AppData\\Local\\Temp\\ipykernel_12340\\3020569051.py:4: UserWarning: Boolean Series key will be reindexed to match DataFrame index.\n",
      "  'ж':probit(\"marst_after ~ np.log(IMT)+np.log(diplom)+np.log(age)+np.log(popul)+np.log(salary)+health\",MARRIAGE_DF[year][MARRIAGE_DF[year]['sex']=='Женский'][MARRIAGE_DF[year]['age']<50]).fit(),\n",
      "C:\\Users\\79618\\AppData\\Local\\Temp\\ipykernel_12340\\3020569051.py:3: UserWarning: Boolean Series key will be reindexed to match DataFrame index.\n",
      "  MARRIAGE_PROBIT[year]={'м':probit(\"marst_after ~ np.log(IMT)+np.log(diplom)+np.log(age)+np.log(popul)+np.log(salary)+health\", MARRIAGE_DF[year][MARRIAGE_DF[year]['sex']=='Мужской'][MARRIAGE_DF[year]['age']<50]).fit(),\n",
      "C:\\Users\\79618\\AppData\\Local\\Temp\\ipykernel_12340\\3020569051.py:4: UserWarning: Boolean Series key will be reindexed to match DataFrame index.\n",
      "  'ж':probit(\"marst_after ~ np.log(IMT)+np.log(diplom)+np.log(age)+np.log(popul)+np.log(salary)+health\",MARRIAGE_DF[year][MARRIAGE_DF[year]['sex']=='Женский'][MARRIAGE_DF[year]['age']<50]).fit(),\n"
     ]
    },
    {
     "name": "stdout",
     "output_type": "stream",
     "text": [
      "Optimization terminated successfully.\n",
      "         Current function value: 0.601839\n",
      "         Iterations 5\n",
      "Optimization terminated successfully.\n",
      "         Current function value: 0.611287\n",
      "         Iterations 5\n",
      "Optimization terminated successfully.\n",
      "         Current function value: 0.641862\n",
      "         Iterations 4\n",
      "Optimization terminated successfully.\n",
      "         Current function value: 0.672488\n",
      "         Iterations 4\n",
      "Optimization terminated successfully.\n",
      "         Current function value: 0.671671\n",
      "         Iterations 4\n",
      "Optimization terminated successfully.\n",
      "         Current function value: 0.650499\n",
      "         Iterations 5\n",
      "Optimization terminated successfully.\n",
      "         Current function value: 0.668221\n",
      "         Iterations 4\n",
      "Optimization terminated successfully.\n",
      "         Current function value: 0.680025\n",
      "         Iterations 4\n",
      "Optimization terminated successfully.\n",
      "         Current function value: 0.660042\n",
      "         Iterations 4\n",
      "Optimization terminated successfully.\n",
      "         Current function value: 0.674168\n",
      "         Iterations 4\n",
      "Optimization terminated successfully.\n",
      "         Current function value: 0.686593\n",
      "         Iterations 4\n",
      "Optimization terminated successfully.\n",
      "         Current function value: 0.661756\n",
      "         Iterations 5\n",
      "Optimization terminated successfully.\n",
      "         Current function value: 0.686776\n",
      "         Iterations 4\n",
      "Optimization terminated successfully.\n",
      "         Current function value: 0.682376\n",
      "         Iterations 4\n",
      "Optimization terminated successfully.\n",
      "         Current function value: 0.677665\n",
      "         Iterations 4\n",
      "Optimization terminated successfully.\n",
      "         Current function value: 0.671822\n",
      "         Iterations 4\n",
      "Optimization terminated successfully.\n",
      "         Current function value: 0.682491\n",
      "         Iterations 4\n",
      "Optimization terminated successfully.\n",
      "         Current function value: 0.680073\n",
      "         Iterations 4\n",
      "Optimization terminated successfully.\n",
      "         Current function value: 0.667669\n",
      "         Iterations 4\n",
      "Optimization terminated successfully.\n",
      "         Current function value: 0.685889\n",
      "         Iterations 4\n",
      "Optimization terminated successfully.\n",
      "         Current function value: 0.664110\n",
      "         Iterations 4\n",
      "Optimization terminated successfully.\n",
      "         Current function value: 0.682131\n",
      "         Iterations 4\n",
      "Optimization terminated successfully.\n",
      "         Current function value: 0.683511\n",
      "         Iterations 4\n"
     ]
    },
    {
     "name": "stderr",
     "output_type": "stream",
     "text": [
      "C:\\Users\\79618\\AppData\\Local\\Temp\\ipykernel_12340\\3020569051.py:3: UserWarning: Boolean Series key will be reindexed to match DataFrame index.\n",
      "  MARRIAGE_PROBIT[year]={'м':probit(\"marst_after ~ np.log(IMT)+np.log(diplom)+np.log(age)+np.log(popul)+np.log(salary)+health\", MARRIAGE_DF[year][MARRIAGE_DF[year]['sex']=='Мужской'][MARRIAGE_DF[year]['age']<50]).fit(),\n",
      "C:\\Users\\79618\\AppData\\Local\\Temp\\ipykernel_12340\\3020569051.py:4: UserWarning: Boolean Series key will be reindexed to match DataFrame index.\n",
      "  'ж':probit(\"marst_after ~ np.log(IMT)+np.log(diplom)+np.log(age)+np.log(popul)+np.log(salary)+health\",MARRIAGE_DF[year][MARRIAGE_DF[year]['sex']=='Женский'][MARRIAGE_DF[year]['age']<50]).fit(),\n",
      "C:\\Users\\79618\\AppData\\Local\\Temp\\ipykernel_12340\\3020569051.py:3: UserWarning: Boolean Series key will be reindexed to match DataFrame index.\n",
      "  MARRIAGE_PROBIT[year]={'м':probit(\"marst_after ~ np.log(IMT)+np.log(diplom)+np.log(age)+np.log(popul)+np.log(salary)+health\", MARRIAGE_DF[year][MARRIAGE_DF[year]['sex']=='Мужской'][MARRIAGE_DF[year]['age']<50]).fit(),\n",
      "C:\\Users\\79618\\AppData\\Local\\Temp\\ipykernel_12340\\3020569051.py:4: UserWarning: Boolean Series key will be reindexed to match DataFrame index.\n",
      "  'ж':probit(\"marst_after ~ np.log(IMT)+np.log(diplom)+np.log(age)+np.log(popul)+np.log(salary)+health\",MARRIAGE_DF[year][MARRIAGE_DF[year]['sex']=='Женский'][MARRIAGE_DF[year]['age']<50]).fit(),\n",
      "C:\\Users\\79618\\AppData\\Local\\Temp\\ipykernel_12340\\3020569051.py:3: UserWarning: Boolean Series key will be reindexed to match DataFrame index.\n",
      "  MARRIAGE_PROBIT[year]={'м':probit(\"marst_after ~ np.log(IMT)+np.log(diplom)+np.log(age)+np.log(popul)+np.log(salary)+health\", MARRIAGE_DF[year][MARRIAGE_DF[year]['sex']=='Мужской'][MARRIAGE_DF[year]['age']<50]).fit(),\n",
      "C:\\Users\\79618\\AppData\\Local\\Temp\\ipykernel_12340\\3020569051.py:4: UserWarning: Boolean Series key will be reindexed to match DataFrame index.\n",
      "  'ж':probit(\"marst_after ~ np.log(IMT)+np.log(diplom)+np.log(age)+np.log(popul)+np.log(salary)+health\",MARRIAGE_DF[year][MARRIAGE_DF[year]['sex']=='Женский'][MARRIAGE_DF[year]['age']<50]).fit(),\n",
      "C:\\Users\\79618\\AppData\\Local\\Temp\\ipykernel_12340\\3020569051.py:3: UserWarning: Boolean Series key will be reindexed to match DataFrame index.\n",
      "  MARRIAGE_PROBIT[year]={'м':probit(\"marst_after ~ np.log(IMT)+np.log(diplom)+np.log(age)+np.log(popul)+np.log(salary)+health\", MARRIAGE_DF[year][MARRIAGE_DF[year]['sex']=='Мужской'][MARRIAGE_DF[year]['age']<50]).fit(),\n",
      "C:\\Users\\79618\\AppData\\Local\\Temp\\ipykernel_12340\\3020569051.py:4: UserWarning: Boolean Series key will be reindexed to match DataFrame index.\n",
      "  'ж':probit(\"marst_after ~ np.log(IMT)+np.log(diplom)+np.log(age)+np.log(popul)+np.log(salary)+health\",MARRIAGE_DF[year][MARRIAGE_DF[year]['sex']=='Женский'][MARRIAGE_DF[year]['age']<50]).fit(),\n",
      "C:\\Users\\79618\\AppData\\Local\\Temp\\ipykernel_12340\\3020569051.py:3: UserWarning: Boolean Series key will be reindexed to match DataFrame index.\n",
      "  MARRIAGE_PROBIT[year]={'м':probit(\"marst_after ~ np.log(IMT)+np.log(diplom)+np.log(age)+np.log(popul)+np.log(salary)+health\", MARRIAGE_DF[year][MARRIAGE_DF[year]['sex']=='Мужской'][MARRIAGE_DF[year]['age']<50]).fit(),\n"
     ]
    },
    {
     "name": "stdout",
     "output_type": "stream",
     "text": [
      "Optimization terminated successfully.\n",
      "         Current function value: 0.677685\n",
      "         Iterations 4\n",
      "Optimization terminated successfully.\n",
      "         Current function value: 0.685710\n",
      "         Iterations 4\n",
      "Optimization terminated successfully.\n",
      "         Current function value: 0.683482\n",
      "         Iterations 4\n",
      "Optimization terminated successfully.\n",
      "         Current function value: 0.689732\n",
      "         Iterations 4\n",
      "Optimization terminated successfully.\n",
      "         Current function value: 0.675724\n",
      "         Iterations 4\n",
      "Optimization terminated successfully.\n",
      "         Current function value: 0.689212\n",
      "         Iterations 4\n",
      "Optimization terminated successfully.\n",
      "         Current function value: 0.631231\n",
      "         Iterations 5\n",
      "Optimization terminated successfully.\n",
      "         Current function value: 0.687324\n",
      "         Iterations 4\n",
      "Optimization terminated successfully.\n",
      "         Current function value: 0.677645\n",
      "         Iterations 4\n",
      "Optimization terminated successfully.\n",
      "         Current function value: 0.685307\n",
      "         Iterations 4\n",
      "Optimization terminated successfully.\n",
      "         Current function value: 0.680681\n",
      "         Iterations 4\n",
      "Optimization terminated successfully.\n",
      "         Current function value: 0.688526\n",
      "         Iterations 4\n"
     ]
    },
    {
     "name": "stderr",
     "output_type": "stream",
     "text": [
      "C:\\Users\\79618\\AppData\\Local\\Temp\\ipykernel_12340\\3020569051.py:4: UserWarning: Boolean Series key will be reindexed to match DataFrame index.\n",
      "  'ж':probit(\"marst_after ~ np.log(IMT)+np.log(diplom)+np.log(age)+np.log(popul)+np.log(salary)+health\",MARRIAGE_DF[year][MARRIAGE_DF[year]['sex']=='Женский'][MARRIAGE_DF[year]['age']<50]).fit(),\n",
      "C:\\Users\\79618\\AppData\\Local\\Temp\\ipykernel_12340\\3020569051.py:3: UserWarning: Boolean Series key will be reindexed to match DataFrame index.\n",
      "  MARRIAGE_PROBIT[year]={'м':probit(\"marst_after ~ np.log(IMT)+np.log(diplom)+np.log(age)+np.log(popul)+np.log(salary)+health\", MARRIAGE_DF[year][MARRIAGE_DF[year]['sex']=='Мужской'][MARRIAGE_DF[year]['age']<50]).fit(),\n",
      "C:\\Users\\79618\\AppData\\Local\\Temp\\ipykernel_12340\\3020569051.py:4: UserWarning: Boolean Series key will be reindexed to match DataFrame index.\n",
      "  'ж':probit(\"marst_after ~ np.log(IMT)+np.log(diplom)+np.log(age)+np.log(popul)+np.log(salary)+health\",MARRIAGE_DF[year][MARRIAGE_DF[year]['sex']=='Женский'][MARRIAGE_DF[year]['age']<50]).fit(),\n",
      "C:\\Users\\79618\\AppData\\Local\\Temp\\ipykernel_12340\\3020569051.py:3: UserWarning: Boolean Series key will be reindexed to match DataFrame index.\n",
      "  MARRIAGE_PROBIT[year]={'м':probit(\"marst_after ~ np.log(IMT)+np.log(diplom)+np.log(age)+np.log(popul)+np.log(salary)+health\", MARRIAGE_DF[year][MARRIAGE_DF[year]['sex']=='Мужской'][MARRIAGE_DF[year]['age']<50]).fit(),\n",
      "C:\\Users\\79618\\AppData\\Local\\Temp\\ipykernel_12340\\3020569051.py:4: UserWarning: Boolean Series key will be reindexed to match DataFrame index.\n",
      "  'ж':probit(\"marst_after ~ np.log(IMT)+np.log(diplom)+np.log(age)+np.log(popul)+np.log(salary)+health\",MARRIAGE_DF[year][MARRIAGE_DF[year]['sex']=='Женский'][MARRIAGE_DF[year]['age']<50]).fit(),\n",
      "C:\\Users\\79618\\AppData\\Local\\Temp\\ipykernel_12340\\3020569051.py:3: UserWarning: Boolean Series key will be reindexed to match DataFrame index.\n",
      "  MARRIAGE_PROBIT[year]={'м':probit(\"marst_after ~ np.log(IMT)+np.log(diplom)+np.log(age)+np.log(popul)+np.log(salary)+health\", MARRIAGE_DF[year][MARRIAGE_DF[year]['sex']=='Мужской'][MARRIAGE_DF[year]['age']<50]).fit(),\n",
      "C:\\Users\\79618\\AppData\\Local\\Temp\\ipykernel_12340\\3020569051.py:4: UserWarning: Boolean Series key will be reindexed to match DataFrame index.\n",
      "  'ж':probit(\"marst_after ~ np.log(IMT)+np.log(diplom)+np.log(age)+np.log(popul)+np.log(salary)+health\",MARRIAGE_DF[year][MARRIAGE_DF[year]['sex']=='Женский'][MARRIAGE_DF[year]['age']<50]).fit(),\n",
      "C:\\Users\\79618\\AppData\\Local\\Temp\\ipykernel_12340\\3020569051.py:3: UserWarning: Boolean Series key will be reindexed to match DataFrame index.\n",
      "  MARRIAGE_PROBIT[year]={'м':probit(\"marst_after ~ np.log(IMT)+np.log(diplom)+np.log(age)+np.log(popul)+np.log(salary)+health\", MARRIAGE_DF[year][MARRIAGE_DF[year]['sex']=='Мужской'][MARRIAGE_DF[year]['age']<50]).fit(),\n"
     ]
    },
    {
     "name": "stdout",
     "output_type": "stream",
     "text": [
      "Optimization terminated successfully.\n",
      "         Current function value: 0.649560\n",
      "         Iterations 5\n",
      "Optimization terminated successfully.\n",
      "         Current function value: 0.673557\n",
      "         Iterations 4\n",
      "Optimization terminated successfully.\n",
      "         Current function value: 0.685813\n",
      "         Iterations 4\n",
      "Optimization terminated successfully.\n",
      "         Current function value: 0.680728\n",
      "         Iterations 4\n",
      "Optimization terminated successfully.\n",
      "         Current function value: 0.685482\n",
      "         Iterations 4\n",
      "Optimization terminated successfully.\n",
      "         Current function value: 0.687839\n",
      "         Iterations 4\n",
      "Optimization terminated successfully.\n",
      "         Current function value: 0.684082\n",
      "         Iterations 4\n",
      "Optimization terminated successfully.\n",
      "         Current function value: 0.677335\n",
      "         Iterations 4\n",
      "Optimization terminated successfully.\n",
      "         Current function value: 0.683854\n",
      "         Iterations 4\n",
      "Optimization terminated successfully.\n",
      "         Current function value: 0.643349\n",
      "         Iterations 5\n",
      "Optimization terminated successfully.\n",
      "         Current function value: 0.677173\n",
      "         Iterations 4\n",
      "Optimization terminated successfully.\n",
      "         Current function value: 0.680068\n",
      "         Iterations 4\n",
      "Optimization terminated successfully.\n",
      "         Current function value: 0.678300\n",
      "         Iterations 4\n",
      "Optimization terminated successfully.\n",
      "         Current function value: 0.644443\n",
      "         Iterations 5\n"
     ]
    },
    {
     "name": "stderr",
     "output_type": "stream",
     "text": [
      "C:\\Users\\79618\\AppData\\Local\\Temp\\ipykernel_12340\\3020569051.py:4: UserWarning: Boolean Series key will be reindexed to match DataFrame index.\n",
      "  'ж':probit(\"marst_after ~ np.log(IMT)+np.log(diplom)+np.log(age)+np.log(popul)+np.log(salary)+health\",MARRIAGE_DF[year][MARRIAGE_DF[year]['sex']=='Женский'][MARRIAGE_DF[year]['age']<50]).fit(),\n",
      "C:\\Users\\79618\\AppData\\Local\\Temp\\ipykernel_12340\\3020569051.py:3: UserWarning: Boolean Series key will be reindexed to match DataFrame index.\n",
      "  MARRIAGE_PROBIT[year]={'м':probit(\"marst_after ~ np.log(IMT)+np.log(diplom)+np.log(age)+np.log(popul)+np.log(salary)+health\", MARRIAGE_DF[year][MARRIAGE_DF[year]['sex']=='Мужской'][MARRIAGE_DF[year]['age']<50]).fit(),\n",
      "C:\\Users\\79618\\AppData\\Local\\Temp\\ipykernel_12340\\3020569051.py:4: UserWarning: Boolean Series key will be reindexed to match DataFrame index.\n",
      "  'ж':probit(\"marst_after ~ np.log(IMT)+np.log(diplom)+np.log(age)+np.log(popul)+np.log(salary)+health\",MARRIAGE_DF[year][MARRIAGE_DF[year]['sex']=='Женский'][MARRIAGE_DF[year]['age']<50]).fit(),\n",
      "C:\\Users\\79618\\AppData\\Local\\Temp\\ipykernel_12340\\3020569051.py:3: UserWarning: Boolean Series key will be reindexed to match DataFrame index.\n",
      "  MARRIAGE_PROBIT[year]={'м':probit(\"marst_after ~ np.log(IMT)+np.log(diplom)+np.log(age)+np.log(popul)+np.log(salary)+health\", MARRIAGE_DF[year][MARRIAGE_DF[year]['sex']=='Мужской'][MARRIAGE_DF[year]['age']<50]).fit(),\n",
      "C:\\Users\\79618\\AppData\\Local\\Temp\\ipykernel_12340\\3020569051.py:4: UserWarning: Boolean Series key will be reindexed to match DataFrame index.\n",
      "  'ж':probit(\"marst_after ~ np.log(IMT)+np.log(diplom)+np.log(age)+np.log(popul)+np.log(salary)+health\",MARRIAGE_DF[year][MARRIAGE_DF[year]['sex']=='Женский'][MARRIAGE_DF[year]['age']<50]).fit(),\n",
      "C:\\Users\\79618\\AppData\\Local\\Temp\\ipykernel_12340\\3020569051.py:3: UserWarning: Boolean Series key will be reindexed to match DataFrame index.\n",
      "  MARRIAGE_PROBIT[year]={'м':probit(\"marst_after ~ np.log(IMT)+np.log(diplom)+np.log(age)+np.log(popul)+np.log(salary)+health\", MARRIAGE_DF[year][MARRIAGE_DF[year]['sex']=='Мужской'][MARRIAGE_DF[year]['age']<50]).fit(),\n",
      "C:\\Users\\79618\\AppData\\Local\\Temp\\ipykernel_12340\\3020569051.py:4: UserWarning: Boolean Series key will be reindexed to match DataFrame index.\n",
      "  'ж':probit(\"marst_after ~ np.log(IMT)+np.log(diplom)+np.log(age)+np.log(popul)+np.log(salary)+health\",MARRIAGE_DF[year][MARRIAGE_DF[year]['sex']=='Женский'][MARRIAGE_DF[year]['age']<50]).fit(),\n",
      "C:\\Users\\79618\\AppData\\Local\\Temp\\ipykernel_12340\\3020569051.py:3: UserWarning: Boolean Series key will be reindexed to match DataFrame index.\n",
      "  MARRIAGE_PROBIT[year]={'м':probit(\"marst_after ~ np.log(IMT)+np.log(diplom)+np.log(age)+np.log(popul)+np.log(salary)+health\", MARRIAGE_DF[year][MARRIAGE_DF[year]['sex']=='Мужской'][MARRIAGE_DF[year]['age']<50]).fit(),\n",
      "C:\\Users\\79618\\AppData\\Local\\Temp\\ipykernel_12340\\3020569051.py:4: UserWarning: Boolean Series key will be reindexed to match DataFrame index.\n",
      "  'ж':probit(\"marst_after ~ np.log(IMT)+np.log(diplom)+np.log(age)+np.log(popul)+np.log(salary)+health\",MARRIAGE_DF[year][MARRIAGE_DF[year]['sex']=='Женский'][MARRIAGE_DF[year]['age']<50]).fit(),\n"
     ]
    },
    {
     "name": "stdout",
     "output_type": "stream",
     "text": [
      "Optimization terminated successfully.\n",
      "         Current function value: 0.673633\n",
      "         Iterations 4\n",
      "Optimization terminated successfully.\n",
      "         Current function value: 0.658807\n",
      "         Iterations 4\n",
      "Optimization terminated successfully.\n",
      "         Current function value: 0.652047\n",
      "         Iterations 5\n",
      "Optimization terminated successfully.\n",
      "         Current function value: 0.677849\n",
      "         Iterations 4\n",
      "Optimization terminated successfully.\n",
      "         Current function value: 0.666811\n",
      "         Iterations 4\n",
      "Optimization terminated successfully.\n",
      "         Current function value: 0.637181\n",
      "         Iterations 5\n",
      "Optimization terminated successfully.\n",
      "         Current function value: 0.659211\n",
      "         Iterations 4\n",
      "Optimization terminated successfully.\n",
      "         Current function value: 0.615873\n",
      "         Iterations 5\n",
      "Optimization terminated successfully.\n",
      "         Current function value: 0.647311\n",
      "         Iterations 5\n",
      "Optimization terminated successfully.\n",
      "         Current function value: 0.654318\n",
      "         Iterations 5\n",
      "Optimization terminated successfully.\n",
      "         Current function value: 0.643556\n",
      "         Iterations 5\n",
      "Optimization terminated successfully.\n",
      "         Current function value: 0.645465\n",
      "         Iterations 5\n",
      "Optimization terminated successfully.\n",
      "         Current function value: 0.656932\n",
      "         Iterations 5\n",
      "Optimization terminated successfully.\n",
      "         Current function value: 0.644998\n",
      "         Iterations 5\n",
      "Optimization terminated successfully.\n",
      "         Current function value: 0.671389\n",
      "         Iterations 5\n"
     ]
    },
    {
     "name": "stderr",
     "output_type": "stream",
     "text": [
      "C:\\Users\\79618\\AppData\\Local\\Temp\\ipykernel_12340\\3020569051.py:3: UserWarning: Boolean Series key will be reindexed to match DataFrame index.\n",
      "  MARRIAGE_PROBIT[year]={'м':probit(\"marst_after ~ np.log(IMT)+np.log(diplom)+np.log(age)+np.log(popul)+np.log(salary)+health\", MARRIAGE_DF[year][MARRIAGE_DF[year]['sex']=='Мужской'][MARRIAGE_DF[year]['age']<50]).fit(),\n",
      "C:\\Users\\79618\\AppData\\Local\\Temp\\ipykernel_12340\\3020569051.py:4: UserWarning: Boolean Series key will be reindexed to match DataFrame index.\n",
      "  'ж':probit(\"marst_after ~ np.log(IMT)+np.log(diplom)+np.log(age)+np.log(popul)+np.log(salary)+health\",MARRIAGE_DF[year][MARRIAGE_DF[year]['sex']=='Женский'][MARRIAGE_DF[year]['age']<50]).fit(),\n",
      "C:\\Users\\79618\\AppData\\Local\\Temp\\ipykernel_12340\\3020569051.py:3: UserWarning: Boolean Series key will be reindexed to match DataFrame index.\n",
      "  MARRIAGE_PROBIT[year]={'м':probit(\"marst_after ~ np.log(IMT)+np.log(diplom)+np.log(age)+np.log(popul)+np.log(salary)+health\", MARRIAGE_DF[year][MARRIAGE_DF[year]['sex']=='Мужской'][MARRIAGE_DF[year]['age']<50]).fit(),\n",
      "C:\\Users\\79618\\AppData\\Local\\Temp\\ipykernel_12340\\3020569051.py:4: UserWarning: Boolean Series key will be reindexed to match DataFrame index.\n",
      "  'ж':probit(\"marst_after ~ np.log(IMT)+np.log(diplom)+np.log(age)+np.log(popul)+np.log(salary)+health\",MARRIAGE_DF[year][MARRIAGE_DF[year]['sex']=='Женский'][MARRIAGE_DF[year]['age']<50]).fit(),\n",
      "C:\\Users\\79618\\AppData\\Local\\Temp\\ipykernel_12340\\3020569051.py:3: UserWarning: Boolean Series key will be reindexed to match DataFrame index.\n",
      "  MARRIAGE_PROBIT[year]={'м':probit(\"marst_after ~ np.log(IMT)+np.log(diplom)+np.log(age)+np.log(popul)+np.log(salary)+health\", MARRIAGE_DF[year][MARRIAGE_DF[year]['sex']=='Мужской'][MARRIAGE_DF[year]['age']<50]).fit(),\n",
      "C:\\Users\\79618\\AppData\\Local\\Temp\\ipykernel_12340\\3020569051.py:4: UserWarning: Boolean Series key will be reindexed to match DataFrame index.\n",
      "  'ж':probit(\"marst_after ~ np.log(IMT)+np.log(diplom)+np.log(age)+np.log(popul)+np.log(salary)+health\",MARRIAGE_DF[year][MARRIAGE_DF[year]['sex']=='Женский'][MARRIAGE_DF[year]['age']<50]).fit(),\n",
      "C:\\Users\\79618\\AppData\\Local\\Temp\\ipykernel_12340\\3020569051.py:3: UserWarning: Boolean Series key will be reindexed to match DataFrame index.\n",
      "  MARRIAGE_PROBIT[year]={'м':probit(\"marst_after ~ np.log(IMT)+np.log(diplom)+np.log(age)+np.log(popul)+np.log(salary)+health\", MARRIAGE_DF[year][MARRIAGE_DF[year]['sex']=='Мужской'][MARRIAGE_DF[year]['age']<50]).fit(),\n",
      "C:\\Users\\79618\\AppData\\Local\\Temp\\ipykernel_12340\\3020569051.py:4: UserWarning: Boolean Series key will be reindexed to match DataFrame index.\n",
      "  'ж':probit(\"marst_after ~ np.log(IMT)+np.log(diplom)+np.log(age)+np.log(popul)+np.log(salary)+health\",MARRIAGE_DF[year][MARRIAGE_DF[year]['sex']=='Женский'][MARRIAGE_DF[year]['age']<50]).fit(),\n",
      "C:\\Users\\79618\\AppData\\Local\\Temp\\ipykernel_12340\\3020569051.py:3: UserWarning: Boolean Series key will be reindexed to match DataFrame index.\n",
      "  MARRIAGE_PROBIT[year]={'м':probit(\"marst_after ~ np.log(IMT)+np.log(diplom)+np.log(age)+np.log(popul)+np.log(salary)+health\", MARRIAGE_DF[year][MARRIAGE_DF[year]['sex']=='Мужской'][MARRIAGE_DF[year]['age']<50]).fit(),\n",
      "C:\\Users\\79618\\AppData\\Local\\Temp\\ipykernel_12340\\3020569051.py:4: UserWarning: Boolean Series key will be reindexed to match DataFrame index.\n",
      "  'ж':probit(\"marst_after ~ np.log(IMT)+np.log(diplom)+np.log(age)+np.log(popul)+np.log(salary)+health\",MARRIAGE_DF[year][MARRIAGE_DF[year]['sex']=='Женский'][MARRIAGE_DF[year]['age']<50]).fit(),\n"
     ]
    },
    {
     "name": "stdout",
     "output_type": "stream",
     "text": [
      "Optimization terminated successfully.\n",
      "         Current function value: 0.686262\n",
      "         Iterations 4\n",
      "Optimization terminated successfully.\n",
      "         Current function value: 0.658516\n",
      "         Iterations 5\n",
      "Optimization terminated successfully.\n",
      "         Current function value: 0.622858\n",
      "         Iterations 5\n",
      "Optimization terminated successfully.\n",
      "         Current function value: 0.677946\n",
      "         Iterations 4\n"
     ]
    },
    {
     "name": "stderr",
     "output_type": "stream",
     "text": [
      "C:\\Users\\79618\\AppData\\Local\\Temp\\ipykernel_12340\\3020569051.py:3: UserWarning: Boolean Series key will be reindexed to match DataFrame index.\n",
      "  MARRIAGE_PROBIT[year]={'м':probit(\"marst_after ~ np.log(IMT)+np.log(diplom)+np.log(age)+np.log(popul)+np.log(salary)+health\", MARRIAGE_DF[year][MARRIAGE_DF[year]['sex']=='Мужской'][MARRIAGE_DF[year]['age']<50]).fit(),\n",
      "C:\\Users\\79618\\AppData\\Local\\Temp\\ipykernel_12340\\3020569051.py:4: UserWarning: Boolean Series key will be reindexed to match DataFrame index.\n",
      "  'ж':probit(\"marst_after ~ np.log(IMT)+np.log(diplom)+np.log(age)+np.log(popul)+np.log(salary)+health\",MARRIAGE_DF[year][MARRIAGE_DF[year]['sex']=='Женский'][MARRIAGE_DF[year]['age']<50]).fit(),\n"
     ]
    }
   ],
   "source": [
    "MARRIAGE_PROBIT={}\n",
    "for year in MARRIAGE_DF.keys():\n",
    "    MARRIAGE_PROBIT[year]={'м':probit(\"marst_after ~ np.log(IMT)+np.log(diplom)+np.log(age)+np.log(popul)+np.log(salary)+health\", MARRIAGE_DF[year][MARRIAGE_DF[year]['sex']=='Мужской'][MARRIAGE_DF[year]['age']<50]).fit(),\n",
    "                         'ж':probit(\"marst_after ~ np.log(IMT)+np.log(diplom)+np.log(age)+np.log(popul)+np.log(salary)+health\",MARRIAGE_DF[year][MARRIAGE_DF[year]['sex']=='Женский'][MARRIAGE_DF[year]['age']<50]).fit(),\n",
    "                         'м+ж': probit(\"marst_after ~ np.log(IMT)+np.log(diplom)+np.log(age)+np.log(popul)+np.log(salary)+health\",MARRIAGE_DF[year][MARRIAGE_DF[year]['age']<50]).fit()}"
   ]
  },
  {
   "cell_type": "code",
   "execution_count": 548,
   "id": "db9ea983",
   "metadata": {},
   "outputs": [
    {
     "data": {
      "text/html": [
       "<div>\n",
       "<style scoped>\n",
       "    .dataframe tbody tr th:only-of-type {\n",
       "        vertical-align: middle;\n",
       "    }\n",
       "\n",
       "    .dataframe tbody tr th {\n",
       "        vertical-align: top;\n",
       "    }\n",
       "\n",
       "    .dataframe thead th {\n",
       "        text-align: right;\n",
       "    }\n",
       "</style>\n",
       "<table border=\"1\" class=\"dataframe\">\n",
       "  <thead>\n",
       "    <tr style=\"text-align: right;\">\n",
       "      <th></th>\n",
       "      <th>Intercept</th>\n",
       "      <th>np.log(IMT)</th>\n",
       "      <th>np.log(diplom)</th>\n",
       "      <th>np.log(age)</th>\n",
       "      <th>np.log(popul)</th>\n",
       "      <th>np.log(salary)</th>\n",
       "      <th>health</th>\n",
       "    </tr>\n",
       "  </thead>\n",
       "  <tbody>\n",
       "    <tr>\n",
       "      <th>1994</th>\n",
       "      <td>5.101892</td>\n",
       "      <td>-0.212558</td>\n",
       "      <td>-0.262560</td>\n",
       "      <td>-0.161175</td>\n",
       "      <td>-0.070770</td>\n",
       "      <td>-0.151914</td>\n",
       "      <td>0.240885</td>\n",
       "    </tr>\n",
       "    <tr>\n",
       "      <th>1995</th>\n",
       "      <td>-3.014021</td>\n",
       "      <td>0.435904</td>\n",
       "      <td>-0.232336</td>\n",
       "      <td>0.629297</td>\n",
       "      <td>-0.006259</td>\n",
       "      <td>0.015636</td>\n",
       "      <td>0.049491</td>\n",
       "    </tr>\n",
       "    <tr>\n",
       "      <th>2000</th>\n",
       "      <td>-0.924608</td>\n",
       "      <td>0.945465</td>\n",
       "      <td>-0.386625</td>\n",
       "      <td>-0.533170</td>\n",
       "      <td>0.071308</td>\n",
       "      <td>-0.022089</td>\n",
       "      <td>0.182141</td>\n",
       "    </tr>\n",
       "    <tr>\n",
       "      <th>2001</th>\n",
       "      <td>0.471416</td>\n",
       "      <td>0.111200</td>\n",
       "      <td>0.223759</td>\n",
       "      <td>0.019952</td>\n",
       "      <td>-0.050106</td>\n",
       "      <td>-0.124094</td>\n",
       "      <td>0.229387</td>\n",
       "    </tr>\n",
       "    <tr>\n",
       "      <th>2002</th>\n",
       "      <td>-1.078659</td>\n",
       "      <td>0.000034</td>\n",
       "      <td>0.135609</td>\n",
       "      <td>0.339687</td>\n",
       "      <td>-0.022318</td>\n",
       "      <td>-0.015858</td>\n",
       "      <td>-0.033509</td>\n",
       "    </tr>\n",
       "    <tr>\n",
       "      <th>2003</th>\n",
       "      <td>1.788096</td>\n",
       "      <td>0.114039</td>\n",
       "      <td>-0.553559</td>\n",
       "      <td>0.241236</td>\n",
       "      <td>0.039644</td>\n",
       "      <td>-0.272013</td>\n",
       "      <td>0.106378</td>\n",
       "    </tr>\n",
       "    <tr>\n",
       "      <th>2004</th>\n",
       "      <td>2.489675</td>\n",
       "      <td>0.443587</td>\n",
       "      <td>-0.612697</td>\n",
       "      <td>-0.862215</td>\n",
       "      <td>-0.016109</td>\n",
       "      <td>0.092492</td>\n",
       "      <td>0.182150</td>\n",
       "    </tr>\n",
       "    <tr>\n",
       "      <th>2005</th>\n",
       "      <td>0.417790</td>\n",
       "      <td>-0.287046</td>\n",
       "      <td>-0.472213</td>\n",
       "      <td>0.026787</td>\n",
       "      <td>0.022653</td>\n",
       "      <td>0.151361</td>\n",
       "      <td>-0.202867</td>\n",
       "    </tr>\n",
       "    <tr>\n",
       "      <th>2006</th>\n",
       "      <td>-0.193217</td>\n",
       "      <td>-0.136766</td>\n",
       "      <td>0.382768</td>\n",
       "      <td>0.241414</td>\n",
       "      <td>0.024686</td>\n",
       "      <td>-0.164627</td>\n",
       "      <td>0.111405</td>\n",
       "    </tr>\n",
       "    <tr>\n",
       "      <th>2007</th>\n",
       "      <td>0.334850</td>\n",
       "      <td>-0.502560</td>\n",
       "      <td>-0.016204</td>\n",
       "      <td>0.265812</td>\n",
       "      <td>0.001639</td>\n",
       "      <td>0.042504</td>\n",
       "      <td>-0.336436</td>\n",
       "    </tr>\n",
       "    <tr>\n",
       "      <th>2008</th>\n",
       "      <td>-0.560660</td>\n",
       "      <td>0.544124</td>\n",
       "      <td>-0.099988</td>\n",
       "      <td>-0.232847</td>\n",
       "      <td>-0.016753</td>\n",
       "      <td>0.005440</td>\n",
       "      <td>-0.057734</td>\n",
       "    </tr>\n",
       "    <tr>\n",
       "      <th>2009</th>\n",
       "      <td>-1.532751</td>\n",
       "      <td>0.200166</td>\n",
       "      <td>0.743172</td>\n",
       "      <td>0.000533</td>\n",
       "      <td>-0.008171</td>\n",
       "      <td>-0.079397</td>\n",
       "      <td>-0.187338</td>\n",
       "    </tr>\n",
       "    <tr>\n",
       "      <th>2010</th>\n",
       "      <td>0.638393</td>\n",
       "      <td>-0.640710</td>\n",
       "      <td>0.420960</td>\n",
       "      <td>0.371484</td>\n",
       "      <td>0.003353</td>\n",
       "      <td>-0.092078</td>\n",
       "      <td>-0.299368</td>\n",
       "    </tr>\n",
       "    <tr>\n",
       "      <th>2011</th>\n",
       "      <td>2.852309</td>\n",
       "      <td>-0.347096</td>\n",
       "      <td>-0.011059</td>\n",
       "      <td>-0.335562</td>\n",
       "      <td>-0.006651</td>\n",
       "      <td>-0.039828</td>\n",
       "      <td>-0.148078</td>\n",
       "    </tr>\n",
       "    <tr>\n",
       "      <th>2012</th>\n",
       "      <td>2.210469</td>\n",
       "      <td>-0.422397</td>\n",
       "      <td>-0.499939</td>\n",
       "      <td>-0.067043</td>\n",
       "      <td>-0.033109</td>\n",
       "      <td>0.085267</td>\n",
       "      <td>0.116134</td>\n",
       "    </tr>\n",
       "    <tr>\n",
       "      <th>2013</th>\n",
       "      <td>2.213006</td>\n",
       "      <td>0.266008</td>\n",
       "      <td>-0.472769</td>\n",
       "      <td>-0.714671</td>\n",
       "      <td>0.030500</td>\n",
       "      <td>0.027826</td>\n",
       "      <td>0.075285</td>\n",
       "    </tr>\n",
       "    <tr>\n",
       "      <th>2014</th>\n",
       "      <td>-5.906406</td>\n",
       "      <td>0.146723</td>\n",
       "      <td>0.342537</td>\n",
       "      <td>0.774627</td>\n",
       "      <td>0.042953</td>\n",
       "      <td>0.111766</td>\n",
       "      <td>-0.102469</td>\n",
       "    </tr>\n",
       "    <tr>\n",
       "      <th>2015</th>\n",
       "      <td>6.557578</td>\n",
       "      <td>0.077830</td>\n",
       "      <td>-0.712805</td>\n",
       "      <td>-0.663874</td>\n",
       "      <td>0.034149</td>\n",
       "      <td>-0.285898</td>\n",
       "      <td>-0.406744</td>\n",
       "    </tr>\n",
       "    <tr>\n",
       "      <th>2016</th>\n",
       "      <td>2.077061</td>\n",
       "      <td>0.753186</td>\n",
       "      <td>0.381328</td>\n",
       "      <td>-1.183437</td>\n",
       "      <td>0.083711</td>\n",
       "      <td>-0.199071</td>\n",
       "      <td>-0.186213</td>\n",
       "    </tr>\n",
       "    <tr>\n",
       "      <th>2017</th>\n",
       "      <td>2.745979</td>\n",
       "      <td>-1.530189</td>\n",
       "      <td>-0.619282</td>\n",
       "      <td>0.743799</td>\n",
       "      <td>-0.063746</td>\n",
       "      <td>0.175984</td>\n",
       "      <td>0.260218</td>\n",
       "    </tr>\n",
       "    <tr>\n",
       "      <th>2018</th>\n",
       "      <td>2.771800</td>\n",
       "      <td>0.196912</td>\n",
       "      <td>0.025364</td>\n",
       "      <td>-0.928585</td>\n",
       "      <td>-0.143726</td>\n",
       "      <td>0.146341</td>\n",
       "      <td>0.031529</td>\n",
       "    </tr>\n",
       "    <tr>\n",
       "      <th>2019</th>\n",
       "      <td>-3.890411</td>\n",
       "      <td>1.063281</td>\n",
       "      <td>-0.555447</td>\n",
       "      <td>0.118425</td>\n",
       "      <td>0.003696</td>\n",
       "      <td>0.152254</td>\n",
       "      <td>0.055435</td>\n",
       "    </tr>\n",
       "    <tr>\n",
       "      <th>2020</th>\n",
       "      <td>0.882969</td>\n",
       "      <td>-1.706445</td>\n",
       "      <td>-0.806569</td>\n",
       "      <td>0.935817</td>\n",
       "      <td>-0.063538</td>\n",
       "      <td>0.356164</td>\n",
       "      <td>0.030496</td>\n",
       "    </tr>\n",
       "  </tbody>\n",
       "</table>\n",
       "</div>"
      ],
      "text/plain": [
       "      Intercept  np.log(IMT)  np.log(diplom)  np.log(age)  np.log(popul)  \\\n",
       "1994   5.101892    -0.212558       -0.262560    -0.161175      -0.070770   \n",
       "1995  -3.014021     0.435904       -0.232336     0.629297      -0.006259   \n",
       "2000  -0.924608     0.945465       -0.386625    -0.533170       0.071308   \n",
       "2001   0.471416     0.111200        0.223759     0.019952      -0.050106   \n",
       "2002  -1.078659     0.000034        0.135609     0.339687      -0.022318   \n",
       "2003   1.788096     0.114039       -0.553559     0.241236       0.039644   \n",
       "2004   2.489675     0.443587       -0.612697    -0.862215      -0.016109   \n",
       "2005   0.417790    -0.287046       -0.472213     0.026787       0.022653   \n",
       "2006  -0.193217    -0.136766        0.382768     0.241414       0.024686   \n",
       "2007   0.334850    -0.502560       -0.016204     0.265812       0.001639   \n",
       "2008  -0.560660     0.544124       -0.099988    -0.232847      -0.016753   \n",
       "2009  -1.532751     0.200166        0.743172     0.000533      -0.008171   \n",
       "2010   0.638393    -0.640710        0.420960     0.371484       0.003353   \n",
       "2011   2.852309    -0.347096       -0.011059    -0.335562      -0.006651   \n",
       "2012   2.210469    -0.422397       -0.499939    -0.067043      -0.033109   \n",
       "2013   2.213006     0.266008       -0.472769    -0.714671       0.030500   \n",
       "2014  -5.906406     0.146723        0.342537     0.774627       0.042953   \n",
       "2015   6.557578     0.077830       -0.712805    -0.663874       0.034149   \n",
       "2016   2.077061     0.753186        0.381328    -1.183437       0.083711   \n",
       "2017   2.745979    -1.530189       -0.619282     0.743799      -0.063746   \n",
       "2018   2.771800     0.196912        0.025364    -0.928585      -0.143726   \n",
       "2019  -3.890411     1.063281       -0.555447     0.118425       0.003696   \n",
       "2020   0.882969    -1.706445       -0.806569     0.935817      -0.063538   \n",
       "\n",
       "      np.log(salary)    health  \n",
       "1994       -0.151914  0.240885  \n",
       "1995        0.015636  0.049491  \n",
       "2000       -0.022089  0.182141  \n",
       "2001       -0.124094  0.229387  \n",
       "2002       -0.015858 -0.033509  \n",
       "2003       -0.272013  0.106378  \n",
       "2004        0.092492  0.182150  \n",
       "2005        0.151361 -0.202867  \n",
       "2006       -0.164627  0.111405  \n",
       "2007        0.042504 -0.336436  \n",
       "2008        0.005440 -0.057734  \n",
       "2009       -0.079397 -0.187338  \n",
       "2010       -0.092078 -0.299368  \n",
       "2011       -0.039828 -0.148078  \n",
       "2012        0.085267  0.116134  \n",
       "2013        0.027826  0.075285  \n",
       "2014        0.111766 -0.102469  \n",
       "2015       -0.285898 -0.406744  \n",
       "2016       -0.199071 -0.186213  \n",
       "2017        0.175984  0.260218  \n",
       "2018        0.146341  0.031529  \n",
       "2019        0.152254  0.055435  \n",
       "2020        0.356164  0.030496  "
      ]
     },
     "execution_count": 548,
     "metadata": {},
     "output_type": "execute_result"
    }
   ],
   "source": [
    "ttt=pd.concat([MARRIAGE_PROBIT[year]['ж'].params for year in MARRIAGE_PROBIT.keys()],axis=1)\n",
    "ttt.columns=MARRIAGE_PROBIT.keys()\n",
    "ttt.transpose()"
   ]
  },
  {
   "cell_type": "code",
   "execution_count": 550,
   "id": "8ed8bea8",
   "metadata": {},
   "outputs": [
    {
     "ename": "TypeError",
     "evalue": "'BinaryResultsWrapper' object is not subscriptable",
     "output_type": "error",
     "traceback": [
      "\u001b[1;31m---------------------------------------------------------------------------\u001b[0m",
      "\u001b[1;31mTypeError\u001b[0m                                 Traceback (most recent call last)",
      "Cell \u001b[1;32mIn [550], line 1\u001b[0m\n\u001b[1;32m----> 1\u001b[0m ttt\u001b[38;5;241m=\u001b[39mpd\u001b[38;5;241m.\u001b[39mconcat([MARRIAGE_PROBIT[year][\u001b[38;5;124m'\u001b[39m\u001b[38;5;124mж\u001b[39m\u001b[38;5;124m'\u001b[39m][\u001b[38;5;124m'\u001b[39m\u001b[38;5;124mp_values\u001b[39m\u001b[38;5;124m'\u001b[39m] \u001b[38;5;28;01mfor\u001b[39;00m year \u001b[38;5;129;01min\u001b[39;00m MARRIAGE_PROBIT\u001b[38;5;241m.\u001b[39mkeys()],axis\u001b[38;5;241m=\u001b[39m\u001b[38;5;241m1\u001b[39m)\n\u001b[0;32m      2\u001b[0m ttt\u001b[38;5;241m.\u001b[39mcolumns\u001b[38;5;241m=\u001b[39mMARRIAGE_PROBIT\u001b[38;5;241m.\u001b[39mkeys()\n\u001b[0;32m      3\u001b[0m ttt\u001b[38;5;241m.\u001b[39mtranspose()\n",
      "Cell \u001b[1;32mIn [550], line 1\u001b[0m, in \u001b[0;36m<listcomp>\u001b[1;34m(.0)\u001b[0m\n\u001b[1;32m----> 1\u001b[0m ttt\u001b[38;5;241m=\u001b[39mpd\u001b[38;5;241m.\u001b[39mconcat([\u001b[43mMARRIAGE_PROBIT\u001b[49m\u001b[43m[\u001b[49m\u001b[43myear\u001b[49m\u001b[43m]\u001b[49m\u001b[43m[\u001b[49m\u001b[38;5;124;43m'\u001b[39;49m\u001b[38;5;124;43mж\u001b[39;49m\u001b[38;5;124;43m'\u001b[39;49m\u001b[43m]\u001b[49m\u001b[43m[\u001b[49m\u001b[38;5;124;43m'\u001b[39;49m\u001b[38;5;124;43mp_values\u001b[39;49m\u001b[38;5;124;43m'\u001b[39;49m\u001b[43m]\u001b[49m \u001b[38;5;28;01mfor\u001b[39;00m year \u001b[38;5;129;01min\u001b[39;00m MARRIAGE_PROBIT\u001b[38;5;241m.\u001b[39mkeys()],axis\u001b[38;5;241m=\u001b[39m\u001b[38;5;241m1\u001b[39m)\n\u001b[0;32m      2\u001b[0m ttt\u001b[38;5;241m.\u001b[39mcolumns\u001b[38;5;241m=\u001b[39mMARRIAGE_PROBIT\u001b[38;5;241m.\u001b[39mkeys()\n\u001b[0;32m      3\u001b[0m ttt\u001b[38;5;241m.\u001b[39mtranspose()\n",
      "\u001b[1;31mTypeError\u001b[0m: 'BinaryResultsWrapper' object is not subscriptable"
     ]
    }
   ],
   "source": [
    "ttt=pd.concat([MARRIAGE_PROBIT[year]['ж']['p_values'] for year in MARRIAGE_PROBIT.keys()],axis=1)\n",
    "ttt.columns=MARRIAGE_PROBIT.keys()\n",
    "ttt.transpose()"
   ]
  },
  {
   "cell_type": "code",
   "execution_count": 493,
   "id": "e61603b1",
   "metadata": {},
   "outputs": [
    {
     "ename": "KeyError",
     "evalue": "1994",
     "output_type": "error",
     "traceback": [
      "\u001b[1;31m---------------------------------------------------------------------------\u001b[0m",
      "\u001b[1;31mKeyError\u001b[0m                                  Traceback (most recent call last)",
      "Cell \u001b[1;32mIn [493], line 3\u001b[0m\n\u001b[0;32m      1\u001b[0m MARRIAGE_PARAMS\u001b[38;5;241m=\u001b[39m{}\n\u001b[0;32m      2\u001b[0m \u001b[38;5;28;01mfor\u001b[39;00m year \u001b[38;5;129;01min\u001b[39;00m MARRIAGE_LOGIT\u001b[38;5;241m.\u001b[39mkeys():\n\u001b[1;32m----> 3\u001b[0m     \u001b[43mMARRIAGE_PARAMS\u001b[49m\u001b[43m[\u001b[49m\u001b[43myear\u001b[49m\u001b[43m]\u001b[49m[\u001b[38;5;124m'\u001b[39m\u001b[38;5;124mм\u001b[39m\u001b[38;5;124m'\u001b[39m][\u001b[38;5;124m'\u001b[39m\u001b[38;5;124mpar\u001b[39m\u001b[38;5;124m'\u001b[39m]\u001b[38;5;241m=\u001b[39mMARRIAGE_LOGIT[year][\u001b[38;5;124m'\u001b[39m\u001b[38;5;124mм\u001b[39m\u001b[38;5;124m'\u001b[39m]\u001b[38;5;241m.\u001b[39mparams\n\u001b[0;32m      4\u001b[0m     MARRIAGE_PARAMS[year][\u001b[38;5;124m'\u001b[39m\u001b[38;5;124mм\u001b[39m\u001b[38;5;124m'\u001b[39m][\u001b[38;5;124m'\u001b[39m\u001b[38;5;124mp_values\u001b[39m\u001b[38;5;124m'\u001b[39m]\u001b[38;5;241m=\u001b[39mMARRIAGE_LOGIT[year][\u001b[38;5;124m'\u001b[39m\u001b[38;5;124mм\u001b[39m\u001b[38;5;124m'\u001b[39m]\u001b[38;5;241m.\u001b[39mpvalues\n\u001b[0;32m      5\u001b[0m     MARRIAGE_PARAMS[year][\u001b[38;5;124m'\u001b[39m\u001b[38;5;124mж\u001b[39m\u001b[38;5;124m'\u001b[39m][\u001b[38;5;124m'\u001b[39m\u001b[38;5;124mpar\u001b[39m\u001b[38;5;124m'\u001b[39m]\u001b[38;5;241m=\u001b[39mMARRIAGE_LOGIT[year][\u001b[38;5;124m'\u001b[39m\u001b[38;5;124mж\u001b[39m\u001b[38;5;124m'\u001b[39m]\u001b[38;5;241m.\u001b[39mparams\n",
      "\u001b[1;31mKeyError\u001b[0m: 1994"
     ]
    }
   ],
   "source": [
    "MARRIAGE_PARAMS={}\n",
    "for year in MARRIAGE_LOGIT.keys():\n",
    "    MARRIAGE_PARAMS[year]['м']['par']=MARRIAGE_LOGIT[year]['м'].params\n",
    "    MARRIAGE_PARAMS[year]['м']['p_values']=MARRIAGE_LOGIT[year]['м'].pvalues\n",
    "    MARRIAGE_PARAMS[year]['ж']['par']=MARRIAGE_LOGIT[year]['ж'].params\n",
    "    MARRIAGE_PARAMS[year]['ж']['p_values']=MARRIAGE_LOGIT[year]['ж'].pvalues\n",
    "    MARRIAGE_PARAMS[year]['м+ж']['par']=MARRIAGE_LOGIT[year]['м+ж'].params\n",
    "    MARRIAGE_PARAMS[year]['м+ж']['p_values']=MARRIAGE_LOGIT[year]['м+ж'].pvalues\n"
   ]
  },
  {
   "cell_type": "code",
   "execution_count": 507,
   "id": "27e0ad66",
   "metadata": {},
   "outputs": [
    {
     "data": {
      "text/html": [
       "<div>\n",
       "<style scoped>\n",
       "    .dataframe tbody tr th:only-of-type {\n",
       "        vertical-align: middle;\n",
       "    }\n",
       "\n",
       "    .dataframe tbody tr th {\n",
       "        vertical-align: top;\n",
       "    }\n",
       "\n",
       "    .dataframe thead th {\n",
       "        text-align: right;\n",
       "    }\n",
       "</style>\n",
       "<table border=\"1\" class=\"dataframe\">\n",
       "  <thead>\n",
       "    <tr style=\"text-align: right;\">\n",
       "      <th></th>\n",
       "      <th>params</th>\n",
       "      <th>p_values</th>\n",
       "    </tr>\n",
       "  </thead>\n",
       "  <tbody>\n",
       "    <tr>\n",
       "      <th>Intercept</th>\n",
       "      <td>-9.138987</td>\n",
       "      <td>0.079275</td>\n",
       "    </tr>\n",
       "    <tr>\n",
       "      <th>np.log(IMT)</th>\n",
       "      <td>2.816760</td>\n",
       "      <td>0.078122</td>\n",
       "    </tr>\n",
       "    <tr>\n",
       "      <th>np.log(diplom)</th>\n",
       "      <td>-0.682348</td>\n",
       "      <td>0.447168</td>\n",
       "    </tr>\n",
       "    <tr>\n",
       "      <th>np.log(age)</th>\n",
       "      <td>0.177365</td>\n",
       "      <td>0.799073</td>\n",
       "    </tr>\n",
       "    <tr>\n",
       "      <th>np.log(popul)</th>\n",
       "      <td>-0.112414</td>\n",
       "      <td>0.122981</td>\n",
       "    </tr>\n",
       "    <tr>\n",
       "      <th>np.log(salary)</th>\n",
       "      <td>0.275587</td>\n",
       "      <td>0.170331</td>\n",
       "    </tr>\n",
       "    <tr>\n",
       "      <th>health</th>\n",
       "      <td>0.002522</td>\n",
       "      <td>0.992609</td>\n",
       "    </tr>\n",
       "  </tbody>\n",
       "</table>\n",
       "</div>"
      ],
      "text/plain": [
       "                  params  p_values\n",
       "Intercept      -9.138987  0.079275\n",
       "np.log(IMT)     2.816760  0.078122\n",
       "np.log(diplom) -0.682348  0.447168\n",
       "np.log(age)     0.177365  0.799073\n",
       "np.log(popul)  -0.112414  0.122981\n",
       "np.log(salary)  0.275587  0.170331\n",
       "health          0.002522  0.992609"
      ]
     },
     "execution_count": 507,
     "metadata": {},
     "output_type": "execute_result"
    }
   ],
   "source": [
    "cccc=pd.concat([MARRIAGE_LOGIT[year]['м'].params,MARRIAGE_LOGIT[year]['м'].pvalues],axis=1)\n",
    "cccc.columns=['params','p_values']\n",
    "cccc"
   ]
  },
  {
   "cell_type": "code",
   "execution_count": 534,
   "id": "cca8555d",
   "metadata": {},
   "outputs": [],
   "source": [
    "ttt=pd.concat([MARRIAGE_LOGIT[year]['ж'].params for year in MARRIAGE_LOGIT.keys()],axis=1)\n",
    "ttt.columns=MARRIAGE_LOGIT.keys()"
   ]
  },
  {
   "cell_type": "code",
   "execution_count": 535,
   "id": "90991020",
   "metadata": {
    "scrolled": true
   },
   "outputs": [
    {
     "data": {
      "text/html": [
       "<div>\n",
       "<style scoped>\n",
       "    .dataframe tbody tr th:only-of-type {\n",
       "        vertical-align: middle;\n",
       "    }\n",
       "\n",
       "    .dataframe tbody tr th {\n",
       "        vertical-align: top;\n",
       "    }\n",
       "\n",
       "    .dataframe thead th {\n",
       "        text-align: right;\n",
       "    }\n",
       "</style>\n",
       "<table border=\"1\" class=\"dataframe\">\n",
       "  <thead>\n",
       "    <tr style=\"text-align: right;\">\n",
       "      <th></th>\n",
       "      <th>Intercept</th>\n",
       "      <th>np.log(IMT)</th>\n",
       "      <th>np.log(diplom)</th>\n",
       "      <th>np.log(age)</th>\n",
       "      <th>np.log(popul)</th>\n",
       "      <th>np.log(salary)</th>\n",
       "      <th>health</th>\n",
       "    </tr>\n",
       "  </thead>\n",
       "  <tbody>\n",
       "    <tr>\n",
       "      <th>1994</th>\n",
       "      <td>8.452899</td>\n",
       "      <td>-0.364614</td>\n",
       "      <td>-0.455225</td>\n",
       "      <td>-0.247228</td>\n",
       "      <td>-0.117544</td>\n",
       "      <td>-0.250967</td>\n",
       "      <td>0.408105</td>\n",
       "    </tr>\n",
       "    <tr>\n",
       "      <th>1995</th>\n",
       "      <td>-4.815342</td>\n",
       "      <td>0.691228</td>\n",
       "      <td>-0.365388</td>\n",
       "      <td>1.006667</td>\n",
       "      <td>-0.010995</td>\n",
       "      <td>0.025787</td>\n",
       "      <td>0.082763</td>\n",
       "    </tr>\n",
       "    <tr>\n",
       "      <th>2000</th>\n",
       "      <td>-1.506027</td>\n",
       "      <td>1.522047</td>\n",
       "      <td>-0.629803</td>\n",
       "      <td>-0.854015</td>\n",
       "      <td>0.115044</td>\n",
       "      <td>-0.033423</td>\n",
       "      <td>0.294439</td>\n",
       "    </tr>\n",
       "    <tr>\n",
       "      <th>2001</th>\n",
       "      <td>0.762618</td>\n",
       "      <td>0.181031</td>\n",
       "      <td>0.356663</td>\n",
       "      <td>0.027961</td>\n",
       "      <td>-0.080161</td>\n",
       "      <td>-0.198690</td>\n",
       "      <td>0.367127</td>\n",
       "    </tr>\n",
       "    <tr>\n",
       "      <th>2002</th>\n",
       "      <td>-1.719654</td>\n",
       "      <td>-0.003184</td>\n",
       "      <td>0.217622</td>\n",
       "      <td>0.543958</td>\n",
       "      <td>-0.035713</td>\n",
       "      <td>-0.025166</td>\n",
       "      <td>-0.054706</td>\n",
       "    </tr>\n",
       "    <tr>\n",
       "      <th>2003</th>\n",
       "      <td>2.887957</td>\n",
       "      <td>0.186496</td>\n",
       "      <td>-0.883929</td>\n",
       "      <td>0.384015</td>\n",
       "      <td>0.062766</td>\n",
       "      <td>-0.438642</td>\n",
       "      <td>0.167902</td>\n",
       "    </tr>\n",
       "    <tr>\n",
       "      <th>2004</th>\n",
       "      <td>3.999596</td>\n",
       "      <td>0.707507</td>\n",
       "      <td>-0.989377</td>\n",
       "      <td>-1.382233</td>\n",
       "      <td>-0.024708</td>\n",
       "      <td>0.148903</td>\n",
       "      <td>0.291602</td>\n",
       "    </tr>\n",
       "    <tr>\n",
       "      <th>2005</th>\n",
       "      <td>0.639228</td>\n",
       "      <td>-0.454460</td>\n",
       "      <td>-0.750551</td>\n",
       "      <td>0.042876</td>\n",
       "      <td>0.035879</td>\n",
       "      <td>0.242724</td>\n",
       "      <td>-0.320726</td>\n",
       "    </tr>\n",
       "    <tr>\n",
       "      <th>2006</th>\n",
       "      <td>-0.331814</td>\n",
       "      <td>-0.215386</td>\n",
       "      <td>0.616359</td>\n",
       "      <td>0.386053</td>\n",
       "      <td>0.039740</td>\n",
       "      <td>-0.263345</td>\n",
       "      <td>0.178247</td>\n",
       "    </tr>\n",
       "    <tr>\n",
       "      <th>2007</th>\n",
       "      <td>0.570497</td>\n",
       "      <td>-0.810169</td>\n",
       "      <td>-0.032506</td>\n",
       "      <td>0.424552</td>\n",
       "      <td>0.003180</td>\n",
       "      <td>0.067531</td>\n",
       "      <td>-0.539814</td>\n",
       "    </tr>\n",
       "    <tr>\n",
       "      <th>2008</th>\n",
       "      <td>-0.917820</td>\n",
       "      <td>0.873449</td>\n",
       "      <td>-0.159738</td>\n",
       "      <td>-0.371851</td>\n",
       "      <td>-0.026661</td>\n",
       "      <td>0.009628</td>\n",
       "      <td>-0.093379</td>\n",
       "    </tr>\n",
       "    <tr>\n",
       "      <th>2009</th>\n",
       "      <td>-2.462995</td>\n",
       "      <td>0.323819</td>\n",
       "      <td>1.189346</td>\n",
       "      <td>-0.002670</td>\n",
       "      <td>-0.012910</td>\n",
       "      <td>-0.126264</td>\n",
       "      <td>-0.298414</td>\n",
       "    </tr>\n",
       "    <tr>\n",
       "      <th>2010</th>\n",
       "      <td>1.042686</td>\n",
       "      <td>-1.030960</td>\n",
       "      <td>0.674438</td>\n",
       "      <td>0.591891</td>\n",
       "      <td>0.005837</td>\n",
       "      <td>-0.146966</td>\n",
       "      <td>-0.483173</td>\n",
       "    </tr>\n",
       "    <tr>\n",
       "      <th>2011</th>\n",
       "      <td>4.567473</td>\n",
       "      <td>-0.554110</td>\n",
       "      <td>-0.020009</td>\n",
       "      <td>-0.538734</td>\n",
       "      <td>-0.010677</td>\n",
       "      <td>-0.063122</td>\n",
       "      <td>-0.238639</td>\n",
       "    </tr>\n",
       "    <tr>\n",
       "      <th>2012</th>\n",
       "      <td>3.528472</td>\n",
       "      <td>-0.686076</td>\n",
       "      <td>-0.790145</td>\n",
       "      <td>-0.106946</td>\n",
       "      <td>-0.053755</td>\n",
       "      <td>0.138780</td>\n",
       "      <td>0.188787</td>\n",
       "    </tr>\n",
       "    <tr>\n",
       "      <th>2013</th>\n",
       "      <td>3.541347</td>\n",
       "      <td>0.434814</td>\n",
       "      <td>-0.757872</td>\n",
       "      <td>-1.143285</td>\n",
       "      <td>0.049164</td>\n",
       "      <td>0.040993</td>\n",
       "      <td>0.124674</td>\n",
       "    </tr>\n",
       "    <tr>\n",
       "      <th>2014</th>\n",
       "      <td>-9.708402</td>\n",
       "      <td>0.253128</td>\n",
       "      <td>0.589354</td>\n",
       "      <td>1.279132</td>\n",
       "      <td>0.067195</td>\n",
       "      <td>0.175777</td>\n",
       "      <td>-0.166031</td>\n",
       "    </tr>\n",
       "    <tr>\n",
       "      <th>2015</th>\n",
       "      <td>10.635208</td>\n",
       "      <td>0.091327</td>\n",
       "      <td>-1.127075</td>\n",
       "      <td>-1.053435</td>\n",
       "      <td>0.053623</td>\n",
       "      <td>-0.466484</td>\n",
       "      <td>-0.646361</td>\n",
       "    </tr>\n",
       "    <tr>\n",
       "      <th>2016</th>\n",
       "      <td>3.036360</td>\n",
       "      <td>1.304228</td>\n",
       "      <td>0.625562</td>\n",
       "      <td>-1.931635</td>\n",
       "      <td>0.137003</td>\n",
       "      <td>-0.315368</td>\n",
       "      <td>-0.309463</td>\n",
       "    </tr>\n",
       "    <tr>\n",
       "      <th>2017</th>\n",
       "      <td>4.528669</td>\n",
       "      <td>-2.459774</td>\n",
       "      <td>-0.998317</td>\n",
       "      <td>1.189626</td>\n",
       "      <td>-0.102039</td>\n",
       "      <td>0.274085</td>\n",
       "      <td>0.415856</td>\n",
       "    </tr>\n",
       "    <tr>\n",
       "      <th>2018</th>\n",
       "      <td>5.005744</td>\n",
       "      <td>0.308766</td>\n",
       "      <td>0.013897</td>\n",
       "      <td>-1.584832</td>\n",
       "      <td>-0.241557</td>\n",
       "      <td>0.236565</td>\n",
       "      <td>0.036147</td>\n",
       "    </tr>\n",
       "    <tr>\n",
       "      <th>2019</th>\n",
       "      <td>-6.170470</td>\n",
       "      <td>1.678116</td>\n",
       "      <td>-0.894718</td>\n",
       "      <td>0.194546</td>\n",
       "      <td>0.007202</td>\n",
       "      <td>0.243265</td>\n",
       "      <td>0.093669</td>\n",
       "    </tr>\n",
       "    <tr>\n",
       "      <th>2020</th>\n",
       "      <td>1.449434</td>\n",
       "      <td>-2.827852</td>\n",
       "      <td>-1.415277</td>\n",
       "      <td>1.544579</td>\n",
       "      <td>-0.105923</td>\n",
       "      <td>0.613240</td>\n",
       "      <td>0.061722</td>\n",
       "    </tr>\n",
       "  </tbody>\n",
       "</table>\n",
       "</div>"
      ],
      "text/plain": [
       "      Intercept  np.log(IMT)  np.log(diplom)  np.log(age)  np.log(popul)  \\\n",
       "1994   8.452899    -0.364614       -0.455225    -0.247228      -0.117544   \n",
       "1995  -4.815342     0.691228       -0.365388     1.006667      -0.010995   \n",
       "2000  -1.506027     1.522047       -0.629803    -0.854015       0.115044   \n",
       "2001   0.762618     0.181031        0.356663     0.027961      -0.080161   \n",
       "2002  -1.719654    -0.003184        0.217622     0.543958      -0.035713   \n",
       "2003   2.887957     0.186496       -0.883929     0.384015       0.062766   \n",
       "2004   3.999596     0.707507       -0.989377    -1.382233      -0.024708   \n",
       "2005   0.639228    -0.454460       -0.750551     0.042876       0.035879   \n",
       "2006  -0.331814    -0.215386        0.616359     0.386053       0.039740   \n",
       "2007   0.570497    -0.810169       -0.032506     0.424552       0.003180   \n",
       "2008  -0.917820     0.873449       -0.159738    -0.371851      -0.026661   \n",
       "2009  -2.462995     0.323819        1.189346    -0.002670      -0.012910   \n",
       "2010   1.042686    -1.030960        0.674438     0.591891       0.005837   \n",
       "2011   4.567473    -0.554110       -0.020009    -0.538734      -0.010677   \n",
       "2012   3.528472    -0.686076       -0.790145    -0.106946      -0.053755   \n",
       "2013   3.541347     0.434814       -0.757872    -1.143285       0.049164   \n",
       "2014  -9.708402     0.253128        0.589354     1.279132       0.067195   \n",
       "2015  10.635208     0.091327       -1.127075    -1.053435       0.053623   \n",
       "2016   3.036360     1.304228        0.625562    -1.931635       0.137003   \n",
       "2017   4.528669    -2.459774       -0.998317     1.189626      -0.102039   \n",
       "2018   5.005744     0.308766        0.013897    -1.584832      -0.241557   \n",
       "2019  -6.170470     1.678116       -0.894718     0.194546       0.007202   \n",
       "2020   1.449434    -2.827852       -1.415277     1.544579      -0.105923   \n",
       "\n",
       "      np.log(salary)    health  \n",
       "1994       -0.250967  0.408105  \n",
       "1995        0.025787  0.082763  \n",
       "2000       -0.033423  0.294439  \n",
       "2001       -0.198690  0.367127  \n",
       "2002       -0.025166 -0.054706  \n",
       "2003       -0.438642  0.167902  \n",
       "2004        0.148903  0.291602  \n",
       "2005        0.242724 -0.320726  \n",
       "2006       -0.263345  0.178247  \n",
       "2007        0.067531 -0.539814  \n",
       "2008        0.009628 -0.093379  \n",
       "2009       -0.126264 -0.298414  \n",
       "2010       -0.146966 -0.483173  \n",
       "2011       -0.063122 -0.238639  \n",
       "2012        0.138780  0.188787  \n",
       "2013        0.040993  0.124674  \n",
       "2014        0.175777 -0.166031  \n",
       "2015       -0.466484 -0.646361  \n",
       "2016       -0.315368 -0.309463  \n",
       "2017        0.274085  0.415856  \n",
       "2018        0.236565  0.036147  \n",
       "2019        0.243265  0.093669  \n",
       "2020        0.613240  0.061722  "
      ]
     },
     "execution_count": 535,
     "metadata": {},
     "output_type": "execute_result"
    }
   ],
   "source": [
    "ttt.transpose()"
   ]
  },
  {
   "cell_type": "code",
   "execution_count": 551,
   "id": "19cf08fe",
   "metadata": {},
   "outputs": [
    {
     "data": {
      "text/html": [
       "<div>\n",
       "<style scoped>\n",
       "    .dataframe tbody tr th:only-of-type {\n",
       "        vertical-align: middle;\n",
       "    }\n",
       "\n",
       "    .dataframe tbody tr th {\n",
       "        vertical-align: top;\n",
       "    }\n",
       "\n",
       "    .dataframe thead th {\n",
       "        text-align: right;\n",
       "    }\n",
       "</style>\n",
       "<table border=\"1\" class=\"dataframe\">\n",
       "  <thead>\n",
       "    <tr style=\"text-align: right;\">\n",
       "      <th></th>\n",
       "      <th>Intercept</th>\n",
       "      <th>np.log(IMT)</th>\n",
       "      <th>np.log(diplom)</th>\n",
       "      <th>np.log(age)</th>\n",
       "      <th>np.log(popul)</th>\n",
       "      <th>np.log(salary)</th>\n",
       "      <th>health</th>\n",
       "    </tr>\n",
       "  </thead>\n",
       "  <tbody>\n",
       "    <tr>\n",
       "      <th>1994</th>\n",
       "      <td>0.010336</td>\n",
       "      <td>NaN</td>\n",
       "      <td>NaN</td>\n",
       "      <td>NaN</td>\n",
       "      <td>0.048518</td>\n",
       "      <td>NaN</td>\n",
       "      <td>0.062330</td>\n",
       "    </tr>\n",
       "    <tr>\n",
       "      <th>1995</th>\n",
       "      <td>NaN</td>\n",
       "      <td>NaN</td>\n",
       "      <td>NaN</td>\n",
       "      <td>0.079913</td>\n",
       "      <td>NaN</td>\n",
       "      <td>NaN</td>\n",
       "      <td>NaN</td>\n",
       "    </tr>\n",
       "    <tr>\n",
       "      <th>2000</th>\n",
       "      <td>NaN</td>\n",
       "      <td>0.066618</td>\n",
       "      <td>NaN</td>\n",
       "      <td>NaN</td>\n",
       "      <td>0.031703</td>\n",
       "      <td>NaN</td>\n",
       "      <td>NaN</td>\n",
       "    </tr>\n",
       "    <tr>\n",
       "      <th>2001</th>\n",
       "      <td>NaN</td>\n",
       "      <td>NaN</td>\n",
       "      <td>NaN</td>\n",
       "      <td>NaN</td>\n",
       "      <td>NaN</td>\n",
       "      <td>NaN</td>\n",
       "      <td>NaN</td>\n",
       "    </tr>\n",
       "    <tr>\n",
       "      <th>2002</th>\n",
       "      <td>NaN</td>\n",
       "      <td>NaN</td>\n",
       "      <td>NaN</td>\n",
       "      <td>NaN</td>\n",
       "      <td>NaN</td>\n",
       "      <td>NaN</td>\n",
       "      <td>NaN</td>\n",
       "    </tr>\n",
       "    <tr>\n",
       "      <th>2003</th>\n",
       "      <td>NaN</td>\n",
       "      <td>NaN</td>\n",
       "      <td>NaN</td>\n",
       "      <td>NaN</td>\n",
       "      <td>NaN</td>\n",
       "      <td>0.029495</td>\n",
       "      <td>NaN</td>\n",
       "    </tr>\n",
       "    <tr>\n",
       "      <th>2004</th>\n",
       "      <td>NaN</td>\n",
       "      <td>NaN</td>\n",
       "      <td>NaN</td>\n",
       "      <td>0.039957</td>\n",
       "      <td>NaN</td>\n",
       "      <td>NaN</td>\n",
       "      <td>NaN</td>\n",
       "    </tr>\n",
       "    <tr>\n",
       "      <th>2005</th>\n",
       "      <td>NaN</td>\n",
       "      <td>NaN</td>\n",
       "      <td>NaN</td>\n",
       "      <td>NaN</td>\n",
       "      <td>NaN</td>\n",
       "      <td>NaN</td>\n",
       "      <td>NaN</td>\n",
       "    </tr>\n",
       "    <tr>\n",
       "      <th>2006</th>\n",
       "      <td>NaN</td>\n",
       "      <td>NaN</td>\n",
       "      <td>NaN</td>\n",
       "      <td>NaN</td>\n",
       "      <td>NaN</td>\n",
       "      <td>NaN</td>\n",
       "      <td>NaN</td>\n",
       "    </tr>\n",
       "    <tr>\n",
       "      <th>2007</th>\n",
       "      <td>NaN</td>\n",
       "      <td>NaN</td>\n",
       "      <td>NaN</td>\n",
       "      <td>NaN</td>\n",
       "      <td>NaN</td>\n",
       "      <td>NaN</td>\n",
       "      <td>0.040348</td>\n",
       "    </tr>\n",
       "    <tr>\n",
       "      <th>2008</th>\n",
       "      <td>NaN</td>\n",
       "      <td>NaN</td>\n",
       "      <td>NaN</td>\n",
       "      <td>NaN</td>\n",
       "      <td>NaN</td>\n",
       "      <td>NaN</td>\n",
       "      <td>NaN</td>\n",
       "    </tr>\n",
       "    <tr>\n",
       "      <th>2009</th>\n",
       "      <td>NaN</td>\n",
       "      <td>NaN</td>\n",
       "      <td>0.034455</td>\n",
       "      <td>NaN</td>\n",
       "      <td>NaN</td>\n",
       "      <td>NaN</td>\n",
       "      <td>NaN</td>\n",
       "    </tr>\n",
       "    <tr>\n",
       "      <th>2010</th>\n",
       "      <td>NaN</td>\n",
       "      <td>NaN</td>\n",
       "      <td>NaN</td>\n",
       "      <td>NaN</td>\n",
       "      <td>NaN</td>\n",
       "      <td>NaN</td>\n",
       "      <td>0.022859</td>\n",
       "    </tr>\n",
       "    <tr>\n",
       "      <th>2011</th>\n",
       "      <td>NaN</td>\n",
       "      <td>NaN</td>\n",
       "      <td>NaN</td>\n",
       "      <td>NaN</td>\n",
       "      <td>NaN</td>\n",
       "      <td>NaN</td>\n",
       "      <td>NaN</td>\n",
       "    </tr>\n",
       "    <tr>\n",
       "      <th>2012</th>\n",
       "      <td>NaN</td>\n",
       "      <td>NaN</td>\n",
       "      <td>NaN</td>\n",
       "      <td>NaN</td>\n",
       "      <td>NaN</td>\n",
       "      <td>NaN</td>\n",
       "      <td>NaN</td>\n",
       "    </tr>\n",
       "    <tr>\n",
       "      <th>2013</th>\n",
       "      <td>NaN</td>\n",
       "      <td>NaN</td>\n",
       "      <td>NaN</td>\n",
       "      <td>NaN</td>\n",
       "      <td>NaN</td>\n",
       "      <td>NaN</td>\n",
       "      <td>NaN</td>\n",
       "    </tr>\n",
       "    <tr>\n",
       "      <th>2014</th>\n",
       "      <td>0.050600</td>\n",
       "      <td>NaN</td>\n",
       "      <td>NaN</td>\n",
       "      <td>NaN</td>\n",
       "      <td>NaN</td>\n",
       "      <td>NaN</td>\n",
       "      <td>NaN</td>\n",
       "    </tr>\n",
       "    <tr>\n",
       "      <th>2015</th>\n",
       "      <td>0.040093</td>\n",
       "      <td>NaN</td>\n",
       "      <td>NaN</td>\n",
       "      <td>NaN</td>\n",
       "      <td>NaN</td>\n",
       "      <td>NaN</td>\n",
       "      <td>0.088121</td>\n",
       "    </tr>\n",
       "    <tr>\n",
       "      <th>2016</th>\n",
       "      <td>NaN</td>\n",
       "      <td>NaN</td>\n",
       "      <td>NaN</td>\n",
       "      <td>0.033914</td>\n",
       "      <td>NaN</td>\n",
       "      <td>NaN</td>\n",
       "      <td>NaN</td>\n",
       "    </tr>\n",
       "    <tr>\n",
       "      <th>2017</th>\n",
       "      <td>NaN</td>\n",
       "      <td>0.080571</td>\n",
       "      <td>NaN</td>\n",
       "      <td>NaN</td>\n",
       "      <td>NaN</td>\n",
       "      <td>NaN</td>\n",
       "      <td>NaN</td>\n",
       "    </tr>\n",
       "    <tr>\n",
       "      <th>2018</th>\n",
       "      <td>NaN</td>\n",
       "      <td>NaN</td>\n",
       "      <td>NaN</td>\n",
       "      <td>0.089232</td>\n",
       "      <td>0.012392</td>\n",
       "      <td>NaN</td>\n",
       "      <td>NaN</td>\n",
       "    </tr>\n",
       "    <tr>\n",
       "      <th>2019</th>\n",
       "      <td>NaN</td>\n",
       "      <td>NaN</td>\n",
       "      <td>NaN</td>\n",
       "      <td>NaN</td>\n",
       "      <td>NaN</td>\n",
       "      <td>NaN</td>\n",
       "      <td>NaN</td>\n",
       "    </tr>\n",
       "    <tr>\n",
       "      <th>2020</th>\n",
       "      <td>NaN</td>\n",
       "      <td>0.072949</td>\n",
       "      <td>NaN</td>\n",
       "      <td>NaN</td>\n",
       "      <td>NaN</td>\n",
       "      <td>NaN</td>\n",
       "      <td>NaN</td>\n",
       "    </tr>\n",
       "  </tbody>\n",
       "</table>\n",
       "</div>"
      ],
      "text/plain": [
       "      Intercept  np.log(IMT)  np.log(diplom)  np.log(age)  np.log(popul)  \\\n",
       "1994   0.010336          NaN             NaN          NaN       0.048518   \n",
       "1995        NaN          NaN             NaN     0.079913            NaN   \n",
       "2000        NaN     0.066618             NaN          NaN       0.031703   \n",
       "2001        NaN          NaN             NaN          NaN            NaN   \n",
       "2002        NaN          NaN             NaN          NaN            NaN   \n",
       "2003        NaN          NaN             NaN          NaN            NaN   \n",
       "2004        NaN          NaN             NaN     0.039957            NaN   \n",
       "2005        NaN          NaN             NaN          NaN            NaN   \n",
       "2006        NaN          NaN             NaN          NaN            NaN   \n",
       "2007        NaN          NaN             NaN          NaN            NaN   \n",
       "2008        NaN          NaN             NaN          NaN            NaN   \n",
       "2009        NaN          NaN        0.034455          NaN            NaN   \n",
       "2010        NaN          NaN             NaN          NaN            NaN   \n",
       "2011        NaN          NaN             NaN          NaN            NaN   \n",
       "2012        NaN          NaN             NaN          NaN            NaN   \n",
       "2013        NaN          NaN             NaN          NaN            NaN   \n",
       "2014   0.050600          NaN             NaN          NaN            NaN   \n",
       "2015   0.040093          NaN             NaN          NaN            NaN   \n",
       "2016        NaN          NaN             NaN     0.033914            NaN   \n",
       "2017        NaN     0.080571             NaN          NaN            NaN   \n",
       "2018        NaN          NaN             NaN     0.089232       0.012392   \n",
       "2019        NaN          NaN             NaN          NaN            NaN   \n",
       "2020        NaN     0.072949             NaN          NaN            NaN   \n",
       "\n",
       "      np.log(salary)    health  \n",
       "1994             NaN  0.062330  \n",
       "1995             NaN       NaN  \n",
       "2000             NaN       NaN  \n",
       "2001             NaN       NaN  \n",
       "2002             NaN       NaN  \n",
       "2003        0.029495       NaN  \n",
       "2004             NaN       NaN  \n",
       "2005             NaN       NaN  \n",
       "2006             NaN       NaN  \n",
       "2007             NaN  0.040348  \n",
       "2008             NaN       NaN  \n",
       "2009             NaN       NaN  \n",
       "2010             NaN  0.022859  \n",
       "2011             NaN       NaN  \n",
       "2012             NaN       NaN  \n",
       "2013             NaN       NaN  \n",
       "2014             NaN       NaN  \n",
       "2015             NaN  0.088121  \n",
       "2016             NaN       NaN  \n",
       "2017             NaN       NaN  \n",
       "2018             NaN       NaN  \n",
       "2019             NaN       NaN  \n",
       "2020             NaN       NaN  "
      ]
     },
     "execution_count": 551,
     "metadata": {},
     "output_type": "execute_result"
    }
   ],
   "source": [
    "ttt=pd.concat([MARRIAGE_PROBIT[year]['ж'].pvalues for year in MARRIAGE_PROBIT.keys()],axis=1)\n",
    "ttt.columns=MARRIAGE_PROBIT.keys()\n",
    "ttt.transpose()[ttt.transpose()<0.1]"
   ]
  },
  {
   "cell_type": "code",
   "execution_count": 537,
   "id": "21f78bea",
   "metadata": {},
   "outputs": [],
   "source": [
    "ttt=pd.concat([MARRIAGE_LOGIT[year]['ж'].pvalues for year in MARRIAGE_LOGIT.keys()],axis=1)\n",
    "ttt.columns=MARRIAGE_LOGIT.keys()"
   ]
  },
  {
   "cell_type": "code",
   "execution_count": 538,
   "id": "0dc79e62",
   "metadata": {},
   "outputs": [
    {
     "data": {
      "text/html": [
       "<div>\n",
       "<style scoped>\n",
       "    .dataframe tbody tr th:only-of-type {\n",
       "        vertical-align: middle;\n",
       "    }\n",
       "\n",
       "    .dataframe tbody tr th {\n",
       "        vertical-align: top;\n",
       "    }\n",
       "\n",
       "    .dataframe thead th {\n",
       "        text-align: right;\n",
       "    }\n",
       "</style>\n",
       "<table border=\"1\" class=\"dataframe\">\n",
       "  <thead>\n",
       "    <tr style=\"text-align: right;\">\n",
       "      <th></th>\n",
       "      <th>Intercept</th>\n",
       "      <th>np.log(IMT)</th>\n",
       "      <th>np.log(diplom)</th>\n",
       "      <th>np.log(age)</th>\n",
       "      <th>np.log(popul)</th>\n",
       "      <th>np.log(salary)</th>\n",
       "      <th>health</th>\n",
       "    </tr>\n",
       "  </thead>\n",
       "  <tbody>\n",
       "    <tr>\n",
       "      <th>1994</th>\n",
       "      <td>0.011068</td>\n",
       "      <td>NaN</td>\n",
       "      <td>NaN</td>\n",
       "      <td>NaN</td>\n",
       "      <td>0.053082</td>\n",
       "      <td>NaN</td>\n",
       "      <td>0.058374</td>\n",
       "    </tr>\n",
       "    <tr>\n",
       "      <th>1995</th>\n",
       "      <td>NaN</td>\n",
       "      <td>NaN</td>\n",
       "      <td>NaN</td>\n",
       "      <td>0.082219</td>\n",
       "      <td>NaN</td>\n",
       "      <td>NaN</td>\n",
       "      <td>NaN</td>\n",
       "    </tr>\n",
       "    <tr>\n",
       "      <th>2000</th>\n",
       "      <td>NaN</td>\n",
       "      <td>0.067782</td>\n",
       "      <td>NaN</td>\n",
       "      <td>NaN</td>\n",
       "      <td>0.032543</td>\n",
       "      <td>NaN</td>\n",
       "      <td>NaN</td>\n",
       "    </tr>\n",
       "    <tr>\n",
       "      <th>2001</th>\n",
       "      <td>NaN</td>\n",
       "      <td>NaN</td>\n",
       "      <td>NaN</td>\n",
       "      <td>NaN</td>\n",
       "      <td>NaN</td>\n",
       "      <td>NaN</td>\n",
       "      <td>NaN</td>\n",
       "    </tr>\n",
       "    <tr>\n",
       "      <th>2002</th>\n",
       "      <td>NaN</td>\n",
       "      <td>NaN</td>\n",
       "      <td>NaN</td>\n",
       "      <td>NaN</td>\n",
       "      <td>NaN</td>\n",
       "      <td>NaN</td>\n",
       "      <td>NaN</td>\n",
       "    </tr>\n",
       "    <tr>\n",
       "      <th>2003</th>\n",
       "      <td>NaN</td>\n",
       "      <td>NaN</td>\n",
       "      <td>NaN</td>\n",
       "      <td>NaN</td>\n",
       "      <td>NaN</td>\n",
       "      <td>0.031935</td>\n",
       "      <td>NaN</td>\n",
       "    </tr>\n",
       "    <tr>\n",
       "      <th>2004</th>\n",
       "      <td>NaN</td>\n",
       "      <td>NaN</td>\n",
       "      <td>NaN</td>\n",
       "      <td>0.041463</td>\n",
       "      <td>NaN</td>\n",
       "      <td>NaN</td>\n",
       "      <td>NaN</td>\n",
       "    </tr>\n",
       "    <tr>\n",
       "      <th>2005</th>\n",
       "      <td>NaN</td>\n",
       "      <td>NaN</td>\n",
       "      <td>NaN</td>\n",
       "      <td>NaN</td>\n",
       "      <td>NaN</td>\n",
       "      <td>NaN</td>\n",
       "      <td>NaN</td>\n",
       "    </tr>\n",
       "    <tr>\n",
       "      <th>2006</th>\n",
       "      <td>NaN</td>\n",
       "      <td>NaN</td>\n",
       "      <td>NaN</td>\n",
       "      <td>NaN</td>\n",
       "      <td>NaN</td>\n",
       "      <td>NaN</td>\n",
       "      <td>NaN</td>\n",
       "    </tr>\n",
       "    <tr>\n",
       "      <th>2007</th>\n",
       "      <td>NaN</td>\n",
       "      <td>NaN</td>\n",
       "      <td>NaN</td>\n",
       "      <td>NaN</td>\n",
       "      <td>NaN</td>\n",
       "      <td>NaN</td>\n",
       "      <td>0.041587</td>\n",
       "    </tr>\n",
       "    <tr>\n",
       "      <th>2008</th>\n",
       "      <td>NaN</td>\n",
       "      <td>NaN</td>\n",
       "      <td>NaN</td>\n",
       "      <td>NaN</td>\n",
       "      <td>NaN</td>\n",
       "      <td>NaN</td>\n",
       "      <td>NaN</td>\n",
       "    </tr>\n",
       "    <tr>\n",
       "      <th>2009</th>\n",
       "      <td>NaN</td>\n",
       "      <td>NaN</td>\n",
       "      <td>0.035875</td>\n",
       "      <td>NaN</td>\n",
       "      <td>NaN</td>\n",
       "      <td>NaN</td>\n",
       "      <td>NaN</td>\n",
       "    </tr>\n",
       "    <tr>\n",
       "      <th>2010</th>\n",
       "      <td>NaN</td>\n",
       "      <td>NaN</td>\n",
       "      <td>NaN</td>\n",
       "      <td>NaN</td>\n",
       "      <td>NaN</td>\n",
       "      <td>NaN</td>\n",
       "      <td>0.023868</td>\n",
       "    </tr>\n",
       "    <tr>\n",
       "      <th>2011</th>\n",
       "      <td>NaN</td>\n",
       "      <td>NaN</td>\n",
       "      <td>NaN</td>\n",
       "      <td>NaN</td>\n",
       "      <td>NaN</td>\n",
       "      <td>NaN</td>\n",
       "      <td>NaN</td>\n",
       "    </tr>\n",
       "    <tr>\n",
       "      <th>2012</th>\n",
       "      <td>NaN</td>\n",
       "      <td>NaN</td>\n",
       "      <td>NaN</td>\n",
       "      <td>NaN</td>\n",
       "      <td>NaN</td>\n",
       "      <td>NaN</td>\n",
       "      <td>NaN</td>\n",
       "    </tr>\n",
       "    <tr>\n",
       "      <th>2013</th>\n",
       "      <td>NaN</td>\n",
       "      <td>NaN</td>\n",
       "      <td>NaN</td>\n",
       "      <td>NaN</td>\n",
       "      <td>NaN</td>\n",
       "      <td>NaN</td>\n",
       "      <td>NaN</td>\n",
       "    </tr>\n",
       "    <tr>\n",
       "      <th>2014</th>\n",
       "      <td>0.052882</td>\n",
       "      <td>NaN</td>\n",
       "      <td>NaN</td>\n",
       "      <td>NaN</td>\n",
       "      <td>NaN</td>\n",
       "      <td>NaN</td>\n",
       "      <td>NaN</td>\n",
       "    </tr>\n",
       "    <tr>\n",
       "      <th>2015</th>\n",
       "      <td>0.045072</td>\n",
       "      <td>NaN</td>\n",
       "      <td>NaN</td>\n",
       "      <td>NaN</td>\n",
       "      <td>NaN</td>\n",
       "      <td>NaN</td>\n",
       "      <td>0.094563</td>\n",
       "    </tr>\n",
       "    <tr>\n",
       "      <th>2016</th>\n",
       "      <td>NaN</td>\n",
       "      <td>NaN</td>\n",
       "      <td>NaN</td>\n",
       "      <td>0.038000</td>\n",
       "      <td>NaN</td>\n",
       "      <td>NaN</td>\n",
       "      <td>NaN</td>\n",
       "    </tr>\n",
       "    <tr>\n",
       "      <th>2017</th>\n",
       "      <td>NaN</td>\n",
       "      <td>0.081414</td>\n",
       "      <td>NaN</td>\n",
       "      <td>NaN</td>\n",
       "      <td>NaN</td>\n",
       "      <td>NaN</td>\n",
       "      <td>NaN</td>\n",
       "    </tr>\n",
       "    <tr>\n",
       "      <th>2018</th>\n",
       "      <td>NaN</td>\n",
       "      <td>NaN</td>\n",
       "      <td>NaN</td>\n",
       "      <td>0.087064</td>\n",
       "      <td>0.014032</td>\n",
       "      <td>NaN</td>\n",
       "      <td>NaN</td>\n",
       "    </tr>\n",
       "    <tr>\n",
       "      <th>2019</th>\n",
       "      <td>NaN</td>\n",
       "      <td>NaN</td>\n",
       "      <td>NaN</td>\n",
       "      <td>NaN</td>\n",
       "      <td>NaN</td>\n",
       "      <td>NaN</td>\n",
       "      <td>NaN</td>\n",
       "    </tr>\n",
       "    <tr>\n",
       "      <th>2020</th>\n",
       "      <td>NaN</td>\n",
       "      <td>0.082902</td>\n",
       "      <td>NaN</td>\n",
       "      <td>NaN</td>\n",
       "      <td>NaN</td>\n",
       "      <td>NaN</td>\n",
       "      <td>NaN</td>\n",
       "    </tr>\n",
       "  </tbody>\n",
       "</table>\n",
       "</div>"
      ],
      "text/plain": [
       "      Intercept  np.log(IMT)  np.log(diplom)  np.log(age)  np.log(popul)  \\\n",
       "1994   0.011068          NaN             NaN          NaN       0.053082   \n",
       "1995        NaN          NaN             NaN     0.082219            NaN   \n",
       "2000        NaN     0.067782             NaN          NaN       0.032543   \n",
       "2001        NaN          NaN             NaN          NaN            NaN   \n",
       "2002        NaN          NaN             NaN          NaN            NaN   \n",
       "2003        NaN          NaN             NaN          NaN            NaN   \n",
       "2004        NaN          NaN             NaN     0.041463            NaN   \n",
       "2005        NaN          NaN             NaN          NaN            NaN   \n",
       "2006        NaN          NaN             NaN          NaN            NaN   \n",
       "2007        NaN          NaN             NaN          NaN            NaN   \n",
       "2008        NaN          NaN             NaN          NaN            NaN   \n",
       "2009        NaN          NaN        0.035875          NaN            NaN   \n",
       "2010        NaN          NaN             NaN          NaN            NaN   \n",
       "2011        NaN          NaN             NaN          NaN            NaN   \n",
       "2012        NaN          NaN             NaN          NaN            NaN   \n",
       "2013        NaN          NaN             NaN          NaN            NaN   \n",
       "2014   0.052882          NaN             NaN          NaN            NaN   \n",
       "2015   0.045072          NaN             NaN          NaN            NaN   \n",
       "2016        NaN          NaN             NaN     0.038000            NaN   \n",
       "2017        NaN     0.081414             NaN          NaN            NaN   \n",
       "2018        NaN          NaN             NaN     0.087064       0.014032   \n",
       "2019        NaN          NaN             NaN          NaN            NaN   \n",
       "2020        NaN     0.082902             NaN          NaN            NaN   \n",
       "\n",
       "      np.log(salary)    health  \n",
       "1994             NaN  0.058374  \n",
       "1995             NaN       NaN  \n",
       "2000             NaN       NaN  \n",
       "2001             NaN       NaN  \n",
       "2002             NaN       NaN  \n",
       "2003        0.031935       NaN  \n",
       "2004             NaN       NaN  \n",
       "2005             NaN       NaN  \n",
       "2006             NaN       NaN  \n",
       "2007             NaN  0.041587  \n",
       "2008             NaN       NaN  \n",
       "2009             NaN       NaN  \n",
       "2010             NaN  0.023868  \n",
       "2011             NaN       NaN  \n",
       "2012             NaN       NaN  \n",
       "2013             NaN       NaN  \n",
       "2014             NaN       NaN  \n",
       "2015             NaN  0.094563  \n",
       "2016             NaN       NaN  \n",
       "2017             NaN       NaN  \n",
       "2018             NaN       NaN  \n",
       "2019             NaN       NaN  \n",
       "2020             NaN       NaN  "
      ]
     },
     "execution_count": 538,
     "metadata": {},
     "output_type": "execute_result"
    }
   ],
   "source": [
    "ttt.transpose()[ttt.transpose()<0.1]"
   ]
  },
  {
   "cell_type": "code",
   "execution_count": 552,
   "id": "4c9997b3",
   "metadata": {},
   "outputs": [
    {
     "data": {
      "text/plain": [
       "array([<AxesSubplot: >, <AxesSubplot: >, <AxesSubplot: >, <AxesSubplot: >,\n",
       "       <AxesSubplot: >, <AxesSubplot: >, <AxesSubplot: >], dtype=object)"
      ]
     },
     "execution_count": 552,
     "metadata": {},
     "output_type": "execute_result"
    },
    {
     "data": {
      "image/png": "[encoded data removed]",
      "text/plain": [
       "<Figure size 640x480 with 7 Axes>"
      ]
     },
     "metadata": {},
     "output_type": "display_data"
    }
   ],
   "source": [
    "ttt.transpose().plot(subplots=True,ylim=(0,0.2))"
   ]
  },
  {
   "cell_type": "code",
   "execution_count": 539,
   "id": "a92904c0",
   "metadata": {},
   "outputs": [
    {
     "data": {
      "text/plain": [
       "Intercept         0.467239\n",
       "np.log(IMT)       0.492196\n",
       "np.log(diplom)    0.466493\n",
       "np.log(age)       0.388997\n",
       "np.log(popul)     0.479064\n",
       "np.log(salary)    0.499881\n",
       "health            0.426715\n",
       "dtype: float64"
      ]
     },
     "execution_count": 539,
     "metadata": {},
     "output_type": "execute_result"
    }
   ],
   "source": [
    "ttt.transpose().mean()"
   ]
  },
  {
   "cell_type": "code",
   "execution_count": 531,
   "id": "52f4b44b",
   "metadata": {},
   "outputs": [
    {
     "data": {
      "text/plain": [
       "array([<AxesSubplot: >, <AxesSubplot: >, <AxesSubplot: >, <AxesSubplot: >,\n",
       "       <AxesSubplot: >, <AxesSubplot: >, <AxesSubplot: >], dtype=object)"
      ]
     },
     "execution_count": 531,
     "metadata": {},
     "output_type": "execute_result"
    },
    {
     "data": {
      "image/png": "[encoded data removed]",
      "text/plain": [
       "<Figure size 640x480 with 7 Axes>"
      ]
     },
     "metadata": {},
     "output_type": "display_data"
    }
   ],
   "source": [
    "ttt.transpose().plot(subplots=True,ylim=(0,0.2))"
   ]
  },
  {
   "cell_type": "code",
   "execution_count": 540,
   "id": "93fae339",
   "metadata": {},
   "outputs": [],
   "source": [
    "ttt=pd.concat([MARRIAGE_LOGIT[year]['м'].pvalues for year in MARRIAGE_LOGIT.keys()],axis=1)\n",
    "ttt.columns=MARRIAGE_LOGIT.keys()"
   ]
  },
  {
   "cell_type": "code",
   "execution_count": 541,
   "id": "7890d379",
   "metadata": {
    "scrolled": true
   },
   "outputs": [
    {
     "data": {
      "text/html": [
       "<div>\n",
       "<style scoped>\n",
       "    .dataframe tbody tr th:only-of-type {\n",
       "        vertical-align: middle;\n",
       "    }\n",
       "\n",
       "    .dataframe tbody tr th {\n",
       "        vertical-align: top;\n",
       "    }\n",
       "\n",
       "    .dataframe thead th {\n",
       "        text-align: right;\n",
       "    }\n",
       "</style>\n",
       "<table border=\"1\" class=\"dataframe\">\n",
       "  <thead>\n",
       "    <tr style=\"text-align: right;\">\n",
       "      <th></th>\n",
       "      <th>Intercept</th>\n",
       "      <th>np.log(IMT)</th>\n",
       "      <th>np.log(diplom)</th>\n",
       "      <th>np.log(age)</th>\n",
       "      <th>np.log(popul)</th>\n",
       "      <th>np.log(salary)</th>\n",
       "      <th>health</th>\n",
       "    </tr>\n",
       "  </thead>\n",
       "  <tbody>\n",
       "    <tr>\n",
       "      <th>1994</th>\n",
       "      <td>0.079275</td>\n",
       "      <td>0.078122</td>\n",
       "      <td>NaN</td>\n",
       "      <td>NaN</td>\n",
       "      <td>NaN</td>\n",
       "      <td>NaN</td>\n",
       "      <td>NaN</td>\n",
       "    </tr>\n",
       "    <tr>\n",
       "      <th>1995</th>\n",
       "      <td>NaN</td>\n",
       "      <td>NaN</td>\n",
       "      <td>NaN</td>\n",
       "      <td>NaN</td>\n",
       "      <td>NaN</td>\n",
       "      <td>NaN</td>\n",
       "      <td>NaN</td>\n",
       "    </tr>\n",
       "    <tr>\n",
       "      <th>2000</th>\n",
       "      <td>NaN</td>\n",
       "      <td>NaN</td>\n",
       "      <td>NaN</td>\n",
       "      <td>NaN</td>\n",
       "      <td>NaN</td>\n",
       "      <td>NaN</td>\n",
       "      <td>NaN</td>\n",
       "    </tr>\n",
       "    <tr>\n",
       "      <th>2001</th>\n",
       "      <td>NaN</td>\n",
       "      <td>0.033207</td>\n",
       "      <td>NaN</td>\n",
       "      <td>NaN</td>\n",
       "      <td>NaN</td>\n",
       "      <td>NaN</td>\n",
       "      <td>NaN</td>\n",
       "    </tr>\n",
       "    <tr>\n",
       "      <th>2002</th>\n",
       "      <td>0.098723</td>\n",
       "      <td>0.058806</td>\n",
       "      <td>NaN</td>\n",
       "      <td>NaN</td>\n",
       "      <td>NaN</td>\n",
       "      <td>NaN</td>\n",
       "      <td>NaN</td>\n",
       "    </tr>\n",
       "    <tr>\n",
       "      <th>2003</th>\n",
       "      <td>NaN</td>\n",
       "      <td>NaN</td>\n",
       "      <td>NaN</td>\n",
       "      <td>NaN</td>\n",
       "      <td>NaN</td>\n",
       "      <td>NaN</td>\n",
       "      <td>NaN</td>\n",
       "    </tr>\n",
       "    <tr>\n",
       "      <th>2004</th>\n",
       "      <td>NaN</td>\n",
       "      <td>NaN</td>\n",
       "      <td>NaN</td>\n",
       "      <td>NaN</td>\n",
       "      <td>NaN</td>\n",
       "      <td>NaN</td>\n",
       "      <td>NaN</td>\n",
       "    </tr>\n",
       "    <tr>\n",
       "      <th>2005</th>\n",
       "      <td>NaN</td>\n",
       "      <td>NaN</td>\n",
       "      <td>NaN</td>\n",
       "      <td>NaN</td>\n",
       "      <td>NaN</td>\n",
       "      <td>NaN</td>\n",
       "      <td>NaN</td>\n",
       "    </tr>\n",
       "    <tr>\n",
       "      <th>2006</th>\n",
       "      <td>NaN</td>\n",
       "      <td>NaN</td>\n",
       "      <td>NaN</td>\n",
       "      <td>NaN</td>\n",
       "      <td>NaN</td>\n",
       "      <td>NaN</td>\n",
       "      <td>NaN</td>\n",
       "    </tr>\n",
       "    <tr>\n",
       "      <th>2007</th>\n",
       "      <td>NaN</td>\n",
       "      <td>NaN</td>\n",
       "      <td>NaN</td>\n",
       "      <td>NaN</td>\n",
       "      <td>NaN</td>\n",
       "      <td>NaN</td>\n",
       "      <td>NaN</td>\n",
       "    </tr>\n",
       "    <tr>\n",
       "      <th>2008</th>\n",
       "      <td>0.040709</td>\n",
       "      <td>NaN</td>\n",
       "      <td>NaN</td>\n",
       "      <td>NaN</td>\n",
       "      <td>NaN</td>\n",
       "      <td>0.023802</td>\n",
       "      <td>NaN</td>\n",
       "    </tr>\n",
       "    <tr>\n",
       "      <th>2009</th>\n",
       "      <td>NaN</td>\n",
       "      <td>NaN</td>\n",
       "      <td>NaN</td>\n",
       "      <td>NaN</td>\n",
       "      <td>NaN</td>\n",
       "      <td>NaN</td>\n",
       "      <td>NaN</td>\n",
       "    </tr>\n",
       "    <tr>\n",
       "      <th>2010</th>\n",
       "      <td>NaN</td>\n",
       "      <td>NaN</td>\n",
       "      <td>NaN</td>\n",
       "      <td>0.023862</td>\n",
       "      <td>NaN</td>\n",
       "      <td>NaN</td>\n",
       "      <td>0.000819</td>\n",
       "    </tr>\n",
       "    <tr>\n",
       "      <th>2011</th>\n",
       "      <td>NaN</td>\n",
       "      <td>NaN</td>\n",
       "      <td>NaN</td>\n",
       "      <td>NaN</td>\n",
       "      <td>NaN</td>\n",
       "      <td>NaN</td>\n",
       "      <td>NaN</td>\n",
       "    </tr>\n",
       "    <tr>\n",
       "      <th>2012</th>\n",
       "      <td>NaN</td>\n",
       "      <td>NaN</td>\n",
       "      <td>NaN</td>\n",
       "      <td>NaN</td>\n",
       "      <td>NaN</td>\n",
       "      <td>NaN</td>\n",
       "      <td>NaN</td>\n",
       "    </tr>\n",
       "    <tr>\n",
       "      <th>2013</th>\n",
       "      <td>NaN</td>\n",
       "      <td>NaN</td>\n",
       "      <td>0.014543</td>\n",
       "      <td>NaN</td>\n",
       "      <td>NaN</td>\n",
       "      <td>NaN</td>\n",
       "      <td>NaN</td>\n",
       "    </tr>\n",
       "    <tr>\n",
       "      <th>2014</th>\n",
       "      <td>NaN</td>\n",
       "      <td>NaN</td>\n",
       "      <td>NaN</td>\n",
       "      <td>NaN</td>\n",
       "      <td>NaN</td>\n",
       "      <td>NaN</td>\n",
       "      <td>NaN</td>\n",
       "    </tr>\n",
       "    <tr>\n",
       "      <th>2015</th>\n",
       "      <td>NaN</td>\n",
       "      <td>NaN</td>\n",
       "      <td>NaN</td>\n",
       "      <td>NaN</td>\n",
       "      <td>0.057743</td>\n",
       "      <td>NaN</td>\n",
       "      <td>NaN</td>\n",
       "    </tr>\n",
       "    <tr>\n",
       "      <th>2016</th>\n",
       "      <td>NaN</td>\n",
       "      <td>NaN</td>\n",
       "      <td>NaN</td>\n",
       "      <td>NaN</td>\n",
       "      <td>NaN</td>\n",
       "      <td>NaN</td>\n",
       "      <td>NaN</td>\n",
       "    </tr>\n",
       "    <tr>\n",
       "      <th>2017</th>\n",
       "      <td>NaN</td>\n",
       "      <td>NaN</td>\n",
       "      <td>NaN</td>\n",
       "      <td>0.065325</td>\n",
       "      <td>NaN</td>\n",
       "      <td>NaN</td>\n",
       "      <td>NaN</td>\n",
       "    </tr>\n",
       "    <tr>\n",
       "      <th>2018</th>\n",
       "      <td>NaN</td>\n",
       "      <td>NaN</td>\n",
       "      <td>NaN</td>\n",
       "      <td>NaN</td>\n",
       "      <td>NaN</td>\n",
       "      <td>NaN</td>\n",
       "      <td>NaN</td>\n",
       "    </tr>\n",
       "    <tr>\n",
       "      <th>2019</th>\n",
       "      <td>NaN</td>\n",
       "      <td>NaN</td>\n",
       "      <td>0.090947</td>\n",
       "      <td>NaN</td>\n",
       "      <td>NaN</td>\n",
       "      <td>NaN</td>\n",
       "      <td>NaN</td>\n",
       "    </tr>\n",
       "    <tr>\n",
       "      <th>2020</th>\n",
       "      <td>NaN</td>\n",
       "      <td>NaN</td>\n",
       "      <td>NaN</td>\n",
       "      <td>NaN</td>\n",
       "      <td>NaN</td>\n",
       "      <td>NaN</td>\n",
       "      <td>NaN</td>\n",
       "    </tr>\n",
       "  </tbody>\n",
       "</table>\n",
       "</div>"
      ],
      "text/plain": [
       "      Intercept  np.log(IMT)  np.log(diplom)  np.log(age)  np.log(popul)  \\\n",
       "1994   0.079275     0.078122             NaN          NaN            NaN   \n",
       "1995        NaN          NaN             NaN          NaN            NaN   \n",
       "2000        NaN          NaN             NaN          NaN            NaN   \n",
       "2001        NaN     0.033207             NaN          NaN            NaN   \n",
       "2002   0.098723     0.058806             NaN          NaN            NaN   \n",
       "2003        NaN          NaN             NaN          NaN            NaN   \n",
       "2004        NaN          NaN             NaN          NaN            NaN   \n",
       "2005        NaN          NaN             NaN          NaN            NaN   \n",
       "2006        NaN          NaN             NaN          NaN            NaN   \n",
       "2007        NaN          NaN             NaN          NaN            NaN   \n",
       "2008   0.040709          NaN             NaN          NaN            NaN   \n",
       "2009        NaN          NaN             NaN          NaN            NaN   \n",
       "2010        NaN          NaN             NaN     0.023862            NaN   \n",
       "2011        NaN          NaN             NaN          NaN            NaN   \n",
       "2012        NaN          NaN             NaN          NaN            NaN   \n",
       "2013        NaN          NaN        0.014543          NaN            NaN   \n",
       "2014        NaN          NaN             NaN          NaN            NaN   \n",
       "2015        NaN          NaN             NaN          NaN       0.057743   \n",
       "2016        NaN          NaN             NaN          NaN            NaN   \n",
       "2017        NaN          NaN             NaN     0.065325            NaN   \n",
       "2018        NaN          NaN             NaN          NaN            NaN   \n",
       "2019        NaN          NaN        0.090947          NaN            NaN   \n",
       "2020        NaN          NaN             NaN          NaN            NaN   \n",
       "\n",
       "      np.log(salary)    health  \n",
       "1994             NaN       NaN  \n",
       "1995             NaN       NaN  \n",
       "2000             NaN       NaN  \n",
       "2001             NaN       NaN  \n",
       "2002             NaN       NaN  \n",
       "2003             NaN       NaN  \n",
       "2004             NaN       NaN  \n",
       "2005             NaN       NaN  \n",
       "2006             NaN       NaN  \n",
       "2007             NaN       NaN  \n",
       "2008        0.023802       NaN  \n",
       "2009             NaN       NaN  \n",
       "2010             NaN  0.000819  \n",
       "2011             NaN       NaN  \n",
       "2012             NaN       NaN  \n",
       "2013             NaN       NaN  \n",
       "2014             NaN       NaN  \n",
       "2015             NaN       NaN  \n",
       "2016             NaN       NaN  \n",
       "2017             NaN       NaN  \n",
       "2018             NaN       NaN  \n",
       "2019             NaN       NaN  \n",
       "2020             NaN       NaN  "
      ]
     },
     "execution_count": 541,
     "metadata": {},
     "output_type": "execute_result"
    }
   ],
   "source": [
    "ttt.transpose()[ttt.transpose()<0.1]"
   ]
  },
  {
   "cell_type": "code",
   "execution_count": 542,
   "id": "57344f20",
   "metadata": {},
   "outputs": [
    {
     "data": {
      "text/plain": [
       "Intercept         0.577948\n",
       "np.log(IMT)       0.429423\n",
       "np.log(diplom)    0.532385\n",
       "np.log(age)       0.570840\n",
       "np.log(popul)     0.492997\n",
       "np.log(salary)    0.497890\n",
       "health            0.513614\n",
       "dtype: float64"
      ]
     },
     "execution_count": 542,
     "metadata": {},
     "output_type": "execute_result"
    }
   ],
   "source": [
    "ttt.transpose().mean()"
   ]
  },
  {
   "cell_type": "code",
   "execution_count": 543,
   "id": "ee1a70fb",
   "metadata": {},
   "outputs": [
    {
     "data": {
      "text/plain": [
       "array([<AxesSubplot: >, <AxesSubplot: >, <AxesSubplot: >, <AxesSubplot: >,\n",
       "       <AxesSubplot: >, <AxesSubplot: >, <AxesSubplot: >], dtype=object)"
      ]
     },
     "execution_count": 543,
     "metadata": {},
     "output_type": "execute_result"
    },
    {
     "data": {
      "image/png": "[encoded data removed]",
      "text/plain": [
       "<Figure size 640x480 with 7 Axes>"
      ]
     },
     "metadata": {},
     "output_type": "display_data"
    }
   ],
   "source": [
    "ttt.transpose().plot(subplots=True,ylim=(0,0.2))"
   ]
  },
  {
   "cell_type": "code",
   "execution_count": 511,
   "id": "c37b5602",
   "metadata": {},
   "outputs": [],
   "source": [
    "ttt=pd.concat([MARRIAGE_LOGIT[year]['м'].params for year in MARRIAGE_LOGIT.keys()],axis=1)\n",
    "ttt.columns=MARRIAGE_LOGIT.keys()"
   ]
  },
  {
   "cell_type": "code",
   "execution_count": 516,
   "id": "8848d64d",
   "metadata": {},
   "outputs": [
    {
     "data": {
      "text/html": [
       "<div>\n",
       "<style scoped>\n",
       "    .dataframe tbody tr th:only-of-type {\n",
       "        vertical-align: middle;\n",
       "    }\n",
       "\n",
       "    .dataframe tbody tr th {\n",
       "        vertical-align: top;\n",
       "    }\n",
       "\n",
       "    .dataframe thead th {\n",
       "        text-align: right;\n",
       "    }\n",
       "</style>\n",
       "<table border=\"1\" class=\"dataframe\">\n",
       "  <thead>\n",
       "    <tr style=\"text-align: right;\">\n",
       "      <th></th>\n",
       "      <th>Intercept</th>\n",
       "      <th>np.log(IMT)</th>\n",
       "      <th>np.log(diplom)</th>\n",
       "      <th>np.log(age)</th>\n",
       "      <th>np.log(popul)</th>\n",
       "      <th>np.log(salary)</th>\n",
       "      <th>health</th>\n",
       "    </tr>\n",
       "  </thead>\n",
       "  <tbody>\n",
       "    <tr>\n",
       "      <th>1994</th>\n",
       "      <td>-9.138987</td>\n",
       "      <td>2.816760</td>\n",
       "      <td>-0.682348</td>\n",
       "      <td>0.177365</td>\n",
       "      <td>-0.112414</td>\n",
       "      <td>0.275587</td>\n",
       "      <td>0.002522</td>\n",
       "    </tr>\n",
       "    <tr>\n",
       "      <th>1995</th>\n",
       "      <td>2.476477</td>\n",
       "      <td>-1.006877</td>\n",
       "      <td>-0.055813</td>\n",
       "      <td>0.217664</td>\n",
       "      <td>-0.013061</td>\n",
       "      <td>0.062369</td>\n",
       "      <td>0.118679</td>\n",
       "    </tr>\n",
       "    <tr>\n",
       "      <th>2000</th>\n",
       "      <td>-2.796538</td>\n",
       "      <td>1.425070</td>\n",
       "      <td>-0.302377</td>\n",
       "      <td>0.004305</td>\n",
       "      <td>-0.116851</td>\n",
       "      <td>0.144289</td>\n",
       "      <td>-0.343345</td>\n",
       "    </tr>\n",
       "    <tr>\n",
       "      <th>2001</th>\n",
       "      <td>6.856245</td>\n",
       "      <td>-2.419020</td>\n",
       "      <td>0.662040</td>\n",
       "      <td>-0.170113</td>\n",
       "      <td>-0.047836</td>\n",
       "      <td>0.094203</td>\n",
       "      <td>-0.440099</td>\n",
       "    </tr>\n",
       "    <tr>\n",
       "      <th>2002</th>\n",
       "      <td>-6.952034</td>\n",
       "      <td>2.355336</td>\n",
       "      <td>-0.185674</td>\n",
       "      <td>0.494939</td>\n",
       "      <td>-0.054342</td>\n",
       "      <td>-0.103491</td>\n",
       "      <td>-0.257093</td>\n",
       "    </tr>\n",
       "    <tr>\n",
       "      <th>2003</th>\n",
       "      <td>-0.058210</td>\n",
       "      <td>-0.543339</td>\n",
       "      <td>0.933234</td>\n",
       "      <td>0.025578</td>\n",
       "      <td>0.083859</td>\n",
       "      <td>-0.195263</td>\n",
       "      <td>0.234644</td>\n",
       "    </tr>\n",
       "    <tr>\n",
       "      <th>2004</th>\n",
       "      <td>-6.563564</td>\n",
       "      <td>1.521757</td>\n",
       "      <td>0.675490</td>\n",
       "      <td>-0.191297</td>\n",
       "      <td>0.017207</td>\n",
       "      <td>0.096708</td>\n",
       "      <td>-0.199228</td>\n",
       "    </tr>\n",
       "    <tr>\n",
       "      <th>2005</th>\n",
       "      <td>0.019754</td>\n",
       "      <td>0.290760</td>\n",
       "      <td>-0.525611</td>\n",
       "      <td>0.918359</td>\n",
       "      <td>-0.034115</td>\n",
       "      <td>-0.264030</td>\n",
       "      <td>-0.343297</td>\n",
       "    </tr>\n",
       "    <tr>\n",
       "      <th>2006</th>\n",
       "      <td>-1.080325</td>\n",
       "      <td>-0.576511</td>\n",
       "      <td>1.182317</td>\n",
       "      <td>0.702034</td>\n",
       "      <td>0.031539</td>\n",
       "      <td>-0.297866</td>\n",
       "      <td>0.086010</td>\n",
       "    </tr>\n",
       "    <tr>\n",
       "      <th>2007</th>\n",
       "      <td>-1.476271</td>\n",
       "      <td>0.752952</td>\n",
       "      <td>0.343561</td>\n",
       "      <td>-0.114035</td>\n",
       "      <td>-0.035235</td>\n",
       "      <td>-0.103437</td>\n",
       "      <td>0.079906</td>\n",
       "    </tr>\n",
       "    <tr>\n",
       "      <th>2008</th>\n",
       "      <td>10.517289</td>\n",
       "      <td>-0.684659</td>\n",
       "      <td>-0.546513</td>\n",
       "      <td>-0.006718</td>\n",
       "      <td>-0.021452</td>\n",
       "      <td>-0.780640</td>\n",
       "      <td>0.106098</td>\n",
       "    </tr>\n",
       "    <tr>\n",
       "      <th>2009</th>\n",
       "      <td>-0.201471</td>\n",
       "      <td>0.764419</td>\n",
       "      <td>-0.456184</td>\n",
       "      <td>-0.315115</td>\n",
       "      <td>-0.018776</td>\n",
       "      <td>-0.001526</td>\n",
       "      <td>-0.047270</td>\n",
       "    </tr>\n",
       "    <tr>\n",
       "      <th>2010</th>\n",
       "      <td>-1.419078</td>\n",
       "      <td>-0.190218</td>\n",
       "      <td>-0.505709</td>\n",
       "      <td>1.532080</td>\n",
       "      <td>-0.051720</td>\n",
       "      <td>-0.199777</td>\n",
       "      <td>0.899004</td>\n",
       "    </tr>\n",
       "    <tr>\n",
       "      <th>2011</th>\n",
       "      <td>-1.734592</td>\n",
       "      <td>-0.192625</td>\n",
       "      <td>0.048077</td>\n",
       "      <td>0.037371</td>\n",
       "      <td>0.045253</td>\n",
       "      <td>0.168851</td>\n",
       "      <td>-0.400139</td>\n",
       "    </tr>\n",
       "    <tr>\n",
       "      <th>2012</th>\n",
       "      <td>-0.526064</td>\n",
       "      <td>1.096907</td>\n",
       "      <td>-0.300213</td>\n",
       "      <td>-0.890935</td>\n",
       "      <td>-0.041383</td>\n",
       "      <td>0.126797</td>\n",
       "      <td>0.042420</td>\n",
       "    </tr>\n",
       "    <tr>\n",
       "      <th>2013</th>\n",
       "      <td>2.371687</td>\n",
       "      <td>-1.431921</td>\n",
       "      <td>2.565369</td>\n",
       "      <td>-1.410608</td>\n",
       "      <td>-0.033733</td>\n",
       "      <td>0.113866</td>\n",
       "      <td>0.032770</td>\n",
       "    </tr>\n",
       "    <tr>\n",
       "      <th>2014</th>\n",
       "      <td>0.565968</td>\n",
       "      <td>-1.351771</td>\n",
       "      <td>0.696670</td>\n",
       "      <td>0.221532</td>\n",
       "      <td>-0.036312</td>\n",
       "      <td>0.153594</td>\n",
       "      <td>-0.002618</td>\n",
       "    </tr>\n",
       "    <tr>\n",
       "      <th>2015</th>\n",
       "      <td>2.480024</td>\n",
       "      <td>-0.749413</td>\n",
       "      <td>0.056028</td>\n",
       "      <td>0.814775</td>\n",
       "      <td>-0.147648</td>\n",
       "      <td>-0.164192</td>\n",
       "      <td>0.122801</td>\n",
       "    </tr>\n",
       "    <tr>\n",
       "      <th>2016</th>\n",
       "      <td>-1.379631</td>\n",
       "      <td>0.329420</td>\n",
       "      <td>0.779703</td>\n",
       "      <td>-0.868689</td>\n",
       "      <td>-0.009962</td>\n",
       "      <td>0.211349</td>\n",
       "      <td>-0.440193</td>\n",
       "    </tr>\n",
       "    <tr>\n",
       "      <th>2017</th>\n",
       "      <td>-6.799792</td>\n",
       "      <td>2.432835</td>\n",
       "      <td>0.128356</td>\n",
       "      <td>2.230184</td>\n",
       "      <td>-0.069714</td>\n",
       "      <td>-0.793736</td>\n",
       "      <td>0.567849</td>\n",
       "    </tr>\n",
       "    <tr>\n",
       "      <th>2018</th>\n",
       "      <td>4.796183</td>\n",
       "      <td>-3.186570</td>\n",
       "      <td>0.357682</td>\n",
       "      <td>-0.342887</td>\n",
       "      <td>-0.163521</td>\n",
       "      <td>0.744341</td>\n",
       "      <td>0.320468</td>\n",
       "    </tr>\n",
       "    <tr>\n",
       "      <th>2019</th>\n",
       "      <td>-5.350775</td>\n",
       "      <td>-1.668395</td>\n",
       "      <td>1.733800</td>\n",
       "      <td>0.556592</td>\n",
       "      <td>-0.062149</td>\n",
       "      <td>0.476504</td>\n",
       "      <td>0.507664</td>\n",
       "    </tr>\n",
       "    <tr>\n",
       "      <th>2020</th>\n",
       "      <td>6.248798</td>\n",
       "      <td>-1.655527</td>\n",
       "      <td>1.588048</td>\n",
       "      <td>-0.743634</td>\n",
       "      <td>0.045382</td>\n",
       "      <td>-0.232206</td>\n",
       "      <td>-0.529003</td>\n",
       "    </tr>\n",
       "  </tbody>\n",
       "</table>\n",
       "</div>"
      ],
      "text/plain": [
       "      Intercept  np.log(IMT)  np.log(diplom)  np.log(age)  np.log(popul)  \\\n",
       "1994  -9.138987     2.816760       -0.682348     0.177365      -0.112414   \n",
       "1995   2.476477    -1.006877       -0.055813     0.217664      -0.013061   \n",
       "2000  -2.796538     1.425070       -0.302377     0.004305      -0.116851   \n",
       "2001   6.856245    -2.419020        0.662040    -0.170113      -0.047836   \n",
       "2002  -6.952034     2.355336       -0.185674     0.494939      -0.054342   \n",
       "2003  -0.058210    -0.543339        0.933234     0.025578       0.083859   \n",
       "2004  -6.563564     1.521757        0.675490    -0.191297       0.017207   \n",
       "2005   0.019754     0.290760       -0.525611     0.918359      -0.034115   \n",
       "2006  -1.080325    -0.576511        1.182317     0.702034       0.031539   \n",
       "2007  -1.476271     0.752952        0.343561    -0.114035      -0.035235   \n",
       "2008  10.517289    -0.684659       -0.546513    -0.006718      -0.021452   \n",
       "2009  -0.201471     0.764419       -0.456184    -0.315115      -0.018776   \n",
       "2010  -1.419078    -0.190218       -0.505709     1.532080      -0.051720   \n",
       "2011  -1.734592    -0.192625        0.048077     0.037371       0.045253   \n",
       "2012  -0.526064     1.096907       -0.300213    -0.890935      -0.041383   \n",
       "2013   2.371687    -1.431921        2.565369    -1.410608      -0.033733   \n",
       "2014   0.565968    -1.351771        0.696670     0.221532      -0.036312   \n",
       "2015   2.480024    -0.749413        0.056028     0.814775      -0.147648   \n",
       "2016  -1.379631     0.329420        0.779703    -0.868689      -0.009962   \n",
       "2017  -6.799792     2.432835        0.128356     2.230184      -0.069714   \n",
       "2018   4.796183    -3.186570        0.357682    -0.342887      -0.163521   \n",
       "2019  -5.350775    -1.668395        1.733800     0.556592      -0.062149   \n",
       "2020   6.248798    -1.655527        1.588048    -0.743634       0.045382   \n",
       "\n",
       "      np.log(salary)    health  \n",
       "1994        0.275587  0.002522  \n",
       "1995        0.062369  0.118679  \n",
       "2000        0.144289 -0.343345  \n",
       "2001        0.094203 -0.440099  \n",
       "2002       -0.103491 -0.257093  \n",
       "2003       -0.195263  0.234644  \n",
       "2004        0.096708 -0.199228  \n",
       "2005       -0.264030 -0.343297  \n",
       "2006       -0.297866  0.086010  \n",
       "2007       -0.103437  0.079906  \n",
       "2008       -0.780640  0.106098  \n",
       "2009       -0.001526 -0.047270  \n",
       "2010       -0.199777  0.899004  \n",
       "2011        0.168851 -0.400139  \n",
       "2012        0.126797  0.042420  \n",
       "2013        0.113866  0.032770  \n",
       "2014        0.153594 -0.002618  \n",
       "2015       -0.164192  0.122801  \n",
       "2016        0.211349 -0.440193  \n",
       "2017       -0.793736  0.567849  \n",
       "2018        0.744341  0.320468  \n",
       "2019        0.476504  0.507664  \n",
       "2020       -0.232206 -0.529003  "
      ]
     },
     "execution_count": 516,
     "metadata": {},
     "output_type": "execute_result"
    }
   ],
   "source": [
    "ttt.transpose()"
   ]
  },
  {
   "cell_type": "code",
   "execution_count": 494,
   "id": "f6b7c708",
   "metadata": {},
   "outputs": [
    {
     "data": {
      "text/plain": [
       "Intercept        -9.138987\n",
       "np.log(IMT)       2.816760\n",
       "np.log(diplom)   -0.682348\n",
       "np.log(age)       0.177365\n",
       "np.log(popul)    -0.112414\n",
       "np.log(salary)    0.275587\n",
       "health            0.002522\n",
       "dtype: float64"
      ]
     },
     "execution_count": 494,
     "metadata": {},
     "output_type": "execute_result"
    }
   ],
   "source": [
    "MARRIAGE_LOGIT[1994]['м'].params"
   ]
  },
  {
   "cell_type": "code",
   "execution_count": 484,
   "id": "5c703aa1",
   "metadata": {},
   "outputs": [
    {
     "data": {
      "text/plain": [
       "3       Женский\n",
       "11      Мужской\n",
       "34      Женский\n",
       "35      Мужской\n",
       "40      Мужской\n",
       "         ...   \n",
       "1467    Мужской\n",
       "1471    Женский\n",
       "1475    Женский\n",
       "1478    Женский\n",
       "1481    Мужской\n",
       "Name: sex, Length: 243, dtype: category\n",
       "Categories (2, object): ['Женский', 'Мужской']"
      ]
     },
     "execution_count": 484,
     "metadata": {},
     "output_type": "execute_result"
    }
   ],
   "source": [
    "MARRIAGE_DF[2018].sex"
   ]
  },
  {
   "cell_type": "code",
   "execution_count": 421,
   "id": "d2e4a121",
   "metadata": {},
   "outputs": [
    {
     "name": "stderr",
     "output_type": "stream",
     "text": [
      "C:\\Users\\79618\\AppData\\Local\\Temp\\ipykernel_12340\\262293336.py:6: PerformanceWarning: DataFrame is highly fragmented.  This is usually the result of calling `frame.insert` many times, which has poor performance.  Consider joining all columns at once using pd.concat(axis=1) instead. To get a de-fragmented frame, use `newframe = frame.copy()`\n",
      "  marriage_df['IMT']=marriage_df['m1'].replace(no_ans).astype(float)/(marriage_df['m2'].replace(no_ans).astype(float)/100)**2\n"
     ]
    }
   ],
   "source": [
    "year=2013\n",
    "marriage_df=corrected_df[year].join(corrected_df[year+1],on='idind',lsuffix='_after')\n",
    "\n",
    "marriage_df['marst']=marriage_df['marst'].replace(marst_cats).astype(float)\n",
    "marriage_df['marst_after']=marriage_df['marst_after'].replace(marst_cats).astype(float)\n",
    "marriage_df['IMT']=marriage_df['m1'].replace(no_ans).astype(float)/(marriage_df['m2'].replace(no_ans).astype(float)/100)**2\n",
    "marriage_df['diplom']=marriage_df['diplom'].replace(diplom_cats).astype(float)\n",
    "marriage_df['age']=marriage_df['age'].replace(no_ans).astype(float)\n",
    "marriage_df['popul']=marriage_df['popul'].astype(float)\n",
    "marriage_df['j10']=marriage_df['j10'].replace(no_ans).astype(float)+1\n",
    "marriage_df['m3']=marriage_df['m3'].replace(zd_cats).astype(float)\n",
    "marriage_df['h5']=marriage_df['h5'].replace(sex_cats)\n",
    "\n",
    "marriage_df=marriage_df[['marst','marst_after','IMT','diplom','h5','age','popul','j10','m3']][marriage_df['marst']==0].dropna()"
   ]
  },
  {
   "cell_type": "code",
   "execution_count": null,
   "id": "d5702008",
   "metadata": {},
   "outputs": [],
   "source": []
  },
  {
   "cell_type": "code",
   "execution_count": 422,
   "id": "0b464466",
   "metadata": {},
   "outputs": [
    {
     "data": {
      "text/html": [
       "<div>\n",
       "<style scoped>\n",
       "    .dataframe tbody tr th:only-of-type {\n",
       "        vertical-align: middle;\n",
       "    }\n",
       "\n",
       "    .dataframe tbody tr th {\n",
       "        vertical-align: top;\n",
       "    }\n",
       "\n",
       "    .dataframe thead th {\n",
       "        text-align: right;\n",
       "    }\n",
       "</style>\n",
       "<table border=\"1\" class=\"dataframe\">\n",
       "  <thead>\n",
       "    <tr style=\"text-align: right;\">\n",
       "      <th></th>\n",
       "      <th>marst</th>\n",
       "      <th>marst_after</th>\n",
       "      <th>IMT</th>\n",
       "      <th>diplom</th>\n",
       "      <th>h5</th>\n",
       "      <th>age</th>\n",
       "      <th>popul</th>\n",
       "      <th>j10</th>\n",
       "      <th>m3</th>\n",
       "    </tr>\n",
       "  </thead>\n",
       "  <tbody>\n",
       "    <tr>\n",
       "      <th>1</th>\n",
       "      <td>0.0</td>\n",
       "      <td>1.0</td>\n",
       "      <td>32.881402</td>\n",
       "      <td>10.0</td>\n",
       "      <td>Женский</td>\n",
       "      <td>61.0</td>\n",
       "      <td>2400.0</td>\n",
       "      <td>13001.0</td>\n",
       "      <td>0.0</td>\n",
       "    </tr>\n",
       "    <tr>\n",
       "      <th>2</th>\n",
       "      <td>0.0</td>\n",
       "      <td>1.0</td>\n",
       "      <td>29.054752</td>\n",
       "      <td>11.0</td>\n",
       "      <td>Женский</td>\n",
       "      <td>62.0</td>\n",
       "      <td>100.0</td>\n",
       "      <td>15001.0</td>\n",
       "      <td>0.0</td>\n",
       "    </tr>\n",
       "    <tr>\n",
       "      <th>6</th>\n",
       "      <td>0.0</td>\n",
       "      <td>1.0</td>\n",
       "      <td>24.092971</td>\n",
       "      <td>10.0</td>\n",
       "      <td>Женский</td>\n",
       "      <td>51.0</td>\n",
       "      <td>95900.0</td>\n",
       "      <td>12001.0</td>\n",
       "      <td>0.0</td>\n",
       "    </tr>\n",
       "    <tr>\n",
       "      <th>12</th>\n",
       "      <td>0.0</td>\n",
       "      <td>1.0</td>\n",
       "      <td>37.109375</td>\n",
       "      <td>16.0</td>\n",
       "      <td>Женский</td>\n",
       "      <td>25.0</td>\n",
       "      <td>95900.0</td>\n",
       "      <td>15801.0</td>\n",
       "      <td>0.0</td>\n",
       "    </tr>\n",
       "    <tr>\n",
       "      <th>16</th>\n",
       "      <td>0.0</td>\n",
       "      <td>0.0</td>\n",
       "      <td>32.283058</td>\n",
       "      <td>11.0</td>\n",
       "      <td>Мужской</td>\n",
       "      <td>50.0</td>\n",
       "      <td>95900.0</td>\n",
       "      <td>7001.0</td>\n",
       "      <td>1.0</td>\n",
       "    </tr>\n",
       "    <tr>\n",
       "      <th>...</th>\n",
       "      <td>...</td>\n",
       "      <td>...</td>\n",
       "      <td>...</td>\n",
       "      <td>...</td>\n",
       "      <td>...</td>\n",
       "      <td>...</td>\n",
       "      <td>...</td>\n",
       "      <td>...</td>\n",
       "      <td>...</td>\n",
       "    </tr>\n",
       "    <tr>\n",
       "      <th>2279</th>\n",
       "      <td>0.0</td>\n",
       "      <td>1.0</td>\n",
       "      <td>29.069767</td>\n",
       "      <td>11.0</td>\n",
       "      <td>Мужской</td>\n",
       "      <td>29.0</td>\n",
       "      <td>111800.0</td>\n",
       "      <td>35001.0</td>\n",
       "      <td>0.0</td>\n",
       "    </tr>\n",
       "    <tr>\n",
       "      <th>2287</th>\n",
       "      <td>0.0</td>\n",
       "      <td>0.0</td>\n",
       "      <td>21.007668</td>\n",
       "      <td>16.0</td>\n",
       "      <td>Женский</td>\n",
       "      <td>32.0</td>\n",
       "      <td>11503500.0</td>\n",
       "      <td>50001.0</td>\n",
       "      <td>1.0</td>\n",
       "    </tr>\n",
       "    <tr>\n",
       "      <th>2290</th>\n",
       "      <td>0.0</td>\n",
       "      <td>0.0</td>\n",
       "      <td>27.114822</td>\n",
       "      <td>16.0</td>\n",
       "      <td>Мужской</td>\n",
       "      <td>32.0</td>\n",
       "      <td>11300.0</td>\n",
       "      <td>100001.0</td>\n",
       "      <td>1.0</td>\n",
       "    </tr>\n",
       "    <tr>\n",
       "      <th>2292</th>\n",
       "      <td>0.0</td>\n",
       "      <td>0.0</td>\n",
       "      <td>21.453574</td>\n",
       "      <td>16.0</td>\n",
       "      <td>Женский</td>\n",
       "      <td>28.0</td>\n",
       "      <td>110400.0</td>\n",
       "      <td>35001.0</td>\n",
       "      <td>1.0</td>\n",
       "    </tr>\n",
       "    <tr>\n",
       "      <th>2295</th>\n",
       "      <td>0.0</td>\n",
       "      <td>1.0</td>\n",
       "      <td>30.477966</td>\n",
       "      <td>11.0</td>\n",
       "      <td>Мужской</td>\n",
       "      <td>31.0</td>\n",
       "      <td>97300.0</td>\n",
       "      <td>15001.0</td>\n",
       "      <td>0.0</td>\n",
       "    </tr>\n",
       "  </tbody>\n",
       "</table>\n",
       "<p>377 rows × 9 columns</p>\n",
       "</div>"
      ],
      "text/plain": [
       "      marst  marst_after        IMT  diplom       h5   age       popul  \\\n",
       "1       0.0          1.0  32.881402    10.0  Женский  61.0      2400.0   \n",
       "2       0.0          1.0  29.054752    11.0  Женский  62.0       100.0   \n",
       "6       0.0          1.0  24.092971    10.0  Женский  51.0     95900.0   \n",
       "12      0.0          1.0  37.109375    16.0  Женский  25.0     95900.0   \n",
       "16      0.0          0.0  32.283058    11.0  Мужской  50.0     95900.0   \n",
       "...     ...          ...        ...     ...      ...   ...         ...   \n",
       "2279    0.0          1.0  29.069767    11.0  Мужской  29.0    111800.0   \n",
       "2287    0.0          0.0  21.007668    16.0  Женский  32.0  11503500.0   \n",
       "2290    0.0          0.0  27.114822    16.0  Мужской  32.0     11300.0   \n",
       "2292    0.0          0.0  21.453574    16.0  Женский  28.0    110400.0   \n",
       "2295    0.0          1.0  30.477966    11.0  Мужской  31.0     97300.0   \n",
       "\n",
       "           j10   m3  \n",
       "1      13001.0  0.0  \n",
       "2      15001.0  0.0  \n",
       "6      12001.0  0.0  \n",
       "12     15801.0  0.0  \n",
       "16      7001.0  1.0  \n",
       "...        ...  ...  \n",
       "2279   35001.0  0.0  \n",
       "2287   50001.0  1.0  \n",
       "2290  100001.0  1.0  \n",
       "2292   35001.0  1.0  \n",
       "2295   15001.0  0.0  \n",
       "\n",
       "[377 rows x 9 columns]"
      ]
     },
     "execution_count": 422,
     "metadata": {},
     "output_type": "execute_result"
    }
   ],
   "source": [
    "marriage_df=marriage_df[['marst','marst_after','IMT','diplom','h5','age','popul','j10','m3']][marriage_df['marst']==0].dropna()\n",
    "marriage_df"
   ]
  },
  {
   "cell_type": "code",
   "execution_count": 452,
   "id": "2be610d8",
   "metadata": {
    "scrolled": true
   },
   "outputs": [
    {
     "name": "stdout",
     "output_type": "stream",
     "text": [
      "Optimization terminated successfully.\n",
      "         Current function value: 0.673217\n",
      "         Iterations 5\n"
     ]
    },
    {
     "name": "stderr",
     "output_type": "stream",
     "text": [
      "C:\\Users\\79618\\AppData\\Local\\Temp\\ipykernel_12340\\164373160.py:3: UserWarning: Boolean Series key will be reindexed to match DataFrame index.\n",
      "  marriage_df[marriage_df['h5']=='Женский'][marriage_df['age']<50]).fit()\n"
     ]
    }
   ],
   "source": [
    "marriage_mod = logit(\n",
    "    \"marst_after ~ np.log(IMT)+np.log(diplom)+np.log(age)+np.log(popul)+np.log(j10)+C(m3)\",\n",
    "    marriage_df[marriage_df['h5']=='Женский'][marriage_df['age']<50]).fit()"
   ]
  },
  {
   "cell_type": "code",
   "execution_count": 453,
   "id": "0769beb6",
   "metadata": {
    "scrolled": false
   },
   "outputs": [
    {
     "name": "stdout",
     "output_type": "stream",
     "text": [
      "                           Logit Regression Results                           \n",
      "==============================================================================\n",
      "Dep. Variable:            marst_after   No. Observations:                  147\n",
      "Model:                          Logit   Df Residuals:                      138\n",
      "Method:                           MLE   Df Model:                            8\n",
      "Date:                Thu, 08 Dec 2022   Pseudo R-squ.:                 0.02794\n",
      "Time:                        00:07:28   Log-Likelihood:                -98.963\n",
      "converged:                       True   LL-Null:                       -101.81\n",
      "Covariance Type:            nonrobust   LLR p-value:                    0.6820\n",
      "==================================================================================\n",
      "                     coef    std err          z      P>|z|      [0.025      0.975]\n",
      "----------------------------------------------------------------------------------\n",
      "Intercept          3.9199      4.745      0.826      0.409      -5.381      13.221\n",
      "C(m3)[T.0.0]      -0.0719      1.104     -0.065      0.948      -2.236       2.092\n",
      "C(m3)[T.1.0]       0.2364      1.113      0.212      0.832      -1.946       2.419\n",
      "C(m3)[T.2.0]      -0.5996      1.465     -0.409      0.682      -3.470       2.271\n",
      "np.log(IMT)        0.4033      0.936      0.431      0.667      -1.431       2.238\n",
      "np.log(diplom)    -0.6585      0.838     -0.786      0.432      -2.300       0.983\n",
      "np.log(age)       -1.2162      0.723     -1.683      0.092      -2.633       0.200\n",
      "np.log(popul)      0.0471      0.077      0.611      0.541      -0.104       0.198\n",
      "np.log(j10)        0.0148      0.375      0.040      0.968      -0.721       0.750\n",
      "==================================================================================\n"
     ]
    }
   ],
   "source": [
    "print(marriage_mod.summary())"
   ]
  },
  {
   "cell_type": "code",
   "execution_count": 460,
   "id": "b71010aa",
   "metadata": {},
   "outputs": [
    {
     "name": "stdout",
     "output_type": "stream",
     "text": [
      "                           Logit Regression Results                           \n",
      "==============================================================================\n",
      "Dep. Variable:            marst_after   No. Observations:                  113\n",
      "Model:                          Logit   Df Residuals:                      106\n",
      "Method:                           MLE   Df Model:                            6\n",
      "Date:                Thu, 08 Dec 2022   Pseudo R-squ.:                 0.07117\n",
      "Time:                        01:06:41   Log-Likelihood:                -72.747\n",
      "converged:                       True   LL-Null:                       -78.321\n",
      "Covariance Type:            nonrobust   LLR p-value:                   0.08392\n",
      "==================================================================================\n",
      "                     coef    std err          z      P>|z|      [0.025      0.975]\n",
      "----------------------------------------------------------------------------------\n",
      "Intercept          2.3717      5.467      0.434      0.664      -8.343      13.087\n",
      "np.log(IMT)       -1.4319      1.371     -1.044      0.296      -4.120       1.256\n",
      "np.log(diplom)     2.5654      1.050      2.444      0.015       0.508       4.623\n",
      "np.log(age)       -1.4106      0.878     -1.606      0.108      -3.132       0.310\n",
      "np.log(popul)     -0.0337      0.077     -0.440      0.660      -0.184       0.117\n",
      "np.log(j10)        0.1139      0.368      0.309      0.757      -0.608       0.836\n",
      "m3                 0.0328      0.378      0.087      0.931      -0.709       0.774\n",
      "==================================================================================\n"
     ]
    }
   ],
   "source": [
    "print(marriage_mod.summary())"
   ]
  },
  {
   "cell_type": "code",
   "execution_count": 448,
   "id": "ab741a0a",
   "metadata": {},
   "outputs": [
    {
     "name": "stdout",
     "output_type": "stream",
     "text": [
      "Optimization terminated successfully.\n",
      "         Current function value: 0.674725\n",
      "         Iterations 4\n"
     ]
    }
   ],
   "source": [
    "marriage_mod = logit(\n",
    "    \"marst_after ~ np.log(IMT)+np.log(diplom)+np.log(age)+np.log(popul)+np.log(j10)+C(m3)\",\n",
    "    marriage_df[marriage_df['age']<50]).fit()"
   ]
  },
  {
   "cell_type": "code",
   "execution_count": 457,
   "id": "697a43d8",
   "metadata": {},
   "outputs": [
    {
     "data": {
      "text/plain": [
       "Intercept         0.408786\n",
       "C(m3)[T.0.0]      0.948046\n",
       "C(m3)[T.1.0]      0.831894\n",
       "C(m3)[T.2.0]      0.682253\n",
       "np.log(IMT)       0.666555\n",
       "np.log(diplom)    0.431822\n",
       "np.log(age)       0.092453\n",
       "np.log(popul)     0.541118\n",
       "np.log(j10)       0.968465\n",
       "dtype: float64"
      ]
     },
     "execution_count": 457,
     "metadata": {},
     "output_type": "execute_result"
    }
   ],
   "source": [
    "marriage_mod.pvalues"
   ]
  },
  {
   "cell_type": "code",
   "execution_count": 458,
   "id": "9470df12",
   "metadata": {},
   "outputs": [
    {
     "data": {
      "text/plain": [
       "Intercept         3.919879\n",
       "C(m3)[T.0.0]     -0.071943\n",
       "C(m3)[T.1.0]      0.236357\n",
       "C(m3)[T.2.0]     -0.599599\n",
       "np.log(IMT)       0.403276\n",
       "np.log(diplom)   -0.658490\n",
       "np.log(age)      -1.216199\n",
       "np.log(popul)     0.047080\n",
       "np.log(j10)       0.014833\n",
       "dtype: float64"
      ]
     },
     "execution_count": 458,
     "metadata": {},
     "output_type": "execute_result"
    }
   ],
   "source": [
    "marriage_mod.params"
   ]
  },
  {
   "cell_type": "code",
   "execution_count": 456,
   "id": "2f77beae",
   "metadata": {},
   "outputs": [
    {
     "data": {
      "text/plain": [
       "['__class__',\n",
       " '__delattr__',\n",
       " '__dict__',\n",
       " '__dir__',\n",
       " '__doc__',\n",
       " '__eq__',\n",
       " '__format__',\n",
       " '__ge__',\n",
       " '__getattribute__',\n",
       " '__getstate__',\n",
       " '__gt__',\n",
       " '__hash__',\n",
       " '__init__',\n",
       " '__init_subclass__',\n",
       " '__le__',\n",
       " '__lt__',\n",
       " '__module__',\n",
       " '__ne__',\n",
       " '__new__',\n",
       " '__reduce__',\n",
       " '__reduce_ex__',\n",
       " '__repr__',\n",
       " '__setattr__',\n",
       " '__sizeof__',\n",
       " '__str__',\n",
       " '__subclasshook__',\n",
       " '__weakref__',\n",
       " '_cache',\n",
       " '_data_attr',\n",
       " '_data_in_cache',\n",
       " '_get_endog_name',\n",
       " '_get_robustcov_results',\n",
       " '_use_t',\n",
       " 'aic',\n",
       " 'bic',\n",
       " 'bse',\n",
       " 'conf_int',\n",
       " 'cov_kwds',\n",
       " 'cov_params',\n",
       " 'cov_type',\n",
       " 'df_model',\n",
       " 'df_resid',\n",
       " 'f_test',\n",
       " 'fittedvalues',\n",
       " 'get_margeff',\n",
       " 'initialize',\n",
       " 'k_constant',\n",
       " 'llf',\n",
       " 'llnull',\n",
       " 'llr',\n",
       " 'llr_pvalue',\n",
       " 'load',\n",
       " 'mle_retvals',\n",
       " 'mle_settings',\n",
       " 'model',\n",
       " 'nobs',\n",
       " 'normalized_cov_params',\n",
       " 'params',\n",
       " 'pred_table',\n",
       " 'predict',\n",
       " 'prsquared',\n",
       " 'pvalues',\n",
       " 'remove_data',\n",
       " 'resid_dev',\n",
       " 'resid_generalized',\n",
       " 'resid_pearson',\n",
       " 'resid_response',\n",
       " 'save',\n",
       " 'scale',\n",
       " 'set_null_options',\n",
       " 'summary',\n",
       " 'summary2',\n",
       " 't_test',\n",
       " 't_test_pairwise',\n",
       " 'tvalues',\n",
       " 'use_t',\n",
       " 'wald_test',\n",
       " 'wald_test_terms']"
      ]
     },
     "execution_count": 456,
     "metadata": {},
     "output_type": "execute_result"
    }
   ],
   "source": [
    "dir(marriage_mod)"
   ]
  },
  {
   "cell_type": "code",
   "execution_count": 289,
   "id": "905ff11d",
   "metadata": {},
   "outputs": [
    {
     "name": "stdout",
     "output_type": "stream",
     "text": [
      "        Logit Marginal Effects       \n",
      "=====================================\n",
      "Dep. Variable:          married_after\n",
      "Method:                          dydx\n",
      "At:                           overall\n",
      "==============================================================================\n",
      "                dy/dx    std err          z      P>|z|      [0.025      0.975]\n",
      "------------------------------------------------------------------------------\n",
      "age           -0.0003      0.001     -0.468      0.640      -0.001       0.001\n",
      "popul       6.107e-09   4.37e-09      1.398      0.162   -2.46e-09    1.47e-08\n",
      "==============================================================================\n"
     ]
    }
   ],
   "source": [
    "mfx = affair_mod.get_margeff()\n",
    "print(mfx.summary())"
   ]
  },
  {
   "cell_type": "markdown",
   "id": "cfbdafca",
   "metadata": {},
   "source": [
    "## Модель на всей панели"
   ]
  },
  {
   "cell_type": "code",
   "execution_count": 588,
   "id": "2e089aaf",
   "metadata": {},
   "outputs": [],
   "source": [
    "marriage_df11=pd.concat([MARRIAGE_DF[year] for year in MARRIAGE_DF.keys()])"
   ]
  },
  {
   "cell_type": "code",
   "execution_count": 612,
   "id": "b730a813",
   "metadata": {},
   "outputs": [],
   "source": [
    "marriage_df11=pd.concat([MARRIAGE_DF[year] for year in MARRIAGE_DF.keys() if year>1999])"
   ]
  },
  {
   "cell_type": "code",
   "execution_count": 613,
   "id": "75d30332",
   "metadata": {},
   "outputs": [
    {
     "data": {
      "text/html": [
       "<div>\n",
       "<style scoped>\n",
       "    .dataframe tbody tr th:only-of-type {\n",
       "        vertical-align: middle;\n",
       "    }\n",
       "\n",
       "    .dataframe tbody tr th {\n",
       "        vertical-align: top;\n",
       "    }\n",
       "\n",
       "    .dataframe thead th {\n",
       "        text-align: right;\n",
       "    }\n",
       "</style>\n",
       "<table border=\"1\" class=\"dataframe\">\n",
       "  <thead>\n",
       "    <tr style=\"text-align: right;\">\n",
       "      <th></th>\n",
       "      <th>marst</th>\n",
       "      <th>marst_after</th>\n",
       "      <th>IMT</th>\n",
       "      <th>diplom</th>\n",
       "      <th>sex</th>\n",
       "      <th>age</th>\n",
       "      <th>popul</th>\n",
       "      <th>salary</th>\n",
       "      <th>health</th>\n",
       "    </tr>\n",
       "  </thead>\n",
       "  <tbody>\n",
       "    <tr>\n",
       "      <th>1</th>\n",
       "      <td>0.0</td>\n",
       "      <td>1.0</td>\n",
       "      <td>25.593737</td>\n",
       "      <td>11.0</td>\n",
       "      <td>Женский</td>\n",
       "      <td>46.0</td>\n",
       "      <td>10800.0</td>\n",
       "      <td>2501.0</td>\n",
       "      <td>0.0</td>\n",
       "    </tr>\n",
       "    <tr>\n",
       "      <th>50</th>\n",
       "      <td>0.0</td>\n",
       "      <td>0.0</td>\n",
       "      <td>33.057851</td>\n",
       "      <td>11.0</td>\n",
       "      <td>Женский</td>\n",
       "      <td>49.0</td>\n",
       "      <td>100.0</td>\n",
       "      <td>2801.0</td>\n",
       "      <td>0.0</td>\n",
       "    </tr>\n",
       "    <tr>\n",
       "      <th>63</th>\n",
       "      <td>0.0</td>\n",
       "      <td>1.0</td>\n",
       "      <td>25.180785</td>\n",
       "      <td>11.0</td>\n",
       "      <td>Женский</td>\n",
       "      <td>36.0</td>\n",
       "      <td>753400.0</td>\n",
       "      <td>2401.0</td>\n",
       "      <td>0.0</td>\n",
       "    </tr>\n",
       "    <tr>\n",
       "      <th>106</th>\n",
       "      <td>0.0</td>\n",
       "      <td>1.0</td>\n",
       "      <td>17.908855</td>\n",
       "      <td>10.0</td>\n",
       "      <td>Женский</td>\n",
       "      <td>20.0</td>\n",
       "      <td>753400.0</td>\n",
       "      <td>651.0</td>\n",
       "      <td>0.0</td>\n",
       "    </tr>\n",
       "    <tr>\n",
       "      <th>107</th>\n",
       "      <td>0.0</td>\n",
       "      <td>1.0</td>\n",
       "      <td>19.777699</td>\n",
       "      <td>10.0</td>\n",
       "      <td>Женский</td>\n",
       "      <td>19.0</td>\n",
       "      <td>753400.0</td>\n",
       "      <td>391.0</td>\n",
       "      <td>1.0</td>\n",
       "    </tr>\n",
       "    <tr>\n",
       "      <th>...</th>\n",
       "      <td>...</td>\n",
       "      <td>...</td>\n",
       "      <td>...</td>\n",
       "      <td>...</td>\n",
       "      <td>...</td>\n",
       "      <td>...</td>\n",
       "      <td>...</td>\n",
       "      <td>...</td>\n",
       "      <td>...</td>\n",
       "    </tr>\n",
       "    <tr>\n",
       "      <th>1280</th>\n",
       "      <td>0.0</td>\n",
       "      <td>0.0</td>\n",
       "      <td>20.964361</td>\n",
       "      <td>11.0</td>\n",
       "      <td>Женский</td>\n",
       "      <td>37.0</td>\n",
       "      <td>38000.0</td>\n",
       "      <td>36001.0</td>\n",
       "      <td>1.0</td>\n",
       "    </tr>\n",
       "    <tr>\n",
       "      <th>1311</th>\n",
       "      <td>0.0</td>\n",
       "      <td>1.0</td>\n",
       "      <td>20.957171</td>\n",
       "      <td>10.0</td>\n",
       "      <td>Женский</td>\n",
       "      <td>32.0</td>\n",
       "      <td>49700.0</td>\n",
       "      <td>23001.0</td>\n",
       "      <td>1.0</td>\n",
       "    </tr>\n",
       "    <tr>\n",
       "      <th>1328</th>\n",
       "      <td>0.0</td>\n",
       "      <td>0.0</td>\n",
       "      <td>22.857143</td>\n",
       "      <td>16.0</td>\n",
       "      <td>Женский</td>\n",
       "      <td>47.0</td>\n",
       "      <td>5398100.0</td>\n",
       "      <td>19001.0</td>\n",
       "      <td>1.0</td>\n",
       "    </tr>\n",
       "    <tr>\n",
       "      <th>1340</th>\n",
       "      <td>0.0</td>\n",
       "      <td>1.0</td>\n",
       "      <td>21.258503</td>\n",
       "      <td>16.0</td>\n",
       "      <td>Женский</td>\n",
       "      <td>34.0</td>\n",
       "      <td>12348300.0</td>\n",
       "      <td>50001.0</td>\n",
       "      <td>1.0</td>\n",
       "    </tr>\n",
       "    <tr>\n",
       "      <th>1350</th>\n",
       "      <td>0.0</td>\n",
       "      <td>0.0</td>\n",
       "      <td>21.513859</td>\n",
       "      <td>16.0</td>\n",
       "      <td>Женский</td>\n",
       "      <td>37.0</td>\n",
       "      <td>1800.0</td>\n",
       "      <td>50001.0</td>\n",
       "      <td>1.0</td>\n",
       "    </tr>\n",
       "  </tbody>\n",
       "</table>\n",
       "<p>3822 rows × 9 columns</p>\n",
       "</div>"
      ],
      "text/plain": [
       "      marst  marst_after        IMT  diplom      sex   age       popul  \\\n",
       "1       0.0          1.0  25.593737    11.0  Женский  46.0     10800.0   \n",
       "50      0.0          0.0  33.057851    11.0  Женский  49.0       100.0   \n",
       "63      0.0          1.0  25.180785    11.0  Женский  36.0    753400.0   \n",
       "106     0.0          1.0  17.908855    10.0  Женский  20.0    753400.0   \n",
       "107     0.0          1.0  19.777699    10.0  Женский  19.0    753400.0   \n",
       "...     ...          ...        ...     ...      ...   ...         ...   \n",
       "1280    0.0          0.0  20.964361    11.0  Женский  37.0     38000.0   \n",
       "1311    0.0          1.0  20.957171    10.0  Женский  32.0     49700.0   \n",
       "1328    0.0          0.0  22.857143    16.0  Женский  47.0   5398100.0   \n",
       "1340    0.0          1.0  21.258503    16.0  Женский  34.0  12348300.0   \n",
       "1350    0.0          0.0  21.513859    16.0  Женский  37.0      1800.0   \n",
       "\n",
       "       salary  health  \n",
       "1      2501.0     0.0  \n",
       "50     2801.0     0.0  \n",
       "63     2401.0     0.0  \n",
       "106     651.0     0.0  \n",
       "107     391.0     1.0  \n",
       "...       ...     ...  \n",
       "1280  36001.0     1.0  \n",
       "1311  23001.0     1.0  \n",
       "1328  19001.0     1.0  \n",
       "1340  50001.0     1.0  \n",
       "1350  50001.0     1.0  \n",
       "\n",
       "[3822 rows x 9 columns]"
      ]
     },
     "execution_count": 613,
     "metadata": {},
     "output_type": "execute_result"
    }
   ],
   "source": [
    "marriage_df11[(marriage_df11['sex']=='Женский') & (marriage_df11['age']<50)]"
   ]
  },
  {
   "cell_type": "code",
   "execution_count": 614,
   "id": "a7037718",
   "metadata": {},
   "outputs": [
    {
     "data": {
      "text/html": [
       "<div>\n",
       "<style scoped>\n",
       "    .dataframe tbody tr th:only-of-type {\n",
       "        vertical-align: middle;\n",
       "    }\n",
       "\n",
       "    .dataframe tbody tr th {\n",
       "        vertical-align: top;\n",
       "    }\n",
       "\n",
       "    .dataframe thead th {\n",
       "        text-align: right;\n",
       "    }\n",
       "</style>\n",
       "<table border=\"1\" class=\"dataframe\">\n",
       "  <thead>\n",
       "    <tr style=\"text-align: right;\">\n",
       "      <th></th>\n",
       "      <th>marst</th>\n",
       "      <th>marst_after</th>\n",
       "      <th>IMT</th>\n",
       "      <th>diplom</th>\n",
       "      <th>sex</th>\n",
       "      <th>age</th>\n",
       "      <th>popul</th>\n",
       "      <th>salary</th>\n",
       "      <th>health</th>\n",
       "    </tr>\n",
       "  </thead>\n",
       "  <tbody>\n",
       "    <tr>\n",
       "      <th>1</th>\n",
       "      <td>0.0</td>\n",
       "      <td>1.0</td>\n",
       "      <td>25.593737</td>\n",
       "      <td>11.0</td>\n",
       "      <td>Женский</td>\n",
       "      <td>46.0</td>\n",
       "      <td>10800.0</td>\n",
       "      <td>2501.0</td>\n",
       "      <td>0.0</td>\n",
       "    </tr>\n",
       "    <tr>\n",
       "      <th>50</th>\n",
       "      <td>0.0</td>\n",
       "      <td>0.0</td>\n",
       "      <td>33.057851</td>\n",
       "      <td>11.0</td>\n",
       "      <td>Женский</td>\n",
       "      <td>49.0</td>\n",
       "      <td>100.0</td>\n",
       "      <td>2801.0</td>\n",
       "      <td>0.0</td>\n",
       "    </tr>\n",
       "    <tr>\n",
       "      <th>63</th>\n",
       "      <td>0.0</td>\n",
       "      <td>1.0</td>\n",
       "      <td>25.180785</td>\n",
       "      <td>11.0</td>\n",
       "      <td>Женский</td>\n",
       "      <td>36.0</td>\n",
       "      <td>753400.0</td>\n",
       "      <td>2401.0</td>\n",
       "      <td>0.0</td>\n",
       "    </tr>\n",
       "    <tr>\n",
       "      <th>77</th>\n",
       "      <td>0.0</td>\n",
       "      <td>1.0</td>\n",
       "      <td>17.916331</td>\n",
       "      <td>11.0</td>\n",
       "      <td>Мужской</td>\n",
       "      <td>15.0</td>\n",
       "      <td>753400.0</td>\n",
       "      <td>2201.0</td>\n",
       "      <td>2.0</td>\n",
       "    </tr>\n",
       "    <tr>\n",
       "      <th>104</th>\n",
       "      <td>0.0</td>\n",
       "      <td>0.0</td>\n",
       "      <td>15.605006</td>\n",
       "      <td>16.0</td>\n",
       "      <td>Мужской</td>\n",
       "      <td>23.0</td>\n",
       "      <td>753400.0</td>\n",
       "      <td>451.0</td>\n",
       "      <td>0.0</td>\n",
       "    </tr>\n",
       "    <tr>\n",
       "      <th>...</th>\n",
       "      <td>...</td>\n",
       "      <td>...</td>\n",
       "      <td>...</td>\n",
       "      <td>...</td>\n",
       "      <td>...</td>\n",
       "      <td>...</td>\n",
       "      <td>...</td>\n",
       "      <td>...</td>\n",
       "      <td>...</td>\n",
       "    </tr>\n",
       "    <tr>\n",
       "      <th>1328</th>\n",
       "      <td>0.0</td>\n",
       "      <td>0.0</td>\n",
       "      <td>22.857143</td>\n",
       "      <td>16.0</td>\n",
       "      <td>Женский</td>\n",
       "      <td>47.0</td>\n",
       "      <td>5398100.0</td>\n",
       "      <td>19001.0</td>\n",
       "      <td>1.0</td>\n",
       "    </tr>\n",
       "    <tr>\n",
       "      <th>1340</th>\n",
       "      <td>0.0</td>\n",
       "      <td>1.0</td>\n",
       "      <td>21.258503</td>\n",
       "      <td>16.0</td>\n",
       "      <td>Женский</td>\n",
       "      <td>34.0</td>\n",
       "      <td>12348300.0</td>\n",
       "      <td>50001.0</td>\n",
       "      <td>1.0</td>\n",
       "    </tr>\n",
       "    <tr>\n",
       "      <th>1347</th>\n",
       "      <td>0.0</td>\n",
       "      <td>1.0</td>\n",
       "      <td>31.561672</td>\n",
       "      <td>10.0</td>\n",
       "      <td>Мужской</td>\n",
       "      <td>44.0</td>\n",
       "      <td>12348300.0</td>\n",
       "      <td>10001.0</td>\n",
       "      <td>0.0</td>\n",
       "    </tr>\n",
       "    <tr>\n",
       "      <th>1350</th>\n",
       "      <td>0.0</td>\n",
       "      <td>0.0</td>\n",
       "      <td>21.513859</td>\n",
       "      <td>16.0</td>\n",
       "      <td>Женский</td>\n",
       "      <td>37.0</td>\n",
       "      <td>1800.0</td>\n",
       "      <td>50001.0</td>\n",
       "      <td>1.0</td>\n",
       "    </tr>\n",
       "    <tr>\n",
       "      <th>1351</th>\n",
       "      <td>0.0</td>\n",
       "      <td>0.0</td>\n",
       "      <td>24.151673</td>\n",
       "      <td>10.0</td>\n",
       "      <td>Мужской</td>\n",
       "      <td>44.0</td>\n",
       "      <td>1800.0</td>\n",
       "      <td>50001.0</td>\n",
       "      <td>1.0</td>\n",
       "    </tr>\n",
       "  </tbody>\n",
       "</table>\n",
       "<p>6637 rows × 9 columns</p>\n",
       "</div>"
      ],
      "text/plain": [
       "      marst  marst_after        IMT  diplom      sex   age       popul  \\\n",
       "1       0.0          1.0  25.593737    11.0  Женский  46.0     10800.0   \n",
       "50      0.0          0.0  33.057851    11.0  Женский  49.0       100.0   \n",
       "63      0.0          1.0  25.180785    11.0  Женский  36.0    753400.0   \n",
       "77      0.0          1.0  17.916331    11.0  Мужской  15.0    753400.0   \n",
       "104     0.0          0.0  15.605006    16.0  Мужской  23.0    753400.0   \n",
       "...     ...          ...        ...     ...      ...   ...         ...   \n",
       "1328    0.0          0.0  22.857143    16.0  Женский  47.0   5398100.0   \n",
       "1340    0.0          1.0  21.258503    16.0  Женский  34.0  12348300.0   \n",
       "1347    0.0          1.0  31.561672    10.0  Мужской  44.0  12348300.0   \n",
       "1350    0.0          0.0  21.513859    16.0  Женский  37.0      1800.0   \n",
       "1351    0.0          0.0  24.151673    10.0  Мужской  44.0      1800.0   \n",
       "\n",
       "       salary  health  \n",
       "1      2501.0     0.0  \n",
       "50     2801.0     0.0  \n",
       "63     2401.0     0.0  \n",
       "77     2201.0     2.0  \n",
       "104     451.0     0.0  \n",
       "...       ...     ...  \n",
       "1328  19001.0     1.0  \n",
       "1340  50001.0     1.0  \n",
       "1347  10001.0     0.0  \n",
       "1350  50001.0     1.0  \n",
       "1351  50001.0     1.0  \n",
       "\n",
       "[6637 rows x 9 columns]"
      ]
     },
     "execution_count": 614,
     "metadata": {},
     "output_type": "execute_result"
    }
   ],
   "source": [
    "marriage_df11[marriage_df11['age']<50]"
   ]
  },
  {
   "cell_type": "code",
   "execution_count": 615,
   "id": "74fa01df",
   "metadata": {},
   "outputs": [
    {
     "name": "stdout",
     "output_type": "stream",
     "text": [
      "Optimization terminated successfully.\n",
      "         Current function value: 0.692782\n",
      "         Iterations 3\n",
      "                           Logit Regression Results                           \n",
      "==============================================================================\n",
      "Dep. Variable:            marst_after   No. Observations:                 3822\n",
      "Model:                          Logit   Df Residuals:                     3815\n",
      "Method:                           MLE   Df Model:                            6\n",
      "Date:                Fri, 09 Dec 2022   Pseudo R-squ.:               0.0002567\n",
      "Time:                        04:24:19   Log-Likelihood:                -2647.8\n",
      "converged:                       True   LL-Null:                       -2648.5\n",
      "Covariance Type:            nonrobust   LLR p-value:                    0.9683\n",
      "==================================================================================\n",
      "                     coef    std err          z      P>|z|      [0.025      0.975]\n",
      "----------------------------------------------------------------------------------\n",
      "Intercept          0.4826      0.709      0.681      0.496      -0.907       1.872\n",
      "np.log(IMT)       -0.0512      0.177     -0.290      0.772      -0.398       0.295\n",
      "np.log(diplom)    -0.0170      0.152     -0.112      0.911      -0.314       0.280\n",
      "np.log(age)       -0.0299      0.126     -0.238      0.812      -0.276       0.217\n",
      "np.log(popul)     -0.0054      0.012     -0.442      0.659      -0.029       0.018\n",
      "np.log(salary)    -0.0147      0.031     -0.468      0.640      -0.076       0.047\n",
      "health            -0.0434      0.057     -0.760      0.447      -0.155       0.068\n",
      "==================================================================================\n"
     ]
    }
   ],
   "source": [
    "marriage_mod1 = logit(\n",
    "    \"marst_after ~ np.log(IMT)+np.log(diplom)+np.log(age)+np.log(popul)+np.log(salary)+health\",\n",
    "   marriage_df11[(marriage_df11['sex']=='Женский') & (marriage_df11['age']<50)]).fit()\n",
    "print(marriage_mod1.summary())"
   ]
  },
  {
   "cell_type": "code",
   "execution_count": 616,
   "id": "03989124",
   "metadata": {},
   "outputs": [
    {
     "name": "stdout",
     "output_type": "stream",
     "text": [
      "Optimization terminated successfully.\n",
      "         Current function value: 0.690845\n",
      "         Iterations 4\n",
      "                           Logit Regression Results                           \n",
      "==============================================================================\n",
      "Dep. Variable:            marst_after   No. Observations:                 2815\n",
      "Model:                          Logit   Df Residuals:                     2808\n",
      "Method:                           MLE   Df Model:                            6\n",
      "Date:                Fri, 09 Dec 2022   Pseudo R-squ.:                0.003314\n",
      "Time:                        04:24:26   Log-Likelihood:                -1944.7\n",
      "converged:                       True   LL-Null:                       -1951.2\n",
      "Covariance Type:            nonrobust   LLR p-value:                   0.04415\n",
      "==================================================================================\n",
      "                     coef    std err          z      P>|z|      [0.025      0.975]\n",
      "----------------------------------------------------------------------------------\n",
      "Intercept         -0.1460      0.937     -0.156      0.876      -1.983       1.691\n",
      "np.log(IMT)       -0.1256      0.264     -0.475      0.635      -0.643       0.392\n",
      "np.log(diplom)     0.3692      0.172      2.143      0.032       0.032       0.707\n",
      "np.log(age)        0.2011      0.149      1.351      0.177      -0.091       0.493\n",
      "np.log(popul)     -0.0207      0.013     -1.561      0.119      -0.047       0.005\n",
      "np.log(salary)    -0.0827      0.038     -2.176      0.030      -0.157      -0.008\n",
      "health            -0.0103      0.064     -0.160      0.872      -0.136       0.115\n",
      "==================================================================================\n"
     ]
    }
   ],
   "source": [
    "marriage_mod1 = logit(\n",
    "    \"marst_after ~ np.log(IMT)+np.log(diplom)+np.log(age)+np.log(popul)+np.log(salary)+health\",\n",
    "    marriage_df11[(marriage_df11['sex']=='Мужской') & (marriage_df11['age']<50)]).fit()\n",
    "print(marriage_mod1.summary())"
   ]
  },
  {
   "cell_type": "code",
   "execution_count": 617,
   "id": "9e65dd2c",
   "metadata": {},
   "outputs": [
    {
     "name": "stdout",
     "output_type": "stream",
     "text": [
      "Optimization terminated successfully.\n",
      "         Current function value: 0.692602\n",
      "         Iterations 3\n",
      "                           Logit Regression Results                           \n",
      "==============================================================================\n",
      "Dep. Variable:            marst_after   No. Observations:                 6637\n",
      "Model:                          Logit   Df Residuals:                     6630\n",
      "Method:                           MLE   Df Model:                            6\n",
      "Date:                Fri, 09 Dec 2022   Pseudo R-squ.:               0.0007178\n",
      "Time:                        04:24:31   Log-Likelihood:                -4596.8\n",
      "converged:                       True   LL-Null:                       -4600.1\n",
      "Covariance Type:            nonrobust   LLR p-value:                    0.3590\n",
      "==================================================================================\n",
      "                     coef    std err          z      P>|z|      [0.025      0.975]\n",
      "----------------------------------------------------------------------------------\n",
      "Intercept          0.2867      0.556      0.515      0.606      -0.803       1.377\n",
      "np.log(IMT)       -0.0775      0.145     -0.533      0.594      -0.362       0.207\n",
      "np.log(diplom)     0.1266      0.112      1.131      0.258      -0.093       0.346\n",
      "np.log(age)        0.0400      0.094      0.423      0.672      -0.145       0.225\n",
      "np.log(popul)     -0.0117      0.009     -1.306      0.191      -0.029       0.006\n",
      "np.log(salary)    -0.0394      0.024     -1.664      0.096      -0.086       0.007\n",
      "health            -0.0225      0.042     -0.531      0.596      -0.106       0.061\n",
      "==================================================================================\n"
     ]
    }
   ],
   "source": [
    "marriage_mod1 = logit(\n",
    "    \"marst_after ~ np.log(IMT)+np.log(diplom)+np.log(age)+np.log(popul)+np.log(salary)+health\",\n",
    "    marriage_df11[(marriage_df11['age']<50)]).fit()\n",
    "print(marriage_mod1.summary())"
   ]
  },
  {
   "cell_type": "code",
   "execution_count": 586,
   "id": "ec664cc3",
   "metadata": {},
   "outputs": [
    {
     "data": {
      "text/plain": [
       "909"
      ]
     },
     "execution_count": 586,
     "metadata": {},
     "output_type": "execute_result"
    }
   ],
   "source": [
    "len(MARRIAGE_DF[1994])+len(MARRIAGE_DF[1995])"
   ]
  },
  {
   "cell_type": "code",
   "execution_count": 580,
   "id": "9fa0577a",
   "metadata": {},
   "outputs": [
    {
     "ename": "KeyError",
     "evalue": "1996",
     "output_type": "error",
     "traceback": [
      "\u001b[1;31m---------------------------------------------------------------------------\u001b[0m",
      "\u001b[1;31mKeyError\u001b[0m                                  Traceback (most recent call last)",
      "Cell \u001b[1;32mIn [580], line 1\u001b[0m\n\u001b[1;32m----> 1\u001b[0m [\u001b[38;5;28mlen\u001b[39m(MARRIAGE_DF[year]\u001b[38;5;241m.\u001b[39mindex) \u001b[38;5;28;01mfor\u001b[39;00m year \u001b[38;5;129;01min\u001b[39;00m waves_dict\u001b[38;5;241m.\u001b[39mkeys()]\n",
      "Cell \u001b[1;32mIn [580], line 1\u001b[0m, in \u001b[0;36m<listcomp>\u001b[1;34m(.0)\u001b[0m\n\u001b[1;32m----> 1\u001b[0m [\u001b[38;5;28mlen\u001b[39m(\u001b[43mMARRIAGE_DF\u001b[49m\u001b[43m[\u001b[49m\u001b[43myear\u001b[49m\u001b[43m]\u001b[49m\u001b[38;5;241m.\u001b[39mindex) \u001b[38;5;28;01mfor\u001b[39;00m year \u001b[38;5;129;01min\u001b[39;00m waves_dict\u001b[38;5;241m.\u001b[39mkeys()]\n",
      "\u001b[1;31mKeyError\u001b[0m: 1996"
     ]
    }
   ],
   "source": [
    "[len(MARRIAGE_DF[year].index) for year in waves_dict.keys()]"
   ]
  },
  {
   "cell_type": "markdown",
   "id": "8498fb36",
   "metadata": {},
   "source": [
    "## Теория статистической оценки с биномиальной объясняемой переменной "
   ]
  },
  {
   "cell_type": "markdown",
   "id": "30cfaa81",
   "metadata": {},
   "source": [
    "Рассмотрим теперь модели, в которых зависимая переменная принимает только два значения, т.е. является фиктивной переменной"
   ]
  },
  {
   "cell_type": "markdown",
   "id": "624ee989",
   "metadata": {},
   "source": [
    "В биномиальную модель входит изучаемая переменная $x$, принимающая два\n",
    "значения, а также объясняющие переменные $z$, которые содержат факторы, определяющие выбор одного из значений. Без потери общности будем предполагать, что $x$ принимает значения $0$ и $1$."
   ]
  },
  {
   "cell_type": "markdown",
   "id": "d125eda9",
   "metadata": {},
   "source": [
    "Пусть на основе имеющихся наблюдений мы оценили регрессию: $x=z\\alpha + \\epsilon$. Однако эта модель будет предсказывать абсурдные значения объясняемой переменной $x$, т.е. меньше нуля, больше нуля и дробные. "
   ]
  },
  {
   "cell_type": "markdown",
   "id": "239d0b34",
   "metadata": {},
   "source": [
    "С более формальной точки зрения данная модель не может быть корректна, т.к. у биномииальной зависимой переменной будет распределение Бернулли, то есть оно полностью задается вероятностью получения единицы. "
   ]
  },
  {
   "cell_type": "markdown",
   "id": "5f9268d4",
   "metadata": {},
   "source": [
    "$E(x)=P(x=1)*1 +P(x=0)*1=P(x=1)$"
   ]
  },
  {
   "cell_type": "markdown",
   "id": "9cc2b951",
   "metadata": {},
   "source": [
    "Ожидание $x$ при данном $z$:\n",
    "$E(x)=z\\alpha+E(\\epsilon)=z\\alpha$"
   ]
  },
  {
   "cell_type": "markdown",
   "id": "59a18f20",
   "metadata": {},
   "source": [
    "Таким образом, $E(x)=P(x=1)=z\\alpha$, т.е. вероятность ограничена, но равна не ограниченной величине и мат. ожидание может описываться только нелиейной функцией. "
   ]
  },
  {
   "cell_type": "markdown",
   "id": "602fed7f",
   "metadata": {},
   "source": [
    "Теперь получим модель, которая принимает во внимание тот факт, что вероятность не может выходить за пределы 0 и 1, и проста в оценке"
   ]
  },
  {
   "cell_type": "markdown",
   "id": "29014224",
   "metadata": {},
   "source": [
    "$P(x=1)=F(z\\alpha)$, где $F$ - некоторая достаточно простая функция, преобразующая $z\\alpha$ в число от 0 до 1. \n",
    "Естественно выбрать в качестве этой функции какую-либо дифференцируемую функцию распределенения, определенную во всей действительной прямой"
   ]
  },
  {
   "cell_type": "markdown",
   "id": "402bd0b0",
   "metadata": {},
   "source": [
    "Заметим, что если выбрать распределение соотсветсвующее равномерному распределению на отрезке от 0 до 1, то окажется что система:\n",
    "* $E(x)=P(x=1)$=... (система)\n",
    "* $0, z\\alpha<=0$\n",
    "* $z\\alpha<=0, 0=<z\\alpha<=1$\n",
    "* $1, z\\alpha>=1$"
   ]
  },
  {
   "cell_type": "markdown",
   "id": "5d3754b2",
   "metadata": {},
   "source": [
    "Но выбор равномерного распределения скорее усложняет оценку, чем ее упрощает, т.к. мат. ожидание является здесь нелинейной функцийе от ниеизвестного парвметра $\\alpha$, т.е. это нелинейная регрессия, причем функция недиффернецируема. "
   ]
  },
  {
   "cell_type": "markdown",
   "id": "20a61900",
   "metadata": {},
   "source": [
    "Линейная модель вероятности когда изучаемая зависимость слаба, и в имеющихся данных доля как нулей, так и единиц слишкмои мала. "
   ]
  },
  {
   "cell_type": "markdown",
   "id": "ff122279",
   "metadata": {},
   "source": [
    "**Удобные для логит-оценок распределения**\n",
    "\n",
    "(оба они симметричны относительно 0)"
   ]
  },
  {
   "cell_type": "markdown",
   "id": "28484b67",
   "metadata": {},
   "source": [
    "1. **Логистическое распределение** (**ЛОГИТ**)"
   ]
  },
  {
   "cell_type": "markdown",
   "id": "a30888d1",
   "metadata": {},
   "source": [
    "$\\lambda(y)=\\frac{e^y}{(1+e^y)^2}$ - плотность логистического распределения"
   ]
  },
  {
   "cell_type": "markdown",
   "id": "3012c5f6",
   "metadata": {},
   "source": [
    "$\\Lambda(y)=\\frac{e^y}{(1+e^y)}=\\frac{1}{1+e^{-y}}$ - функция распеределения"
   ]
  },
  {
   "cell_type": "markdown",
   "id": "a88bcfd8",
   "metadata": {},
   "source": [
    "Модель с биномиальной зависимой переменной с логистическими респределенным отклонением называют **логит**. Для логита:\n",
    "\n",
    "$E(x)=P(x=1)=\\Lambda(z\\alpha)=\\frac{e^{z\\alpha}}{1+e^{z\\alpha}}=\\frac{1}{1+e^{-z\\alpha}}$"
   ]
  },
  {
   "cell_type": "markdown",
   "id": "f17cb391",
   "metadata": {},
   "source": [
    "2. **Нормальное распределение** (**ПРОБИТ**)"
   ]
  },
  {
   "cell_type": "markdown",
   "id": "ccc0bf3a",
   "metadata": {},
   "source": [
    "Модель с номрально расредленным отклонением $\\epsilon$ называется  **пробит**. \n",
    "При этом используется стандартное нормальное распределение, т.е. \n",
    "$E(x)=P(x=1)=\\Phi(z\\alpha)=\\int \\phi(t)dt= \\frac{1}{\\sqrt{2\\pi}} \\int e^{-t^2/2}dt$ "
   ]
  },
  {
   "cell_type": "markdown",
   "id": "ec91b10b",
   "metadata": {},
   "source": [
    "Логистическое распределение похоже на нормальное с нулевым ожиданием и дисперсией $\\pi^2/3$. В связи с этим оценки коэффициентов в моделяъ различаются примерно на множитель $\\frac{\\pi}{\\sqrt{3}} \\approx 1.8$"
   ]
  },
  {
   "cell_type": "markdown",
   "id": "4c5d5026",
   "metadata": {},
   "source": [
    "Если вероятности далеки от границ 0 И 1 (около 0.5), то более точной оценкой множителя является величина $\\phi(0)/\\lambda(0)=\\sqrt{8/\\pi} \\approx 1.6$. \n",
    "\n",
    "При малом количестве наблюдений из=за схожести распределений сложно решить, когда следует применять логит, а когда - пробит. "
   ]
  },
  {
   "cell_type": "markdown",
   "id": "76bc5b3e",
   "metadata": {},
   "source": []
  },
  {
   "cell_type": "code",
   "execution_count": 300,
   "id": "28621f5c",
   "metadata": {
    "scrolled": false
   },
   "outputs": [
    {
     "data": {
      "text/plain": [
       "<matplotlib.legend.Legend at 0x1343caf90f0>"
      ]
     },
     "execution_count": 300,
     "metadata": {},
     "output_type": "execute_result"
    },
    {
     "data": {
      "image/png": "[encoded data removed]",
      "text/plain": [
       "<Figure size 1200x800 with 1 Axes>"
      ]
     },
     "metadata": {},
     "output_type": "display_data"
    }
   ],
   "source": [
    "fig = plt.figure(figsize=(12, 8))\n",
    "ax = fig.add_subplot(111)\n",
    "support = np.linspace(-6, 6, 1000)\n",
    "ax.plot(support, stats.logistic.cdf(support), \"r-\", label=\"Logistic\")\n",
    "ax.plot(support, stats.norm.cdf(support), label=\"Probit\")\n",
    "ax.legend()"
   ]
  },
  {
   "cell_type": "code",
   "execution_count": 301,
   "id": "5486d99d",
   "metadata": {},
   "outputs": [
    {
     "data": {
      "text/plain": [
       "<matplotlib.legend.Legend at 0x1343870efb0>"
      ]
     },
     "execution_count": 301,
     "metadata": {},
     "output_type": "execute_result"
    },
    {
     "data": {
      "image/png": "[encoded data removed]",
      "text/plain": [
       "<Figure size 1200x800 with 1 Axes>"
      ]
     },
     "metadata": {},
     "output_type": "display_data"
    }
   ],
   "source": [
    "fig = plt.figure(figsize=(12, 8))\n",
    "ax = fig.add_subplot(111)\n",
    "support = np.linspace(-6, 6, 1000)\n",
    "ax.plot(support, stats.logistic.pdf(support), \"r-\", label=\"Logistic\")\n",
    "ax.plot(support, stats.norm.pdf(support), label=\"Probit\")\n",
    "ax.legend()"
   ]
  },
  {
   "cell_type": "markdown",
   "id": "8bd52c01",
   "metadata": {},
   "source": [
    "## Оценка логит и пробит моделей"
   ]
  },
  {
   "cell_type": "markdown",
   "id": "ee41ab96",
   "metadata": {},
   "source": []
  },
  {
   "cell_type": "markdown",
   "id": "efe691d6",
   "metadata": {},
   "source": []
  },
  {
   "cell_type": "markdown",
   "id": "95e5def1",
   "metadata": {},
   "source": []
  },
  {
   "cell_type": "markdown",
   "id": "ca8f73c1",
   "metadata": {},
   "source": []
  },
  {
   "cell_type": "markdown",
   "id": "5b8315a7",
   "metadata": {},
   "source": []
  },
  {
   "cell_type": "markdown",
   "id": "8f8e0fda",
   "metadata": {},
   "source": []
  },
  {
   "cell_type": "markdown",
   "id": "d5a872fd",
   "metadata": {},
   "source": []
  }
 ],
 "metadata": {
  "kernelspec": {
   "display_name": "Python 3",
   "language": "python",
   "name": "python3"
  },
  "language_info": {
   "codemirror_mode": {
    "name": "ipython",
    "version": 3
   },
   "file_extension": ".py",
   "mimetype": "text/x-python",
   "name": "python",
   "nbconvert_exporter": "python",
   "pygments_lexer": "ipython3",
   "version": "3.10.8 (tags/v3.10.8:aaaf517, Oct 11 2022, 16:50:30) [MSC v.1933 64 bit (AMD64)]"
  },
  "latex_envs": {
   "LaTeX_envs_menu_present": true,
   "autoclose": false,
   "autocomplete": true,
   "bibliofile": "biblio.bib",
   "cite_by": "apalike",
   "current_citInitial": 1,
   "eqLabelWithNumbers": true,
   "eqNumInitial": 1,
   "hotkeys": {
    "equation": "Ctrl-E",
    "itemize": "Ctrl-I"
   },
   "labels_anchors": false,
   "latex_user_defs": false,
   "report_style_numbering": false,
   "user_envs_cfg": false
  },
  "toc": {
   "base_numbering": 1,
   "nav_menu": {},
   "number_sections": true,
   "sideBar": true,
   "skip_h1_title": false,
   "title_cell": "Table of Contents",
   "title_sidebar": "Contents",
   "toc_cell": false,
   "toc_position": {},
   "toc_section_display": true,
   "toc_window_display": false
  },
  "vscode": {
   "interpreter": {
    "hash": "54fcb5c0440e9859d1d30d5f08957b86a90a23f8f7058649cd2215c286f20b9d"
   }
  }
 },
 "nbformat": 4,
 "nbformat_minor": 5
}
