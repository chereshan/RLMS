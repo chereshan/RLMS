{
 "cells": [
  {
   "cell_type": "code",
   "execution_count": 5,
   "id": "b76132d1",
   "metadata": {},
   "outputs": [],
   "source": [
    "import RLMS_HSE.AIDS as aids\n",
    "import RLMS_HSE.reading as readrlms\n",
    "# ===================================\n",
    "from importlib import reload  "
   ]
  },
  {
   "cell_type": "markdown",
   "id": "3d0a2768",
   "metadata": {},
   "source": [
    "Что надо?\n",
    "1. Создание модели\n",
    "2. Генерация такого дф агрегированных цен, который не истощает выборку панели\n",
    "3. Реализация кроссекционной SUR-МОДЕЛИ\n",
    "4. Разработка функция для получения параметров SUR-оценки\n",
    "5. Тесты на SUR-коэффициенты\n",
    "6. \"Красивый вывод\" результатов SUR-AIDS (тепловые карты и проч.)\n",
    "7. Включение неучтеных товаров агрегации в агрегаты"
   ]
  },
  {
   "cell_type": "code",
   "execution_count": null,
   "id": "13ac14bd",
   "metadata": {},
   "outputs": [],
   "source": [
    "readrlms = reload(readrlms)\n",
    "aids = reload(aids)"
   ]
  },
  {
   "cell_type": "code",
   "execution_count": 2,
   "id": "ff984984",
   "metadata": {},
   "outputs": [
    {
     "name": "stdout",
     "output_type": "stream",
     "text": [
      "Волны 1993 года не существует.\n",
      "Загружен 1994\n",
      "Загружен 1995\n",
      "Загружен 1996\n",
      "Волны 1997 года не существует.\n",
      "Загружен 1998\n",
      "Волны 1999 года не существует.\n",
      "Загружен 2000\n",
      "Загружен 2001\n",
      "Загружен 2002\n",
      "Загружен 2003\n",
      "Загружен 2004\n",
      "Загружен 2005\n",
      "Загружен 2006\n",
      "Загружен 2007\n",
      "Загружен 2008\n",
      "Загружен 2009\n",
      "Загружен 2010\n",
      "Загружен 2011\n",
      "Загружен 2012\n",
      "Загружен 2013\n",
      "Загружен 2014\n",
      "Загружен 2015\n",
      "Загружен 2016\n",
      "Загружен 2017\n",
      "Загружен 2018\n",
      "Загружен 2019\n",
      "Загружен 2020\n",
      "Загружен 2021\n"
     ]
    }
   ],
   "source": [
    "readrlms.FAST_variable_hh()"
   ]
  },
  {
   "cell_type": "code",
   "execution_count": 9,
   "id": "bd468e37",
   "metadata": {},
   "outputs": [
    {
     "name": "stdout",
     "output_type": "stream",
     "text": [
      "Матрица 1994 построена\n",
      "Матрица 1995 построена\n",
      "Матрица 1996 построена\n",
      "Матрица 1998 построена\n",
      "Матрица 2000 построена\n",
      "Матрица 2001 построена\n",
      "Матрица 2002 построена\n",
      "Матрица 2003 построена\n",
      "Матрица 2004 построена\n",
      "Матрица 2005 построена\n",
      "Матрица 2006 построена\n",
      "Матрица 2007 построена\n",
      "Матрица 2008 построена\n",
      "Матрица 2009 построена\n",
      "Матрица 2010 построена\n",
      "Матрица 2011 построена\n",
      "Матрица 2012 построена\n",
      "Матрица 2013 построена\n",
      "Матрица 2014 построена\n",
      "Матрица 2015 построена\n",
      "Матрица 2016 построена\n",
      "Матрица 2017 построена\n",
      "Матрица 2018 построена\n",
      "Матрица 2019 построена\n",
      "Матрица 2020 построена\n",
      "Матрица 2021 построена\n"
     ]
    }
   ],
   "source": [
    "aids.FAST_AIDS_matrices(readrlms.FAST_HH_DFS)"
   ]
  },
  {
   "cell_type": "markdown",
   "id": "4e438a35",
   "metadata": {},
   "source": [
    "## Реализация рабочих функций генерации коэффициентов "
   ]
  },
  {
   "cell_type": "code",
   "execution_count": 10,
   "id": "bfbb3533",
   "metadata": {},
   "outputs": [],
   "source": [
    "def alpha_AIDS(df, price_index='Stone', style='Bondarev', constrained=False,  homo=True, sym=True, fitted=False):\n",
    "    df=aids.SUR_AIDS(df, price_index=price_index, style=style, constrained=constrained,  homo=homo, sym=sym, fitted=fitted).fit().params\n",
    "    fin={}\n",
    "    for par in df.index:\n",
    "        if '_const' in par:\n",
    "            fin[par]=df[par]\n",
    "    fin['Неалкогольные напитки_const']=1-sum(fin.values())\n",
    "    return pd.Series(fin)"
   ]
  },
  {
   "cell_type": "code",
   "execution_count": 11,
   "id": "44308df4",
   "metadata": {},
   "outputs": [],
   "source": [
    "def beta_AIDS(df, price_index='Stone', style='Bondarev', constrained=False,  homo=True, sym=True, fitted=False):\n",
    "    df=aids.SUR_AIDS(df, price_index=price_index, style=style, constrained=constrained,  homo=homo, sym=sym, fitted=fitted).fit().params\n",
    "    fin={}\n",
    "    for par in df.index:\n",
    "        if '_Остаток' in par:\n",
    "            fin[par]=df[par]\n",
    "    fin['Неалкогольные напитки_const']=-sum(fin.values())\n",
    "    return pd.Series(fin)"
   ]
  },
  {
   "cell_type": "code",
   "execution_count": 12,
   "id": "43b889be",
   "metadata": {},
   "outputs": [],
   "source": [
    "def gamma_AIDS(df, price_index='Stone', style='Bondarev', constrained=False,  homo=True, sym=True, fitted=False):\n",
    "    f_gamma=aids.SUR_AIDS(df, price_index=price_index, style=style, constrained=constrained,  homo=homo, sym=sym, fitted=fitted).fit().params\n",
    "    f_list=[]\n",
    "    for par in list(f_gamma.index):\n",
    "        if '_Цена' in par:\n",
    "            f_list.append(par)\n",
    "    f_gamma=f_gamma.loc[f_list]\n",
    "    \n",
    "    for i in ['_Цена на Бакалея','_Цена на Овощи-фрукты',\n",
    "              '_Цена на Мясо-рыба','_Цена на Молоко',\n",
    "              '_Цена на Кондитерские изделия','_Цена на Алкоголь',\n",
    "              '_Цена на Неалкогольные напитки']:\n",
    "        f_gamma_2=[]\n",
    "        for j in f_gamma.index:\n",
    "            if i in j:\n",
    "                f_gamma_2.append(j)\n",
    "        f_gamma['Неалкогольные напитки{0}'.format(i)]=-f_gamma.loc[f_gamma_2].sum()\n",
    "    return f_gamma"
   ]
  },
  {
   "cell_type": "code",
   "execution_count": null,
   "id": "948ecd7b",
   "metadata": {},
   "outputs": [],
   "source": []
  }
 ],
 "metadata": {
  "kernelspec": {
   "display_name": "Python [conda env:my_env] *",
   "language": "python",
   "name": "conda-env-my_env-py"
  },
  "language_info": {
   "codemirror_mode": {
    "name": "ipython",
    "version": 3
   },
   "file_extension": ".py",
   "mimetype": "text/x-python",
   "name": "python",
   "nbconvert_exporter": "python",
   "pygments_lexer": "ipython3",
   "version": "3.7.16"
  },
  "latex_envs": {
   "LaTeX_envs_menu_present": true,
   "autoclose": false,
   "autocomplete": true,
   "bibliofile": "biblio.bib",
   "cite_by": "apalike",
   "current_citInitial": 1,
   "eqLabelWithNumbers": true,
   "eqNumInitial": 1,
   "hotkeys": {
    "equation": "Ctrl-E",
    "itemize": "Ctrl-I"
   },
   "labels_anchors": false,
   "latex_user_defs": false,
   "report_style_numbering": false,
   "user_envs_cfg": false
  },
  "toc": {
   "base_numbering": 1,
   "nav_menu": {},
   "number_sections": true,
   "sideBar": true,
   "skip_h1_title": false,
   "title_cell": "Table of Contents",
   "title_sidebar": "Contents",
   "toc_cell": false,
   "toc_position": {},
   "toc_section_display": true,
   "toc_window_display": false
  },
  "varInspector": {
   "cols": {
    "lenName": 16,
    "lenType": 16,
    "lenVar": 40
   },
   "kernels_config": {
    "python": {
     "delete_cmd_postfix": "",
     "delete_cmd_prefix": "del ",
     "library": "var_list.py",
     "varRefreshCmd": "print(var_dic_list())"
    },
    "r": {
     "delete_cmd_postfix": ") ",
     "delete_cmd_prefix": "rm(",
     "library": "var_list.r",
     "varRefreshCmd": "cat(var_dic_list()) "
    }
   },
   "types_to_exclude": [
    "module",
    "function",
    "builtin_function_or_method",
    "instance",
    "_Feature"
   ],
   "window_display": false
  }
 },
 "nbformat": 4,
 "nbformat_minor": 5
}
