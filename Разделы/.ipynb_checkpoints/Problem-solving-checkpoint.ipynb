{
 "cells": [
  {
   "cell_type": "markdown",
   "id": "d2e42496",
   "metadata": {},
   "source": [
    "**Задачи:**\n",
    "1. Нет гипотез\n",
    "2. Проблема нулевых фич (разряженные данные)\n",
    "3. Проблема не полностью рандомных пропусков\n",
    "4. Проблема двухшагового бюджетирования\n",
    "5. Проблема пропусков\n",
    "6. Проблема неверной классификации\n",
    "7. Проблема того, что данные - это временной ряд\n",
    "8. Проблема с имплементацией SUR и ограничениями\n",
    "9. Имплементация методом максимального правдоподобия\n",
    "10. Имплементация библиотека\n",
    "11. Оформление ее по шаблонам оформления питон-библиотек\n",
    "12. ~~Скачивание датасета с дропа~~\n",
    "13. Работа с исключениями функций библиотеки\n",
    "14. Проблема реализации базы данных как реальной базы данных SQL \n",
    "15. Альтернативные агрегации\n",
    "16. "
   ]
  },
  {
   "cell_type": "markdown",
   "id": "aca0c394",
   "metadata": {},
   "source": [
    "# Разработка библиотеки"
   ]
  },
  {
   "cell_type": "markdown",
   "id": "248552ba",
   "metadata": {},
   "source": [
    "**Источники:**\n",
    "1. [Документация функций](https://pandas.pydata.org/docs/development/contributing_docstring.html#:~:text=A%20Python%20docstring%20is%20a,html)"
   ]
  },
  {
   "cell_type": "markdown",
   "id": "8388ffe0",
   "metadata": {},
   "source": [
    "# Подтягивание базы данных с дропа"
   ]
  },
  {
   "cell_type": "markdown",
   "id": "b916fb22",
   "metadata": {},
   "source": [
    "Надо написать функцию, которая скачивает с сайта Яндекс.Диск архив (или архивы отдельных волн), а потом разархивирует его в пространство имен. "
   ]
  },
  {
   "cell_type": "markdown",
   "id": "fb841f24",
   "metadata": {},
   "source": [
    "Задача выполнена, если она доведена до стостояния MVP. Т.е. не уходить в перфекционизм, а считать задачу выполненной в тот же момент, как достигнут минимально жизнеспособный продукт. "
   ]
  },
  {
   "cell_type": "markdown",
   "id": "24ec2f2e",
   "metadata": {},
   "source": [
    "Свойства функции: \n",
    "1. Можно скачать промежуток лет или только 1 год\n",
    "2. Можно скачать только индивидуальные данные, или только данные по ДХ\n",
    "3. Можно скачать всю базу данных\n",
    "4. Можно выбрать путь скачивания и путь разархивации\n",
    "5. Функция задокументирована\n",
    "6. Функция задокументирована по правилам документации"
   ]
  },
  {
   "cell_type": "markdown",
   "id": "2120c56a",
   "metadata": {},
   "source": [
    "* Первый аргумент может принять лист лет. Иначе скачивает и разархивирует всю базу данных.\n",
    "* Второй дополнительный аргумент может принять буквенный код волны исследования.\n",
    "* Третий аргумент - это путь скачивания и разархивации. Если нет то скачивает в активную директорию. \n",
    "* Доп. аргумент - удаление архива после разарахивации. (по умолчанию удаляет) \n",
    "* Сделать путь универсальным в независимости от операционной системы. \n",
    "* необяазтельный аргумент, который включает отображение прогресса скачивания, архивации и удаления архива. "
   ]
  },
  {
   "cell_type": "code",
   "execution_count": 34,
   "id": "32d1d292",
   "metadata": {},
   "outputs": [],
   "source": [
    "import requests\n",
    "import zipfile\n",
    "import os\n",
    "import sys\n",
    "\n",
    "def download_rlms_db(year='all', path='active_dir',var='all', del_zip=True):\n",
    "    \"\"\"\n",
    "    Скачивает в выбранный путь (или в текущую директорию) базу данных RLMS. \n",
    "    \n",
    "    Параметры\n",
    "    ---------\n",
    "    year : integer, list, string, optional\n",
    "        (default 'all')\n",
    "        Год волны исследования, или список лет исследования.\n",
    "        Если 'all', то скачивают базу данных полностью. \n",
    "    path : string, optional\n",
    "        (default 'active_dir')\n",
    "        Директория загрузки базы данных исследования.\n",
    "    del_zip : bool, optional\n",
    "        (default True)\n",
    "        Если True, то удаляет скачанный архив после разархивирования. \n",
    "        Если False, то не удаляет архив после разархивирования. \n",
    "    var : string, optional\n",
    "        (default 'all')\n",
    "        Если 'hh', то загружает только данные домохозяйств. \n",
    "        Если 'ind', то загружает только данные индивидов. \n",
    "    verbose : bool, optional\n",
    "        (default False)\n",
    "        Если True, то отображает прогресс работы функции. \n",
    "        Если False, то не отображает прогресс работы функции. \n",
    "    \"\"\"\n",
    "    \n",
    "    \n",
    "    base_url = 'https://cloud-api.yandex.net/v1/disk/public/resources/download?'\n",
    "    link = 'https://disk.yandex.ru/d/q8w4Od9tPqPl5Q'  # Сюда вписываете вашу ссылку\n",
    "    \n",
    "    # Получаем загрузочную ссылку\n",
    "    final_url = base_url + 'public_key=' + link\n",
    "    response = requests.get(final_url)\n",
    "    download_url = response.json()['href']\n",
    "    \n",
    "    if path=='active_dir':\n",
    "        path=''\n",
    "    \n",
    "    download_response = requests.get(download_url)\n",
    "    with open(f'{path}archive_rlms.zip', 'wb') as f:   # Здесь укажите нужный путь к файлу\n",
    "        f.write(download_response.content)\n",
    "        \n",
    "    with zipfile.ZipFile(f'{path}archive_rlms.zip', 'r') as zip_ref:\n",
    "        zip_ref.extractall()\n",
    "    \n",
    "    if del_zip==True:\n",
    "        os.remove('archive_rlms.zip')"
   ]
  },
  {
   "cell_type": "code",
   "execution_count": 154,
   "id": "087f495f",
   "metadata": {},
   "outputs": [],
   "source": [
    "download_rlms_db()"
   ]
  },
  {
   "cell_type": "markdown",
   "id": "a920572a",
   "metadata": {},
   "source": [
    "**Пример реализации прогресса функции**"
   ]
  },
  {
   "cell_type": "code",
   "execution_count": 56,
   "id": "cfbc1b4e",
   "metadata": {},
   "outputs": [
    {
     "name": "stdout",
     "output_type": "stream",
     "text": [
      "Sends a GET request.\n",
      "\n",
      "    :param url: URL for the new :class:`Request` object.\n",
      "    :param params: (optional) Dictionary, list of tuples or bytes to send\n",
      "        in the query string for the :class:`Request`.\n",
      "    :param \\*\\*kwargs: Optional arguments that ``request`` takes.\n",
      "    :return: :class:`Response <Response>` object\n",
      "    :rtype: requests.Response\n",
      "    \n"
     ]
    }
   ],
   "source": [
    "print(requests.get.__doc__)"
   ]
  },
  {
   "cell_type": "code",
   "execution_count": 142,
   "id": "c78e21ff",
   "metadata": {},
   "outputs": [],
   "source": [
    "def download_file(url):\n",
    "    r = requests.get(url, stream=True)\n",
    "    total_size = int(r.headers.get('Content-Length', 0))\n",
    "    with open('RLMS_db.zip', 'wb') as f:\n",
    "        for chunk in tqdm(r.iter_content(32*1024), total=total_size, unit='B', unit_scale=True):\n",
    "            if chunk:\n",
    "                f.write(chunk)"
   ]
  },
  {
   "cell_type": "code",
   "execution_count": null,
   "id": "1f0fac33",
   "metadata": {},
   "outputs": [],
   "source": [
    "final_url"
   ]
  },
  {
   "cell_type": "code",
   "execution_count": 144,
   "id": "7b9fe6dc",
   "metadata": {},
   "outputs": [
    {
     "data": {
      "text/plain": [
       "'\\n    Decorate an iterable object, returning an iterator which acts exactly\\n    like the original iterable, but prints a dynamically updating\\n    progressbar every time a value is requested.\\n    '"
      ]
     },
     "execution_count": 144,
     "metadata": {},
     "output_type": "execute_result"
    }
   ],
   "source": [
    "tqdm.__doc__"
   ]
  },
  {
   "cell_type": "code",
   "execution_count": 146,
   "id": "a164d932",
   "metadata": {
    "scrolled": true
   },
   "outputs": [
    {
     "name": "stderr",
     "output_type": "stream",
     "text": [
      "  1%|▌                                                                                 | 1.00/152 [00:00<00:00, 325B/s]\n"
     ]
    }
   ],
   "source": [
    "download_file(download_url)"
   ]
  },
  {
   "cell_type": "code",
   "execution_count": null,
   "id": "100466f3",
   "metadata": {},
   "outputs": [],
   "source": [
    "download_response = requests.get(download_url)\n",
    "with open(f'{path}archive_rlms.zip', 'wb') as f:   # Здесь укажите нужный путь к файлу\n",
    "    f.write(download_response.content)"
   ]
  },
  {
   "cell_type": "code",
   "execution_count": 147,
   "id": "aa0bfce0",
   "metadata": {},
   "outputs": [
    {
     "data": {
      "text/plain": [
       "'https://downloader.disk.yandex.ru/zip/9cbeebe636875485e4684e00f7449eeb903ca9361a22c8d4d1592bf2d79f3433/642c8343/SjUvK1kzMDRzNWFMYzk5MFZnRnNJaDJPRmFKcEIvc254cm55MFdRUzhIT0U2cDRwT0RudEU2Sk1YdWNHb21vK3EvSjZicG1SeU9Kb25UM1ZvWG5EYWc9PTo=?uid=0&filename=RLMS_db.zip&disposition=attachment&hash=J5/%2BY304s5aLc990VgFsIh2OFaJpB/snxrny0WQS8HOE6p4pODntE6JMXucGomo%2Bq/J6bpmRyOJonT3VoXnDag%3D%3D%3A&limit=0&owner_uid=122260022&tknv=v2'"
      ]
     },
     "execution_count": 147,
     "metadata": {},
     "output_type": "execute_result"
    }
   ],
   "source": [
    "download_url"
   ]
  },
  {
   "cell_type": "markdown",
   "id": "d5b5ca92",
   "metadata": {},
   "source": [
    "**!!! не протестировано скачивание по выбранному пути**"
   ]
  },
  {
   "cell_type": "markdown",
   "id": "2e10dabb",
   "metadata": {},
   "source": [
    "# Универсальный ридер"
   ]
  },
  {
   "cell_type": "markdown",
   "id": "fed59159",
   "metadata": {},
   "source": [
    "Объединение функций чтения базы данных РЛМС. \n",
    "\n",
    "**Что должна уметь:**\n",
    "1. Загрузить весь датасет\n",
    "2. Загрузить только ДХ\n",
    "3. Загрузить только инд\n",
    "4. Загрузить только один год\n",
    "5. Загрзить лист лет\n",
    "6. Загрузить по кодификаторам"
   ]
  },
  {
   "cell_type": "code",
   "execution_count": null,
   "id": "a1c0aab1",
   "metadata": {},
   "outputs": [],
   "source": [
    "def read_rlms(year, var, path=):\n",
    "    \"\"\"\n",
    "    \n",
    "    \n",
    "    Параметры\n",
    "    ---------\n",
    "    year : integer, list, string\n",
    "        (default 'all')\n",
    "        Если 'all', то загружает все волны исследования. \n",
    "    path : string, optional\n",
    "        (default )\n",
    "        Директория базы данных\n",
    "    var: string\n",
    "        (default )\n",
    "        Если 'all' \n",
    "        Если 'hh'\n",
    "        Если 'ind'\n",
    "    \"\"\"\n",
    "    if type(year)==int:\n",
    "        if var=='hh':\n",
    "            return download_wave_hh(year=year, path=path)\n",
    "        if var=='ind':\n",
    "            return download_wave_ind(year=year, path=path)\n",
    "    if type(year)==list:\n",
    "        if var=='hh':\n",
    "            return download_period_ind(period=year,path=path)\n",
    "        if var=='ind':\n",
    "            return download_period_ind(period=year,path=path)\n",
    "    if year=='all':\n",
    "        if var=='hh':\n",
    "            return FAST_variable_hh(path=path)\n",
    "        if var=='ind':\n",
    "            return FAST_variable_ind(path=path)\n",
    "        \n",
    "        "
   ]
  },
  {
   "cell_type": "code",
   "execution_count": null,
   "id": "11ab765a",
   "metadata": {},
   "outputs": [],
   "source": [
    "def download_wave_ind(year,path=r'C:\\Users\\user\\Desktop\\Saved\\Репрезентативная выборка 06.09.2022'):\n",
    "    \"\"\"\n",
    "    Загрузка выбранной волны инидвидуальных данных из выбранной директории на диске.\n",
    "    \n",
    "    Параметры\n",
    "    ---------\n",
    "    year : integer\n",
    "        Год волны исследования.\n",
    "    path : string\n",
    "        Директория волн исследования.\n",
    "    \"\"\"\n",
    "    if (year<1994) or (year==1997) or (year==1999):\n",
    "        print('Волны {0} года не существует.'.format(year))\n",
    "    else:\n",
    "        filename=os.listdir(r'{0}\\{1}-я волна\\ИНДИВИДЫ'.format(path,waves_dict[year][0]))[0]\n",
    "        return pd.read_spss(r'{0}\\{1}-я волна\\ИНДИВИДЫ\\{2}'.format(path,waves_dict[year][0],filename))"
   ]
  }
 ],
 "metadata": {
  "kernelspec": {
   "display_name": "Python 3 (ipykernel)",
   "language": "python",
   "name": "python3"
  },
  "language_info": {
   "codemirror_mode": {
    "name": "ipython",
    "version": 3
   },
   "file_extension": ".py",
   "mimetype": "text/x-python",
   "name": "python",
   "nbconvert_exporter": "python",
   "pygments_lexer": "ipython3",
   "version": "3.7.16"
  },
  "latex_envs": {
   "LaTeX_envs_menu_present": true,
   "autoclose": false,
   "autocomplete": true,
   "bibliofile": "biblio.bib",
   "cite_by": "apalike",
   "current_citInitial": 1,
   "eqLabelWithNumbers": true,
   "eqNumInitial": 1,
   "hotkeys": {
    "equation": "Ctrl-E",
    "itemize": "Ctrl-I"
   },
   "labels_anchors": false,
   "latex_user_defs": false,
   "report_style_numbering": false,
   "user_envs_cfg": false
  },
  "toc": {
   "base_numbering": 1,
   "nav_menu": {},
   "number_sections": true,
   "sideBar": true,
   "skip_h1_title": false,
   "title_cell": "Table of Contents",
   "title_sidebar": "Contents",
   "toc_cell": false,
   "toc_position": {},
   "toc_section_display": true,
   "toc_window_display": false
  },
  "varInspector": {
   "cols": {
    "lenName": 16,
    "lenType": 16,
    "lenVar": 40
   },
   "kernels_config": {
    "python": {
     "delete_cmd_postfix": "",
     "delete_cmd_prefix": "del ",
     "library": "var_list.py",
     "varRefreshCmd": "print(var_dic_list())"
    },
    "r": {
     "delete_cmd_postfix": ") ",
     "delete_cmd_prefix": "rm(",
     "library": "var_list.r",
     "varRefreshCmd": "cat(var_dic_list()) "
    }
   },
   "types_to_exclude": [
    "module",
    "function",
    "builtin_function_or_method",
    "instance",
    "_Feature"
   ],
   "window_display": false
  }
 },
 "nbformat": 4,
 "nbformat_minor": 5
}
