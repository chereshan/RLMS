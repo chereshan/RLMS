{
 "cells": [
  {
   "cell_type": "markdown",
   "id": "004bc36b",
   "metadata": {},
   "source": [
    "# Модель брачного выбора на RLMS-HSE"
   ]
  },
  {
   "cell_type": "markdown",
   "id": "6e8b7fff",
   "metadata": {
    "heading_collapsed": true
   },
   "source": [
    "## Подключение библиотеки\n",
    "\n",
    "Здесь позже будет чисто подключение библиотеки, а не называание функций "
   ]
  },
  {
   "cell_type": "code",
   "execution_count": 1,
   "id": "6f0b42b2",
   "metadata": {
    "hidden": true
   },
   "outputs": [],
   "source": [
    "#Задействованные модули\n",
    "import pandas as pd\n",
    "import os\n",
    "import numpy as np\n",
    "# import matplotlib.pyplot as plt\n",
    "# import statsmodels.formula.api as smf"
   ]
  },
  {
   "cell_type": "code",
   "execution_count": 2,
   "id": "da99ccd7",
   "metadata": {
    "hidden": true
   },
   "outputs": [],
   "source": [
    "#================================================================================================================\n",
    "waves_dict={1994:[5,'A'],\n",
    "           1995:[6,'B'],\n",
    "           1996:[7,'C'],\n",
    "           1998:[8,'D'],\n",
    "           2000:[9,'E'],\n",
    "           2001:[10,'F'],\n",
    "           2002:[11,'G'],\n",
    "           2003:[12,'H'],\n",
    "           2004:[13,'I'],\n",
    "           2005:[14,'J'],\n",
    "           2006:[15,'K'],\n",
    "           2007:[16,'L'],\n",
    "           2008:[17,'M'],\n",
    "           2009:[18,'N'],\n",
    "           2010:[19,'O'],\n",
    "           2011:[20,'P'],\n",
    "           2012:[21,'Q'],\n",
    "           2013:[22,'R'],\n",
    "           2014:[23,'S'],\n",
    "           2015:[24,'T'],\n",
    "           2016:[25,'U'],\n",
    "           2017:[26,'V'],\n",
    "           2018:[27,'W'],\n",
    "           2019:[28,'X'],\n",
    "           2020:[29,'Y'],\n",
    "           2021:[30,'Z'] \n",
    "           }\n",
    "#=========================================================================================="
   ]
  },
  {
   "cell_type": "code",
   "execution_count": 3,
   "id": "7aa3fc50",
   "metadata": {
    "hidden": true
   },
   "outputs": [],
   "source": [
    "def download_wave_ind(year,path=r'C:\\Users\\user\\Desktop\\Saved\\Репрезентативная выборка 06.09.2022'):\n",
    "    if (year<1994) or (year==1997) or (year==1999):\n",
    "        print('Волны {0} года не существует.'.format(year))\n",
    "    else:\n",
    "        filename=os.listdir(r'{0}\\{1}-я волна\\ИНДИВИДЫ'.format(path,waves_dict[year][0]))[0]\n",
    "        return pd.read_spss(r'{0}\\{1}-я волна\\ИНДИВИДЫ\\{2}'.format(path,waves_dict[year][0],filename))"
   ]
  },
  {
   "cell_type": "code",
   "execution_count": 4,
   "id": "3fe9aa48",
   "metadata": {
    "hidden": true
   },
   "outputs": [],
   "source": [
    "#==========================================================================================\n",
    " # Загрузка в словарь нескольких волн исследования\n",
    "def download_period_ind(period,path):\n",
    "    dict_ind_period={}\n",
    "    for i in period:\n",
    "        if (i<1994) or (i==1997) or (i==1999):\n",
    "            print('Волны {0} года не существует.'.format(i))\n",
    "            continue\n",
    "        dict_ind_period[i]=download_wave_ind(i,path)\n",
    "        print('Загружен ',i)\n",
    "    return dict_ind_period"
   ]
  },
  {
   "cell_type": "code",
   "execution_count": 5,
   "id": "cc1a6da0",
   "metadata": {
    "hidden": true
   },
   "outputs": [],
   "source": [
    "#==========================================================================================\n",
    "# Загрузка данных для работы FAST-функций\n",
    "def FAST_variable_ind(path):\n",
    "    global FAST_INDS_DFS\n",
    "    FAST_INDS_DFS=download_period_ind(list(range(1993,2022)),path=path)"
   ]
  },
  {
   "cell_type": "code",
   "execution_count": 6,
   "id": "da5bb029",
   "metadata": {
    "hidden": true
   },
   "outputs": [],
   "source": [
    "#==========================================================================================\n",
    "#======здесь должно быть тоже самое для ДХ======================\n",
    "#==========================================================================================\n",
    "#==========================================================================================\n",
    "#==========================================================================================\n",
    "#=========================================================================================="
   ]
  },
  {
   "cell_type": "code",
   "execution_count": 7,
   "id": "0a2931db",
   "metadata": {
    "hidden": true
   },
   "outputs": [],
   "source": [
    "# Загрузка фрейма данных волны выбранного года из папки\n",
    "def download_wave_hh(year,path=r'C:\\Users\\user\\Desktop\\Saved\\Репрезентативная выборка 06.09.2022'):\n",
    "    if (year<1994) or (year==1997) or (year==1999):\n",
    "        print('Волны {0} года не существует.'.format(year))\n",
    "    else:\n",
    "        filename=os.listdir(r'{0}\\{1}-я волна\\ДОМОХОЗЯЙСТВА'.format(path,waves_dict[year][0]))[0]\n",
    "        return pd.read_spss(r'{0}\\{1}-я волна\\ДОМОХОЗЯЙСТВА\\{2}'.format(path,waves_dict[year][0],filename))"
   ]
  },
  {
   "cell_type": "code",
   "execution_count": 8,
   "id": "b7161c53",
   "metadata": {
    "hidden": true
   },
   "outputs": [],
   "source": [
    "#==========================================================================================\n",
    "# Загрузка в словарь нескольких волн исследования\n",
    "def download_period_hh(period,path):\n",
    "    dict_hh_period={}\n",
    "    for i in period:\n",
    "        if (i<1994) or (i==1997) or (i==1999):\n",
    "            print('Волны {0} года не существует.'.format(i))\n",
    "            continue\n",
    "        dict_hh_period[i]=download_wave_hh(i,path)\n",
    "        print('Загружен ',i)\n",
    "    return dict_hh_period"
   ]
  },
  {
   "cell_type": "code",
   "execution_count": 9,
   "id": "b5da8a81",
   "metadata": {
    "hidden": true
   },
   "outputs": [],
   "source": [
    "def FAST_variable_hh(path):\n",
    "    global FAST_HH_DFS\n",
    "    FAST_HH_DFS=download_period_hh(list(range(1993,2022)),path=path)"
   ]
  },
  {
   "cell_type": "markdown",
   "id": "5c588033",
   "metadata": {
    "heading_collapsed": true
   },
   "source": [
    "## **Загружаем датафрейм с индивидами и ДХ**"
   ]
  },
  {
   "cell_type": "code",
   "execution_count": 10,
   "id": "1886d17c",
   "metadata": {
    "hidden": true
   },
   "outputs": [
    {
     "name": "stdout",
     "output_type": "stream",
     "text": [
      "Волны 1993 года не существует.\n",
      "Загружен  1994\n",
      "Загружен  1995\n",
      "Загружен  1996\n",
      "Волны 1997 года не существует.\n",
      "Загружен  1998\n",
      "Волны 1999 года не существует.\n",
      "Загружен  2000\n",
      "Загружен  2001\n",
      "Загружен  2002\n",
      "Загружен  2003\n",
      "Загружен  2004\n",
      "Загружен  2005\n",
      "Загружен  2006\n",
      "Загружен  2007\n",
      "Загружен  2008\n",
      "Загружен  2009\n",
      "Загружен  2010\n",
      "Загружен  2011\n",
      "Загружен  2012\n",
      "Загружен  2013\n",
      "Загружен  2014\n",
      "Загружен  2015\n",
      "Загружен  2016\n",
      "Загружен  2017\n",
      "Загружен  2018\n",
      "Загружен  2019\n",
      "Загружен  2020\n",
      "Загружен  2021\n"
     ]
    }
   ],
   "source": [
    "FAST_variable_ind(r'C:\\Users\\79618\\Desktop\\Saved\\Репрезентативная выборка 06.09.2022')"
   ]
  },
  {
   "cell_type": "code",
   "execution_count": 11,
   "id": "c9214bf0",
   "metadata": {
    "hidden": true,
    "scrolled": false
   },
   "outputs": [
    {
     "name": "stdout",
     "output_type": "stream",
     "text": [
      "Волны 1993 года не существует.\n",
      "Загружен  1994\n",
      "Загружен  1995\n",
      "Загружен  1996\n",
      "Волны 1997 года не существует.\n",
      "Загружен  1998\n",
      "Волны 1999 года не существует.\n",
      "Загружен  2000\n",
      "Загружен  2001\n",
      "Загружен  2002\n",
      "Загружен  2003\n",
      "Загружен  2004\n",
      "Загружен  2005\n",
      "Загружен  2006\n",
      "Загружен  2007\n",
      "Загружен  2008\n",
      "Загружен  2009\n",
      "Загружен  2010\n",
      "Загружен  2011\n",
      "Загружен  2012\n",
      "Загружен  2013\n",
      "Загружен  2014\n",
      "Загружен  2015\n",
      "Загружен  2016\n",
      "Загружен  2017\n",
      "Загружен  2018\n",
      "Загружен  2019\n",
      "Загружен  2020\n",
      "Загружен  2021\n"
     ]
    }
   ],
   "source": [
    "FAST_variable_hh(r'C:\\Users\\79618\\Desktop\\Saved\\Репрезентативная выборка 06.09.2022')"
   ]
  },
  {
   "cell_type": "markdown",
   "id": "a2f00320",
   "metadata": {
    "heading_collapsed": true
   },
   "source": [
    "## Дополнительно разработано\n",
    "(В ходе работы над проектом)"
   ]
  },
  {
   "cell_type": "markdown",
   "id": "de6ba7b9",
   "metadata": {
    "hidden": true
   },
   "source": [
    "**Переименование атрибутов**"
   ]
  },
  {
   "cell_type": "code",
   "execution_count": 24,
   "id": "f1b3c01d",
   "metadata": {
    "hidden": true
   },
   "outputs": [],
   "source": [
    "def good_namer(year):\n",
    "    save=FAST_INDS_DFS[year].copy(deep=1)\n",
    "    for i in save.columns:\n",
    "        bad=waves_dict[year][1].lower()\n",
    "        if 'id' in i:\n",
    "            pass\n",
    "        elif str(bad+'_') in i:\n",
    "            save=save.rename(columns={i: i[2:]})\n",
    "        elif bad==i[0]:\n",
    "            save=save.rename(columns={i: i[1:]})\n",
    "    return save"
   ]
  },
  {
   "cell_type": "code",
   "execution_count": 25,
   "id": "293b6145",
   "metadata": {
    "hidden": true
   },
   "outputs": [],
   "source": [
    "def good_namer_period(period):\n",
    "    dict_ind_period={}\n",
    "    for i in period:\n",
    "        if (i<1994) or (i==1997) or (i==1999):\n",
    "            print('Волны {0} года не существует.'.format(i))\n",
    "            continue\n",
    "        dict_ind_period[i]=good_namer(i)\n",
    "        print('Исправлен ',i)\n",
    "    return dict_ind_period"
   ]
  },
  {
   "cell_type": "code",
   "execution_count": 26,
   "id": "ffd826b8",
   "metadata": {
    "hidden": true
   },
   "outputs": [],
   "source": [
    "def corrector(year):\n",
    "    save=good_namer(year)\n",
    "    save.loc[:,'marst']=save.loc[:,'marst'].cat.rename_categories({'Bдовец (вдова)':'Вдовец (вдова)'})\n",
    "    return save"
   ]
  },
  {
   "cell_type": "code",
   "execution_count": 27,
   "id": "ac364954",
   "metadata": {
    "hidden": true
   },
   "outputs": [],
   "source": [
    "def corrector_period(period):\n",
    "    dict_ind_period={}\n",
    "    for i in period:\n",
    "        if (i<1994) or (i==1997) or (i==1999):\n",
    "            print('Волны {0} года не существует.'.format(i))\n",
    "            continue\n",
    "        dict_ind_period[i]=corrector(i)\n",
    "        print('Исправлен ',i)\n",
    "    return dict_ind_period"
   ]
  },
  {
   "cell_type": "markdown",
   "id": "d8a632d8",
   "metadata": {
    "hidden": true
   },
   "source": [
    "### Найденные в БД ошибки"
   ]
  },
  {
   "cell_type": "code",
   "execution_count": null,
   "id": "35072af2",
   "metadata": {
    "hidden": true
   },
   "outputs": [],
   "source": [
    "{'marst':{'Bдовец (вдова)':'Вдовец (вдова)'}\n",
    "}"
   ]
  },
  {
   "cell_type": "markdown",
   "id": "f3ba6133",
   "metadata": {},
   "source": [
    "# Работа с моделью брачности"
   ]
  },
  {
   "cell_type": "markdown",
   "id": "0ffd4f3f",
   "metadata": {},
   "source": [
    "**Что надо сделать?**\n",
    "- [x] Закончить со скачивающими функциями для индивидов и ДХ\n",
    "- [x] Функции стандартизации названий столбцов\n",
    "- [ ] По мере нахождения ошибок проводить их сбор для дальнейшей чистки\n",
    "- [ ] Описательыне статистики долей женатых/не женатых\n",
    "- [ ] Пробит или логит-модель брачного выбора."
   ]
  },
  {
   "cell_type": "markdown",
   "id": "e701dd29",
   "metadata": {},
   "source": [
    "**Источники:**\n",
    "\n",
    "- [ ] [statsmodels: Discrete Choice Models](https://www.statsmodels.org/dev/examples/notebooks/generated/discrete_choice_example.html)\n",
    "- [ ] [Logistic Regression in Python](https://realpython.com/logistic-regression-python/)\n"
   ]
  },
  {
   "cell_type": "markdown",
   "id": "79c6607e",
   "metadata": {},
   "source": [
    "Эмпирическая модель вероятности вступления в брак\n",
    "Сформулируем эмпирическую модель вероятности вступления в брак. Это оценка регрессии: $D_i=b_i X+e$, где $D_i=1$, если человек вступает в брак через $n$ лет (например, через год), и $D_i =0$, если индивид остается холостым (не замужем); $X$ - вектор характеристик индивида (детерминант), $b_i$ - коэффициенты модели. \n",
    "Влияющие переменные (детерминанты) модели - это пол, возраст, образование, доходы и заработная плата, национальность, здоровье, внешние данные, оптимизм, ценности (например, значение детей) и т.д.\n",
    "\n",
    "Эту модель можно оценить на основе данных RLMS-HSE. Поскольку это панельное исследование, известен брачный статус человека в момент времени $T$ и в момент времени $T+1$. Чтобы оценить вероятность вступления человека в брак сначала нужно отобрать совокупность для которой будет оцениваться модель. Необходимо для себя решить вопрос, брачный рынок - это совокупность только холостых и неженатых или вообще всех? В идеале нужно было бы брать всех людей, потому что если человек имеет возможность развестись, то, в принципе, он тоже является потенциальным партнером на брачном рынке. Но тогда следует учитывать, сменился ли партнер. Но обычно принято брать тех людей, которые в момент времени $T$ не состоят в браке. Итак, нужно отобрать не состоящих в браке (зарегистрированном или незарегистрированном) людей, и на этой совокупности можно будет оценить модель вероятности вступления в брак. Для этого используется переменная D, которая принимает значение $0$, если человек остается одиноким в момент $T+1$, и значение $1$, если он(а) вступает в брак. $D$ - дихотомическая переменная, она является линейной функцией от ряда параметров, которые характеризуют состояние человека в момент $T$.\n",
    "\n",
    "Какие переменные здесь можно в качестве влияющих на вероятность того, что человек вступит в брак в следующем году? Достаточно стандартный набор - это *пол*, *возраст*, *образование*, *заработная плата*, *другие доходы*, *занятость*. В данных RLMS-HSE есть переменная *“национальность”*, для некоторых раундов - *“вероисповедание”*, есть параметры, характеризующие *здоровье*. Переменных, описывающих внешние данные, нет, но в RLMS-HSE есть *рост и вес*, можно рассчитать индекс массы тела и включить его в число регрессоров. Правильно было бы оценить такие модели отдельно для мужчин и для женщин, потому что достаточно разные характеристики могут влиять на вероятность вступления в брак. Если есть какие-то переменные, которые касаются ценностей или оптимизма, их тоже можно включить.\n"
   ]
  },
  {
   "cell_type": "markdown",
   "id": "425b839e",
   "metadata": {},
   "source": [
    "**Объясняемые переменная в RLMS-HSE**\n",
    "* семейное положение - ``MARST``\n",
    "\n",
    "**Объясняющие переменные в RLMS-HSE:**\n",
    "* пол - ``h5``\n",
    "* возраст - ``age``\n",
    "* образование - ``diplom``\n",
    "* заработная плата - ``J10``\n",
    "* другие доходы - \n",
    "* занятость - \n",
    "* национальность - ``I4``,``I5``\n",
    "* вероисповедание - ``J72.19``\n",
    "* здоровье - ````\n",
    "* рост и вес - ``m2``, ``m1``\n",
    "\n",
    "**Дополнительные переменные:**\n",
    "* наличие опыта работы \n",
    "* самооценка здоровья\n",
    "* употребление алкогольных напитков\n",
    "* курение\n",
    "* статус вдовца"
   ]
  },
  {
   "cell_type": "markdown",
   "id": "273578c1",
   "metadata": {},
   "source": [
    "**Что делаю (своими словами):**\n",
    "\n",
    "Мы берем всех индивидов, не состоящих в браке в первом периоде и все возможые их характеристики. Присоединяем их брачный статус в следующем периоде. На оснвое этого строим статистическую логит-модель, позволяющую определеить эффекты различных едемографических переменных на брачность"
   ]
  },
  {
   "cell_type": "markdown",
   "id": "fc5e5f1a",
   "metadata": {},
   "source": [
    "**Какую вообще можно собрать инфу?**\n",
    "* Доли женатых/не женатых/разведенных в гр. браках\n",
    "* "
   ]
  },
  {
   "cell_type": "markdown",
   "id": "9f625752",
   "metadata": {},
   "source": [
    "может быть сделать попарный джоин. \n",
    "тогда мы смотрим какой процент их тех кто был женат в прошлом году развелся."
   ]
  },
  {
   "cell_type": "code",
   "execution_count": 28,
   "id": "2b81461f",
   "metadata": {
    "scrolled": true
   },
   "outputs": [
    {
     "name": "stderr",
     "output_type": "stream",
     "text": [
      "C:\\Users\\79618\\AppData\\Local\\Temp\\ipykernel_12340\\3075282184.py:3: FutureWarning: In a future version, `df.iloc[:, i] = newvals` will attempt to set the values inplace instead of always setting a new array. To retain the old behavior, use either `df[df.columns[i]] = newvals` or, if columns are non-unique, `df.isetitem(i, newvals)`\n",
      "  save.loc[:,'marst']=save.loc[:,'marst'].cat.rename_categories({'Bдовец (вдова)':'Вдовец (вдова)'})\n"
     ]
    },
    {
     "name": "stdout",
     "output_type": "stream",
     "text": [
      "Исправлен  1994\n"
     ]
    },
    {
     "name": "stderr",
     "output_type": "stream",
     "text": [
      "C:\\Users\\79618\\AppData\\Local\\Temp\\ipykernel_12340\\3075282184.py:3: FutureWarning: In a future version, `df.iloc[:, i] = newvals` will attempt to set the values inplace instead of always setting a new array. To retain the old behavior, use either `df[df.columns[i]] = newvals` or, if columns are non-unique, `df.isetitem(i, newvals)`\n",
      "  save.loc[:,'marst']=save.loc[:,'marst'].cat.rename_categories({'Bдовец (вдова)':'Вдовец (вдова)'})\n"
     ]
    },
    {
     "name": "stdout",
     "output_type": "stream",
     "text": [
      "Исправлен  1995\n"
     ]
    },
    {
     "name": "stderr",
     "output_type": "stream",
     "text": [
      "C:\\Users\\79618\\AppData\\Local\\Temp\\ipykernel_12340\\3075282184.py:3: FutureWarning: In a future version, `df.iloc[:, i] = newvals` will attempt to set the values inplace instead of always setting a new array. To retain the old behavior, use either `df[df.columns[i]] = newvals` or, if columns are non-unique, `df.isetitem(i, newvals)`\n",
      "  save.loc[:,'marst']=save.loc[:,'marst'].cat.rename_categories({'Bдовец (вдова)':'Вдовец (вдова)'})\n"
     ]
    },
    {
     "name": "stdout",
     "output_type": "stream",
     "text": [
      "Исправлен  1996\n"
     ]
    },
    {
     "name": "stderr",
     "output_type": "stream",
     "text": [
      "C:\\Users\\79618\\AppData\\Local\\Temp\\ipykernel_12340\\3075282184.py:3: FutureWarning: In a future version, `df.iloc[:, i] = newvals` will attempt to set the values inplace instead of always setting a new array. To retain the old behavior, use either `df[df.columns[i]] = newvals` or, if columns are non-unique, `df.isetitem(i, newvals)`\n",
      "  save.loc[:,'marst']=save.loc[:,'marst'].cat.rename_categories({'Bдовец (вдова)':'Вдовец (вдова)'})\n"
     ]
    },
    {
     "name": "stdout",
     "output_type": "stream",
     "text": [
      "Исправлен  1998\n"
     ]
    },
    {
     "name": "stderr",
     "output_type": "stream",
     "text": [
      "C:\\Users\\79618\\AppData\\Local\\Temp\\ipykernel_12340\\3075282184.py:3: FutureWarning: In a future version, `df.iloc[:, i] = newvals` will attempt to set the values inplace instead of always setting a new array. To retain the old behavior, use either `df[df.columns[i]] = newvals` or, if columns are non-unique, `df.isetitem(i, newvals)`\n",
      "  save.loc[:,'marst']=save.loc[:,'marst'].cat.rename_categories({'Bдовец (вдова)':'Вдовец (вдова)'})\n"
     ]
    },
    {
     "name": "stdout",
     "output_type": "stream",
     "text": [
      "Исправлен  2000\n"
     ]
    },
    {
     "name": "stderr",
     "output_type": "stream",
     "text": [
      "C:\\Users\\79618\\AppData\\Local\\Temp\\ipykernel_12340\\3075282184.py:3: FutureWarning: In a future version, `df.iloc[:, i] = newvals` will attempt to set the values inplace instead of always setting a new array. To retain the old behavior, use either `df[df.columns[i]] = newvals` or, if columns are non-unique, `df.isetitem(i, newvals)`\n",
      "  save.loc[:,'marst']=save.loc[:,'marst'].cat.rename_categories({'Bдовец (вдова)':'Вдовец (вдова)'})\n"
     ]
    },
    {
     "name": "stdout",
     "output_type": "stream",
     "text": [
      "Исправлен  2001\n"
     ]
    },
    {
     "name": "stderr",
     "output_type": "stream",
     "text": [
      "C:\\Users\\79618\\AppData\\Local\\Temp\\ipykernel_12340\\3075282184.py:3: FutureWarning: In a future version, `df.iloc[:, i] = newvals` will attempt to set the values inplace instead of always setting a new array. To retain the old behavior, use either `df[df.columns[i]] = newvals` or, if columns are non-unique, `df.isetitem(i, newvals)`\n",
      "  save.loc[:,'marst']=save.loc[:,'marst'].cat.rename_categories({'Bдовец (вдова)':'Вдовец (вдова)'})\n"
     ]
    },
    {
     "name": "stdout",
     "output_type": "stream",
     "text": [
      "Исправлен  2002\n"
     ]
    },
    {
     "name": "stderr",
     "output_type": "stream",
     "text": [
      "C:\\Users\\79618\\AppData\\Local\\Temp\\ipykernel_12340\\3075282184.py:3: FutureWarning: In a future version, `df.iloc[:, i] = newvals` will attempt to set the values inplace instead of always setting a new array. To retain the old behavior, use either `df[df.columns[i]] = newvals` or, if columns are non-unique, `df.isetitem(i, newvals)`\n",
      "  save.loc[:,'marst']=save.loc[:,'marst'].cat.rename_categories({'Bдовец (вдова)':'Вдовец (вдова)'})\n"
     ]
    },
    {
     "name": "stdout",
     "output_type": "stream",
     "text": [
      "Исправлен  2003\n"
     ]
    },
    {
     "name": "stderr",
     "output_type": "stream",
     "text": [
      "C:\\Users\\79618\\AppData\\Local\\Temp\\ipykernel_12340\\3075282184.py:3: FutureWarning: In a future version, `df.iloc[:, i] = newvals` will attempt to set the values inplace instead of always setting a new array. To retain the old behavior, use either `df[df.columns[i]] = newvals` or, if columns are non-unique, `df.isetitem(i, newvals)`\n",
      "  save.loc[:,'marst']=save.loc[:,'marst'].cat.rename_categories({'Bдовец (вдова)':'Вдовец (вдова)'})\n"
     ]
    },
    {
     "name": "stdout",
     "output_type": "stream",
     "text": [
      "Исправлен  2004\n"
     ]
    },
    {
     "name": "stderr",
     "output_type": "stream",
     "text": [
      "C:\\Users\\79618\\AppData\\Local\\Temp\\ipykernel_12340\\3075282184.py:3: FutureWarning: In a future version, `df.iloc[:, i] = newvals` will attempt to set the values inplace instead of always setting a new array. To retain the old behavior, use either `df[df.columns[i]] = newvals` or, if columns are non-unique, `df.isetitem(i, newvals)`\n",
      "  save.loc[:,'marst']=save.loc[:,'marst'].cat.rename_categories({'Bдовец (вдова)':'Вдовец (вдова)'})\n"
     ]
    },
    {
     "name": "stdout",
     "output_type": "stream",
     "text": [
      "Исправлен  2005\n"
     ]
    },
    {
     "name": "stderr",
     "output_type": "stream",
     "text": [
      "C:\\Users\\79618\\AppData\\Local\\Temp\\ipykernel_12340\\3075282184.py:3: FutureWarning: In a future version, `df.iloc[:, i] = newvals` will attempt to set the values inplace instead of always setting a new array. To retain the old behavior, use either `df[df.columns[i]] = newvals` or, if columns are non-unique, `df.isetitem(i, newvals)`\n",
      "  save.loc[:,'marst']=save.loc[:,'marst'].cat.rename_categories({'Bдовец (вдова)':'Вдовец (вдова)'})\n"
     ]
    },
    {
     "name": "stdout",
     "output_type": "stream",
     "text": [
      "Исправлен  2006\n"
     ]
    },
    {
     "name": "stderr",
     "output_type": "stream",
     "text": [
      "C:\\Users\\79618\\AppData\\Local\\Temp\\ipykernel_12340\\3075282184.py:3: FutureWarning: In a future version, `df.iloc[:, i] = newvals` will attempt to set the values inplace instead of always setting a new array. To retain the old behavior, use either `df[df.columns[i]] = newvals` or, if columns are non-unique, `df.isetitem(i, newvals)`\n",
      "  save.loc[:,'marst']=save.loc[:,'marst'].cat.rename_categories({'Bдовец (вдова)':'Вдовец (вдова)'})\n"
     ]
    },
    {
     "name": "stdout",
     "output_type": "stream",
     "text": [
      "Исправлен  2007\n"
     ]
    },
    {
     "name": "stderr",
     "output_type": "stream",
     "text": [
      "C:\\Users\\79618\\AppData\\Local\\Temp\\ipykernel_12340\\3075282184.py:3: FutureWarning: In a future version, `df.iloc[:, i] = newvals` will attempt to set the values inplace instead of always setting a new array. To retain the old behavior, use either `df[df.columns[i]] = newvals` or, if columns are non-unique, `df.isetitem(i, newvals)`\n",
      "  save.loc[:,'marst']=save.loc[:,'marst'].cat.rename_categories({'Bдовец (вдова)':'Вдовец (вдова)'})\n"
     ]
    },
    {
     "name": "stdout",
     "output_type": "stream",
     "text": [
      "Исправлен  2008\n"
     ]
    },
    {
     "name": "stderr",
     "output_type": "stream",
     "text": [
      "C:\\Users\\79618\\AppData\\Local\\Temp\\ipykernel_12340\\3075282184.py:3: FutureWarning: In a future version, `df.iloc[:, i] = newvals` will attempt to set the values inplace instead of always setting a new array. To retain the old behavior, use either `df[df.columns[i]] = newvals` or, if columns are non-unique, `df.isetitem(i, newvals)`\n",
      "  save.loc[:,'marst']=save.loc[:,'marst'].cat.rename_categories({'Bдовец (вдова)':'Вдовец (вдова)'})\n"
     ]
    },
    {
     "name": "stdout",
     "output_type": "stream",
     "text": [
      "Исправлен  2009\n"
     ]
    },
    {
     "name": "stderr",
     "output_type": "stream",
     "text": [
      "C:\\Users\\79618\\AppData\\Local\\Temp\\ipykernel_12340\\3075282184.py:3: FutureWarning: In a future version, `df.iloc[:, i] = newvals` will attempt to set the values inplace instead of always setting a new array. To retain the old behavior, use either `df[df.columns[i]] = newvals` or, if columns are non-unique, `df.isetitem(i, newvals)`\n",
      "  save.loc[:,'marst']=save.loc[:,'marst'].cat.rename_categories({'Bдовец (вдова)':'Вдовец (вдова)'})\n"
     ]
    },
    {
     "name": "stdout",
     "output_type": "stream",
     "text": [
      "Исправлен  2010\n"
     ]
    },
    {
     "name": "stderr",
     "output_type": "stream",
     "text": [
      "C:\\Users\\79618\\AppData\\Local\\Temp\\ipykernel_12340\\3075282184.py:3: FutureWarning: In a future version, `df.iloc[:, i] = newvals` will attempt to set the values inplace instead of always setting a new array. To retain the old behavior, use either `df[df.columns[i]] = newvals` or, if columns are non-unique, `df.isetitem(i, newvals)`\n",
      "  save.loc[:,'marst']=save.loc[:,'marst'].cat.rename_categories({'Bдовец (вдова)':'Вдовец (вдова)'})\n"
     ]
    },
    {
     "name": "stdout",
     "output_type": "stream",
     "text": [
      "Исправлен  2011\n"
     ]
    },
    {
     "name": "stderr",
     "output_type": "stream",
     "text": [
      "C:\\Users\\79618\\AppData\\Local\\Temp\\ipykernel_12340\\3075282184.py:3: FutureWarning: In a future version, `df.iloc[:, i] = newvals` will attempt to set the values inplace instead of always setting a new array. To retain the old behavior, use either `df[df.columns[i]] = newvals` or, if columns are non-unique, `df.isetitem(i, newvals)`\n",
      "  save.loc[:,'marst']=save.loc[:,'marst'].cat.rename_categories({'Bдовец (вдова)':'Вдовец (вдова)'})\n"
     ]
    },
    {
     "name": "stdout",
     "output_type": "stream",
     "text": [
      "Исправлен  2012\n"
     ]
    },
    {
     "name": "stderr",
     "output_type": "stream",
     "text": [
      "C:\\Users\\79618\\AppData\\Local\\Temp\\ipykernel_12340\\3075282184.py:3: FutureWarning: In a future version, `df.iloc[:, i] = newvals` will attempt to set the values inplace instead of always setting a new array. To retain the old behavior, use either `df[df.columns[i]] = newvals` or, if columns are non-unique, `df.isetitem(i, newvals)`\n",
      "  save.loc[:,'marst']=save.loc[:,'marst'].cat.rename_categories({'Bдовец (вдова)':'Вдовец (вдова)'})\n"
     ]
    },
    {
     "name": "stdout",
     "output_type": "stream",
     "text": [
      "Исправлен  2013\n"
     ]
    },
    {
     "name": "stderr",
     "output_type": "stream",
     "text": [
      "C:\\Users\\79618\\AppData\\Local\\Temp\\ipykernel_12340\\3075282184.py:3: FutureWarning: In a future version, `df.iloc[:, i] = newvals` will attempt to set the values inplace instead of always setting a new array. To retain the old behavior, use either `df[df.columns[i]] = newvals` or, if columns are non-unique, `df.isetitem(i, newvals)`\n",
      "  save.loc[:,'marst']=save.loc[:,'marst'].cat.rename_categories({'Bдовец (вдова)':'Вдовец (вдова)'})\n"
     ]
    },
    {
     "name": "stdout",
     "output_type": "stream",
     "text": [
      "Исправлен  2014\n"
     ]
    },
    {
     "name": "stderr",
     "output_type": "stream",
     "text": [
      "C:\\Users\\79618\\AppData\\Local\\Temp\\ipykernel_12340\\3075282184.py:3: FutureWarning: In a future version, `df.iloc[:, i] = newvals` will attempt to set the values inplace instead of always setting a new array. To retain the old behavior, use either `df[df.columns[i]] = newvals` or, if columns are non-unique, `df.isetitem(i, newvals)`\n",
      "  save.loc[:,'marst']=save.loc[:,'marst'].cat.rename_categories({'Bдовец (вдова)':'Вдовец (вдова)'})\n"
     ]
    },
    {
     "name": "stdout",
     "output_type": "stream",
     "text": [
      "Исправлен  2015\n"
     ]
    },
    {
     "name": "stderr",
     "output_type": "stream",
     "text": [
      "C:\\Users\\79618\\AppData\\Local\\Temp\\ipykernel_12340\\3075282184.py:3: FutureWarning: In a future version, `df.iloc[:, i] = newvals` will attempt to set the values inplace instead of always setting a new array. To retain the old behavior, use either `df[df.columns[i]] = newvals` or, if columns are non-unique, `df.isetitem(i, newvals)`\n",
      "  save.loc[:,'marst']=save.loc[:,'marst'].cat.rename_categories({'Bдовец (вдова)':'Вдовец (вдова)'})\n"
     ]
    },
    {
     "name": "stdout",
     "output_type": "stream",
     "text": [
      "Исправлен  2016\n"
     ]
    },
    {
     "name": "stderr",
     "output_type": "stream",
     "text": [
      "C:\\Users\\79618\\AppData\\Local\\Temp\\ipykernel_12340\\3075282184.py:3: FutureWarning: In a future version, `df.iloc[:, i] = newvals` will attempt to set the values inplace instead of always setting a new array. To retain the old behavior, use either `df[df.columns[i]] = newvals` or, if columns are non-unique, `df.isetitem(i, newvals)`\n",
      "  save.loc[:,'marst']=save.loc[:,'marst'].cat.rename_categories({'Bдовец (вдова)':'Вдовец (вдова)'})\n"
     ]
    },
    {
     "name": "stdout",
     "output_type": "stream",
     "text": [
      "Исправлен  2017\n"
     ]
    },
    {
     "name": "stderr",
     "output_type": "stream",
     "text": [
      "C:\\Users\\79618\\AppData\\Local\\Temp\\ipykernel_12340\\3075282184.py:3: FutureWarning: In a future version, `df.iloc[:, i] = newvals` will attempt to set the values inplace instead of always setting a new array. To retain the old behavior, use either `df[df.columns[i]] = newvals` or, if columns are non-unique, `df.isetitem(i, newvals)`\n",
      "  save.loc[:,'marst']=save.loc[:,'marst'].cat.rename_categories({'Bдовец (вдова)':'Вдовец (вдова)'})\n"
     ]
    },
    {
     "name": "stdout",
     "output_type": "stream",
     "text": [
      "Исправлен  2018\n"
     ]
    },
    {
     "name": "stderr",
     "output_type": "stream",
     "text": [
      "C:\\Users\\79618\\AppData\\Local\\Temp\\ipykernel_12340\\3075282184.py:3: FutureWarning: In a future version, `df.iloc[:, i] = newvals` will attempt to set the values inplace instead of always setting a new array. To retain the old behavior, use either `df[df.columns[i]] = newvals` or, if columns are non-unique, `df.isetitem(i, newvals)`\n",
      "  save.loc[:,'marst']=save.loc[:,'marst'].cat.rename_categories({'Bдовец (вдова)':'Вдовец (вдова)'})\n"
     ]
    },
    {
     "name": "stdout",
     "output_type": "stream",
     "text": [
      "Исправлен  2019\n"
     ]
    },
    {
     "name": "stderr",
     "output_type": "stream",
     "text": [
      "C:\\Users\\79618\\AppData\\Local\\Temp\\ipykernel_12340\\3075282184.py:3: FutureWarning: In a future version, `df.iloc[:, i] = newvals` will attempt to set the values inplace instead of always setting a new array. To retain the old behavior, use either `df[df.columns[i]] = newvals` or, if columns are non-unique, `df.isetitem(i, newvals)`\n",
      "  save.loc[:,'marst']=save.loc[:,'marst'].cat.rename_categories({'Bдовец (вдова)':'Вдовец (вдова)'})\n"
     ]
    },
    {
     "name": "stdout",
     "output_type": "stream",
     "text": [
      "Исправлен  2020\n",
      "Исправлен  2021\n"
     ]
    },
    {
     "name": "stderr",
     "output_type": "stream",
     "text": [
      "C:\\Users\\79618\\AppData\\Local\\Temp\\ipykernel_12340\\3075282184.py:3: FutureWarning: In a future version, `df.iloc[:, i] = newvals` will attempt to set the values inplace instead of always setting a new array. To retain the old behavior, use either `df[df.columns[i]] = newvals` or, if columns are non-unique, `df.isetitem(i, newvals)`\n",
      "  save.loc[:,'marst']=save.loc[:,'marst'].cat.rename_categories({'Bдовец (вдова)':'Вдовец (вдова)'})\n"
     ]
    }
   ],
   "source": [
    "corrected_df=corrector_period(list(waves_dict.keys()))"
   ]
  },
  {
   "cell_type": "markdown",
   "id": "87034ccd",
   "metadata": {},
   "source": [
    "## Подготовка переменных"
   ]
  },
  {
   "cell_type": "markdown",
   "id": "9bc462cd",
   "metadata": {},
   "source": [
    "``marriage_df`` должен содержать инфу за год t  и t+1\n",
    "* ``MARST`` трансформированная в формат (0,1) за год t+1\n",
    "* ``age`` - возраст\n",
    "* ``h5`` - пол\n",
    "* ``diplom`` - трансфорированный в численный формат дет обучения\n",
    "* ``J10`` - зарплата\n",
    "* ``m2`` - рост\n",
    "* ``m1`` - вес\n",
    "* индекс массы тела\n",
    "\n",
    "\n",
    "* другие доходы - \n",
    "* занятость - \n",
    "* национальность - ``I4``,``I5``\n",
    "* вероисповедание - ``J72.19``"
   ]
  },
  {
   "cell_type": "markdown",
   "id": "eb93884a",
   "metadata": {},
   "source": [
    "### ``marst`` - женатость"
   ]
  },
  {
   "cell_type": "markdown",
   "id": "cb2f2470",
   "metadata": {},
   "source": [
    "**Не учитываем:**\n",
    "1. ЗАТРУДНЯЮСЬ ОТВЕТИТЬ\n",
    "2. НЕТ ОТВЕТА\n",
    "3. ОТКАЗ ОТ ОТВЕТА\n",
    "\n",
    "**Неженатые ($D_i=0$):**\n",
    "1. Вдовец (вдова)\n",
    "2. Живете вместе, но не зарегистрированы\n",
    "3. Никогда в браке не состояли\t\n",
    "4. Разведены и в браке не состоите\n",
    "\n",
    "**Женатые ($D_i=1$):**\n",
    "1. ОФИЦИАЛЬНО ЗАРЕГИСТРИРОВАНЫ, НО ВМЕСТЕ НЕ ПРОЖИВАЮТ\n",
    "2. Состоите в зарегистрированном браке."
   ]
  },
  {
   "cell_type": "code",
   "execution_count": 133,
   "id": "ea10326e",
   "metadata": {},
   "outputs": [],
   "source": [
    "marst_cats={\n",
    "'Вдовец (вдова)':0,\n",
    "'Живете вместе, но не зарегистрированы':0,\n",
    "'Никогда в браке не состояли':0,\n",
    "'Разведены и в браке не состоите':0,\n",
    "'ОФИЦИАЛЬНО ЗАРЕГИСТРИРОВАНЫ, НО ВМЕСТЕ НЕ ПРОЖИВАЮТ':1,\n",
    "'Состоите в зарегистрированном браке':1,\n",
    "'ЗАТРУДНЯЮСЬ ОТВЕТИТЬ':np.nan,\n",
    "'НЕТ ОТВЕТА':np.nan,\n",
    "'ОТКАЗ ОТ ОТВЕТА':np.nan,\n",
    "'Состоите в браке':1\n",
    "}"
   ]
  },
  {
   "cell_type": "code",
   "execution_count": 147,
   "id": "7afe7c6e",
   "metadata": {},
   "outputs": [
    {
     "data": {
      "text/plain": [
       "0       1.0\n",
       "1       0.0\n",
       "2       1.0\n",
       "3       1.0\n",
       "4       1.0\n",
       "       ... \n",
       "9870    0.0\n",
       "9871    1.0\n",
       "9872    1.0\n",
       "9873    0.0\n",
       "9874    0.0\n",
       "Name: marst, Length: 9875, dtype: float64"
      ]
     },
     "execution_count": 147,
     "metadata": {},
     "output_type": "execute_result"
    }
   ],
   "source": [
    "corrected_df[2008]['marst'].replace(marst_cats).astype(float)"
   ]
  },
  {
   "cell_type": "markdown",
   "id": "7579ed35",
   "metadata": {},
   "source": [
    "### ``diplom`` - уровень образования"
   ]
  },
  {
   "cell_type": "markdown",
   "id": "68b3a282",
   "metadata": {},
   "source": [
    "**Лет образования:**\n",
    "* 'Законченное высшее образование и выше' = 11+4+1 = ``16``\n",
    "* 'Законченное среднее образование' = ``11``\n",
    "* 'Законченное среднее специальное образование' = 9+1 = ``10``\n",
    "* 'НЕТ ОТВЕТА',\n",
    "* 'Незаконченное среднее образование (7 - 8 классов)' = ``7.5``\n",
    "* 'Незаконченное среднее образование (7 - 8 классов) + что-то еще' = ``9``\n",
    "* 'ОТКАЗ ОТ ОТВЕТА' = ``np.nan`` \n",
    "* 'Окончил 0 - 6 классов' = ``6``"
   ]
  },
  {
   "cell_type": "code",
   "execution_count": 95,
   "id": "08993942",
   "metadata": {},
   "outputs": [],
   "source": [
    "diplom_cats={\n",
    "'Законченное высшее образование и выше':11+4+1,\n",
    "'Законченное среднее образование':11,\n",
    "'Законченное среднее специальное образование':10,\n",
    "'НЕТ ОТВЕТА':np.nan,\n",
    "'Незаконченное среднее образование (7 - 8 классов)':7.5,\n",
    "'Незаконченное среднее образование (7 - 8 классов) + что-то еще':8.5,\n",
    "'ОТКАЗ ОТ ОТВЕТА':np.nan,\n",
    "'Окончил 0 - 6 классов':3,\n",
    "'законченное высшее образование и выше':11+4+1,\n",
    "'законченное среднее образование':11,\n",
    "'законченное среднее специальное образование':10,\n",
    "'незаконченное среднее образование (7 - 8 кл)':7.5,\n",
    "'незаконченное среднее образование (7 - 8 кл) + что-то еще':8.5,\n",
    "'окончил 0 - 6 классов':3,\n",
    "'ЗАТРУДНЯЮСЬ ОТВЕТИТЬ':np.nan\n",
    "}"
   ]
  },
  {
   "cell_type": "code",
   "execution_count": 127,
   "id": "e3a82ce9",
   "metadata": {
    "scrolled": true
   },
   "outputs": [
    {
     "data": {
      "text/plain": [
       "0        11.0\n",
       "1         8.5\n",
       "2        10.0\n",
       "3         7.5\n",
       "4        11.0\n",
       "         ... \n",
       "12064    11.0\n",
       "12065    10.0\n",
       "12066    10.0\n",
       "12067    10.0\n",
       "12068    11.0\n",
       "Name: diplom, Length: 12069, dtype: float64"
      ]
     },
     "execution_count": 127,
     "metadata": {},
     "output_type": "execute_result"
    }
   ],
   "source": [
    "corrected_df[2021]['diplom'].replace(diplom_cats).astype(float)"
   ]
  },
  {
   "cell_type": "markdown",
   "id": "638fb95a",
   "metadata": {},
   "source": [
    "### рост, вес, ИМТ"
   ]
  },
  {
   "cell_type": "markdown",
   "id": "188db6ec",
   "metadata": {},
   "source": [
    "* ``m2`` - рост\n",
    "* ``m1`` - вес"
   ]
  },
  {
   "cell_type": "code",
   "execution_count": 42,
   "id": "85dcc16a",
   "metadata": {},
   "outputs": [],
   "source": [
    "no_ans={'ЗАТРУДНЯЮСЬ ОТВЕТИТЬ':np.nan,\n",
    "'НЕТ ОТВЕТА':np.nan,\n",
    "'ОТКАЗ ОТ ОТВЕТА':np.nan}"
   ]
  },
  {
   "cell_type": "code",
   "execution_count": 151,
   "id": "cb29f670",
   "metadata": {},
   "outputs": [
    {
     "data": {
      "text/plain": [
       "{1994: 0        164.0\n",
       " 1        185.0\n",
       " 2        166.0\n",
       " 3        170.0\n",
       " 4        143.0\n",
       "          ...  \n",
       " 11284    162.0\n",
       " 11285    170.0\n",
       " 11286    155.0\n",
       " 11287    158.0\n",
       " 11288    164.0\n",
       " Name: m2, Length: 11289, dtype: float64,\n",
       " 1995: 0        164.0\n",
       " 1        186.0\n",
       " 2        164.0\n",
       " 3        168.0\n",
       " 4        145.0\n",
       "          ...  \n",
       " 10600    180.0\n",
       " 10601    171.0\n",
       " 10602    165.0\n",
       " 10603      NaN\n",
       " 10604    162.0\n",
       " Name: m2, Length: 10605, dtype: float64,\n",
       " 1996: 0        164.0\n",
       " 1        186.0\n",
       " 2        165.0\n",
       " 3        187.0\n",
       " 4          NaN\n",
       "          ...  \n",
       " 10012    100.0\n",
       " 10013    165.0\n",
       " 10014    155.0\n",
       " 10015    155.0\n",
       " 10016    169.0\n",
       " Name: m2, Length: 10017, dtype: float64,\n",
       " 1998: 0       164.0\n",
       " 1       186.0\n",
       " 2         NaN\n",
       " 3       168.0\n",
       " 4         NaN\n",
       "         ...  \n",
       " 9599    170.0\n",
       " 9600    168.0\n",
       " 9601     85.0\n",
       " 9602     61.0\n",
       " 9603    164.0\n",
       " Name: m2, Length: 9604, dtype: float64,\n",
       " 2000: 0       164.0\n",
       " 1       184.0\n",
       " 2       164.0\n",
       " 3       168.0\n",
       " 4       150.0\n",
       "         ...  \n",
       " 9004    160.0\n",
       " 9005    128.0\n",
       " 9006    178.0\n",
       " 9007    158.0\n",
       " 9008    164.0\n",
       " Name: m2, Length: 9009, dtype: float64,\n",
       " 2001: 0       164.0\n",
       " 1       184.0\n",
       " 2       163.0\n",
       " 3       169.0\n",
       " 4       160.0\n",
       "         ...  \n",
       " 9300    165.0\n",
       " 9301    172.0\n",
       " 9302    162.0\n",
       " 9303    176.0\n",
       " 9304    169.0\n",
       " Name: m2, Length: 9305, dtype: float64,\n",
       " 2002: 0       163.5\n",
       " 1       184.0\n",
       " 2       167.0\n",
       " 3       169.0\n",
       " 4       180.0\n",
       "         ...  \n",
       " 9204    172.0\n",
       " 9205    190.0\n",
       " 9206    155.0\n",
       " 9207      NaN\n",
       " 9208    176.0\n",
       " Name: m2, Length: 9209, dtype: float64,\n",
       " 2003: 0       164.0\n",
       " 1       184.0\n",
       " 2         NaN\n",
       " 3         NaN\n",
       " 4       162.0\n",
       "         ...  \n",
       " 9057    180.0\n",
       " 9058    175.0\n",
       " 9059      NaN\n",
       " 9060    160.0\n",
       " 9061    175.0\n",
       " Name: m2, Length: 9062, dtype: float64,\n",
       " 2004: 0       184.0\n",
       " 1       171.0\n",
       " 2       162.0\n",
       " 3       157.0\n",
       " 4       154.0\n",
       "         ...  \n",
       " 8928    175.0\n",
       " 8929    120.0\n",
       " 8930    190.0\n",
       " 8931    179.0\n",
       " 8932    168.0\n",
       " Name: m2, Length: 8933, dtype: float64,\n",
       " 2005: 0       163.0\n",
       " 1       184.0\n",
       " 2       162.0\n",
       " 3       158.0\n",
       " 4       154.0\n",
       "         ...  \n",
       " 8335    182.0\n",
       " 8336    171.0\n",
       " 8337    170.0\n",
       " 8338    157.0\n",
       " 8339    153.0\n",
       " Name: m2, Length: 8340, dtype: float64,\n",
       " 2006: 0        164.0\n",
       " 1        184.0\n",
       " 2        161.0\n",
       " 3        158.0\n",
       " 4        156.0\n",
       "          ...  \n",
       " 10706    171.0\n",
       " 10707    133.0\n",
       " 10708    186.0\n",
       " 10709    171.0\n",
       " 10710    180.0\n",
       " Name: m2, Length: 10711, dtype: float64,\n",
       " 2007: 0        164.0\n",
       " 1        184.0\n",
       " 2        170.0\n",
       " 3        161.0\n",
       " 4        158.0\n",
       "          ...  \n",
       " 10332    160.0\n",
       " 10333    120.0\n",
       " 10334    155.0\n",
       " 10335    156.0\n",
       " 10336    168.0\n",
       " Name: m2, Length: 10337, dtype: float64,\n",
       " 2008: 0       171.0\n",
       " 1       162.0\n",
       " 2       158.0\n",
       " 3       165.0\n",
       " 4       160.0\n",
       "         ...  \n",
       " 9870    180.0\n",
       " 9871    154.0\n",
       " 9872    170.0\n",
       " 9873    156.0\n",
       " 9874    168.0\n",
       " Name: m2, Length: 9875, dtype: float64,\n",
       " 2009: 0       164.0\n",
       " 1       169.0\n",
       " 2       162.0\n",
       " 3       158.0\n",
       " 4       164.0\n",
       "         ...  \n",
       " 9573    180.0\n",
       " 9574    172.0\n",
       " 9575    165.0\n",
       " 9576    156.0\n",
       " 9577    168.0\n",
       " Name: m2, Length: 9578, dtype: float64,\n",
       " 2010: 0        164.0\n",
       " 1        170.0\n",
       " 2        162.0\n",
       " 3        156.0\n",
       " 4        165.0\n",
       "          ...  \n",
       " 16862    170.0\n",
       " 16863    160.0\n",
       " 16864    168.0\n",
       " 16865    170.0\n",
       " 16866    160.0\n",
       " Name: m2, Length: 16867, dtype: float64,\n",
       " 2011: 0        164.0\n",
       " 1        168.0\n",
       " 2          NaN\n",
       " 3        158.0\n",
       " 4        165.0\n",
       "          ...  \n",
       " 17017    167.0\n",
       " 17018    173.0\n",
       " 17019    180.0\n",
       " 17020    164.0\n",
       " 17021    168.0\n",
       " Name: m2, Length: 17022, dtype: float64,\n",
       " 2012: 0        164.0\n",
       " 1        161.0\n",
       " 2        156.5\n",
       " 3        162.0\n",
       " 4        165.0\n",
       "          ...  \n",
       " 17085    178.0\n",
       " 17086    158.0\n",
       " 17087    157.0\n",
       " 17088    168.0\n",
       " 17089    180.0\n",
       " Name: m2, Length: 17090, dtype: float64,\n",
       " 2013: 0        162.0\n",
       " 1        156.0\n",
       " 2        165.0\n",
       " 3        162.0\n",
       " 4        168.0\n",
       "          ...  \n",
       " 16082     87.0\n",
       " 16083     62.0\n",
       " 16084    180.0\n",
       " 16085     73.0\n",
       " 16086    168.0\n",
       " Name: m2, Length: 16087, dtype: float64,\n",
       " 2014: 0        164.0\n",
       " 1        162.0\n",
       " 2        156.5\n",
       " 3        165.0\n",
       " 4        165.0\n",
       "          ...  \n",
       " 12903    156.0\n",
       " 12904    168.0\n",
       " 12905    125.0\n",
       " 12906      NaN\n",
       " 12907    168.0\n",
       " Name: m2, Length: 12908, dtype: float64,\n",
       " 2015: 0        164.0\n",
       " 1        164.0\n",
       " 2        156.0\n",
       " 3        165.0\n",
       " 4        160.0\n",
       "          ...  \n",
       " 12662    110.0\n",
       " 12663    100.0\n",
       " 12664    153.0\n",
       " 12665    168.0\n",
       " 12666    150.0\n",
       " Name: m2, Length: 12667, dtype: float64,\n",
       " 2016: 0        164.0\n",
       " 1        162.0\n",
       " 2        154.0\n",
       " 3        165.0\n",
       " 4        165.0\n",
       "          ...  \n",
       " 12549    140.0\n",
       " 12550     85.0\n",
       " 12551     69.0\n",
       " 12552    183.0\n",
       " 12553    157.0\n",
       " Name: m2, Length: 12554, dtype: float64,\n",
       " 2017: 0        164.0\n",
       " 1        160.0\n",
       " 2        154.0\n",
       " 3        165.0\n",
       " 4        168.0\n",
       "          ...  \n",
       " 12436    187.0\n",
       " 12437     65.0\n",
       " 12438     84.0\n",
       " 12439     96.0\n",
       " 12440    165.0\n",
       " Name: m2, Length: 12441, dtype: float64,\n",
       " 2018: 0        164.0\n",
       " 1        162.0\n",
       " 2        165.0\n",
       " 3        164.0\n",
       " 4        164.0\n",
       "          ...  \n",
       " 12156    183.0\n",
       " 12157     53.0\n",
       " 12158     57.0\n",
       " 12159     68.0\n",
       " 12160    167.0\n",
       " Name: m2, Length: 12161, dtype: float64,\n",
       " 2019: 0        164.0\n",
       " 1        162.0\n",
       " 2        154.0\n",
       " 3        165.0\n",
       " 4        164.0\n",
       "          ...  \n",
       " 12219    162.0\n",
       " 12220    165.0\n",
       " 12221    170.0\n",
       " 12222    156.0\n",
       " 12223    161.0\n",
       " Name: m2, Length: 12224, dtype: float64,\n",
       " 2020: 0        164.0\n",
       " 1        162.0\n",
       " 2        154.0\n",
       " 3        165.0\n",
       " 4        168.0\n",
       "          ...  \n",
       " 12115    171.0\n",
       " 12116    152.0\n",
       " 12117    170.0\n",
       " 12118    150.0\n",
       " 12119    175.0\n",
       " Name: m2, Length: 12120, dtype: float64,\n",
       " 2021: 0        164.0\n",
       " 1          NaN\n",
       " 2        154.0\n",
       " 3        165.0\n",
       " 4        164.0\n",
       "          ...  \n",
       " 12064    166.0\n",
       " 12065    165.0\n",
       " 12066    182.0\n",
       " 12067    162.0\n",
       " 12068    177.0\n",
       " Name: m2, Length: 12069, dtype: float64}"
      ]
     },
     "execution_count": 151,
     "metadata": {},
     "output_type": "execute_result"
    }
   ],
   "source": [
    "{i:corrected_df[i]['m2'].replace(no_ans).astype(float) for i in list(waves_dict.keys())}"
   ]
  },
  {
   "cell_type": "code",
   "execution_count": 160,
   "id": "5ce088f1",
   "metadata": {
    "scrolled": true
   },
   "outputs": [
    {
     "data": {
      "text/plain": [
       "0       50.0\n",
       "1       70.0\n",
       "2       68.0\n",
       "3       57.0\n",
       "4       65.0\n",
       "        ... \n",
       "9004    58.0\n",
       "9005    21.0\n",
       "9006    68.0\n",
       "9007    52.0\n",
       "9008    79.0\n",
       "Name: m1, Length: 9009, dtype: float64"
      ]
     },
     "execution_count": 160,
     "metadata": {},
     "output_type": "execute_result"
    }
   ],
   "source": [
    "corrected_df[2000]['m1']corrected_df[2000]['m1']"
   ]
  },
  {
   "cell_type": "code",
   "execution_count": 44,
   "id": "fcba486c",
   "metadata": {
    "scrolled": true
   },
   "outputs": [
    {
     "data": {
      "text/plain": [
       "0       164.0\n",
       "1       184.0\n",
       "2       164.0\n",
       "3       168.0\n",
       "4       150.0\n",
       "        ...  \n",
       "9004    160.0\n",
       "9005    128.0\n",
       "9006    178.0\n",
       "9007    158.0\n",
       "9008    164.0\n",
       "Name: m2, Length: 9009, dtype: float64"
      ]
     },
     "execution_count": 44,
     "metadata": {},
     "output_type": "execute_result"
    }
   ],
   "source": [
    "corrected_df[2000]['m2'].replace(no_ans).astype(float)"
   ]
  },
  {
   "cell_type": "code",
   "execution_count": 200,
   "id": "95b11448",
   "metadata": {},
   "outputs": [
    {
     "name": "stderr",
     "output_type": "stream",
     "text": [
      "C:\\Users\\79618\\AppData\\Local\\Programs\\Python\\Python310\\lib\\site-packages\\pandas\\plotting\\_matplotlib\\core.py:1254: UserWarning: No data for colormapping provided via 'c'. Parameters 'cmap' will be ignored\n",
      "  scatter = ax.scatter(\n"
     ]
    },
    {
     "data": {
      "text/plain": [
       "<AxesSubplot: title={'center': '2015'}, xlabel='m1', ylabel='m2'>"
      ]
     },
     "execution_count": 200,
     "metadata": {},
     "output_type": "execute_result"
    },
    {
     "data": {
      "image/png": "[encoded data removed]",
      "text/plain": [
       "<Figure size 640x480 with 1 Axes>"
      ]
     },
     "metadata": {},
     "output_type": "display_data"
    },
    {
     "data": {
      "image/png": "[encoded data removed]",
      "text/plain": [
       "<Figure size 640x480 with 1 Axes>"
      ]
     },
     "metadata": {},
     "output_type": "display_data"
    }
   ],
   "source": [
    "year=2015\n",
    "\n",
    "corrected_df[year][['m1','m2']][corrected_df[year]['h5']=='МУЖСКОЙ'].replace(no_ans).dropna().astype(float).plot(x='m1',y='m2',kind=\"scatter\",title=str(year),c='b',s=2)\n",
    "corrected_df[year][['m1','m2']][corrected_df[year]['h5']=='ЖЕНСКИЙ'].replace(no_ans).dropna().astype(float).plot(x='m1',y='m2',kind=\"scatter\",title=str(year),c='r',s=2)"
   ]
  },
  {
   "cell_type": "code",
   "execution_count": 190,
   "id": "e1a06a58",
   "metadata": {},
   "outputs": [
    {
     "data": {
      "text/html": [
       "<div>\n",
       "<style scoped>\n",
       "    .dataframe tbody tr th:only-of-type {\n",
       "        vertical-align: middle;\n",
       "    }\n",
       "\n",
       "    .dataframe tbody tr th {\n",
       "        vertical-align: top;\n",
       "    }\n",
       "\n",
       "    .dataframe thead th {\n",
       "        text-align: right;\n",
       "    }\n",
       "</style>\n",
       "<table border=\"1\" class=\"dataframe\">\n",
       "  <thead>\n",
       "    <tr style=\"text-align: right;\">\n",
       "      <th></th>\n",
       "      <th>m1</th>\n",
       "      <th>m2</th>\n",
       "    </tr>\n",
       "  </thead>\n",
       "  <tbody>\n",
       "    <tr>\n",
       "      <th>5</th>\n",
       "      <td>60.0</td>\n",
       "      <td>165.0</td>\n",
       "    </tr>\n",
       "    <tr>\n",
       "      <th>9</th>\n",
       "      <td>80.0</td>\n",
       "      <td>165.0</td>\n",
       "    </tr>\n",
       "    <tr>\n",
       "      <th>10</th>\n",
       "      <td>75.0</td>\n",
       "      <td>170.0</td>\n",
       "    </tr>\n",
       "    <tr>\n",
       "      <th>12</th>\n",
       "      <td>82.0</td>\n",
       "      <td>174.0</td>\n",
       "    </tr>\n",
       "    <tr>\n",
       "      <th>16</th>\n",
       "      <td>63.0</td>\n",
       "      <td>164.0</td>\n",
       "    </tr>\n",
       "    <tr>\n",
       "      <th>...</th>\n",
       "      <td>...</td>\n",
       "      <td>...</td>\n",
       "    </tr>\n",
       "    <tr>\n",
       "      <th>16854</th>\n",
       "      <td>23.0</td>\n",
       "      <td>120.0</td>\n",
       "    </tr>\n",
       "    <tr>\n",
       "      <th>16856</th>\n",
       "      <td>120.0</td>\n",
       "      <td>182.0</td>\n",
       "    </tr>\n",
       "    <tr>\n",
       "      <th>16857</th>\n",
       "      <td>74.0</td>\n",
       "      <td>175.0</td>\n",
       "    </tr>\n",
       "    <tr>\n",
       "      <th>16858</th>\n",
       "      <td>75.0</td>\n",
       "      <td>182.0</td>\n",
       "    </tr>\n",
       "    <tr>\n",
       "      <th>16859</th>\n",
       "      <td>77.0</td>\n",
       "      <td>172.0</td>\n",
       "    </tr>\n",
       "  </tbody>\n",
       "</table>\n",
       "<p>7299 rows × 2 columns</p>\n",
       "</div>"
      ],
      "text/plain": [
       "          m1     m2\n",
       "5       60.0  165.0\n",
       "9       80.0  165.0\n",
       "10      75.0  170.0\n",
       "12      82.0  174.0\n",
       "16      63.0  164.0\n",
       "...      ...    ...\n",
       "16854   23.0  120.0\n",
       "16856  120.0  182.0\n",
       "16857   74.0  175.0\n",
       "16858   75.0  182.0\n",
       "16859   77.0  172.0\n",
       "\n",
       "[7299 rows x 2 columns]"
      ]
     },
     "execution_count": 190,
     "metadata": {},
     "output_type": "execute_result"
    }
   ],
   "source": [
    "corrected_df[year][['m1','m2']][corrected_df[year]['h5']=='МУЖСКОЙ']"
   ]
  },
  {
   "attachments": {
    "image.png": {
     "image/png": "[encoded data removed]"
    }
   },
   "cell_type": "markdown",
   "id": "fd29d030",
   "metadata": {},
   "source": [
    "![imaFGDSASFBFSDGge.png](attachment:image.png)"
   ]
  },
  {
   "cell_type": "code",
   "execution_count": 48,
   "id": "be389b45",
   "metadata": {
    "scrolled": true
   },
   "outputs": [
    {
     "data": {
      "text/plain": [
       "0       18.590125\n",
       "1       20.675803\n",
       "2       25.282570\n",
       "3       20.195578\n",
       "4       28.888889\n",
       "          ...    \n",
       "9004    22.656250\n",
       "9005    12.817383\n",
       "9006    21.461937\n",
       "9007    20.829995\n",
       "9008    29.372397\n",
       "Name: IMT, Length: 9009, dtype: float64"
      ]
     },
     "execution_count": 48,
     "metadata": {},
     "output_type": "execute_result"
    }
   ],
   "source": [
    "corrected_df[2000]['IMT']=corrected_df[2000]['m1'].replace(no_ans).astype(float)/(corrected_df[2000]['m2'].replace(no_ans).astype(float)/100)**2\n",
    "corrected_df[2000]['IMT']"
   ]
  },
  {
   "cell_type": "code",
   "execution_count": null,
   "id": "f96f2b04",
   "metadata": {},
   "outputs": [],
   "source": []
  },
  {
   "cell_type": "markdown",
   "id": "8ab33b2b",
   "metadata": {},
   "source": [
    "## Работа с парами лет (спаривание)"
   ]
  },
  {
   "cell_type": "code",
   "execution_count": 49,
   "id": "b391dedf",
   "metadata": {},
   "outputs": [
    {
     "data": {
      "text/plain": [
       "[(1994, 1995),\n",
       " (1995, 1996),\n",
       " (2000, 2001),\n",
       " (2001, 2002),\n",
       " (2002, 2003),\n",
       " (2003, 2004),\n",
       " (2004, 2005),\n",
       " (2005, 2006),\n",
       " (2006, 2007),\n",
       " (2007, 2008),\n",
       " (2008, 2009),\n",
       " (2009, 2010),\n",
       " (2010, 2011),\n",
       " (2011, 2012),\n",
       " (2012, 2013),\n",
       " (2013, 2014),\n",
       " (2014, 2015),\n",
       " (2015, 2016),\n",
       " (2016, 2017),\n",
       " (2017, 2018),\n",
       " (2018, 2019),\n",
       " (2019, 2020),\n",
       " (2020, 2021)]"
      ]
     },
     "execution_count": 49,
     "metadata": {},
     "output_type": "execute_result"
    }
   ],
   "source": [
    "pairs_of_years=[(i,i+1) for i in list(xxxx.keys()) if i+1 in list(xxxx.keys())]\n",
    "pairs_of_years"
   ]
  },
  {
   "cell_type": "markdown",
   "id": "671a862f",
   "metadata": {},
   "source": [
    "## Описательные статистики выборки RLMS_HSE"
   ]
  },
  {
   "cell_type": "code",
   "execution_count": 75,
   "id": "b061f52a",
   "metadata": {},
   "outputs": [
    {
     "data": {
      "text/plain": [
       "<AxesSubplot: title={'center': 'Cut types'}, ylabel='marst'>"
      ]
     },
     "execution_count": 75,
     "metadata": {},
     "output_type": "execute_result"
    },
    {
     "data": {
      "image/png": "[encoded data removed]",
      "text/plain": [
       "<Figure size 640x480 with 1 Axes>"
      ]
     },
     "metadata": {},
     "output_type": "display_data"
    }
   ],
   "source": [
    "corrected_df[2005]['marst'].replace(marst_cats).dropna().value_counts().plot(kind=\"pie\",title=\"Cut types\")"
   ]
  },
  {
   "cell_type": "code",
   "execution_count": 78,
   "id": "be881fec",
   "metadata": {},
   "outputs": [
    {
     "data": {
      "text/html": [
       "<div>\n",
       "<style scoped>\n",
       "    .dataframe tbody tr th:only-of-type {\n",
       "        vertical-align: middle;\n",
       "    }\n",
       "\n",
       "    .dataframe tbody tr th {\n",
       "        vertical-align: top;\n",
       "    }\n",
       "\n",
       "    .dataframe thead th {\n",
       "        text-align: right;\n",
       "    }\n",
       "</style>\n",
       "<table border=\"1\" class=\"dataframe\">\n",
       "  <thead>\n",
       "    <tr style=\"text-align: right;\">\n",
       "      <th></th>\n",
       "      <th>marst</th>\n",
       "    </tr>\n",
       "  </thead>\n",
       "  <tbody>\n",
       "    <tr>\n",
       "      <th>0</th>\n",
       "      <td>3756</td>\n",
       "    </tr>\n",
       "    <tr>\n",
       "      <th>1</th>\n",
       "      <td>3490</td>\n",
       "    </tr>\n",
       "  </tbody>\n",
       "</table>\n",
       "</div>"
      ],
      "text/plain": [
       "   marst\n",
       "0   3756\n",
       "1   3490"
      ]
     },
     "execution_count": 78,
     "metadata": {},
     "output_type": "execute_result"
    }
   ],
   "source": [
    "pd.DataFrame(corrected_df[2005]['marst'].replace(marst_cats).dropna().value_counts())"
   ]
  },
  {
   "cell_type": "markdown",
   "id": "5f9e8be9",
   "metadata": {},
   "source": [
    "## MVP логит-модели"
   ]
  },
  {
   "cell_type": "code",
   "execution_count": null,
   "id": "0239d6c1",
   "metadata": {},
   "outputs": [],
   "source": [
    "idind - Единый идентификационный номер индивида для волн 5 и последующих"
   ]
  },
  {
   "cell_type": "code",
   "execution_count": null,
   "id": "09c402e2",
   "metadata": {},
   "outputs": [],
   "source": [
    "psu\n",
    "region\n",
    "ssu\n",
    "status\n",
    "popul\n",
    "site"
   ]
  },
  {
   "cell_type": "code",
   "execution_count": 194,
   "id": "998fb46e",
   "metadata": {},
   "outputs": [
    {
     "data": {
      "text/plain": [
       "<AxesSubplot: >"
      ]
     },
     "execution_count": 194,
     "metadata": {},
     "output_type": "execute_result"
    },
    {
     "data": {
      "image/png": "[encoded data removed]",
      "text/plain": [
       "<Figure size 640x480 with 1 Axes>"
      ]
     },
     "metadata": {},
     "output_type": "display_data"
    }
   ],
   "source": [
    "xxxx[2002]['marst'].hist(xrot=90)"
   ]
  },
  {
   "cell_type": "markdown",
   "id": "abcf9c0b",
   "metadata": {},
   "source": [
    "## Получение рабочей матрицы"
   ]
  },
  {
   "cell_type": "code",
   "execution_count": 213,
   "id": "2a8e6aca",
   "metadata": {},
   "outputs": [],
   "source": [
    "import matplotlib.pyplot as plt\n",
    "import numpy as np\n",
    "import pandas as pd\n",
    "import statsmodels.api as sm\n",
    "from scipy import stats\n",
    "from statsmodels.formula.api import logit"
   ]
  },
  {
   "cell_type": "code",
   "execution_count": 237,
   "id": "0b543a58",
   "metadata": {},
   "outputs": [
    {
     "data": {
      "text/plain": [
       "0       27.0\n",
       "1       29.0\n",
       "2       45.0\n",
       "3       16.0\n",
       "4       14.0\n",
       "        ... \n",
       "9004    25.0\n",
       "9005     7.0\n",
       "9006    44.0\n",
       "9007    22.0\n",
       "9008    38.0\n",
       "Name: age, Length: 9009, dtype: category\n",
       "Categories (100, float64): [0.0, 1.0, 2.0, 3.0, ..., 96.0, 97.0, 98.0, 100.0]"
      ]
     },
     "execution_count": 237,
     "metadata": {},
     "output_type": "execute_result"
    }
   ],
   "source": [
    "corrected_df[year]['age']"
   ]
  },
  {
   "cell_type": "code",
   "execution_count": 270,
   "id": "d3c9b872",
   "metadata": {},
   "outputs": [],
   "source": [
    "year=2000\n",
    "marriage_df=corrected_df[year].join(corrected_df[year+1],on='idind',lsuffix='_after')\n",
    "\n",
    "marriage_df['marst']=marriage_df['marst'].replace(marst_cats).astype(float)\n",
    "marriage_df['marst_after']=marriage_df['marst_after'].replace(marst_cats).astype(float)\n",
    "marriage_df['IMT']=marriage_df['m1'].replace(no_ans).astype(float)/(marriage_df['m2'].replace(no_ans).astype(float)/100)**2\n",
    "marriage_df['diplom']=marriage_df['diplom'].replace(diplom_cats).astype(float)\n",
    "marriage_df['age']=marriage_df['age'].astype(float)\n",
    "marriage_df['popul']=marriage_df['popul'].astype(float)\n",
    "marriage_df['j10']=marriage_df['j10'].replace(no_ans).astype(float)"
   ]
  },
  {
   "cell_type": "code",
   "execution_count": 271,
   "id": "0c139273",
   "metadata": {},
   "outputs": [
    {
     "data": {
      "text/html": [
       "<div>\n",
       "<style scoped>\n",
       "    .dataframe tbody tr th:only-of-type {\n",
       "        vertical-align: middle;\n",
       "    }\n",
       "\n",
       "    .dataframe tbody tr th {\n",
       "        vertical-align: top;\n",
       "    }\n",
       "\n",
       "    .dataframe thead th {\n",
       "        text-align: right;\n",
       "    }\n",
       "</style>\n",
       "<table border=\"1\" class=\"dataframe\">\n",
       "  <thead>\n",
       "    <tr style=\"text-align: right;\">\n",
       "      <th></th>\n",
       "      <th>marst</th>\n",
       "      <th>marst_after</th>\n",
       "      <th>IMT</th>\n",
       "      <th>diplom</th>\n",
       "      <th>h5</th>\n",
       "      <th>age</th>\n",
       "      <th>popul</th>\n",
       "      <th>j10</th>\n",
       "    </tr>\n",
       "  </thead>\n",
       "  <tbody>\n",
       "    <tr>\n",
       "      <th>1</th>\n",
       "      <td>0.0</td>\n",
       "      <td>1.0</td>\n",
       "      <td>25.593737</td>\n",
       "      <td>11.0</td>\n",
       "      <td>Женский</td>\n",
       "      <td>46.0</td>\n",
       "      <td>10800.0</td>\n",
       "      <td>2500.00</td>\n",
       "    </tr>\n",
       "    <tr>\n",
       "      <th>3</th>\n",
       "      <td>0.0</td>\n",
       "      <td>0.0</td>\n",
       "      <td>25.099502</td>\n",
       "      <td>7.5</td>\n",
       "      <td>Женский</td>\n",
       "      <td>57.0</td>\n",
       "      <td>10800.0</td>\n",
       "      <td>819.35</td>\n",
       "    </tr>\n",
       "    <tr>\n",
       "      <th>41</th>\n",
       "      <td>0.0</td>\n",
       "      <td>1.0</td>\n",
       "      <td>27.763430</td>\n",
       "      <td>11.0</td>\n",
       "      <td>Мужской</td>\n",
       "      <td>53.0</td>\n",
       "      <td>1200.0</td>\n",
       "      <td>3000.00</td>\n",
       "    </tr>\n",
       "    <tr>\n",
       "      <th>46</th>\n",
       "      <td>0.0</td>\n",
       "      <td>0.0</td>\n",
       "      <td>27.191790</td>\n",
       "      <td>11.0</td>\n",
       "      <td>Женский</td>\n",
       "      <td>51.0</td>\n",
       "      <td>700.0</td>\n",
       "      <td>1000.00</td>\n",
       "    </tr>\n",
       "    <tr>\n",
       "      <th>50</th>\n",
       "      <td>0.0</td>\n",
       "      <td>0.0</td>\n",
       "      <td>33.057851</td>\n",
       "      <td>11.0</td>\n",
       "      <td>Женский</td>\n",
       "      <td>49.0</td>\n",
       "      <td>100.0</td>\n",
       "      <td>2800.00</td>\n",
       "    </tr>\n",
       "    <tr>\n",
       "      <th>...</th>\n",
       "      <td>...</td>\n",
       "      <td>...</td>\n",
       "      <td>...</td>\n",
       "      <td>...</td>\n",
       "      <td>...</td>\n",
       "      <td>...</td>\n",
       "      <td>...</td>\n",
       "      <td>...</td>\n",
       "    </tr>\n",
       "    <tr>\n",
       "      <th>4949</th>\n",
       "      <td>0.0</td>\n",
       "      <td>1.0</td>\n",
       "      <td>30.083829</td>\n",
       "      <td>16.0</td>\n",
       "      <td>Женский</td>\n",
       "      <td>52.0</td>\n",
       "      <td>4952300.0</td>\n",
       "      <td>2000.00</td>\n",
       "    </tr>\n",
       "    <tr>\n",
       "      <th>4958</th>\n",
       "      <td>0.0</td>\n",
       "      <td>0.0</td>\n",
       "      <td>23.833005</td>\n",
       "      <td>11.0</td>\n",
       "      <td>Женский</td>\n",
       "      <td>21.0</td>\n",
       "      <td>4952300.0</td>\n",
       "      <td>2400.00</td>\n",
       "    </tr>\n",
       "    <tr>\n",
       "      <th>4959</th>\n",
       "      <td>0.0</td>\n",
       "      <td>0.0</td>\n",
       "      <td>18.902038</td>\n",
       "      <td>11.0</td>\n",
       "      <td>Женский</td>\n",
       "      <td>45.0</td>\n",
       "      <td>4952300.0</td>\n",
       "      <td>1000.00</td>\n",
       "    </tr>\n",
       "    <tr>\n",
       "      <th>4961</th>\n",
       "      <td>0.0</td>\n",
       "      <td>0.0</td>\n",
       "      <td>20.811655</td>\n",
       "      <td>16.0</td>\n",
       "      <td>Женский</td>\n",
       "      <td>65.0</td>\n",
       "      <td>4952300.0</td>\n",
       "      <td>3800.00</td>\n",
       "    </tr>\n",
       "    <tr>\n",
       "      <th>4964</th>\n",
       "      <td>0.0</td>\n",
       "      <td>1.0</td>\n",
       "      <td>30.407627</td>\n",
       "      <td>16.0</td>\n",
       "      <td>Женский</td>\n",
       "      <td>45.0</td>\n",
       "      <td>4952300.0</td>\n",
       "      <td>4200.00</td>\n",
       "    </tr>\n",
       "  </tbody>\n",
       "</table>\n",
       "<p>474 rows × 8 columns</p>\n",
       "</div>"
      ],
      "text/plain": [
       "      marst  marst_after        IMT  diplom       h5   age      popul      j10\n",
       "1       0.0          1.0  25.593737    11.0  Женский  46.0    10800.0  2500.00\n",
       "3       0.0          0.0  25.099502     7.5  Женский  57.0    10800.0   819.35\n",
       "41      0.0          1.0  27.763430    11.0  Мужской  53.0     1200.0  3000.00\n",
       "46      0.0          0.0  27.191790    11.0  Женский  51.0      700.0  1000.00\n",
       "50      0.0          0.0  33.057851    11.0  Женский  49.0      100.0  2800.00\n",
       "...     ...          ...        ...     ...      ...   ...        ...      ...\n",
       "4949    0.0          1.0  30.083829    16.0  Женский  52.0  4952300.0  2000.00\n",
       "4958    0.0          0.0  23.833005    11.0  Женский  21.0  4952300.0  2400.00\n",
       "4959    0.0          0.0  18.902038    11.0  Женский  45.0  4952300.0  1000.00\n",
       "4961    0.0          0.0  20.811655    16.0  Женский  65.0  4952300.0  3800.00\n",
       "4964    0.0          1.0  30.407627    16.0  Женский  45.0  4952300.0  4200.00\n",
       "\n",
       "[474 rows x 8 columns]"
      ]
     },
     "execution_count": 271,
     "metadata": {},
     "output_type": "execute_result"
    }
   ],
   "source": [
    "marriage_df=marriage_df[['marst','marst_after','IMT','diplom','h5','age','popul','j10']][marriage_df['marst']==0].dropna()\n",
    "marriage_df"
   ]
  },
  {
   "cell_type": "code",
   "execution_count": 284,
   "id": "04a29549",
   "metadata": {},
   "outputs": [
    {
     "name": "stdout",
     "output_type": "stream",
     "text": [
      "Optimization terminated successfully.\n",
      "         Current function value: 0.678812\n",
      "         Iterations 4\n"
     ]
    },
    {
     "name": "stderr",
     "output_type": "stream",
     "text": [
      "C:\\Users\\79618\\AppData\\Local\\Temp\\ipykernel_12340\\54100774.py:3: UserWarning: Boolean Series key will be reindexed to match DataFrame index.\n",
      "  marriage_df[marriage_df['h5']=='Женский'][marriage_df['age']<50]).fit()\n"
     ]
    }
   ],
   "source": [
    "marriage_mod = logit(\n",
    "    \"marst_after ~ IMT+diplom+age+popul+j10\",\n",
    "    marriage_df[marriage_df['h5']=='Женский'][marriage_df['age']<50]).fit()"
   ]
  },
  {
   "cell_type": "code",
   "execution_count": 285,
   "id": "40612bda",
   "metadata": {},
   "outputs": [
    {
     "name": "stdout",
     "output_type": "stream",
     "text": [
      "                           Logit Regression Results                           \n",
      "==============================================================================\n",
      "Dep. Variable:            marst_after   No. Observations:                  234\n",
      "Model:                          Logit   Df Residuals:                      228\n",
      "Method:                           MLE   Df Model:                            5\n",
      "Date:                Wed, 07 Dec 2022   Pseudo R-squ.:                 0.02022\n",
      "Time:                        22:03:16   Log-Likelihood:                -158.84\n",
      "converged:                       True   LL-Null:                       -162.12\n",
      "Covariance Type:            nonrobust   LLR p-value:                    0.2559\n",
      "==============================================================================\n",
      "                 coef    std err          z      P>|z|      [0.025      0.975]\n",
      "------------------------------------------------------------------------------\n",
      "Intercept      0.3125      0.920      0.340      0.734      -1.490       2.115\n",
      "IMT            0.0398      0.031      1.270      0.204      -0.022       0.101\n",
      "diplom        -0.0361      0.055     -0.663      0.507      -0.143       0.071\n",
      "age           -0.0275      0.016     -1.720      0.085      -0.059       0.004\n",
      "popul       7.412e-08   5.22e-08      1.419      0.156   -2.83e-08    1.77e-07\n",
      "j10         4.042e-06   6.44e-05      0.063      0.950      -0.000       0.000\n",
      "==============================================================================\n"
     ]
    }
   ],
   "source": [
    "print(marriage_mod.summary())"
   ]
  },
  {
   "cell_type": "code",
   "execution_count": 286,
   "id": "1c721a9b",
   "metadata": {},
   "outputs": [
    {
     "name": "stdout",
     "output_type": "stream",
     "text": [
      "Optimization terminated successfully.\n",
      "         Current function value: 0.652824\n",
      "         Iterations 5\n"
     ]
    },
    {
     "name": "stderr",
     "output_type": "stream",
     "text": [
      "C:\\Users\\79618\\AppData\\Local\\Temp\\ipykernel_12340\\469235556.py:3: UserWarning: Boolean Series key will be reindexed to match DataFrame index.\n",
      "  marriage_df[marriage_df['h5']=='Мужской'][marriage_df['age']<50]).fit()\n"
     ]
    }
   ],
   "source": [
    "marriage_mod = logit(\n",
    "    \"marst_after ~ IMT+diplom+age+popul+j10\",\n",
    "    marriage_df[marriage_df['h5']=='Мужской'][marriage_df['age']<50]).fit()"
   ]
  },
  {
   "cell_type": "code",
   "execution_count": 287,
   "id": "b48f1f28",
   "metadata": {},
   "outputs": [
    {
     "name": "stdout",
     "output_type": "stream",
     "text": [
      "                           Logit Regression Results                           \n",
      "==============================================================================\n",
      "Dep. Variable:            marst_after   No. Observations:                  153\n",
      "Model:                          Logit   Df Residuals:                      147\n",
      "Method:                           MLE   Df Model:                            5\n",
      "Date:                Wed, 07 Dec 2022   Pseudo R-squ.:                 0.02520\n",
      "Time:                        22:03:29   Log-Likelihood:                -99.882\n",
      "converged:                       True   LL-Null:                       -102.46\n",
      "Covariance Type:            nonrobust   LLR p-value:                    0.3961\n",
      "==============================================================================\n",
      "                 coef    std err          z      P>|z|      [0.025      0.975]\n",
      "------------------------------------------------------------------------------\n",
      "Intercept     -0.8551      1.395     -0.613      0.540      -3.590       1.880\n",
      "IMT            0.0690      0.051      1.351      0.177      -0.031       0.169\n",
      "diplom        -0.0601      0.069     -0.875      0.381      -0.195       0.074\n",
      "age            0.0080      0.019      0.422      0.673      -0.029       0.045\n",
      "popul      -7.453e-08   5.63e-08     -1.324      0.185   -1.85e-07    3.58e-08\n",
      "j10         8.366e-05   6.62e-05      1.264      0.206   -4.61e-05       0.000\n",
      "==============================================================================\n"
     ]
    }
   ],
   "source": [
    "print(marriage_mod.summary())"
   ]
  },
  {
   "cell_type": "code",
   "execution_count": 288,
   "id": "201f8e24",
   "metadata": {},
   "outputs": [
    {
     "name": "stdout",
     "output_type": "stream",
     "text": [
      "Optimization terminated successfully.\n",
      "         Current function value: 0.680648\n",
      "         Iterations 4\n"
     ]
    }
   ],
   "source": [
    "marriage_mod = logit(\n",
    "    \"marst_after ~ IMT+diplom+age+popul+j10\",\n",
    "    marriage_df[marriage_df['age']<50]).fit()"
   ]
  },
  {
   "cell_type": "code",
   "execution_count": 289,
   "id": "bb78b315",
   "metadata": {},
   "outputs": [
    {
     "name": "stdout",
     "output_type": "stream",
     "text": [
      "                           Logit Regression Results                           \n",
      "==============================================================================\n",
      "Dep. Variable:            marst_after   No. Observations:                  387\n",
      "Model:                          Logit   Df Residuals:                      381\n",
      "Method:                           MLE   Df Model:                            5\n",
      "Date:                Wed, 07 Dec 2022   Pseudo R-squ.:                 0.01077\n",
      "Time:                        22:03:44   Log-Likelihood:                -263.41\n",
      "converged:                       True   LL-Null:                       -266.28\n",
      "Covariance Type:            nonrobust   LLR p-value:                    0.3326\n",
      "==============================================================================\n",
      "                 coef    std err          z      P>|z|      [0.025      0.975]\n",
      "------------------------------------------------------------------------------\n",
      "Intercept      0.1330      0.751      0.177      0.859      -1.339       1.605\n",
      "IMT            0.0384      0.026      1.481      0.139      -0.012       0.089\n",
      "diplom        -0.0399      0.042     -0.951      0.342      -0.122       0.042\n",
      "age           -0.0165      0.012     -1.389      0.165      -0.040       0.007\n",
      "popul       9.577e-09   3.73e-08      0.257      0.797   -6.35e-08    8.27e-08\n",
      "j10         5.121e-05   4.36e-05      1.174      0.240   -3.43e-05       0.000\n",
      "==============================================================================\n"
     ]
    }
   ],
   "source": [
    "print(marriage_mod.summary())"
   ]
  },
  {
   "cell_type": "code",
   "execution_count": 279,
   "id": "653d1ac9",
   "metadata": {},
   "outputs": [],
   "source": [
    "dta = sm.datasets.fair.load_pandas().data"
   ]
  },
  {
   "cell_type": "code",
   "execution_count": 289,
   "id": "7534aedc",
   "metadata": {},
   "outputs": [
    {
     "name": "stdout",
     "output_type": "stream",
     "text": [
      "        Logit Marginal Effects       \n",
      "=====================================\n",
      "Dep. Variable:          married_after\n",
      "Method:                          dydx\n",
      "At:                           overall\n",
      "==============================================================================\n",
      "                dy/dx    std err          z      P>|z|      [0.025      0.975]\n",
      "------------------------------------------------------------------------------\n",
      "age           -0.0003      0.001     -0.468      0.640      -0.001       0.001\n",
      "popul       6.107e-09   4.37e-09      1.398      0.162   -2.46e-09    1.47e-08\n",
      "==============================================================================\n"
     ]
    }
   ],
   "source": [
    "mfx = affair_mod.get_margeff()\n",
    "print(mfx.summary())"
   ]
  },
  {
   "cell_type": "code",
   "execution_count": 280,
   "id": "79e7c525",
   "metadata": {},
   "outputs": [
    {
     "name": "stdout",
     "output_type": "stream",
     "text": [
      "   rate_marriage   age  yrs_married  children  religious  educ  occupation  \\\n",
      "0            3.0  32.0          9.0       3.0        3.0  17.0         2.0   \n",
      "1            3.0  27.0         13.0       3.0        1.0  14.0         3.0   \n",
      "2            4.0  22.0          2.5       0.0        1.0  16.0         3.0   \n",
      "3            4.0  37.0         16.5       4.0        3.0  16.0         5.0   \n",
      "4            5.0  27.0          9.0       1.0        1.0  14.0         3.0   \n",
      "5            4.0  27.0          9.0       0.0        2.0  14.0         3.0   \n",
      "6            5.0  37.0         23.0       5.5        2.0  12.0         5.0   \n",
      "7            5.0  37.0         23.0       5.5        2.0  12.0         2.0   \n",
      "8            3.0  22.0          2.5       0.0        2.0  12.0         3.0   \n",
      "9            3.0  27.0          6.0       0.0        1.0  16.0         3.0   \n",
      "\n",
      "   occupation_husb   affairs  affair  \n",
      "0              5.0  0.111111     1.0  \n",
      "1              4.0  3.230769     1.0  \n",
      "2              5.0  1.400000     1.0  \n",
      "3              5.0  0.727273     1.0  \n",
      "4              4.0  4.666666     1.0  \n",
      "5              4.0  4.666666     1.0  \n",
      "6              4.0  0.852174     1.0  \n",
      "7              3.0  1.826086     1.0  \n",
      "8              3.0  4.799999     1.0  \n",
      "9              5.0  1.333333     1.0  \n"
     ]
    }
   ],
   "source": [
    "dta[\"affair\"] = (dta[\"affairs\"] > 0).astype(float)\n",
    "print(dta.head(10))"
   ]
  },
  {
   "cell_type": "code",
   "execution_count": null,
   "id": "bf68d8e3",
   "metadata": {},
   "outputs": [],
   "source": [
    "J121.5 Как Высчитаете, разводы всегда допустимы, допустимы только при определенных условиях\n",
    "или никогда не допустимы?\n",
    "1 Всегда допустимы\n",
    "2 Допустимы при определенных условиях\n",
    "3 Никогда не допустимы\n",
    "99999997 ЗАТРУДНЯЮСЬ ОТВЕТИТЬ\n",
    "99999998 ОТКАЗ ОТ ОТВЕТА\n",
    "99999999 НЕТ ОТВЕТА\n",
    "\n",
    "\n",
    "J122.1 Когда Вы были ребенком, Ваша бабушка была верующей? 1 Да\n",
    "2 Нет\n",
    "99999997 ЗАТРУДНЯЮСЬ ОТВЕТИТЬ\n",
    "99999998 ОТКАЗ ОТ ОТВЕТА\n",
    "99999999 НЕТ ОТВЕТА\n",
    "\n",
    "MARST СЕМЕЙНОЕ ПОЛОЖЕНИЕ В ТЕКУЩЕЙ ВОЛНЕ 1 Никогда в браке не состояли\n",
    "2 Состоите в зарегистрированном браке\n",
    "3 Живете вместе, но не зарегистрированы\n",
    "4 Разведены и в браке не состоите\n",
    "5 Bдовец (вдова)\n",
    "6 ОФИЦИАЛЬНО ЗАРЕГИСТРИРОВАНЫ, НО ВМЕСТЕ НЕ\n",
    "ЖИВУТ\n",
    "7 Состоите в браке\n",
    "99999997 ЗАТРУДНЯЮСЬ ОТВЕТИТЬ\n",
    "99999998 ОТКАЗ ОТ ОТВЕТА\n",
    "99999999 НЕТ ОТВЕТА\n",
    "\n",
    "J121.2 Как Вы считаете, секс вне брака всегда допустим, допустим только при определенных\n",
    "условиях или никогда не допустим?\n",
    "1 Всегда допустимы\n",
    "2 Допустимы при определенных условиях\n",
    "3 Никогда не допустимы\n",
    "99999997 ЗАТРУДНЯЮСЬ ОТВЕТИТЬ\n",
    "99999998 ОТКАЗ ОТ ОТВЕТА\n",
    "99999999 НЕТ ОТВЕТА"
   ]
  },
  {
   "cell_type": "code",
   "execution_count": 281,
   "id": "43a9e3c9",
   "metadata": {},
   "outputs": [],
   "source": [
    "ddddd=zzzz.loc[:,['married','married_after','age','h5','diplom','popul','region','status','m2','m1','m3']][zzzz['married']==0].dropna()\n",
    "ddddd['married_after']=ddddd['married_after'].astype(float)"
   ]
  },
  {
   "cell_type": "code",
   "execution_count": 296,
   "id": "d5a98574",
   "metadata": {},
   "outputs": [
    {
     "data": {
      "text/plain": [
       "1                      163.0\n",
       "2                      169.0\n",
       "3                      167.0\n",
       "8                      156.0\n",
       "9       ЗАТРУДНЯЮСЬ ОТВЕТИТЬ\n",
       "                ...         \n",
       "4961                   155.0\n",
       "4962                   154.0\n",
       "4963                   162.0\n",
       "4964                   156.0\n",
       "4965                   165.0\n",
       "Name: m2, Length: 1793, dtype: category\n",
       "Categories (211, object): [45.0, 49.0, 51.0, 52.0, ..., 202.0, 'ЗАТРУДНЯЮСЬ ОТВЕТИТЬ', 'НЕТ ОТВЕТА', 'ОТКАЗ ОТ ОТВЕТА']"
      ]
     },
     "execution_count": 296,
     "metadata": {},
     "output_type": "execute_result"
    }
   ],
   "source": [
    "ddddd['m2']"
   ]
  },
  {
   "cell_type": "code",
   "execution_count": 295,
   "id": "bdddc293",
   "metadata": {},
   "outputs": [
    {
     "data": {
      "text/plain": [
       "Index(['Законченное высшее образование и выше',\n",
       "       'Законченное среднее образование',\n",
       "       'Законченное среднее специальное образование', 'НЕТ ОТВЕТА',\n",
       "       'Незаконченное среднее образование (7 - 8 классов)',\n",
       "       'Незаконченное среднее образование (7 - 8 классов) + что-то еще',\n",
       "       'ОТКАЗ ОТ ОТВЕТА', 'Окончил 0 - 6 классов'],\n",
       "      dtype='object')"
      ]
     },
     "execution_count": 295,
     "metadata": {},
     "output_type": "execute_result"
    }
   ],
   "source": [
    "ddddd.diplom.cat.categories"
   ]
  },
  {
   "cell_type": "code",
   "execution_count": 286,
   "id": "c09332f3",
   "metadata": {},
   "outputs": [],
   "source": [
    "ddddd['age']=ddddd['age'].astype(float)\n",
    "ddddd['popul']=ddddd['popul'].astype(float)"
   ]
  },
  {
   "cell_type": "markdown",
   "id": "8498fb36",
   "metadata": {},
   "source": [
    "## Теория статистической оценки с биномиальной объясняемой переменной "
   ]
  },
  {
   "cell_type": "markdown",
   "id": "30cfaa81",
   "metadata": {},
   "source": [
    "Рассмотрим теперь модели, в которых зависимая переменная принимает только два значения, т.е. является фиктивной переменной"
   ]
  },
  {
   "cell_type": "markdown",
   "id": "624ee989",
   "metadata": {},
   "source": [
    "В биномиальную модель входит изучаемая переменная $x$, принимающая два\n",
    "значения, а также объясняющие переменные $z$, которые содержат факторы, определяющие выбор одного из значений. Без потери общности будем предполагать, что $x$ принимает значения $0$ и $1$."
   ]
  },
  {
   "cell_type": "markdown",
   "id": "d125eda9",
   "metadata": {},
   "source": [
    "Пусть на основе имеющихся наблюдений мы оценили регрессию: $x=z\\alpha + \\epsilon$. Однако эта модель будет предсказывать абсурдные значения объясняемой переменной $x$, т.е. меньше нуля, больше нуля и дробные. "
   ]
  },
  {
   "cell_type": "markdown",
   "id": "239d0b34",
   "metadata": {},
   "source": [
    "С более формальной точки зрения данная модель не может быть корректна, т.к. у биномииальной зависимой переменной будет распределение Бернулли, то есть оно полностью задается вероятностью получения единицы. "
   ]
  },
  {
   "cell_type": "markdown",
   "id": "5f9268d4",
   "metadata": {},
   "source": [
    "$E(x)=P(x=1)*1 +P(x=0)*1=P(x=1)$"
   ]
  },
  {
   "cell_type": "markdown",
   "id": "9cc2b951",
   "metadata": {},
   "source": [
    "Ожидание $x$ при данном $z$:\n",
    "$E(x)=z\\alpha+E(\\epsilon)=z\\alpha$"
   ]
  },
  {
   "cell_type": "markdown",
   "id": "59a18f20",
   "metadata": {},
   "source": [
    "Таким образом, $E(x)=P(x=1)=z\\alpha$, т.е. вероятность ограничена, но равна не ограниченной величине и мат. ожидание может описываться только нелиейной функцией. "
   ]
  },
  {
   "cell_type": "markdown",
   "id": "602fed7f",
   "metadata": {},
   "source": [
    "Теперь получим модель, которая принимает во внимание тот факт, что вероятность не может выходить за пределы 0 и 1, и проста в оценке"
   ]
  },
  {
   "cell_type": "markdown",
   "id": "29014224",
   "metadata": {},
   "source": [
    "$P(x=1)=F(z\\alpha)$, где $F$ - некоторая достаточно простая функция, преобразующая $z\\alpha$ в число от 0 до 1. \n",
    "Естественно выбрать в качестве этой функции какую-либо дифференцируемую функцию распределенения, определенную во всей действительной прямой"
   ]
  },
  {
   "cell_type": "markdown",
   "id": "402bd0b0",
   "metadata": {},
   "source": [
    "Заметим, что если выбрать распределение соотсветсвующее равномерному распределению на отрезке от 0 до 1, то окажется что система:\n",
    "* $E(x)=P(x=1)$=... (система)\n",
    "* $0, z\\alpha<=0$\n",
    "* $z\\alpha<=0, 0=<z\\alpha<=1$\n",
    "* $1, z\\alpha>=1$"
   ]
  },
  {
   "cell_type": "markdown",
   "id": "5d3754b2",
   "metadata": {},
   "source": [
    "Но выбор равномерного распределения скорее усложняет оценку, чем ее упрощает, т.к. мат. ожидание является здесь нелинейной функцийе от ниеизвестного парвметра $\\alpha$, т.е. это нелинейная регрессия, причем функция недиффернецируема. "
   ]
  },
  {
   "cell_type": "markdown",
   "id": "20a61900",
   "metadata": {},
   "source": [
    "Линейная модель вероятности когда изучаемая зависимость слаба, и в имеющихся данных доля как нулей, так и единиц слишкмои мала. "
   ]
  },
  {
   "cell_type": "markdown",
   "id": "ff122279",
   "metadata": {},
   "source": [
    "**Удобные для логит-оценок распределения**\n",
    "\n",
    "(оба они симметричны относительно 0)"
   ]
  },
  {
   "cell_type": "markdown",
   "id": "28484b67",
   "metadata": {},
   "source": [
    "1. **Логистическое распределение** (**ЛОГИТ**)"
   ]
  },
  {
   "cell_type": "markdown",
   "id": "a30888d1",
   "metadata": {},
   "source": [
    "$\\lambda(y)=\\frac{e^y}{(1+e^y)^2}$ - плотность логистического распределения"
   ]
  },
  {
   "cell_type": "markdown",
   "id": "3012c5f6",
   "metadata": {},
   "source": [
    "$\\Lambda(y)=\\frac{e^y}{(1+e^y)}=\\frac{1}{1+e^{-y}}$ - функция распеределения"
   ]
  },
  {
   "cell_type": "markdown",
   "id": "a88bcfd8",
   "metadata": {},
   "source": [
    "Модель с биномиальной зависимой переменной с логистическими респределенным отклонением называют **логит**. Для логита:\n",
    "\n",
    "$E(x)=P(x=1)=\\Lambda(z\\alpha)=\\frac{e^{z\\alpha}}{1+e^{z\\alpha}}=\\frac{1}{1+e^{-z\\alpha}}$"
   ]
  },
  {
   "cell_type": "markdown",
   "id": "f17cb391",
   "metadata": {},
   "source": [
    "2. **Нормальное распределение** (**ПРОБИТ**)"
   ]
  },
  {
   "cell_type": "markdown",
   "id": "ccc0bf3a",
   "metadata": {},
   "source": [
    "Модель с номрально расредленным отклонением $\\epsilon$ называется  **пробит**. \n",
    "При этом используется стандартное нормальное распределение, т.е. \n",
    "$E(x)=P(x=1)=\\Phi(z\\alpha)=\\int \\phi(t)dt= \\frac{1}{\\sqrt{2\\pi}} \\int e^{-t^2/2}dt$ "
   ]
  },
  {
   "cell_type": "markdown",
   "id": "ec91b10b",
   "metadata": {},
   "source": [
    "Логистическое распределение похоже на нормальное с нулевым ожиданием и дисперсией $\\pi^2/3$. В связи с этим оценки коэффициентов в моделяъ различаются примерно на множитель $\\frac{\\pi}{\\sqrt{3}} \\approx 1.8$"
   ]
  },
  {
   "cell_type": "markdown",
   "id": "4c5d5026",
   "metadata": {},
   "source": [
    "Если вероятности далеки от границ 0 И 1 (около 0.5), то более точной оценкой множителя является величина $\\phi(0)/\\lambda(0)=\\sqrt{8/\\pi} \\approx 1.6$. \n",
    "\n",
    "При малом количестве наблюдений из=за схожести распределений сложно решить, когда следует применять логит, а когда - пробит. "
   ]
  },
  {
   "cell_type": "markdown",
   "id": "76bc5b3e",
   "metadata": {},
   "source": []
  },
  {
   "cell_type": "code",
   "execution_count": 300,
   "id": "28621f5c",
   "metadata": {
    "scrolled": false
   },
   "outputs": [
    {
     "data": {
      "text/plain": [
       "<matplotlib.legend.Legend at 0x1343caf90f0>"
      ]
     },
     "execution_count": 300,
     "metadata": {},
     "output_type": "execute_result"
    },
    {
     "data": {
      "image/png": "[encoded data removed]",
      "text/plain": [
       "<Figure size 1200x800 with 1 Axes>"
      ]
     },
     "metadata": {},
     "output_type": "display_data"
    }
   ],
   "source": [
    "fig = plt.figure(figsize=(12, 8))\n",
    "ax = fig.add_subplot(111)\n",
    "support = np.linspace(-6, 6, 1000)\n",
    "ax.plot(support, stats.logistic.cdf(support), \"r-\", label=\"Logistic\")\n",
    "ax.plot(support, stats.norm.cdf(support), label=\"Probit\")\n",
    "ax.legend()"
   ]
  },
  {
   "cell_type": "code",
   "execution_count": 301,
   "id": "5486d99d",
   "metadata": {},
   "outputs": [
    {
     "data": {
      "text/plain": [
       "<matplotlib.legend.Legend at 0x1343870efb0>"
      ]
     },
     "execution_count": 301,
     "metadata": {},
     "output_type": "execute_result"
    },
    {
     "data": {
      "image/png": "[encoded data removed]",
      "text/plain": [
       "<Figure size 1200x800 with 1 Axes>"
      ]
     },
     "metadata": {},
     "output_type": "display_data"
    }
   ],
   "source": [
    "fig = plt.figure(figsize=(12, 8))\n",
    "ax = fig.add_subplot(111)\n",
    "support = np.linspace(-6, 6, 1000)\n",
    "ax.plot(support, stats.logistic.pdf(support), \"r-\", label=\"Logistic\")\n",
    "ax.plot(support, stats.norm.pdf(support), label=\"Probit\")\n",
    "ax.legend()"
   ]
  },
  {
   "cell_type": "markdown",
   "id": "8bd52c01",
   "metadata": {},
   "source": [
    "## Оценка логит и пробит моделей"
   ]
  },
  {
   "cell_type": "markdown",
   "id": "ee41ab96",
   "metadata": {},
   "source": []
  },
  {
   "cell_type": "markdown",
   "id": "efe691d6",
   "metadata": {},
   "source": []
  },
  {
   "cell_type": "markdown",
   "id": "95e5def1",
   "metadata": {},
   "source": []
  },
  {
   "cell_type": "markdown",
   "id": "ca8f73c1",
   "metadata": {},
   "source": []
  },
  {
   "cell_type": "markdown",
   "id": "5b8315a7",
   "metadata": {},
   "source": []
  },
  {
   "cell_type": "markdown",
   "id": "8f8e0fda",
   "metadata": {},
   "source": []
  },
  {
   "cell_type": "markdown",
   "id": "d5a872fd",
   "metadata": {},
   "source": []
  }
 ],
 "metadata": {
  "kernelspec": {
   "display_name": "Python 3 (ipykernel)",
   "language": "python",
   "name": "python3"
  },
  "language_info": {
   "codemirror_mode": {
    "name": "ipython",
    "version": 3
   },
   "file_extension": ".py",
   "mimetype": "text/x-python",
   "name": "python",
   "nbconvert_exporter": "python",
   "pygments_lexer": "ipython3",
   "version": "3.10.8"
  },
  "latex_envs": {
   "LaTeX_envs_menu_present": true,
   "autoclose": false,
   "autocomplete": true,
   "bibliofile": "biblio.bib",
   "cite_by": "apalike",
   "current_citInitial": 1,
   "eqLabelWithNumbers": true,
   "eqNumInitial": 1,
   "hotkeys": {
    "equation": "Ctrl-E",
    "itemize": "Ctrl-I"
   },
   "labels_anchors": false,
   "latex_user_defs": false,
   "report_style_numbering": false,
   "user_envs_cfg": false
  },
  "toc": {
   "base_numbering": 1,
   "nav_menu": {},
   "number_sections": true,
   "sideBar": true,
   "skip_h1_title": false,
   "title_cell": "Table of Contents",
   "title_sidebar": "Contents",
   "toc_cell": false,
   "toc_position": {},
   "toc_section_display": true,
   "toc_window_display": false
  }
 },
 "nbformat": 4,
 "nbformat_minor": 5
}
